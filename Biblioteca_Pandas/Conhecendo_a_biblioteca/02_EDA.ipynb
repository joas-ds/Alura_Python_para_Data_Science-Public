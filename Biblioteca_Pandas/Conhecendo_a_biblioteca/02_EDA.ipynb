{
 "cells": [
  {
   "cell_type": "code",
   "execution_count": null,
   "id": "952412d6",
   "metadata": {},
   "outputs": [],
   "source": [
    "'''\n",
    "A análise exploratória de Dados (EDA) é um trabalho investigativo, onde tentamos compreender várias de\n",
    "suas características, como os valores presentes nas colunas (com .info(), por ex), etc.\n",
    "'''"
   ]
  },
  {
   "cell_type": "code",
   "execution_count": null,
   "id": "912ba46f",
   "metadata": {},
   "outputs": [],
   "source": [
    "import pandas as pd\n",
    "import matplotlib.pyplot as plt"
   ]
  },
  {
   "cell_type": "code",
   "execution_count": null,
   "id": "998f9be7",
   "metadata": {},
   "outputs": [],
   "source": [
    "url = 'https://raw.githubusercontent.com/alura-cursos/pandas-conhecendo-a-biblioteca/main/base-de-dados/aluguel.csv'\n",
    "dados = pd.read_csv(url, sep=';')"
   ]
  },
  {
   "cell_type": "code",
   "execution_count": null,
   "id": "8ec2743d",
   "metadata": {
    "lines_to_next_cell": 2
   },
   "outputs": [],
   "source": [
    "#Praticando a EDA:\n",
    "#Qual o valor médio de aluguel por tipo de imóvel?\n",
    "# media_valores = dados['Valor'].mean()         #O método .mean() calcula a média dos valores da coluna\n",
    "    #Agrupando Dados por Tipo"
   ]
  },
  {
   "cell_type": "code",
   "execution_count": null,
   "id": "1292142b",
   "metadata": {},
   "outputs": [],
   "source": [
    "imoveis_comerciais = ['Conjunto Comercial/Sala',\n",
    "                      'Prédio Inteiro', 'Loja/Salão',\n",
    "                      'Galpão/Depósito/Armazém',\n",
    "                      'Casa Comercial', 'Terreno Padrão',\n",
    "                      'Loja Shopping/ Ct Comercial',\n",
    "                      'Box/Garagem', 'Chácara',\n",
    "                      'Loteamento/Condomínio', 'Sítio',\n",
    "                      'Pousada/Chalé', 'Hotel', 'Indústria']"
   ]
  },
  {
   "cell_type": "code",
   "execution_count": null,
   "id": "41f52b13",
   "metadata": {},
   "outputs": [],
   "source": [
    "df = dados.query('@imoveis_comerciais not in Tipo')"
   ]
  },
  {
   "cell_type": "code",
   "execution_count": null,
   "id": "b7eee6df",
   "metadata": {},
   "outputs": [],
   "source": [
    "print(df.Tipo.unique())"
   ]
  }
 ],
 "metadata": {
  "jupytext": {
   "cell_metadata_filter": "-all",
   "main_language": "python",
   "notebook_metadata_filter": "-all"
  }
 },
 "nbformat": 4,
 "nbformat_minor": 5
}
