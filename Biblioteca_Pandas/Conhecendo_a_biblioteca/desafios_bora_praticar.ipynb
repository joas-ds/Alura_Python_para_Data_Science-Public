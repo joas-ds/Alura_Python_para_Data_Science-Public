{
 "cells": [
  {
   "cell_type": "markdown",
   "id": "5af2f785",
   "metadata": {},
   "source": [
    "01 Conhecendo a base de dados\n",
    "Informações do desafio:\n",
    "1) Importe o arquivo alunos.csv e armazene seu conteúdo em um DataFrame Pandas.\n",
    "\n",
    "2) Visualize as primeiras 7 linhas do DataFrame e as 5 últimas.\n",
    "\n",
    "3) Confira a quantidade de linhas e colunas desse DataFrame.\n",
    "\n",
    "4) Explore as colunas do DataFrame e analise os tipos dos dados presentes em cada coluna.\n",
    "\n",
    "Extra: Calcule algumas estatísticas descritivas básicas dos dados do DataFrame\n",
    "(média, desvio padrão, etc). Dica: pesquise pelo método describe."
   ]
  },
  {
   "cell_type": "code",
   "execution_count": null,
   "id": "a3427128",
   "metadata": {},
   "outputs": [],
   "source": [
    "import pandas as pd\n",
    "#1\n",
    "url = 'https://raw.githubusercontent.com/alura-cursos/pandas-conhecendo-a-biblioteca/main/desafios/alunos.csv'\n",
    "dataFrame = pd.read_csv(url, sep=',')\n",
    "print(\"Visualizando o Data Frame:\")\n",
    "print(dataFrame)"
   ]
  },
  {
   "cell_type": "code",
   "execution_count": null,
   "id": "4ddacd1b",
   "metadata": {},
   "outputs": [],
   "source": [
    "#2\n",
    "print(f\"\\nVisualizando os 7 primeiros itens do Data Frame\")\n",
    "print(dataFrame.head(7))"
   ]
  },
  {
   "cell_type": "code",
   "execution_count": null,
   "id": "fcba97c1",
   "metadata": {},
   "outputs": [],
   "source": [
    "#3\n",
    "print(f\"\\nEsse Data Frame tem a seguinte quantidade de linhas e colunas respectivamente: {dataFrame.shape}.\")"
   ]
  },
  {
   "cell_type": "code",
   "execution_count": null,
   "id": "955d5bf8",
   "metadata": {},
   "outputs": [],
   "source": [
    "#4\n",
    "print(f\"\\nVisualizando os tipos de dados de cada coluna (essas são as Series):\")\n",
    "print(dataFrame[['Nome', 'Idade', 'Notas', 'Aprovado']])"
   ]
  },
  {
   "cell_type": "code",
   "execution_count": null,
   "id": "fa4dd565",
   "metadata": {},
   "outputs": [],
   "source": [
    "#método describe()\n",
    "print(dataFrame.describe())"
   ]
  }
 ],
 "metadata": {
  "jupytext": {
   "cell_metadata_filter": "-all",
   "main_language": "python",
   "notebook_metadata_filter": "-all"
  }
 },
 "nbformat": 4,
 "nbformat_minor": 5
}
