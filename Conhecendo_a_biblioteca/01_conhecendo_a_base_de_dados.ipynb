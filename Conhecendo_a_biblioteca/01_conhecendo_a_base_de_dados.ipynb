{
 "cells": [
  {
   "cell_type": "code",
   "execution_count": null,
   "id": "50785775",
   "metadata": {},
   "outputs": [],
   "source": [
    "'''\n",
    "Com Pandas podemos fazer a limpeza e tratamento de dados, análise exploratória de dados (EDA), suporte de\n",
    "atividades em ML, consultas e queries em BD relacionais, visualização de dados, WebScrapping e +.\n",
    "\n",
    "A biblioteca Pandas fornece DOIS tipos principais de estrutura de dados, os DataFrames e as Series.\n",
    "    ○ DataFrame: é uma tabela BIDIMENSIONAL, semelhante a planilha no Excel, c/ colunas/linhas\n",
    "    ○ Series: é uma estrutura UNIDIMENSIONAL que armazena n tipo de dados, rotulada com Índices.\n",
    "\n",
    "Além disso possui integração com bibliotecas voltadas para DataScience, como:\n",
    "    - Numpy, Scikit-Learn, Seabonr, Altair, Matplotlib, Plotly, Scipy e outros\n",
    "\n",
    "Ele também é integrável com diversos tipos de dados:\n",
    "    - CSV, Excel, Parquet, SQL, HTML, JSON, XML, etc\n",
    "    - read_csv(), read_excel(), read_json(), read_html(), read_sql() ...\n",
    "'''"
   ]
  },
  {
   "cell_type": "code",
   "execution_count": null,
   "id": "3c40f1c1",
   "metadata": {},
   "outputs": [],
   "source": [
    "import pandas as pd"
   ]
  },
  {
   "cell_type": "code",
   "execution_count": null,
   "id": "3811592c",
   "metadata": {},
   "outputs": [],
   "source": [
    "url = 'https://raw.githubusercontent.com/alura-cursos/pandas-conhecendo-a-biblioteca/main/base-de-dados/aluguel.csv'"
   ]
  },
  {
   "cell_type": "code",
   "execution_count": null,
   "id": "772f31f0",
   "metadata": {},
   "outputs": [],
   "source": [
    "dados = pd.read_csv(url, sep=';')   #Em pandas o que informa qual é a separação no arquivo é o sep='separador'\n",
    "# print(dados.head(10))               #A função head() mostra X qtde. de linhas iniciais\n",
    "# print(dados.tail(10))               #Inverso do head()"
   ]
  },
  {
   "cell_type": "markdown",
   "id": "9e12ff73",
   "metadata": {},
   "source": [
    "A tabela de dados que carreguei do github usando o Pandas,\n",
    "é identificado como um DataFrame (pandas.core.framme.DataFrame)"
   ]
  },
  {
   "cell_type": "markdown",
   "id": "f21c7df7",
   "metadata": {},
   "source": [
    "#Explorando linhas e colunas do DF:\n",
    "print(dados.shape)          #Mostra qtde. linhas/colunas\n",
    "print(dados.columns)        #Mostra os nomes das colunas e o dtype"
   ]
  },
  {
   "cell_type": "markdown",
   "id": "acfba536",
   "metadata": {},
   "source": [
    "#Conferindo tipos de dados dentro de cada coluna:\n",
    "#Antes de trabalharmos com os dados é sempre importante checar se estão corretos\n",
    "print(dados.info())     #Essa função mostra todas as colunas, seus caracteres e o Dtype de cada coluna"
   ]
  },
  {
   "cell_type": "markdown",
   "id": "893d9e4f",
   "metadata": {},
   "source": [
    "#Visualizando colunas individualmente:\n",
    "print(dados['Tipo'])\n",
    "print(dados[['Tipo','Quartos', 'Valor']])"
   ]
  }
 ],
 "metadata": {
  "jupytext": {
   "cell_metadata_filter": "-all",
   "main_language": "python",
   "notebook_metadata_filter": "-all"
  }
 },
 "nbformat": 4,
 "nbformat_minor": 5
}
