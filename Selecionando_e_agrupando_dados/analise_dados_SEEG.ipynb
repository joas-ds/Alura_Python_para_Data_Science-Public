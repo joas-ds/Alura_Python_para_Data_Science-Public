{
 "cells": [
  {
   "cell_type": "markdown",
   "id": "4c3cb3ae",
   "metadata": {},
   "source": [
    "## Curso - Pandas: selecionando e agrupando dados\n",
    "Este notebook contém exercícios da etapa 3 da formação em Data Science com Python da Alura\n",
    "Link: https://cursos.alura.com.br/course/pandas-selecao-agrupamento-dados\n",
    "\n",
    "Link para o dataset utilizado: https://seeg.eco.br/dados/"
   ]
  },
  {
   "cell_type": "markdown",
   "id": "7616c6b8",
   "metadata": {},
   "source": [
    "### 01. Conhecendo os dados"
   ]
  },
  {
   "cell_type": "code",
   "execution_count": 2,
   "id": "82b37e59",
   "metadata": {},
   "outputs": [
    {
     "name": "stderr",
     "output_type": "stream",
     "text": [
      "c:\\Users\\João\\anaconda3\\Lib\\site-packages\\openpyxl\\worksheet\\_read_only.py:85: UserWarning: Unknown extension is not supported and will be removed\n",
      "  for idx, row in parser.parse():\n"
     ]
    },
    {
     "data": {
      "text/html": [
       "<div>\n",
       "<style scoped>\n",
       "    .dataframe tbody tr th:only-of-type {\n",
       "        vertical-align: middle;\n",
       "    }\n",
       "\n",
       "    .dataframe tbody tr th {\n",
       "        vertical-align: top;\n",
       "    }\n",
       "\n",
       "    .dataframe thead th {\n",
       "        text-align: right;\n",
       "    }\n",
       "</style>\n",
       "<table border=\"1\" class=\"dataframe\">\n",
       "  <thead>\n",
       "    <tr style=\"text-align: right;\">\n",
       "      <th></th>\n",
       "      <th>Nível 1 - Setor</th>\n",
       "      <th>Nível 2</th>\n",
       "      <th>Nível 3</th>\n",
       "      <th>Nível 4</th>\n",
       "      <th>Nível 5</th>\n",
       "      <th>Nível 6</th>\n",
       "      <th>Emissão / Remoção / Bunker</th>\n",
       "      <th>Gás</th>\n",
       "      <th>Estado</th>\n",
       "      <th>Atividade Econômica</th>\n",
       "      <th>...</th>\n",
       "      <th>2012</th>\n",
       "      <th>2013</th>\n",
       "      <th>2014</th>\n",
       "      <th>2015</th>\n",
       "      <th>2016</th>\n",
       "      <th>2017</th>\n",
       "      <th>2018</th>\n",
       "      <th>2019</th>\n",
       "      <th>2020</th>\n",
       "      <th>2021</th>\n",
       "    </tr>\n",
       "  </thead>\n",
       "  <tbody>\n",
       "    <tr>\n",
       "      <th>0</th>\n",
       "      <td>Processos Industriais</td>\n",
       "      <td>Indústria Química</td>\n",
       "      <td>Produção de ABS</td>\n",
       "      <td>NaN</td>\n",
       "      <td>NaN</td>\n",
       "      <td>NaN</td>\n",
       "      <td>Emissão</td>\n",
       "      <td>COVNM (t)</td>\n",
       "      <td>SP</td>\n",
       "      <td>OUTRA_IND</td>\n",
       "      <td>...</td>\n",
       "      <td>897.600</td>\n",
       "      <td>897.600</td>\n",
       "      <td>897.600</td>\n",
       "      <td>897.600</td>\n",
       "      <td>897.600</td>\n",
       "      <td>897.600</td>\n",
       "      <td>897.600</td>\n",
       "      <td>897.600</td>\n",
       "      <td>897.600</td>\n",
       "      <td>897.600</td>\n",
       "    </tr>\n",
       "    <tr>\n",
       "      <th>1</th>\n",
       "      <td>Processos Industriais</td>\n",
       "      <td>Indústria Química</td>\n",
       "      <td>Produção de Ácido Adípico</td>\n",
       "      <td>NaN</td>\n",
       "      <td>NaN</td>\n",
       "      <td>NaN</td>\n",
       "      <td>Emissão</td>\n",
       "      <td>N2O (t)</td>\n",
       "      <td>SP</td>\n",
       "      <td>OUTRA_IND</td>\n",
       "      <td>...</td>\n",
       "      <td>130.000</td>\n",
       "      <td>130.000</td>\n",
       "      <td>130.000</td>\n",
       "      <td>130.000</td>\n",
       "      <td>130.000</td>\n",
       "      <td>130.000</td>\n",
       "      <td>130.000</td>\n",
       "      <td>130.000</td>\n",
       "      <td>130.000</td>\n",
       "      <td>130.000</td>\n",
       "    </tr>\n",
       "    <tr>\n",
       "      <th>2</th>\n",
       "      <td>Processos Industriais</td>\n",
       "      <td>Indústria Química</td>\n",
       "      <td>Produção de Ácido Adípico</td>\n",
       "      <td>NaN</td>\n",
       "      <td>NaN</td>\n",
       "      <td>NaN</td>\n",
       "      <td>Emissão</td>\n",
       "      <td>CO (t)</td>\n",
       "      <td>SP</td>\n",
       "      <td>OUTRA_IND</td>\n",
       "      <td>...</td>\n",
       "      <td>1380.576</td>\n",
       "      <td>1380.576</td>\n",
       "      <td>1380.576</td>\n",
       "      <td>1380.576</td>\n",
       "      <td>1380.576</td>\n",
       "      <td>1380.576</td>\n",
       "      <td>1380.576</td>\n",
       "      <td>1380.576</td>\n",
       "      <td>1380.576</td>\n",
       "      <td>1380.576</td>\n",
       "    </tr>\n",
       "    <tr>\n",
       "      <th>3</th>\n",
       "      <td>Processos Industriais</td>\n",
       "      <td>Indústria Química</td>\n",
       "      <td>Produção de Ácido Adípico</td>\n",
       "      <td>NaN</td>\n",
       "      <td>NaN</td>\n",
       "      <td>NaN</td>\n",
       "      <td>Emissão</td>\n",
       "      <td>NOx (t)</td>\n",
       "      <td>SP</td>\n",
       "      <td>OUTRA_IND</td>\n",
       "      <td>...</td>\n",
       "      <td>431.430</td>\n",
       "      <td>431.430</td>\n",
       "      <td>431.430</td>\n",
       "      <td>431.430</td>\n",
       "      <td>431.430</td>\n",
       "      <td>431.430</td>\n",
       "      <td>431.430</td>\n",
       "      <td>431.430</td>\n",
       "      <td>431.430</td>\n",
       "      <td>431.430</td>\n",
       "    </tr>\n",
       "    <tr>\n",
       "      <th>4</th>\n",
       "      <td>Processos Industriais</td>\n",
       "      <td>Indústria Química</td>\n",
       "      <td>Produção de Ácido Adípico</td>\n",
       "      <td>NaN</td>\n",
       "      <td>NaN</td>\n",
       "      <td>NaN</td>\n",
       "      <td>Emissão</td>\n",
       "      <td>CO2e (t) GWP-AR2</td>\n",
       "      <td>SP</td>\n",
       "      <td>OUTRA_IND</td>\n",
       "      <td>...</td>\n",
       "      <td>40300.000</td>\n",
       "      <td>40300.000</td>\n",
       "      <td>40300.000</td>\n",
       "      <td>40300.000</td>\n",
       "      <td>40300.000</td>\n",
       "      <td>40300.000</td>\n",
       "      <td>40300.000</td>\n",
       "      <td>40300.000</td>\n",
       "      <td>40300.000</td>\n",
       "      <td>40300.000</td>\n",
       "    </tr>\n",
       "  </tbody>\n",
       "</table>\n",
       "<p>5 rows × 63 columns</p>\n",
       "</div>"
      ],
      "text/plain": [
       "         Nível 1 - Setor            Nível 2                    Nível 3  \\\n",
       "0  Processos Industriais  Indústria Química            Produção de ABS   \n",
       "1  Processos Industriais  Indústria Química  Produção de Ácido Adípico   \n",
       "2  Processos Industriais  Indústria Química  Produção de Ácido Adípico   \n",
       "3  Processos Industriais  Indústria Química  Produção de Ácido Adípico   \n",
       "4  Processos Industriais  Indústria Química  Produção de Ácido Adípico   \n",
       "\n",
       "  Nível 4 Nível 5 Nível 6 Emissão / Remoção / Bunker               Gás Estado  \\\n",
       "0     NaN     NaN     NaN                    Emissão         COVNM (t)     SP   \n",
       "1     NaN     NaN     NaN                    Emissão           N2O (t)     SP   \n",
       "2     NaN     NaN     NaN                    Emissão            CO (t)     SP   \n",
       "3     NaN     NaN     NaN                    Emissão           NOx (t)     SP   \n",
       "4     NaN     NaN     NaN                    Emissão  CO2e (t) GWP-AR2     SP   \n",
       "\n",
       "  Atividade Econômica  ...       2012       2013       2014       2015  \\\n",
       "0           OUTRA_IND  ...    897.600    897.600    897.600    897.600   \n",
       "1           OUTRA_IND  ...    130.000    130.000    130.000    130.000   \n",
       "2           OUTRA_IND  ...   1380.576   1380.576   1380.576   1380.576   \n",
       "3           OUTRA_IND  ...    431.430    431.430    431.430    431.430   \n",
       "4           OUTRA_IND  ...  40300.000  40300.000  40300.000  40300.000   \n",
       "\n",
       "        2016       2017       2018       2019       2020       2021  \n",
       "0    897.600    897.600    897.600    897.600    897.600    897.600  \n",
       "1    130.000    130.000    130.000    130.000    130.000    130.000  \n",
       "2   1380.576   1380.576   1380.576   1380.576   1380.576   1380.576  \n",
       "3    431.430    431.430    431.430    431.430    431.430    431.430  \n",
       "4  40300.000  40300.000  40300.000  40300.000  40300.000  40300.000  \n",
       "\n",
       "[5 rows x 63 columns]"
      ]
     },
     "execution_count": 2,
     "metadata": {},
     "output_type": "execute_result"
    }
   ],
   "source": [
    "# Importando os dados\n",
    "import pandas as pd\n",
    "\n",
    "data = pd.read_excel('1-SEEG10_GERAL-BR_UF_2022.10.27-FINAL-SITE.xlsx', sheet_name='GEE Estados')\n",
    "data.head()"
   ]
  },
  {
   "cell_type": "code",
   "execution_count": 3,
   "id": "0b184896",
   "metadata": {},
   "outputs": [
    {
     "name": "stdout",
     "output_type": "stream",
     "text": [
      "<class 'pandas.core.frame.DataFrame'>\n",
      "RangeIndex: 103312 entries, 0 to 103311\n",
      "Data columns (total 63 columns):\n",
      " #   Column                      Non-Null Count   Dtype  \n",
      "---  ------                      --------------   -----  \n",
      " 0   Nível 1 - Setor             103312 non-null  object \n",
      " 1   Nível 2                     103312 non-null  object \n",
      " 2   Nível 3                     103253 non-null  object \n",
      " 3   Nível 4                     90920 non-null   object \n",
      " 4   Nível 5                     100788 non-null  object \n",
      " 5   Nível 6                     97691 non-null   object \n",
      " 6   Emissão / Remoção / Bunker  103312 non-null  object \n",
      " 7   Gás                         103312 non-null  object \n",
      " 8   Estado                      97374 non-null   object \n",
      " 9   Atividade Econômica         102076 non-null  object \n",
      " 10  Produto                     37413 non-null   object \n",
      " 11  1970                        103312 non-null  float64\n",
      " 12  1971                        103312 non-null  float64\n",
      " 13  1972                        103312 non-null  float64\n",
      " 14  1973                        103312 non-null  float64\n",
      " 15  1974                        103312 non-null  float64\n",
      " 16  1975                        103312 non-null  float64\n",
      " 17  1976                        103312 non-null  float64\n",
      " 18  1977                        103312 non-null  float64\n",
      " 19  1978                        103312 non-null  float64\n",
      " 20  1979                        103312 non-null  float64\n",
      " 21  1980                        103312 non-null  float64\n",
      " 22  1981                        103312 non-null  float64\n",
      " 23  1982                        103312 non-null  float64\n",
      " 24  1983                        103312 non-null  float64\n",
      " 25  1984                        103312 non-null  float64\n",
      " 26  1985                        103312 non-null  float64\n",
      " 27  1986                        103312 non-null  float64\n",
      " 28  1987                        103312 non-null  float64\n",
      " 29  1988                        103312 non-null  float64\n",
      " 30  1989                        103312 non-null  float64\n",
      " 31  1990                        103312 non-null  float64\n",
      " 32  1991                        103312 non-null  float64\n",
      " 33  1992                        103312 non-null  float64\n",
      " 34  1993                        103312 non-null  float64\n",
      " 35  1994                        103312 non-null  float64\n",
      " 36  1995                        103312 non-null  float64\n",
      " 37  1996                        103312 non-null  float64\n",
      " 38  1997                        103312 non-null  float64\n",
      " 39  1998                        103312 non-null  float64\n",
      " 40  1999                        103312 non-null  float64\n",
      " 41  2000                        103312 non-null  float64\n",
      " 42  2001                        103312 non-null  float64\n",
      " 43  2002                        103312 non-null  float64\n",
      " 44  2003                        103312 non-null  float64\n",
      " 45  2004                        103312 non-null  float64\n",
      " 46  2005                        103312 non-null  float64\n",
      " 47  2006                        103312 non-null  float64\n",
      " 48  2007                        103312 non-null  float64\n",
      " 49  2008                        103312 non-null  float64\n",
      " 50  2009                        103312 non-null  float64\n",
      " 51  2010                        103312 non-null  float64\n",
      " 52  2011                        103312 non-null  float64\n",
      " 53  2012                        103312 non-null  float64\n",
      " 54  2013                        103312 non-null  float64\n",
      " 55  2014                        103312 non-null  float64\n",
      " 56  2015                        103312 non-null  float64\n",
      " 57  2016                        103312 non-null  float64\n",
      " 58  2017                        103312 non-null  float64\n",
      " 59  2018                        103312 non-null  float64\n",
      " 60  2019                        103312 non-null  float64\n",
      " 61  2020                        103312 non-null  float64\n",
      " 62  2021                        103312 non-null  float64\n",
      "dtypes: float64(52), object(11)\n",
      "memory usage: 49.7+ MB\n"
     ]
    }
   ],
   "source": [
    "data.info()"
   ]
  },
  {
   "cell_type": "markdown",
   "id": "029f3ff6",
   "metadata": {},
   "source": [
    "#### Ajustando a base\n",
    "\n",
    "Estou interessado somente na emissão dos gases gerados pelos estados que estejam no inventário nacional, então preciso identificar os tipos de dados únicos da coluna 'Emissão / Remoção / Bunker'\n",
    "\n",
    "**Informações tiradas do site do SEEG:**\n",
    "* Remoções são dados referentes à retirada dos gases estufa, que é contrário da emissão. (Não preciso)\n",
    "* NCI são dados não contemplados no invetário nacional. (Não preciso)\n",
    "* Bunkers são emissões de transporte marítimo e aéreo internacional, portanto não são emissões diretas dos estados. (Não preciso)"
   ]
  },
  {
   "cell_type": "code",
   "execution_count": 4,
   "id": "853f1bd2",
   "metadata": {},
   "outputs": [
    {
     "data": {
      "text/plain": [
       "array(['Emissão', 'Emissão NCI', 'Remoção NCI', 'Bunker', 'Remoção'],\n",
       "      dtype=object)"
      ]
     },
     "execution_count": 4,
     "metadata": {},
     "output_type": "execute_result"
    }
   ],
   "source": [
    "data['Emissão / Remoção / Bunker'].unique()"
   ]
  },
  {
   "cell_type": "code",
   "execution_count": 5,
   "id": "46247565",
   "metadata": {},
   "outputs": [
    {
     "data": {
      "text/plain": [
       "0         False\n",
       "1         False\n",
       "2         False\n",
       "3         False\n",
       "4         False\n",
       "          ...  \n",
       "103307    False\n",
       "103308    False\n",
       "103309    False\n",
       "103310    False\n",
       "103311    False\n",
       "Name: Emissão / Remoção / Bunker, Length: 103312, dtype: bool"
      ]
     },
     "execution_count": 5,
     "metadata": {},
     "output_type": "execute_result"
    }
   ],
   "source": [
    "(data['Emissão / Remoção / Bunker'] == 'Remoção NCI') | (data['Emissão / Remoção / Bunker'] == 'Remoção')"
   ]
  },
  {
   "cell_type": "code",
   "execution_count": 6,
   "id": "bb0eafb8",
   "metadata": {},
   "outputs": [
    {
     "data": {
      "text/html": [
       "<div>\n",
       "<style scoped>\n",
       "    .dataframe tbody tr th:only-of-type {\n",
       "        vertical-align: middle;\n",
       "    }\n",
       "\n",
       "    .dataframe tbody tr th {\n",
       "        vertical-align: top;\n",
       "    }\n",
       "\n",
       "    .dataframe thead th {\n",
       "        text-align: right;\n",
       "    }\n",
       "</style>\n",
       "<table border=\"1\" class=\"dataframe\">\n",
       "  <thead>\n",
       "    <tr style=\"text-align: right;\">\n",
       "      <th></th>\n",
       "      <th>Nível 1 - Setor</th>\n",
       "      <th>Nível 2</th>\n",
       "      <th>Nível 3</th>\n",
       "      <th>Nível 4</th>\n",
       "      <th>Nível 5</th>\n",
       "      <th>Nível 6</th>\n",
       "      <th>Emissão / Remoção / Bunker</th>\n",
       "      <th>Gás</th>\n",
       "      <th>Estado</th>\n",
       "      <th>Atividade Econômica</th>\n",
       "      <th>...</th>\n",
       "      <th>2012</th>\n",
       "      <th>2013</th>\n",
       "      <th>2014</th>\n",
       "      <th>2015</th>\n",
       "      <th>2016</th>\n",
       "      <th>2017</th>\n",
       "      <th>2018</th>\n",
       "      <th>2019</th>\n",
       "      <th>2020</th>\n",
       "      <th>2021</th>\n",
       "    </tr>\n",
       "  </thead>\n",
       "  <tbody>\n",
       "    <tr>\n",
       "      <th>23520</th>\n",
       "      <td>Agropecuária</td>\n",
       "      <td>Solos Manejados</td>\n",
       "      <td>Diretas</td>\n",
       "      <td>Variação dos Estoques de Carbono no Solo</td>\n",
       "      <td>Vegetal</td>\n",
       "      <td>Pastagem Bem Manejada</td>\n",
       "      <td>Remoção NCI</td>\n",
       "      <td>CO2 (t)</td>\n",
       "      <td>RO</td>\n",
       "      <td>PEC</td>\n",
       "      <td>...</td>\n",
       "      <td>-1.434540e+07</td>\n",
       "      <td>-1.499358e+07</td>\n",
       "      <td>-1.543196e+07</td>\n",
       "      <td>-1.567070e+07</td>\n",
       "      <td>-1.630063e+07</td>\n",
       "      <td>-1.702215e+07</td>\n",
       "      <td>-1.740074e+07</td>\n",
       "      <td>-1.771914e+07</td>\n",
       "      <td>-1.767632e+07</td>\n",
       "      <td>-1.838895e+07</td>\n",
       "    </tr>\n",
       "    <tr>\n",
       "      <th>23521</th>\n",
       "      <td>Agropecuária</td>\n",
       "      <td>Solos Manejados</td>\n",
       "      <td>Diretas</td>\n",
       "      <td>Variação dos Estoques de Carbono no Solo</td>\n",
       "      <td>Vegetal</td>\n",
       "      <td>Pastagem Bem Manejada</td>\n",
       "      <td>Remoção NCI</td>\n",
       "      <td>CO2 (t)</td>\n",
       "      <td>AC</td>\n",
       "      <td>PEC</td>\n",
       "      <td>...</td>\n",
       "      <td>-5.382949e+06</td>\n",
       "      <td>-5.524659e+06</td>\n",
       "      <td>-5.632429e+06</td>\n",
       "      <td>-5.765030e+06</td>\n",
       "      <td>-5.867354e+06</td>\n",
       "      <td>-5.942076e+06</td>\n",
       "      <td>-6.022000e+06</td>\n",
       "      <td>-6.002147e+06</td>\n",
       "      <td>-6.035591e+06</td>\n",
       "      <td>-6.459079e+06</td>\n",
       "    </tr>\n",
       "    <tr>\n",
       "      <th>23522</th>\n",
       "      <td>Agropecuária</td>\n",
       "      <td>Solos Manejados</td>\n",
       "      <td>Diretas</td>\n",
       "      <td>Variação dos Estoques de Carbono no Solo</td>\n",
       "      <td>Vegetal</td>\n",
       "      <td>Pastagem Bem Manejada</td>\n",
       "      <td>Remoção NCI</td>\n",
       "      <td>CO2 (t)</td>\n",
       "      <td>AM</td>\n",
       "      <td>PEC</td>\n",
       "      <td>...</td>\n",
       "      <td>-3.450455e+06</td>\n",
       "      <td>-3.540294e+06</td>\n",
       "      <td>-3.545724e+06</td>\n",
       "      <td>-3.924546e+06</td>\n",
       "      <td>-4.626541e+06</td>\n",
       "      <td>-4.874199e+06</td>\n",
       "      <td>-4.849173e+06</td>\n",
       "      <td>-4.959540e+06</td>\n",
       "      <td>-5.106806e+06</td>\n",
       "      <td>-5.809814e+06</td>\n",
       "    </tr>\n",
       "    <tr>\n",
       "      <th>23523</th>\n",
       "      <td>Agropecuária</td>\n",
       "      <td>Solos Manejados</td>\n",
       "      <td>Diretas</td>\n",
       "      <td>Variação dos Estoques de Carbono no Solo</td>\n",
       "      <td>Vegetal</td>\n",
       "      <td>Pastagem Bem Manejada</td>\n",
       "      <td>Remoção NCI</td>\n",
       "      <td>CO2 (t)</td>\n",
       "      <td>RR</td>\n",
       "      <td>PEC</td>\n",
       "      <td>...</td>\n",
       "      <td>-1.260166e+06</td>\n",
       "      <td>-1.261895e+06</td>\n",
       "      <td>-1.371664e+06</td>\n",
       "      <td>-1.501452e+06</td>\n",
       "      <td>-1.507705e+06</td>\n",
       "      <td>-1.509919e+06</td>\n",
       "      <td>-1.609826e+06</td>\n",
       "      <td>-1.616980e+06</td>\n",
       "      <td>-1.518397e+06</td>\n",
       "      <td>-1.926000e+06</td>\n",
       "    </tr>\n",
       "    <tr>\n",
       "      <th>23524</th>\n",
       "      <td>Agropecuária</td>\n",
       "      <td>Solos Manejados</td>\n",
       "      <td>Diretas</td>\n",
       "      <td>Variação dos Estoques de Carbono no Solo</td>\n",
       "      <td>Vegetal</td>\n",
       "      <td>Pastagem Bem Manejada</td>\n",
       "      <td>Remoção NCI</td>\n",
       "      <td>CO2 (t)</td>\n",
       "      <td>PA</td>\n",
       "      <td>PEC</td>\n",
       "      <td>...</td>\n",
       "      <td>-3.429279e+07</td>\n",
       "      <td>-3.317185e+07</td>\n",
       "      <td>-3.281628e+07</td>\n",
       "      <td>-3.350720e+07</td>\n",
       "      <td>-3.557183e+07</td>\n",
       "      <td>-3.755308e+07</td>\n",
       "      <td>-4.134614e+07</td>\n",
       "      <td>-4.229403e+07</td>\n",
       "      <td>-4.275448e+07</td>\n",
       "      <td>-4.443440e+07</td>\n",
       "    </tr>\n",
       "    <tr>\n",
       "      <th>...</th>\n",
       "      <td>...</td>\n",
       "      <td>...</td>\n",
       "      <td>...</td>\n",
       "      <td>...</td>\n",
       "      <td>...</td>\n",
       "      <td>...</td>\n",
       "      <td>...</td>\n",
       "      <td>...</td>\n",
       "      <td>...</td>\n",
       "      <td>...</td>\n",
       "      <td>...</td>\n",
       "      <td>...</td>\n",
       "      <td>...</td>\n",
       "      <td>...</td>\n",
       "      <td>...</td>\n",
       "      <td>...</td>\n",
       "      <td>...</td>\n",
       "      <td>...</td>\n",
       "      <td>...</td>\n",
       "      <td>...</td>\n",
       "      <td>...</td>\n",
       "    </tr>\n",
       "    <tr>\n",
       "      <th>102751</th>\n",
       "      <td>Mudança de Uso da Terra e Floresta</td>\n",
       "      <td>Remoção por Vegetação Secundária</td>\n",
       "      <td>Pantanal</td>\n",
       "      <td>em Área Protegida</td>\n",
       "      <td>Vegetação nativa estável</td>\n",
       "      <td>Vegetação não florestal secundária -- Vegetaçã...</td>\n",
       "      <td>Remoção</td>\n",
       "      <td>CO2e (t) GWP-AR4</td>\n",
       "      <td>MS</td>\n",
       "      <td>AGROPEC</td>\n",
       "      <td>...</td>\n",
       "      <td>-7.513000e+04</td>\n",
       "      <td>-7.911900e+04</td>\n",
       "      <td>-8.695900e+04</td>\n",
       "      <td>-9.201400e+04</td>\n",
       "      <td>-9.149400e+04</td>\n",
       "      <td>-9.630200e+04</td>\n",
       "      <td>-9.202000e+04</td>\n",
       "      <td>-9.762300e+04</td>\n",
       "      <td>-1.015020e+05</td>\n",
       "      <td>-1.008910e+05</td>\n",
       "    </tr>\n",
       "    <tr>\n",
       "      <th>102752</th>\n",
       "      <td>Mudança de Uso da Terra e Floresta</td>\n",
       "      <td>Remoção por Vegetação Secundária</td>\n",
       "      <td>Pantanal</td>\n",
       "      <td>em Área Protegida</td>\n",
       "      <td>Vegetação nativa estável</td>\n",
       "      <td>Vegetação não florestal secundária -- Vegetaçã...</td>\n",
       "      <td>Remoção</td>\n",
       "      <td>CO2e (t) GWP-AR5</td>\n",
       "      <td>MT</td>\n",
       "      <td>AGROPEC</td>\n",
       "      <td>...</td>\n",
       "      <td>-9.523000e+03</td>\n",
       "      <td>-9.667000e+03</td>\n",
       "      <td>-1.000300e+04</td>\n",
       "      <td>-1.024200e+04</td>\n",
       "      <td>-1.027200e+04</td>\n",
       "      <td>-1.019100e+04</td>\n",
       "      <td>-1.046900e+04</td>\n",
       "      <td>-1.090400e+04</td>\n",
       "      <td>-1.104100e+04</td>\n",
       "      <td>-1.109500e+04</td>\n",
       "    </tr>\n",
       "    <tr>\n",
       "      <th>102753</th>\n",
       "      <td>Mudança de Uso da Terra e Floresta</td>\n",
       "      <td>Remoção por Vegetação Secundária</td>\n",
       "      <td>Pantanal</td>\n",
       "      <td>em Área Protegida</td>\n",
       "      <td>Vegetação nativa estável</td>\n",
       "      <td>Vegetação não florestal secundária -- Vegetaçã...</td>\n",
       "      <td>Remoção</td>\n",
       "      <td>CO2e (t) GWP-AR5</td>\n",
       "      <td>MS</td>\n",
       "      <td>AGROPEC</td>\n",
       "      <td>...</td>\n",
       "      <td>-7.513000e+04</td>\n",
       "      <td>-7.911900e+04</td>\n",
       "      <td>-8.695900e+04</td>\n",
       "      <td>-9.201400e+04</td>\n",
       "      <td>-9.149400e+04</td>\n",
       "      <td>-9.630200e+04</td>\n",
       "      <td>-9.202000e+04</td>\n",
       "      <td>-9.762300e+04</td>\n",
       "      <td>-1.015020e+05</td>\n",
       "      <td>-1.008910e+05</td>\n",
       "    </tr>\n",
       "    <tr>\n",
       "      <th>102754</th>\n",
       "      <td>Mudança de Uso da Terra e Floresta</td>\n",
       "      <td>Remoção por Vegetação Secundária</td>\n",
       "      <td>Pantanal</td>\n",
       "      <td>em Área Protegida</td>\n",
       "      <td>Vegetação nativa estável</td>\n",
       "      <td>Vegetação não florestal secundária -- Vegetaçã...</td>\n",
       "      <td>Remoção</td>\n",
       "      <td>CO2e (t) GWP-AR6</td>\n",
       "      <td>MT</td>\n",
       "      <td>AGROPEC</td>\n",
       "      <td>...</td>\n",
       "      <td>-9.523000e+03</td>\n",
       "      <td>-9.667000e+03</td>\n",
       "      <td>-1.000300e+04</td>\n",
       "      <td>-1.024200e+04</td>\n",
       "      <td>-1.027200e+04</td>\n",
       "      <td>-1.019100e+04</td>\n",
       "      <td>-1.046900e+04</td>\n",
       "      <td>-1.090400e+04</td>\n",
       "      <td>-1.104100e+04</td>\n",
       "      <td>-1.109500e+04</td>\n",
       "    </tr>\n",
       "    <tr>\n",
       "      <th>102755</th>\n",
       "      <td>Mudança de Uso da Terra e Floresta</td>\n",
       "      <td>Remoção por Vegetação Secundária</td>\n",
       "      <td>Pantanal</td>\n",
       "      <td>em Área Protegida</td>\n",
       "      <td>Vegetação nativa estável</td>\n",
       "      <td>Vegetação não florestal secundária -- Vegetaçã...</td>\n",
       "      <td>Remoção</td>\n",
       "      <td>CO2e (t) GWP-AR6</td>\n",
       "      <td>MS</td>\n",
       "      <td>AGROPEC</td>\n",
       "      <td>...</td>\n",
       "      <td>-7.513000e+04</td>\n",
       "      <td>-7.911900e+04</td>\n",
       "      <td>-8.695900e+04</td>\n",
       "      <td>-9.201400e+04</td>\n",
       "      <td>-9.149400e+04</td>\n",
       "      <td>-9.630200e+04</td>\n",
       "      <td>-9.202000e+04</td>\n",
       "      <td>-9.762300e+04</td>\n",
       "      <td>-1.015020e+05</td>\n",
       "      <td>-1.008910e+05</td>\n",
       "    </tr>\n",
       "  </tbody>\n",
       "</table>\n",
       "<p>7970 rows × 63 columns</p>\n",
       "</div>"
      ],
      "text/plain": [
       "                           Nível 1 - Setor                           Nível 2  \\\n",
       "23520                         Agropecuária                   Solos Manejados   \n",
       "23521                         Agropecuária                   Solos Manejados   \n",
       "23522                         Agropecuária                   Solos Manejados   \n",
       "23523                         Agropecuária                   Solos Manejados   \n",
       "23524                         Agropecuária                   Solos Manejados   \n",
       "...                                    ...                               ...   \n",
       "102751  Mudança de Uso da Terra e Floresta  Remoção por Vegetação Secundária   \n",
       "102752  Mudança de Uso da Terra e Floresta  Remoção por Vegetação Secundária   \n",
       "102753  Mudança de Uso da Terra e Floresta  Remoção por Vegetação Secundária   \n",
       "102754  Mudança de Uso da Terra e Floresta  Remoção por Vegetação Secundária   \n",
       "102755  Mudança de Uso da Terra e Floresta  Remoção por Vegetação Secundária   \n",
       "\n",
       "         Nível 3                                   Nível 4  \\\n",
       "23520    Diretas  Variação dos Estoques de Carbono no Solo   \n",
       "23521    Diretas  Variação dos Estoques de Carbono no Solo   \n",
       "23522    Diretas  Variação dos Estoques de Carbono no Solo   \n",
       "23523    Diretas  Variação dos Estoques de Carbono no Solo   \n",
       "23524    Diretas  Variação dos Estoques de Carbono no Solo   \n",
       "...          ...                                       ...   \n",
       "102751  Pantanal                         em Área Protegida   \n",
       "102752  Pantanal                         em Área Protegida   \n",
       "102753  Pantanal                         em Área Protegida   \n",
       "102754  Pantanal                         em Área Protegida   \n",
       "102755  Pantanal                         em Área Protegida   \n",
       "\n",
       "                         Nível 5  \\\n",
       "23520                    Vegetal   \n",
       "23521                    Vegetal   \n",
       "23522                    Vegetal   \n",
       "23523                    Vegetal   \n",
       "23524                    Vegetal   \n",
       "...                          ...   \n",
       "102751  Vegetação nativa estável   \n",
       "102752  Vegetação nativa estável   \n",
       "102753  Vegetação nativa estável   \n",
       "102754  Vegetação nativa estável   \n",
       "102755  Vegetação nativa estável   \n",
       "\n",
       "                                                  Nível 6  \\\n",
       "23520                               Pastagem Bem Manejada   \n",
       "23521                               Pastagem Bem Manejada   \n",
       "23522                               Pastagem Bem Manejada   \n",
       "23523                               Pastagem Bem Manejada   \n",
       "23524                               Pastagem Bem Manejada   \n",
       "...                                                   ...   \n",
       "102751  Vegetação não florestal secundária -- Vegetaçã...   \n",
       "102752  Vegetação não florestal secundária -- Vegetaçã...   \n",
       "102753  Vegetação não florestal secundária -- Vegetaçã...   \n",
       "102754  Vegetação não florestal secundária -- Vegetaçã...   \n",
       "102755  Vegetação não florestal secundária -- Vegetaçã...   \n",
       "\n",
       "       Emissão / Remoção / Bunker               Gás Estado  \\\n",
       "23520                 Remoção NCI           CO2 (t)     RO   \n",
       "23521                 Remoção NCI           CO2 (t)     AC   \n",
       "23522                 Remoção NCI           CO2 (t)     AM   \n",
       "23523                 Remoção NCI           CO2 (t)     RR   \n",
       "23524                 Remoção NCI           CO2 (t)     PA   \n",
       "...                           ...               ...    ...   \n",
       "102751                    Remoção  CO2e (t) GWP-AR4     MS   \n",
       "102752                    Remoção  CO2e (t) GWP-AR5     MT   \n",
       "102753                    Remoção  CO2e (t) GWP-AR5     MS   \n",
       "102754                    Remoção  CO2e (t) GWP-AR6     MT   \n",
       "102755                    Remoção  CO2e (t) GWP-AR6     MS   \n",
       "\n",
       "       Atividade Econômica  ...          2012          2013          2014  \\\n",
       "23520                  PEC  ... -1.434540e+07 -1.499358e+07 -1.543196e+07   \n",
       "23521                  PEC  ... -5.382949e+06 -5.524659e+06 -5.632429e+06   \n",
       "23522                  PEC  ... -3.450455e+06 -3.540294e+06 -3.545724e+06   \n",
       "23523                  PEC  ... -1.260166e+06 -1.261895e+06 -1.371664e+06   \n",
       "23524                  PEC  ... -3.429279e+07 -3.317185e+07 -3.281628e+07   \n",
       "...                    ...  ...           ...           ...           ...   \n",
       "102751             AGROPEC  ... -7.513000e+04 -7.911900e+04 -8.695900e+04   \n",
       "102752             AGROPEC  ... -9.523000e+03 -9.667000e+03 -1.000300e+04   \n",
       "102753             AGROPEC  ... -7.513000e+04 -7.911900e+04 -8.695900e+04   \n",
       "102754             AGROPEC  ... -9.523000e+03 -9.667000e+03 -1.000300e+04   \n",
       "102755             AGROPEC  ... -7.513000e+04 -7.911900e+04 -8.695900e+04   \n",
       "\n",
       "                2015          2016          2017          2018          2019  \\\n",
       "23520  -1.567070e+07 -1.630063e+07 -1.702215e+07 -1.740074e+07 -1.771914e+07   \n",
       "23521  -5.765030e+06 -5.867354e+06 -5.942076e+06 -6.022000e+06 -6.002147e+06   \n",
       "23522  -3.924546e+06 -4.626541e+06 -4.874199e+06 -4.849173e+06 -4.959540e+06   \n",
       "23523  -1.501452e+06 -1.507705e+06 -1.509919e+06 -1.609826e+06 -1.616980e+06   \n",
       "23524  -3.350720e+07 -3.557183e+07 -3.755308e+07 -4.134614e+07 -4.229403e+07   \n",
       "...              ...           ...           ...           ...           ...   \n",
       "102751 -9.201400e+04 -9.149400e+04 -9.630200e+04 -9.202000e+04 -9.762300e+04   \n",
       "102752 -1.024200e+04 -1.027200e+04 -1.019100e+04 -1.046900e+04 -1.090400e+04   \n",
       "102753 -9.201400e+04 -9.149400e+04 -9.630200e+04 -9.202000e+04 -9.762300e+04   \n",
       "102754 -1.024200e+04 -1.027200e+04 -1.019100e+04 -1.046900e+04 -1.090400e+04   \n",
       "102755 -9.201400e+04 -9.149400e+04 -9.630200e+04 -9.202000e+04 -9.762300e+04   \n",
       "\n",
       "                2020          2021  \n",
       "23520  -1.767632e+07 -1.838895e+07  \n",
       "23521  -6.035591e+06 -6.459079e+06  \n",
       "23522  -5.106806e+06 -5.809814e+06  \n",
       "23523  -1.518397e+06 -1.926000e+06  \n",
       "23524  -4.275448e+07 -4.443440e+07  \n",
       "...              ...           ...  \n",
       "102751 -1.015020e+05 -1.008910e+05  \n",
       "102752 -1.104100e+04 -1.109500e+04  \n",
       "102753 -1.015020e+05 -1.008910e+05  \n",
       "102754 -1.104100e+04 -1.109500e+04  \n",
       "102755 -1.015020e+05 -1.008910e+05  \n",
       "\n",
       "[7970 rows x 63 columns]"
      ]
     },
     "execution_count": 6,
     "metadata": {},
     "output_type": "execute_result"
    }
   ],
   "source": [
    "data[data['Emissão / Remoção / Bunker'].isin(['Remoção NCI', 'Remoção'])]"
   ]
  },
  {
   "cell_type": "code",
   "execution_count": 7,
   "id": "1f5aee2e",
   "metadata": {},
   "outputs": [
    {
     "data": {
      "text/html": [
       "<div>\n",
       "<style scoped>\n",
       "    .dataframe tbody tr th:only-of-type {\n",
       "        vertical-align: middle;\n",
       "    }\n",
       "\n",
       "    .dataframe tbody tr th {\n",
       "        vertical-align: top;\n",
       "    }\n",
       "\n",
       "    .dataframe thead th {\n",
       "        text-align: right;\n",
       "    }\n",
       "</style>\n",
       "<table border=\"1\" class=\"dataframe\">\n",
       "  <thead>\n",
       "    <tr style=\"text-align: right;\">\n",
       "      <th></th>\n",
       "      <th>1970</th>\n",
       "      <th>1971</th>\n",
       "      <th>1972</th>\n",
       "      <th>1973</th>\n",
       "      <th>1974</th>\n",
       "      <th>1975</th>\n",
       "      <th>1976</th>\n",
       "      <th>1977</th>\n",
       "      <th>1978</th>\n",
       "      <th>1979</th>\n",
       "      <th>...</th>\n",
       "      <th>2012</th>\n",
       "      <th>2013</th>\n",
       "      <th>2014</th>\n",
       "      <th>2015</th>\n",
       "      <th>2016</th>\n",
       "      <th>2017</th>\n",
       "      <th>2018</th>\n",
       "      <th>2019</th>\n",
       "      <th>2020</th>\n",
       "      <th>2021</th>\n",
       "    </tr>\n",
       "  </thead>\n",
       "  <tbody>\n",
       "    <tr>\n",
       "      <th>23520</th>\n",
       "      <td>0.0</td>\n",
       "      <td>0.0</td>\n",
       "      <td>0.0</td>\n",
       "      <td>0.0</td>\n",
       "      <td>0.0</td>\n",
       "      <td>0.0</td>\n",
       "      <td>0.0</td>\n",
       "      <td>0.0</td>\n",
       "      <td>0.0</td>\n",
       "      <td>0.0</td>\n",
       "      <td>...</td>\n",
       "      <td>-1.434540e+07</td>\n",
       "      <td>-1.499358e+07</td>\n",
       "      <td>-1.543196e+07</td>\n",
       "      <td>-1.567070e+07</td>\n",
       "      <td>-1.630063e+07</td>\n",
       "      <td>-1.702215e+07</td>\n",
       "      <td>-1.740074e+07</td>\n",
       "      <td>-1.771914e+07</td>\n",
       "      <td>-1.767632e+07</td>\n",
       "      <td>-1.838895e+07</td>\n",
       "    </tr>\n",
       "    <tr>\n",
       "      <th>23521</th>\n",
       "      <td>0.0</td>\n",
       "      <td>0.0</td>\n",
       "      <td>0.0</td>\n",
       "      <td>0.0</td>\n",
       "      <td>0.0</td>\n",
       "      <td>0.0</td>\n",
       "      <td>0.0</td>\n",
       "      <td>0.0</td>\n",
       "      <td>0.0</td>\n",
       "      <td>0.0</td>\n",
       "      <td>...</td>\n",
       "      <td>-5.382949e+06</td>\n",
       "      <td>-5.524659e+06</td>\n",
       "      <td>-5.632429e+06</td>\n",
       "      <td>-5.765030e+06</td>\n",
       "      <td>-5.867354e+06</td>\n",
       "      <td>-5.942076e+06</td>\n",
       "      <td>-6.022000e+06</td>\n",
       "      <td>-6.002147e+06</td>\n",
       "      <td>-6.035591e+06</td>\n",
       "      <td>-6.459079e+06</td>\n",
       "    </tr>\n",
       "    <tr>\n",
       "      <th>23522</th>\n",
       "      <td>0.0</td>\n",
       "      <td>0.0</td>\n",
       "      <td>0.0</td>\n",
       "      <td>0.0</td>\n",
       "      <td>0.0</td>\n",
       "      <td>0.0</td>\n",
       "      <td>0.0</td>\n",
       "      <td>0.0</td>\n",
       "      <td>0.0</td>\n",
       "      <td>0.0</td>\n",
       "      <td>...</td>\n",
       "      <td>-3.450455e+06</td>\n",
       "      <td>-3.540294e+06</td>\n",
       "      <td>-3.545724e+06</td>\n",
       "      <td>-3.924546e+06</td>\n",
       "      <td>-4.626541e+06</td>\n",
       "      <td>-4.874199e+06</td>\n",
       "      <td>-4.849173e+06</td>\n",
       "      <td>-4.959540e+06</td>\n",
       "      <td>-5.106806e+06</td>\n",
       "      <td>-5.809814e+06</td>\n",
       "    </tr>\n",
       "    <tr>\n",
       "      <th>23523</th>\n",
       "      <td>0.0</td>\n",
       "      <td>0.0</td>\n",
       "      <td>0.0</td>\n",
       "      <td>0.0</td>\n",
       "      <td>0.0</td>\n",
       "      <td>0.0</td>\n",
       "      <td>0.0</td>\n",
       "      <td>0.0</td>\n",
       "      <td>0.0</td>\n",
       "      <td>0.0</td>\n",
       "      <td>...</td>\n",
       "      <td>-1.260166e+06</td>\n",
       "      <td>-1.261895e+06</td>\n",
       "      <td>-1.371664e+06</td>\n",
       "      <td>-1.501452e+06</td>\n",
       "      <td>-1.507705e+06</td>\n",
       "      <td>-1.509919e+06</td>\n",
       "      <td>-1.609826e+06</td>\n",
       "      <td>-1.616980e+06</td>\n",
       "      <td>-1.518397e+06</td>\n",
       "      <td>-1.926000e+06</td>\n",
       "    </tr>\n",
       "    <tr>\n",
       "      <th>23524</th>\n",
       "      <td>0.0</td>\n",
       "      <td>0.0</td>\n",
       "      <td>0.0</td>\n",
       "      <td>0.0</td>\n",
       "      <td>0.0</td>\n",
       "      <td>0.0</td>\n",
       "      <td>0.0</td>\n",
       "      <td>0.0</td>\n",
       "      <td>0.0</td>\n",
       "      <td>0.0</td>\n",
       "      <td>...</td>\n",
       "      <td>-3.429279e+07</td>\n",
       "      <td>-3.317185e+07</td>\n",
       "      <td>-3.281628e+07</td>\n",
       "      <td>-3.350720e+07</td>\n",
       "      <td>-3.557183e+07</td>\n",
       "      <td>-3.755308e+07</td>\n",
       "      <td>-4.134614e+07</td>\n",
       "      <td>-4.229403e+07</td>\n",
       "      <td>-4.275448e+07</td>\n",
       "      <td>-4.443440e+07</td>\n",
       "    </tr>\n",
       "    <tr>\n",
       "      <th>...</th>\n",
       "      <td>...</td>\n",
       "      <td>...</td>\n",
       "      <td>...</td>\n",
       "      <td>...</td>\n",
       "      <td>...</td>\n",
       "      <td>...</td>\n",
       "      <td>...</td>\n",
       "      <td>...</td>\n",
       "      <td>...</td>\n",
       "      <td>...</td>\n",
       "      <td>...</td>\n",
       "      <td>...</td>\n",
       "      <td>...</td>\n",
       "      <td>...</td>\n",
       "      <td>...</td>\n",
       "      <td>...</td>\n",
       "      <td>...</td>\n",
       "      <td>...</td>\n",
       "      <td>...</td>\n",
       "      <td>...</td>\n",
       "      <td>...</td>\n",
       "    </tr>\n",
       "    <tr>\n",
       "      <th>102751</th>\n",
       "      <td>0.0</td>\n",
       "      <td>0.0</td>\n",
       "      <td>0.0</td>\n",
       "      <td>0.0</td>\n",
       "      <td>0.0</td>\n",
       "      <td>0.0</td>\n",
       "      <td>0.0</td>\n",
       "      <td>0.0</td>\n",
       "      <td>0.0</td>\n",
       "      <td>0.0</td>\n",
       "      <td>...</td>\n",
       "      <td>-7.513000e+04</td>\n",
       "      <td>-7.911900e+04</td>\n",
       "      <td>-8.695900e+04</td>\n",
       "      <td>-9.201400e+04</td>\n",
       "      <td>-9.149400e+04</td>\n",
       "      <td>-9.630200e+04</td>\n",
       "      <td>-9.202000e+04</td>\n",
       "      <td>-9.762300e+04</td>\n",
       "      <td>-1.015020e+05</td>\n",
       "      <td>-1.008910e+05</td>\n",
       "    </tr>\n",
       "    <tr>\n",
       "      <th>102752</th>\n",
       "      <td>0.0</td>\n",
       "      <td>0.0</td>\n",
       "      <td>0.0</td>\n",
       "      <td>0.0</td>\n",
       "      <td>0.0</td>\n",
       "      <td>0.0</td>\n",
       "      <td>0.0</td>\n",
       "      <td>0.0</td>\n",
       "      <td>0.0</td>\n",
       "      <td>0.0</td>\n",
       "      <td>...</td>\n",
       "      <td>-9.523000e+03</td>\n",
       "      <td>-9.667000e+03</td>\n",
       "      <td>-1.000300e+04</td>\n",
       "      <td>-1.024200e+04</td>\n",
       "      <td>-1.027200e+04</td>\n",
       "      <td>-1.019100e+04</td>\n",
       "      <td>-1.046900e+04</td>\n",
       "      <td>-1.090400e+04</td>\n",
       "      <td>-1.104100e+04</td>\n",
       "      <td>-1.109500e+04</td>\n",
       "    </tr>\n",
       "    <tr>\n",
       "      <th>102753</th>\n",
       "      <td>0.0</td>\n",
       "      <td>0.0</td>\n",
       "      <td>0.0</td>\n",
       "      <td>0.0</td>\n",
       "      <td>0.0</td>\n",
       "      <td>0.0</td>\n",
       "      <td>0.0</td>\n",
       "      <td>0.0</td>\n",
       "      <td>0.0</td>\n",
       "      <td>0.0</td>\n",
       "      <td>...</td>\n",
       "      <td>-7.513000e+04</td>\n",
       "      <td>-7.911900e+04</td>\n",
       "      <td>-8.695900e+04</td>\n",
       "      <td>-9.201400e+04</td>\n",
       "      <td>-9.149400e+04</td>\n",
       "      <td>-9.630200e+04</td>\n",
       "      <td>-9.202000e+04</td>\n",
       "      <td>-9.762300e+04</td>\n",
       "      <td>-1.015020e+05</td>\n",
       "      <td>-1.008910e+05</td>\n",
       "    </tr>\n",
       "    <tr>\n",
       "      <th>102754</th>\n",
       "      <td>0.0</td>\n",
       "      <td>0.0</td>\n",
       "      <td>0.0</td>\n",
       "      <td>0.0</td>\n",
       "      <td>0.0</td>\n",
       "      <td>0.0</td>\n",
       "      <td>0.0</td>\n",
       "      <td>0.0</td>\n",
       "      <td>0.0</td>\n",
       "      <td>0.0</td>\n",
       "      <td>...</td>\n",
       "      <td>-9.523000e+03</td>\n",
       "      <td>-9.667000e+03</td>\n",
       "      <td>-1.000300e+04</td>\n",
       "      <td>-1.024200e+04</td>\n",
       "      <td>-1.027200e+04</td>\n",
       "      <td>-1.019100e+04</td>\n",
       "      <td>-1.046900e+04</td>\n",
       "      <td>-1.090400e+04</td>\n",
       "      <td>-1.104100e+04</td>\n",
       "      <td>-1.109500e+04</td>\n",
       "    </tr>\n",
       "    <tr>\n",
       "      <th>102755</th>\n",
       "      <td>0.0</td>\n",
       "      <td>0.0</td>\n",
       "      <td>0.0</td>\n",
       "      <td>0.0</td>\n",
       "      <td>0.0</td>\n",
       "      <td>0.0</td>\n",
       "      <td>0.0</td>\n",
       "      <td>0.0</td>\n",
       "      <td>0.0</td>\n",
       "      <td>0.0</td>\n",
       "      <td>...</td>\n",
       "      <td>-7.513000e+04</td>\n",
       "      <td>-7.911900e+04</td>\n",
       "      <td>-8.695900e+04</td>\n",
       "      <td>-9.201400e+04</td>\n",
       "      <td>-9.149400e+04</td>\n",
       "      <td>-9.630200e+04</td>\n",
       "      <td>-9.202000e+04</td>\n",
       "      <td>-9.762300e+04</td>\n",
       "      <td>-1.015020e+05</td>\n",
       "      <td>-1.008910e+05</td>\n",
       "    </tr>\n",
       "  </tbody>\n",
       "</table>\n",
       "<p>7970 rows × 52 columns</p>\n",
       "</div>"
      ],
      "text/plain": [
       "        1970  1971  1972  1973  1974  1975  1976  1977  1978  1979  ...  \\\n",
       "23520    0.0   0.0   0.0   0.0   0.0   0.0   0.0   0.0   0.0   0.0  ...   \n",
       "23521    0.0   0.0   0.0   0.0   0.0   0.0   0.0   0.0   0.0   0.0  ...   \n",
       "23522    0.0   0.0   0.0   0.0   0.0   0.0   0.0   0.0   0.0   0.0  ...   \n",
       "23523    0.0   0.0   0.0   0.0   0.0   0.0   0.0   0.0   0.0   0.0  ...   \n",
       "23524    0.0   0.0   0.0   0.0   0.0   0.0   0.0   0.0   0.0   0.0  ...   \n",
       "...      ...   ...   ...   ...   ...   ...   ...   ...   ...   ...  ...   \n",
       "102751   0.0   0.0   0.0   0.0   0.0   0.0   0.0   0.0   0.0   0.0  ...   \n",
       "102752   0.0   0.0   0.0   0.0   0.0   0.0   0.0   0.0   0.0   0.0  ...   \n",
       "102753   0.0   0.0   0.0   0.0   0.0   0.0   0.0   0.0   0.0   0.0  ...   \n",
       "102754   0.0   0.0   0.0   0.0   0.0   0.0   0.0   0.0   0.0   0.0  ...   \n",
       "102755   0.0   0.0   0.0   0.0   0.0   0.0   0.0   0.0   0.0   0.0  ...   \n",
       "\n",
       "                2012          2013          2014          2015          2016  \\\n",
       "23520  -1.434540e+07 -1.499358e+07 -1.543196e+07 -1.567070e+07 -1.630063e+07   \n",
       "23521  -5.382949e+06 -5.524659e+06 -5.632429e+06 -5.765030e+06 -5.867354e+06   \n",
       "23522  -3.450455e+06 -3.540294e+06 -3.545724e+06 -3.924546e+06 -4.626541e+06   \n",
       "23523  -1.260166e+06 -1.261895e+06 -1.371664e+06 -1.501452e+06 -1.507705e+06   \n",
       "23524  -3.429279e+07 -3.317185e+07 -3.281628e+07 -3.350720e+07 -3.557183e+07   \n",
       "...              ...           ...           ...           ...           ...   \n",
       "102751 -7.513000e+04 -7.911900e+04 -8.695900e+04 -9.201400e+04 -9.149400e+04   \n",
       "102752 -9.523000e+03 -9.667000e+03 -1.000300e+04 -1.024200e+04 -1.027200e+04   \n",
       "102753 -7.513000e+04 -7.911900e+04 -8.695900e+04 -9.201400e+04 -9.149400e+04   \n",
       "102754 -9.523000e+03 -9.667000e+03 -1.000300e+04 -1.024200e+04 -1.027200e+04   \n",
       "102755 -7.513000e+04 -7.911900e+04 -8.695900e+04 -9.201400e+04 -9.149400e+04   \n",
       "\n",
       "                2017          2018          2019          2020          2021  \n",
       "23520  -1.702215e+07 -1.740074e+07 -1.771914e+07 -1.767632e+07 -1.838895e+07  \n",
       "23521  -5.942076e+06 -6.022000e+06 -6.002147e+06 -6.035591e+06 -6.459079e+06  \n",
       "23522  -4.874199e+06 -4.849173e+06 -4.959540e+06 -5.106806e+06 -5.809814e+06  \n",
       "23523  -1.509919e+06 -1.609826e+06 -1.616980e+06 -1.518397e+06 -1.926000e+06  \n",
       "23524  -3.755308e+07 -4.134614e+07 -4.229403e+07 -4.275448e+07 -4.443440e+07  \n",
       "...              ...           ...           ...           ...           ...  \n",
       "102751 -9.630200e+04 -9.202000e+04 -9.762300e+04 -1.015020e+05 -1.008910e+05  \n",
       "102752 -1.019100e+04 -1.046900e+04 -1.090400e+04 -1.104100e+04 -1.109500e+04  \n",
       "102753 -9.630200e+04 -9.202000e+04 -9.762300e+04 -1.015020e+05 -1.008910e+05  \n",
       "102754 -1.019100e+04 -1.046900e+04 -1.090400e+04 -1.104100e+04 -1.109500e+04  \n",
       "102755 -9.630200e+04 -9.202000e+04 -9.762300e+04 -1.015020e+05 -1.008910e+05  \n",
       "\n",
       "[7970 rows x 52 columns]"
      ]
     },
     "execution_count": 7,
     "metadata": {},
     "output_type": "execute_result"
    }
   ],
   "source": [
    "data.loc[data['Emissão / Remoção / Bunker'].isin(['Remoção NCI', 'Remoção']), 1970:2021]"
   ]
  },
  {
   "cell_type": "code",
   "execution_count": 8,
   "id": "463c0c8b",
   "metadata": {},
   "outputs": [
    {
     "data": {
      "text/plain": [
       "1970    0.0\n",
       "1971    0.0\n",
       "1972    0.0\n",
       "1973    0.0\n",
       "1974    0.0\n",
       "1975    0.0\n",
       "1976    0.0\n",
       "1977    0.0\n",
       "1978    0.0\n",
       "1979    0.0\n",
       "1980    0.0\n",
       "1981    0.0\n",
       "1982    0.0\n",
       "1983    0.0\n",
       "1984    0.0\n",
       "1985    0.0\n",
       "1986    0.0\n",
       "1987    0.0\n",
       "1988    0.0\n",
       "1989    0.0\n",
       "1990    0.0\n",
       "1991    0.0\n",
       "1992    0.0\n",
       "1993    0.0\n",
       "1994    0.0\n",
       "1995    0.0\n",
       "1996    0.0\n",
       "1997    0.0\n",
       "1998    0.0\n",
       "1999    0.0\n",
       "2000    0.0\n",
       "2001    0.0\n",
       "2002    0.0\n",
       "2003    0.0\n",
       "2004    0.0\n",
       "2005    0.0\n",
       "2006    0.0\n",
       "2007    0.0\n",
       "2008    0.0\n",
       "2009    0.0\n",
       "2010    0.0\n",
       "2011    0.0\n",
       "2012    0.0\n",
       "2013    0.0\n",
       "2014    0.0\n",
       "2015    0.0\n",
       "2016    0.0\n",
       "2017    0.0\n",
       "2018    0.0\n",
       "2019    0.0\n",
       "2020    0.0\n",
       "2021    0.0\n",
       "dtype: float64"
      ]
     },
     "execution_count": 8,
     "metadata": {},
     "output_type": "execute_result"
    }
   ],
   "source": [
    "data.loc[data['Emissão / Remoção / Bunker'].isin(['Remoção NCI', 'Remoção']), 1970:2021].max()"
   ]
  },
  {
   "cell_type": "code",
   "execution_count": 9,
   "id": "56a74109",
   "metadata": {},
   "outputs": [
    {
     "data": {
      "text/plain": [
       "array([nan], dtype=object)"
      ]
     },
     "execution_count": 9,
     "metadata": {},
     "output_type": "execute_result"
    }
   ],
   "source": [
    "# Checando se algum valor Bunker corresponde a alguma emissão feita por estado.\n",
    "data.loc[data['Emissão / Remoção / Bunker'] == 'Bunker', 'Estado'].unique()\n",
    "\n",
    "# Obtemos que não, e isso está correto, pois as Emissões do tipo Bunker são feitas por navegações marítimas e aéreas Internacionais, ou seja, não correspondem a nenhum estado."
   ]
  },
  {
   "cell_type": "code",
   "execution_count": 10,
   "id": "31430663",
   "metadata": {},
   "outputs": [
    {
     "data": {
      "text/html": [
       "<div>\n",
       "<style scoped>\n",
       "    .dataframe tbody tr th:only-of-type {\n",
       "        vertical-align: middle;\n",
       "    }\n",
       "\n",
       "    .dataframe tbody tr th {\n",
       "        vertical-align: top;\n",
       "    }\n",
       "\n",
       "    .dataframe thead th {\n",
       "        text-align: right;\n",
       "    }\n",
       "</style>\n",
       "<table border=\"1\" class=\"dataframe\">\n",
       "  <thead>\n",
       "    <tr style=\"text-align: right;\">\n",
       "      <th></th>\n",
       "      <th>Nível 1 - Setor</th>\n",
       "      <th>Nível 2</th>\n",
       "      <th>Nível 3</th>\n",
       "      <th>Nível 4</th>\n",
       "      <th>Nível 5</th>\n",
       "      <th>Nível 6</th>\n",
       "      <th>Emissão / Remoção / Bunker</th>\n",
       "      <th>Gás</th>\n",
       "      <th>Estado</th>\n",
       "      <th>Atividade Econômica</th>\n",
       "      <th>...</th>\n",
       "      <th>2012</th>\n",
       "      <th>2013</th>\n",
       "      <th>2014</th>\n",
       "      <th>2015</th>\n",
       "      <th>2016</th>\n",
       "      <th>2017</th>\n",
       "      <th>2018</th>\n",
       "      <th>2019</th>\n",
       "      <th>2020</th>\n",
       "      <th>2021</th>\n",
       "    </tr>\n",
       "  </thead>\n",
       "  <tbody>\n",
       "    <tr>\n",
       "      <th>0</th>\n",
       "      <td>Processos Industriais</td>\n",
       "      <td>Indústria Química</td>\n",
       "      <td>Produção de ABS</td>\n",
       "      <td>NaN</td>\n",
       "      <td>NaN</td>\n",
       "      <td>NaN</td>\n",
       "      <td>Emissão</td>\n",
       "      <td>COVNM (t)</td>\n",
       "      <td>SP</td>\n",
       "      <td>OUTRA_IND</td>\n",
       "      <td>...</td>\n",
       "      <td>897.600000</td>\n",
       "      <td>897.600000</td>\n",
       "      <td>897.600000</td>\n",
       "      <td>897.600000</td>\n",
       "      <td>897.600000</td>\n",
       "      <td>897.600000</td>\n",
       "      <td>897.600000</td>\n",
       "      <td>897.600</td>\n",
       "      <td>897.600</td>\n",
       "      <td>897.600</td>\n",
       "    </tr>\n",
       "    <tr>\n",
       "      <th>1</th>\n",
       "      <td>Processos Industriais</td>\n",
       "      <td>Indústria Química</td>\n",
       "      <td>Produção de Ácido Adípico</td>\n",
       "      <td>NaN</td>\n",
       "      <td>NaN</td>\n",
       "      <td>NaN</td>\n",
       "      <td>Emissão</td>\n",
       "      <td>N2O (t)</td>\n",
       "      <td>SP</td>\n",
       "      <td>OUTRA_IND</td>\n",
       "      <td>...</td>\n",
       "      <td>130.000000</td>\n",
       "      <td>130.000000</td>\n",
       "      <td>130.000000</td>\n",
       "      <td>130.000000</td>\n",
       "      <td>130.000000</td>\n",
       "      <td>130.000000</td>\n",
       "      <td>130.000000</td>\n",
       "      <td>130.000</td>\n",
       "      <td>130.000</td>\n",
       "      <td>130.000</td>\n",
       "    </tr>\n",
       "    <tr>\n",
       "      <th>2</th>\n",
       "      <td>Processos Industriais</td>\n",
       "      <td>Indústria Química</td>\n",
       "      <td>Produção de Ácido Adípico</td>\n",
       "      <td>NaN</td>\n",
       "      <td>NaN</td>\n",
       "      <td>NaN</td>\n",
       "      <td>Emissão</td>\n",
       "      <td>CO (t)</td>\n",
       "      <td>SP</td>\n",
       "      <td>OUTRA_IND</td>\n",
       "      <td>...</td>\n",
       "      <td>1380.576000</td>\n",
       "      <td>1380.576000</td>\n",
       "      <td>1380.576000</td>\n",
       "      <td>1380.576000</td>\n",
       "      <td>1380.576000</td>\n",
       "      <td>1380.576000</td>\n",
       "      <td>1380.576000</td>\n",
       "      <td>1380.576</td>\n",
       "      <td>1380.576</td>\n",
       "      <td>1380.576</td>\n",
       "    </tr>\n",
       "    <tr>\n",
       "      <th>3</th>\n",
       "      <td>Processos Industriais</td>\n",
       "      <td>Indústria Química</td>\n",
       "      <td>Produção de Ácido Adípico</td>\n",
       "      <td>NaN</td>\n",
       "      <td>NaN</td>\n",
       "      <td>NaN</td>\n",
       "      <td>Emissão</td>\n",
       "      <td>NOx (t)</td>\n",
       "      <td>SP</td>\n",
       "      <td>OUTRA_IND</td>\n",
       "      <td>...</td>\n",
       "      <td>431.430000</td>\n",
       "      <td>431.430000</td>\n",
       "      <td>431.430000</td>\n",
       "      <td>431.430000</td>\n",
       "      <td>431.430000</td>\n",
       "      <td>431.430000</td>\n",
       "      <td>431.430000</td>\n",
       "      <td>431.430</td>\n",
       "      <td>431.430</td>\n",
       "      <td>431.430</td>\n",
       "    </tr>\n",
       "    <tr>\n",
       "      <th>4</th>\n",
       "      <td>Processos Industriais</td>\n",
       "      <td>Indústria Química</td>\n",
       "      <td>Produção de Ácido Adípico</td>\n",
       "      <td>NaN</td>\n",
       "      <td>NaN</td>\n",
       "      <td>NaN</td>\n",
       "      <td>Emissão</td>\n",
       "      <td>CO2e (t) GWP-AR2</td>\n",
       "      <td>SP</td>\n",
       "      <td>OUTRA_IND</td>\n",
       "      <td>...</td>\n",
       "      <td>40300.000000</td>\n",
       "      <td>40300.000000</td>\n",
       "      <td>40300.000000</td>\n",
       "      <td>40300.000000</td>\n",
       "      <td>40300.000000</td>\n",
       "      <td>40300.000000</td>\n",
       "      <td>40300.000000</td>\n",
       "      <td>40300.000</td>\n",
       "      <td>40300.000</td>\n",
       "      <td>40300.000</td>\n",
       "    </tr>\n",
       "    <tr>\n",
       "      <th>...</th>\n",
       "      <td>...</td>\n",
       "      <td>...</td>\n",
       "      <td>...</td>\n",
       "      <td>...</td>\n",
       "      <td>...</td>\n",
       "      <td>...</td>\n",
       "      <td>...</td>\n",
       "      <td>...</td>\n",
       "      <td>...</td>\n",
       "      <td>...</td>\n",
       "      <td>...</td>\n",
       "      <td>...</td>\n",
       "      <td>...</td>\n",
       "      <td>...</td>\n",
       "      <td>...</td>\n",
       "      <td>...</td>\n",
       "      <td>...</td>\n",
       "      <td>...</td>\n",
       "      <td>...</td>\n",
       "      <td>...</td>\n",
       "      <td>...</td>\n",
       "    </tr>\n",
       "    <tr>\n",
       "      <th>103241</th>\n",
       "      <td>Mudança de Uso da Terra e Floresta</td>\n",
       "      <td>Resíduos Florestais</td>\n",
       "      <td>Pantanal</td>\n",
       "      <td>NaN</td>\n",
       "      <td>Desmatamento</td>\n",
       "      <td>NaN</td>\n",
       "      <td>Emissão</td>\n",
       "      <td>CO2e (t) GWP-AR5</td>\n",
       "      <td>MS</td>\n",
       "      <td>AGROPEC</td>\n",
       "      <td>...</td>\n",
       "      <td>436935.000000</td>\n",
       "      <td>500067.000000</td>\n",
       "      <td>440030.000000</td>\n",
       "      <td>365272.000000</td>\n",
       "      <td>438422.000000</td>\n",
       "      <td>391113.000000</td>\n",
       "      <td>411738.000000</td>\n",
       "      <td>437039.000</td>\n",
       "      <td>871393.000</td>\n",
       "      <td>1004191.000</td>\n",
       "    </tr>\n",
       "    <tr>\n",
       "      <th>103242</th>\n",
       "      <td>Mudança de Uso da Terra e Floresta</td>\n",
       "      <td>Resíduos Florestais</td>\n",
       "      <td>Pantanal</td>\n",
       "      <td>NaN</td>\n",
       "      <td>Desmatamento</td>\n",
       "      <td>NaN</td>\n",
       "      <td>Emissão</td>\n",
       "      <td>CO2e (t) GWP-AR6</td>\n",
       "      <td>MT</td>\n",
       "      <td>AGROPEC</td>\n",
       "      <td>...</td>\n",
       "      <td>126806.000000</td>\n",
       "      <td>127558.000000</td>\n",
       "      <td>193758.000000</td>\n",
       "      <td>164585.000000</td>\n",
       "      <td>234509.000000</td>\n",
       "      <td>190412.000000</td>\n",
       "      <td>162919.000000</td>\n",
       "      <td>186091.000</td>\n",
       "      <td>368149.000</td>\n",
       "      <td>443120.000</td>\n",
       "    </tr>\n",
       "    <tr>\n",
       "      <th>103243</th>\n",
       "      <td>Mudança de Uso da Terra e Floresta</td>\n",
       "      <td>Resíduos Florestais</td>\n",
       "      <td>Pantanal</td>\n",
       "      <td>NaN</td>\n",
       "      <td>Desmatamento</td>\n",
       "      <td>NaN</td>\n",
       "      <td>Emissão</td>\n",
       "      <td>CO2e (t) GWP-AR6</td>\n",
       "      <td>MS</td>\n",
       "      <td>AGROPEC</td>\n",
       "      <td>...</td>\n",
       "      <td>439524.000000</td>\n",
       "      <td>502908.000000</td>\n",
       "      <td>442493.000000</td>\n",
       "      <td>367116.000000</td>\n",
       "      <td>440798.000000</td>\n",
       "      <td>393101.000000</td>\n",
       "      <td>413749.000000</td>\n",
       "      <td>439526.000</td>\n",
       "      <td>876637.000</td>\n",
       "      <td>1009968.000</td>\n",
       "    </tr>\n",
       "    <tr>\n",
       "      <th>103244</th>\n",
       "      <td>Mudança de Uso da Terra e Floresta</td>\n",
       "      <td>Resíduos Florestais</td>\n",
       "      <td>Pantanal</td>\n",
       "      <td>NaN</td>\n",
       "      <td>Desmatamento</td>\n",
       "      <td>NaN</td>\n",
       "      <td>Emissão</td>\n",
       "      <td>N2O (t)</td>\n",
       "      <td>MT</td>\n",
       "      <td>AGROPEC</td>\n",
       "      <td>...</td>\n",
       "      <td>108.441090</td>\n",
       "      <td>109.811199</td>\n",
       "      <td>166.680103</td>\n",
       "      <td>141.442361</td>\n",
       "      <td>201.556097</td>\n",
       "      <td>162.932751</td>\n",
       "      <td>137.219684</td>\n",
       "      <td>158.000</td>\n",
       "      <td>314.000</td>\n",
       "      <td>479.000</td>\n",
       "    </tr>\n",
       "    <tr>\n",
       "      <th>103245</th>\n",
       "      <td>Mudança de Uso da Terra e Floresta</td>\n",
       "      <td>Resíduos Florestais</td>\n",
       "      <td>Pantanal</td>\n",
       "      <td>NaN</td>\n",
       "      <td>Desmatamento</td>\n",
       "      <td>NaN</td>\n",
       "      <td>Emissão</td>\n",
       "      <td>N2O (t)</td>\n",
       "      <td>MS</td>\n",
       "      <td>AGROPEC</td>\n",
       "      <td>...</td>\n",
       "      <td>463.968255</td>\n",
       "      <td>517.078826</td>\n",
       "      <td>450.849218</td>\n",
       "      <td>352.160440</td>\n",
       "      <td>440.753215</td>\n",
       "      <td>378.038216</td>\n",
       "      <td>388.896998</td>\n",
       "      <td>452.000</td>\n",
       "      <td>935.000</td>\n",
       "      <td>1047.000</td>\n",
       "    </tr>\n",
       "  </tbody>\n",
       "</table>\n",
       "<p>94748 rows × 63 columns</p>\n",
       "</div>"
      ],
      "text/plain": [
       "                           Nível 1 - Setor              Nível 2  \\\n",
       "0                    Processos Industriais    Indústria Química   \n",
       "1                    Processos Industriais    Indústria Química   \n",
       "2                    Processos Industriais    Indústria Química   \n",
       "3                    Processos Industriais    Indústria Química   \n",
       "4                    Processos Industriais    Indústria Química   \n",
       "...                                    ...                  ...   \n",
       "103241  Mudança de Uso da Terra e Floresta  Resíduos Florestais   \n",
       "103242  Mudança de Uso da Terra e Floresta  Resíduos Florestais   \n",
       "103243  Mudança de Uso da Terra e Floresta  Resíduos Florestais   \n",
       "103244  Mudança de Uso da Terra e Floresta  Resíduos Florestais   \n",
       "103245  Mudança de Uso da Terra e Floresta  Resíduos Florestais   \n",
       "\n",
       "                          Nível 3 Nível 4       Nível 5 Nível 6  \\\n",
       "0                 Produção de ABS     NaN           NaN     NaN   \n",
       "1       Produção de Ácido Adípico     NaN           NaN     NaN   \n",
       "2       Produção de Ácido Adípico     NaN           NaN     NaN   \n",
       "3       Produção de Ácido Adípico     NaN           NaN     NaN   \n",
       "4       Produção de Ácido Adípico     NaN           NaN     NaN   \n",
       "...                           ...     ...           ...     ...   \n",
       "103241                   Pantanal     NaN  Desmatamento     NaN   \n",
       "103242                   Pantanal     NaN  Desmatamento     NaN   \n",
       "103243                   Pantanal     NaN  Desmatamento     NaN   \n",
       "103244                   Pantanal     NaN  Desmatamento     NaN   \n",
       "103245                   Pantanal     NaN  Desmatamento     NaN   \n",
       "\n",
       "       Emissão / Remoção / Bunker               Gás Estado  \\\n",
       "0                         Emissão         COVNM (t)     SP   \n",
       "1                         Emissão           N2O (t)     SP   \n",
       "2                         Emissão            CO (t)     SP   \n",
       "3                         Emissão           NOx (t)     SP   \n",
       "4                         Emissão  CO2e (t) GWP-AR2     SP   \n",
       "...                           ...               ...    ...   \n",
       "103241                    Emissão  CO2e (t) GWP-AR5     MS   \n",
       "103242                    Emissão  CO2e (t) GWP-AR6     MT   \n",
       "103243                    Emissão  CO2e (t) GWP-AR6     MS   \n",
       "103244                    Emissão           N2O (t)     MT   \n",
       "103245                    Emissão           N2O (t)     MS   \n",
       "\n",
       "       Atividade Econômica  ...           2012           2013           2014  \\\n",
       "0                OUTRA_IND  ...     897.600000     897.600000     897.600000   \n",
       "1                OUTRA_IND  ...     130.000000     130.000000     130.000000   \n",
       "2                OUTRA_IND  ...    1380.576000    1380.576000    1380.576000   \n",
       "3                OUTRA_IND  ...     431.430000     431.430000     431.430000   \n",
       "4                OUTRA_IND  ...   40300.000000   40300.000000   40300.000000   \n",
       "...                    ...  ...            ...            ...            ...   \n",
       "103241             AGROPEC  ...  436935.000000  500067.000000  440030.000000   \n",
       "103242             AGROPEC  ...  126806.000000  127558.000000  193758.000000   \n",
       "103243             AGROPEC  ...  439524.000000  502908.000000  442493.000000   \n",
       "103244             AGROPEC  ...     108.441090     109.811199     166.680103   \n",
       "103245             AGROPEC  ...     463.968255     517.078826     450.849218   \n",
       "\n",
       "                 2015           2016           2017           2018  \\\n",
       "0          897.600000     897.600000     897.600000     897.600000   \n",
       "1          130.000000     130.000000     130.000000     130.000000   \n",
       "2         1380.576000    1380.576000    1380.576000    1380.576000   \n",
       "3          431.430000     431.430000     431.430000     431.430000   \n",
       "4        40300.000000   40300.000000   40300.000000   40300.000000   \n",
       "...               ...            ...            ...            ...   \n",
       "103241  365272.000000  438422.000000  391113.000000  411738.000000   \n",
       "103242  164585.000000  234509.000000  190412.000000  162919.000000   \n",
       "103243  367116.000000  440798.000000  393101.000000  413749.000000   \n",
       "103244     141.442361     201.556097     162.932751     137.219684   \n",
       "103245     352.160440     440.753215     378.038216     388.896998   \n",
       "\n",
       "              2019        2020         2021  \n",
       "0          897.600     897.600      897.600  \n",
       "1          130.000     130.000      130.000  \n",
       "2         1380.576    1380.576     1380.576  \n",
       "3          431.430     431.430      431.430  \n",
       "4        40300.000   40300.000    40300.000  \n",
       "...            ...         ...          ...  \n",
       "103241  437039.000  871393.000  1004191.000  \n",
       "103242  186091.000  368149.000   443120.000  \n",
       "103243  439526.000  876637.000  1009968.000  \n",
       "103244     158.000     314.000      479.000  \n",
       "103245     452.000     935.000     1047.000  \n",
       "\n",
       "[94748 rows x 63 columns]"
      ]
     },
     "execution_count": 10,
     "metadata": {},
     "output_type": "execute_result"
    }
   ],
   "source": [
    "# Eliminando essa informação da base\n",
    "\n",
    "data = data[data['Emissão / Remoção / Bunker'] == 'Emissão']\n",
    "data\n",
    "# Vemos que ao limpar a base deixando somente valores de Emissão, restaram 94748 registros do que antes eram 103312"
   ]
  },
  {
   "cell_type": "markdown",
   "id": "83e1c8f4",
   "metadata": {},
   "source": [
    "Como já filtrei a coluna Emissão / Remoção / Bunker, agora já não há mais informações relevantes nessa coluna, portando vou dropar ela."
   ]
  },
  {
   "cell_type": "code",
   "execution_count": 11,
   "id": "c07fb92c",
   "metadata": {},
   "outputs": [
    {
     "data": {
      "text/html": [
       "<div>\n",
       "<style scoped>\n",
       "    .dataframe tbody tr th:only-of-type {\n",
       "        vertical-align: middle;\n",
       "    }\n",
       "\n",
       "    .dataframe tbody tr th {\n",
       "        vertical-align: top;\n",
       "    }\n",
       "\n",
       "    .dataframe thead th {\n",
       "        text-align: right;\n",
       "    }\n",
       "</style>\n",
       "<table border=\"1\" class=\"dataframe\">\n",
       "  <thead>\n",
       "    <tr style=\"text-align: right;\">\n",
       "      <th></th>\n",
       "      <th>Nível 1 - Setor</th>\n",
       "      <th>Nível 2</th>\n",
       "      <th>Nível 3</th>\n",
       "      <th>Nível 4</th>\n",
       "      <th>Nível 5</th>\n",
       "      <th>Nível 6</th>\n",
       "      <th>Gás</th>\n",
       "      <th>Estado</th>\n",
       "      <th>Atividade Econômica</th>\n",
       "      <th>Produto</th>\n",
       "      <th>...</th>\n",
       "      <th>2012</th>\n",
       "      <th>2013</th>\n",
       "      <th>2014</th>\n",
       "      <th>2015</th>\n",
       "      <th>2016</th>\n",
       "      <th>2017</th>\n",
       "      <th>2018</th>\n",
       "      <th>2019</th>\n",
       "      <th>2020</th>\n",
       "      <th>2021</th>\n",
       "    </tr>\n",
       "  </thead>\n",
       "  <tbody>\n",
       "    <tr>\n",
       "      <th>0</th>\n",
       "      <td>Processos Industriais</td>\n",
       "      <td>Indústria Química</td>\n",
       "      <td>Produção de ABS</td>\n",
       "      <td>NaN</td>\n",
       "      <td>NaN</td>\n",
       "      <td>NaN</td>\n",
       "      <td>COVNM (t)</td>\n",
       "      <td>SP</td>\n",
       "      <td>OUTRA_IND</td>\n",
       "      <td>NaN</td>\n",
       "      <td>...</td>\n",
       "      <td>897.600000</td>\n",
       "      <td>897.600000</td>\n",
       "      <td>897.600000</td>\n",
       "      <td>897.600000</td>\n",
       "      <td>897.600000</td>\n",
       "      <td>897.600000</td>\n",
       "      <td>897.600000</td>\n",
       "      <td>897.600</td>\n",
       "      <td>897.600</td>\n",
       "      <td>897.600</td>\n",
       "    </tr>\n",
       "    <tr>\n",
       "      <th>1</th>\n",
       "      <td>Processos Industriais</td>\n",
       "      <td>Indústria Química</td>\n",
       "      <td>Produção de Ácido Adípico</td>\n",
       "      <td>NaN</td>\n",
       "      <td>NaN</td>\n",
       "      <td>NaN</td>\n",
       "      <td>N2O (t)</td>\n",
       "      <td>SP</td>\n",
       "      <td>OUTRA_IND</td>\n",
       "      <td>NaN</td>\n",
       "      <td>...</td>\n",
       "      <td>130.000000</td>\n",
       "      <td>130.000000</td>\n",
       "      <td>130.000000</td>\n",
       "      <td>130.000000</td>\n",
       "      <td>130.000000</td>\n",
       "      <td>130.000000</td>\n",
       "      <td>130.000000</td>\n",
       "      <td>130.000</td>\n",
       "      <td>130.000</td>\n",
       "      <td>130.000</td>\n",
       "    </tr>\n",
       "    <tr>\n",
       "      <th>2</th>\n",
       "      <td>Processos Industriais</td>\n",
       "      <td>Indústria Química</td>\n",
       "      <td>Produção de Ácido Adípico</td>\n",
       "      <td>NaN</td>\n",
       "      <td>NaN</td>\n",
       "      <td>NaN</td>\n",
       "      <td>CO (t)</td>\n",
       "      <td>SP</td>\n",
       "      <td>OUTRA_IND</td>\n",
       "      <td>NaN</td>\n",
       "      <td>...</td>\n",
       "      <td>1380.576000</td>\n",
       "      <td>1380.576000</td>\n",
       "      <td>1380.576000</td>\n",
       "      <td>1380.576000</td>\n",
       "      <td>1380.576000</td>\n",
       "      <td>1380.576000</td>\n",
       "      <td>1380.576000</td>\n",
       "      <td>1380.576</td>\n",
       "      <td>1380.576</td>\n",
       "      <td>1380.576</td>\n",
       "    </tr>\n",
       "    <tr>\n",
       "      <th>3</th>\n",
       "      <td>Processos Industriais</td>\n",
       "      <td>Indústria Química</td>\n",
       "      <td>Produção de Ácido Adípico</td>\n",
       "      <td>NaN</td>\n",
       "      <td>NaN</td>\n",
       "      <td>NaN</td>\n",
       "      <td>NOx (t)</td>\n",
       "      <td>SP</td>\n",
       "      <td>OUTRA_IND</td>\n",
       "      <td>NaN</td>\n",
       "      <td>...</td>\n",
       "      <td>431.430000</td>\n",
       "      <td>431.430000</td>\n",
       "      <td>431.430000</td>\n",
       "      <td>431.430000</td>\n",
       "      <td>431.430000</td>\n",
       "      <td>431.430000</td>\n",
       "      <td>431.430000</td>\n",
       "      <td>431.430</td>\n",
       "      <td>431.430</td>\n",
       "      <td>431.430</td>\n",
       "    </tr>\n",
       "    <tr>\n",
       "      <th>4</th>\n",
       "      <td>Processos Industriais</td>\n",
       "      <td>Indústria Química</td>\n",
       "      <td>Produção de Ácido Adípico</td>\n",
       "      <td>NaN</td>\n",
       "      <td>NaN</td>\n",
       "      <td>NaN</td>\n",
       "      <td>CO2e (t) GWP-AR2</td>\n",
       "      <td>SP</td>\n",
       "      <td>OUTRA_IND</td>\n",
       "      <td>NaN</td>\n",
       "      <td>...</td>\n",
       "      <td>40300.000000</td>\n",
       "      <td>40300.000000</td>\n",
       "      <td>40300.000000</td>\n",
       "      <td>40300.000000</td>\n",
       "      <td>40300.000000</td>\n",
       "      <td>40300.000000</td>\n",
       "      <td>40300.000000</td>\n",
       "      <td>40300.000</td>\n",
       "      <td>40300.000</td>\n",
       "      <td>40300.000</td>\n",
       "    </tr>\n",
       "    <tr>\n",
       "      <th>...</th>\n",
       "      <td>...</td>\n",
       "      <td>...</td>\n",
       "      <td>...</td>\n",
       "      <td>...</td>\n",
       "      <td>...</td>\n",
       "      <td>...</td>\n",
       "      <td>...</td>\n",
       "      <td>...</td>\n",
       "      <td>...</td>\n",
       "      <td>...</td>\n",
       "      <td>...</td>\n",
       "      <td>...</td>\n",
       "      <td>...</td>\n",
       "      <td>...</td>\n",
       "      <td>...</td>\n",
       "      <td>...</td>\n",
       "      <td>...</td>\n",
       "      <td>...</td>\n",
       "      <td>...</td>\n",
       "      <td>...</td>\n",
       "      <td>...</td>\n",
       "    </tr>\n",
       "    <tr>\n",
       "      <th>103241</th>\n",
       "      <td>Mudança de Uso da Terra e Floresta</td>\n",
       "      <td>Resíduos Florestais</td>\n",
       "      <td>Pantanal</td>\n",
       "      <td>NaN</td>\n",
       "      <td>Desmatamento</td>\n",
       "      <td>NaN</td>\n",
       "      <td>CO2e (t) GWP-AR5</td>\n",
       "      <td>MS</td>\n",
       "      <td>AGROPEC</td>\n",
       "      <td>NaN</td>\n",
       "      <td>...</td>\n",
       "      <td>436935.000000</td>\n",
       "      <td>500067.000000</td>\n",
       "      <td>440030.000000</td>\n",
       "      <td>365272.000000</td>\n",
       "      <td>438422.000000</td>\n",
       "      <td>391113.000000</td>\n",
       "      <td>411738.000000</td>\n",
       "      <td>437039.000</td>\n",
       "      <td>871393.000</td>\n",
       "      <td>1004191.000</td>\n",
       "    </tr>\n",
       "    <tr>\n",
       "      <th>103242</th>\n",
       "      <td>Mudança de Uso da Terra e Floresta</td>\n",
       "      <td>Resíduos Florestais</td>\n",
       "      <td>Pantanal</td>\n",
       "      <td>NaN</td>\n",
       "      <td>Desmatamento</td>\n",
       "      <td>NaN</td>\n",
       "      <td>CO2e (t) GWP-AR6</td>\n",
       "      <td>MT</td>\n",
       "      <td>AGROPEC</td>\n",
       "      <td>NaN</td>\n",
       "      <td>...</td>\n",
       "      <td>126806.000000</td>\n",
       "      <td>127558.000000</td>\n",
       "      <td>193758.000000</td>\n",
       "      <td>164585.000000</td>\n",
       "      <td>234509.000000</td>\n",
       "      <td>190412.000000</td>\n",
       "      <td>162919.000000</td>\n",
       "      <td>186091.000</td>\n",
       "      <td>368149.000</td>\n",
       "      <td>443120.000</td>\n",
       "    </tr>\n",
       "    <tr>\n",
       "      <th>103243</th>\n",
       "      <td>Mudança de Uso da Terra e Floresta</td>\n",
       "      <td>Resíduos Florestais</td>\n",
       "      <td>Pantanal</td>\n",
       "      <td>NaN</td>\n",
       "      <td>Desmatamento</td>\n",
       "      <td>NaN</td>\n",
       "      <td>CO2e (t) GWP-AR6</td>\n",
       "      <td>MS</td>\n",
       "      <td>AGROPEC</td>\n",
       "      <td>NaN</td>\n",
       "      <td>...</td>\n",
       "      <td>439524.000000</td>\n",
       "      <td>502908.000000</td>\n",
       "      <td>442493.000000</td>\n",
       "      <td>367116.000000</td>\n",
       "      <td>440798.000000</td>\n",
       "      <td>393101.000000</td>\n",
       "      <td>413749.000000</td>\n",
       "      <td>439526.000</td>\n",
       "      <td>876637.000</td>\n",
       "      <td>1009968.000</td>\n",
       "    </tr>\n",
       "    <tr>\n",
       "      <th>103244</th>\n",
       "      <td>Mudança de Uso da Terra e Floresta</td>\n",
       "      <td>Resíduos Florestais</td>\n",
       "      <td>Pantanal</td>\n",
       "      <td>NaN</td>\n",
       "      <td>Desmatamento</td>\n",
       "      <td>NaN</td>\n",
       "      <td>N2O (t)</td>\n",
       "      <td>MT</td>\n",
       "      <td>AGROPEC</td>\n",
       "      <td>NaN</td>\n",
       "      <td>...</td>\n",
       "      <td>108.441090</td>\n",
       "      <td>109.811199</td>\n",
       "      <td>166.680103</td>\n",
       "      <td>141.442361</td>\n",
       "      <td>201.556097</td>\n",
       "      <td>162.932751</td>\n",
       "      <td>137.219684</td>\n",
       "      <td>158.000</td>\n",
       "      <td>314.000</td>\n",
       "      <td>479.000</td>\n",
       "    </tr>\n",
       "    <tr>\n",
       "      <th>103245</th>\n",
       "      <td>Mudança de Uso da Terra e Floresta</td>\n",
       "      <td>Resíduos Florestais</td>\n",
       "      <td>Pantanal</td>\n",
       "      <td>NaN</td>\n",
       "      <td>Desmatamento</td>\n",
       "      <td>NaN</td>\n",
       "      <td>N2O (t)</td>\n",
       "      <td>MS</td>\n",
       "      <td>AGROPEC</td>\n",
       "      <td>NaN</td>\n",
       "      <td>...</td>\n",
       "      <td>463.968255</td>\n",
       "      <td>517.078826</td>\n",
       "      <td>450.849218</td>\n",
       "      <td>352.160440</td>\n",
       "      <td>440.753215</td>\n",
       "      <td>378.038216</td>\n",
       "      <td>388.896998</td>\n",
       "      <td>452.000</td>\n",
       "      <td>935.000</td>\n",
       "      <td>1047.000</td>\n",
       "    </tr>\n",
       "  </tbody>\n",
       "</table>\n",
       "<p>94748 rows × 62 columns</p>\n",
       "</div>"
      ],
      "text/plain": [
       "                           Nível 1 - Setor              Nível 2  \\\n",
       "0                    Processos Industriais    Indústria Química   \n",
       "1                    Processos Industriais    Indústria Química   \n",
       "2                    Processos Industriais    Indústria Química   \n",
       "3                    Processos Industriais    Indústria Química   \n",
       "4                    Processos Industriais    Indústria Química   \n",
       "...                                    ...                  ...   \n",
       "103241  Mudança de Uso da Terra e Floresta  Resíduos Florestais   \n",
       "103242  Mudança de Uso da Terra e Floresta  Resíduos Florestais   \n",
       "103243  Mudança de Uso da Terra e Floresta  Resíduos Florestais   \n",
       "103244  Mudança de Uso da Terra e Floresta  Resíduos Florestais   \n",
       "103245  Mudança de Uso da Terra e Floresta  Resíduos Florestais   \n",
       "\n",
       "                          Nível 3 Nível 4       Nível 5 Nível 6  \\\n",
       "0                 Produção de ABS     NaN           NaN     NaN   \n",
       "1       Produção de Ácido Adípico     NaN           NaN     NaN   \n",
       "2       Produção de Ácido Adípico     NaN           NaN     NaN   \n",
       "3       Produção de Ácido Adípico     NaN           NaN     NaN   \n",
       "4       Produção de Ácido Adípico     NaN           NaN     NaN   \n",
       "...                           ...     ...           ...     ...   \n",
       "103241                   Pantanal     NaN  Desmatamento     NaN   \n",
       "103242                   Pantanal     NaN  Desmatamento     NaN   \n",
       "103243                   Pantanal     NaN  Desmatamento     NaN   \n",
       "103244                   Pantanal     NaN  Desmatamento     NaN   \n",
       "103245                   Pantanal     NaN  Desmatamento     NaN   \n",
       "\n",
       "                     Gás Estado Atividade Econômica Produto  ...  \\\n",
       "0              COVNM (t)     SP           OUTRA_IND     NaN  ...   \n",
       "1                N2O (t)     SP           OUTRA_IND     NaN  ...   \n",
       "2                 CO (t)     SP           OUTRA_IND     NaN  ...   \n",
       "3                NOx (t)     SP           OUTRA_IND     NaN  ...   \n",
       "4       CO2e (t) GWP-AR2     SP           OUTRA_IND     NaN  ...   \n",
       "...                  ...    ...                 ...     ...  ...   \n",
       "103241  CO2e (t) GWP-AR5     MS             AGROPEC     NaN  ...   \n",
       "103242  CO2e (t) GWP-AR6     MT             AGROPEC     NaN  ...   \n",
       "103243  CO2e (t) GWP-AR6     MS             AGROPEC     NaN  ...   \n",
       "103244           N2O (t)     MT             AGROPEC     NaN  ...   \n",
       "103245           N2O (t)     MS             AGROPEC     NaN  ...   \n",
       "\n",
       "                 2012           2013           2014           2015  \\\n",
       "0          897.600000     897.600000     897.600000     897.600000   \n",
       "1          130.000000     130.000000     130.000000     130.000000   \n",
       "2         1380.576000    1380.576000    1380.576000    1380.576000   \n",
       "3          431.430000     431.430000     431.430000     431.430000   \n",
       "4        40300.000000   40300.000000   40300.000000   40300.000000   \n",
       "...               ...            ...            ...            ...   \n",
       "103241  436935.000000  500067.000000  440030.000000  365272.000000   \n",
       "103242  126806.000000  127558.000000  193758.000000  164585.000000   \n",
       "103243  439524.000000  502908.000000  442493.000000  367116.000000   \n",
       "103244     108.441090     109.811199     166.680103     141.442361   \n",
       "103245     463.968255     517.078826     450.849218     352.160440   \n",
       "\n",
       "                 2016           2017           2018        2019        2020  \\\n",
       "0          897.600000     897.600000     897.600000     897.600     897.600   \n",
       "1          130.000000     130.000000     130.000000     130.000     130.000   \n",
       "2         1380.576000    1380.576000    1380.576000    1380.576    1380.576   \n",
       "3          431.430000     431.430000     431.430000     431.430     431.430   \n",
       "4        40300.000000   40300.000000   40300.000000   40300.000   40300.000   \n",
       "...               ...            ...            ...         ...         ...   \n",
       "103241  438422.000000  391113.000000  411738.000000  437039.000  871393.000   \n",
       "103242  234509.000000  190412.000000  162919.000000  186091.000  368149.000   \n",
       "103243  440798.000000  393101.000000  413749.000000  439526.000  876637.000   \n",
       "103244     201.556097     162.932751     137.219684     158.000     314.000   \n",
       "103245     440.753215     378.038216     388.896998     452.000     935.000   \n",
       "\n",
       "               2021  \n",
       "0           897.600  \n",
       "1           130.000  \n",
       "2          1380.576  \n",
       "3           431.430  \n",
       "4         40300.000  \n",
       "...             ...  \n",
       "103241  1004191.000  \n",
       "103242   443120.000  \n",
       "103243  1009968.000  \n",
       "103244      479.000  \n",
       "103245     1047.000  \n",
       "\n",
       "[94748 rows x 62 columns]"
      ]
     },
     "execution_count": 11,
     "metadata": {},
     "output_type": "execute_result"
    }
   ],
   "source": [
    "data = data.drop(columns='Emissão / Remoção / Bunker')\n",
    "data"
   ]
  },
  {
   "cell_type": "markdown",
   "id": "5c627e30",
   "metadata": {},
   "source": [
    "### 02. Agrupamento de dados\n",
    "\n",
    "Objetivo: analisar as emissões por tipo de gás que temos na base de dados.\n",
    "\n",
    "Para isso, vou remodelar o DF.\n",
    "\n",
    "Como:\n",
    "* Uma única coluna com as informações dos anos\n",
    "* Apenas uma coluna com os dados de emissão"
   ]
  },
  {
   "cell_type": "code",
   "execution_count": 12,
   "id": "760e2c27",
   "metadata": {},
   "outputs": [
    {
     "name": "stdout",
     "output_type": "stream",
     "text": [
      "<class 'pandas.core.frame.DataFrame'>\n",
      "Index: 94748 entries, 0 to 103245\n",
      "Data columns (total 62 columns):\n",
      " #   Column               Non-Null Count  Dtype  \n",
      "---  ------               --------------  -----  \n",
      " 0   Nível 1 - Setor      94748 non-null  object \n",
      " 1   Nível 2              94748 non-null  object \n",
      " 2   Nível 3              94689 non-null  object \n",
      " 3   Nível 4              82422 non-null  object \n",
      " 4   Nível 5              92290 non-null  object \n",
      " 5   Nível 6              89207 non-null  object \n",
      " 6   Gás                  94748 non-null  object \n",
      " 7   Estado               88852 non-null  object \n",
      " 8   Atividade Econômica  94703 non-null  object \n",
      " 9   Produto              36198 non-null  object \n",
      " 10  1970                 94748 non-null  float64\n",
      " 11  1971                 94748 non-null  float64\n",
      " 12  1972                 94748 non-null  float64\n",
      " 13  1973                 94748 non-null  float64\n",
      " 14  1974                 94748 non-null  float64\n",
      " 15  1975                 94748 non-null  float64\n",
      " 16  1976                 94748 non-null  float64\n",
      " 17  1977                 94748 non-null  float64\n",
      " 18  1978                 94748 non-null  float64\n",
      " 19  1979                 94748 non-null  float64\n",
      " 20  1980                 94748 non-null  float64\n",
      " 21  1981                 94748 non-null  float64\n",
      " 22  1982                 94748 non-null  float64\n",
      " 23  1983                 94748 non-null  float64\n",
      " 24  1984                 94748 non-null  float64\n",
      " 25  1985                 94748 non-null  float64\n",
      " 26  1986                 94748 non-null  float64\n",
      " 27  1987                 94748 non-null  float64\n",
      " 28  1988                 94748 non-null  float64\n",
      " 29  1989                 94748 non-null  float64\n",
      " 30  1990                 94748 non-null  float64\n",
      " 31  1991                 94748 non-null  float64\n",
      " 32  1992                 94748 non-null  float64\n",
      " 33  1993                 94748 non-null  float64\n",
      " 34  1994                 94748 non-null  float64\n",
      " 35  1995                 94748 non-null  float64\n",
      " 36  1996                 94748 non-null  float64\n",
      " 37  1997                 94748 non-null  float64\n",
      " 38  1998                 94748 non-null  float64\n",
      " 39  1999                 94748 non-null  float64\n",
      " 40  2000                 94748 non-null  float64\n",
      " 41  2001                 94748 non-null  float64\n",
      " 42  2002                 94748 non-null  float64\n",
      " 43  2003                 94748 non-null  float64\n",
      " 44  2004                 94748 non-null  float64\n",
      " 45  2005                 94748 non-null  float64\n",
      " 46  2006                 94748 non-null  float64\n",
      " 47  2007                 94748 non-null  float64\n",
      " 48  2008                 94748 non-null  float64\n",
      " 49  2009                 94748 non-null  float64\n",
      " 50  2010                 94748 non-null  float64\n",
      " 51  2011                 94748 non-null  float64\n",
      " 52  2012                 94748 non-null  float64\n",
      " 53  2013                 94748 non-null  float64\n",
      " 54  2014                 94748 non-null  float64\n",
      " 55  2015                 94748 non-null  float64\n",
      " 56  2016                 94748 non-null  float64\n",
      " 57  2017                 94748 non-null  float64\n",
      " 58  2018                 94748 non-null  float64\n",
      " 59  2019                 94748 non-null  float64\n",
      " 60  2020                 94748 non-null  float64\n",
      " 61  2021                 94748 non-null  float64\n",
      "dtypes: float64(52), object(10)\n",
      "memory usage: 45.5+ MB\n"
     ]
    }
   ],
   "source": [
    "data.info()"
   ]
  },
  {
   "cell_type": "markdown",
   "id": "52c9a7b9",
   "metadata": {},
   "source": [
    "Conforme acima, vemos que a coluna dos anos começa a partir da coluna 11 até a 62. Então até a coluna 10 vou manter o mesmo formato"
   ]
  },
  {
   "cell_type": "code",
   "execution_count": 13,
   "id": "d65cdcde",
   "metadata": {},
   "outputs": [
    {
     "data": {
      "text/plain": [
       "Index(['Nível 1 - Setor', 'Nível 2', 'Nível 3', 'Nível 4', 'Nível 5',\n",
       "       'Nível 6', 'Gás', 'Estado', 'Atividade Econômica', 'Produto'],\n",
       "      dtype='object')"
      ]
     },
     "execution_count": 13,
     "metadata": {},
     "output_type": "execute_result"
    }
   ],
   "source": [
    "# Selecionando as colunas iniciais\n",
    "data.loc[:, 'Nível 1 - Setor':'Produto'].columns"
   ]
  },
  {
   "cell_type": "code",
   "execution_count": 14,
   "id": "d2067df9",
   "metadata": {},
   "outputs": [
    {
     "data": {
      "text/plain": [
       "['Nível 1 - Setor',\n",
       " 'Nível 2',\n",
       " 'Nível 3',\n",
       " 'Nível 4',\n",
       " 'Nível 5',\n",
       " 'Nível 6',\n",
       " 'Gás',\n",
       " 'Estado',\n",
       " 'Atividade Econômica',\n",
       " 'Produto']"
      ]
     },
     "execution_count": 14,
     "metadata": {},
     "output_type": "execute_result"
    }
   ],
   "source": [
    "# Armazenando\n",
    "colunas_info = list(data.loc[:, 'Nível 1 - Setor':'Produto'].columns)\n",
    "colunas_info"
   ]
  },
  {
   "cell_type": "code",
   "execution_count": 15,
   "id": "5042aaf1",
   "metadata": {},
   "outputs": [
    {
     "data": {
      "text/plain": [
       "Index([1970, 1971, 1972, 1973, 1974, 1975, 1976, 1977, 1978, 1979, 1980, 1981,\n",
       "       1982, 1983, 1984, 1985, 1986, 1987, 1988, 1989, 1990, 1991, 1992, 1993,\n",
       "       1994, 1995, 1996, 1997, 1998, 1999, 2000, 2001, 2002, 2003, 2004, 2005,\n",
       "       2006, 2007, 2008, 2009, 2010, 2011, 2012, 2013, 2014, 2015, 2016, 2017,\n",
       "       2018, 2019, 2020, 2021],\n",
       "      dtype='object')"
      ]
     },
     "execution_count": 15,
     "metadata": {},
     "output_type": "execute_result"
    }
   ],
   "source": [
    "data.loc[:, 1970:2021].columns"
   ]
  },
  {
   "cell_type": "code",
   "execution_count": 16,
   "id": "cd7180f2",
   "metadata": {},
   "outputs": [
    {
     "data": {
      "text/plain": [
       "[1970,\n",
       " 1971,\n",
       " 1972,\n",
       " 1973,\n",
       " 1974,\n",
       " 1975,\n",
       " 1976,\n",
       " 1977,\n",
       " 1978,\n",
       " 1979,\n",
       " 1980,\n",
       " 1981,\n",
       " 1982,\n",
       " 1983,\n",
       " 1984,\n",
       " 1985,\n",
       " 1986,\n",
       " 1987,\n",
       " 1988,\n",
       " 1989,\n",
       " 1990,\n",
       " 1991,\n",
       " 1992,\n",
       " 1993,\n",
       " 1994,\n",
       " 1995,\n",
       " 1996,\n",
       " 1997,\n",
       " 1998,\n",
       " 1999,\n",
       " 2000,\n",
       " 2001,\n",
       " 2002,\n",
       " 2003,\n",
       " 2004,\n",
       " 2005,\n",
       " 2006,\n",
       " 2007,\n",
       " 2008,\n",
       " 2009,\n",
       " 2010,\n",
       " 2011,\n",
       " 2012,\n",
       " 2013,\n",
       " 2014,\n",
       " 2015,\n",
       " 2016,\n",
       " 2017,\n",
       " 2018,\n",
       " 2019,\n",
       " 2020,\n",
       " 2021]"
      ]
     },
     "execution_count": 16,
     "metadata": {},
     "output_type": "execute_result"
    }
   ],
   "source": [
    "colunas_emissao = list(data.loc[:, 1970:2021].columns)\n",
    "colunas_emissao"
   ]
  },
  {
   "cell_type": "markdown",
   "id": "73b93979",
   "metadata": {},
   "source": [
    "Para realizar a transformação do DF, uso o método melt(). Ele tem como objetivo transformar o Data Frame de um formato wide para um formato longo."
   ]
  },
  {
   "cell_type": "code",
   "execution_count": 17,
   "id": "3524b078",
   "metadata": {},
   "outputs": [
    {
     "data": {
      "text/html": [
       "<div>\n",
       "<style scoped>\n",
       "    .dataframe tbody tr th:only-of-type {\n",
       "        vertical-align: middle;\n",
       "    }\n",
       "\n",
       "    .dataframe tbody tr th {\n",
       "        vertical-align: top;\n",
       "    }\n",
       "\n",
       "    .dataframe thead th {\n",
       "        text-align: right;\n",
       "    }\n",
       "</style>\n",
       "<table border=\"1\" class=\"dataframe\">\n",
       "  <thead>\n",
       "    <tr style=\"text-align: right;\">\n",
       "      <th></th>\n",
       "      <th>Nível 1 - Setor</th>\n",
       "      <th>Nível 2</th>\n",
       "      <th>Nível 3</th>\n",
       "      <th>Nível 4</th>\n",
       "      <th>Nível 5</th>\n",
       "      <th>Nível 6</th>\n",
       "      <th>Gás</th>\n",
       "      <th>Estado</th>\n",
       "      <th>Atividade Econômica</th>\n",
       "      <th>Produto</th>\n",
       "      <th>Ano</th>\n",
       "      <th>Emissão</th>\n",
       "    </tr>\n",
       "  </thead>\n",
       "  <tbody>\n",
       "    <tr>\n",
       "      <th>0</th>\n",
       "      <td>Processos Industriais</td>\n",
       "      <td>Indústria Química</td>\n",
       "      <td>Produção de ABS</td>\n",
       "      <td>NaN</td>\n",
       "      <td>NaN</td>\n",
       "      <td>NaN</td>\n",
       "      <td>COVNM (t)</td>\n",
       "      <td>SP</td>\n",
       "      <td>OUTRA_IND</td>\n",
       "      <td>NaN</td>\n",
       "      <td>1970</td>\n",
       "      <td>0.0</td>\n",
       "    </tr>\n",
       "    <tr>\n",
       "      <th>1</th>\n",
       "      <td>Processos Industriais</td>\n",
       "      <td>Indústria Química</td>\n",
       "      <td>Produção de Ácido Adípico</td>\n",
       "      <td>NaN</td>\n",
       "      <td>NaN</td>\n",
       "      <td>NaN</td>\n",
       "      <td>N2O (t)</td>\n",
       "      <td>SP</td>\n",
       "      <td>OUTRA_IND</td>\n",
       "      <td>NaN</td>\n",
       "      <td>1970</td>\n",
       "      <td>6210.0</td>\n",
       "    </tr>\n",
       "    <tr>\n",
       "      <th>2</th>\n",
       "      <td>Processos Industriais</td>\n",
       "      <td>Indústria Química</td>\n",
       "      <td>Produção de Ácido Adípico</td>\n",
       "      <td>NaN</td>\n",
       "      <td>NaN</td>\n",
       "      <td>NaN</td>\n",
       "      <td>CO (t)</td>\n",
       "      <td>SP</td>\n",
       "      <td>OUTRA_IND</td>\n",
       "      <td>NaN</td>\n",
       "      <td>1970</td>\n",
       "      <td>368.0</td>\n",
       "    </tr>\n",
       "    <tr>\n",
       "      <th>3</th>\n",
       "      <td>Processos Industriais</td>\n",
       "      <td>Indústria Química</td>\n",
       "      <td>Produção de Ácido Adípico</td>\n",
       "      <td>NaN</td>\n",
       "      <td>NaN</td>\n",
       "      <td>NaN</td>\n",
       "      <td>NOx (t)</td>\n",
       "      <td>SP</td>\n",
       "      <td>OUTRA_IND</td>\n",
       "      <td>NaN</td>\n",
       "      <td>1970</td>\n",
       "      <td>115.0</td>\n",
       "    </tr>\n",
       "    <tr>\n",
       "      <th>4</th>\n",
       "      <td>Processos Industriais</td>\n",
       "      <td>Indústria Química</td>\n",
       "      <td>Produção de Ácido Adípico</td>\n",
       "      <td>NaN</td>\n",
       "      <td>NaN</td>\n",
       "      <td>NaN</td>\n",
       "      <td>CO2e (t) GWP-AR2</td>\n",
       "      <td>SP</td>\n",
       "      <td>OUTRA_IND</td>\n",
       "      <td>NaN</td>\n",
       "      <td>1970</td>\n",
       "      <td>1925100.0</td>\n",
       "    </tr>\n",
       "    <tr>\n",
       "      <th>...</th>\n",
       "      <td>...</td>\n",
       "      <td>...</td>\n",
       "      <td>...</td>\n",
       "      <td>...</td>\n",
       "      <td>...</td>\n",
       "      <td>...</td>\n",
       "      <td>...</td>\n",
       "      <td>...</td>\n",
       "      <td>...</td>\n",
       "      <td>...</td>\n",
       "      <td>...</td>\n",
       "      <td>...</td>\n",
       "    </tr>\n",
       "    <tr>\n",
       "      <th>4926891</th>\n",
       "      <td>Mudança de Uso da Terra e Floresta</td>\n",
       "      <td>Resíduos Florestais</td>\n",
       "      <td>Pantanal</td>\n",
       "      <td>NaN</td>\n",
       "      <td>Desmatamento</td>\n",
       "      <td>NaN</td>\n",
       "      <td>CO2e (t) GWP-AR5</td>\n",
       "      <td>MS</td>\n",
       "      <td>AGROPEC</td>\n",
       "      <td>NaN</td>\n",
       "      <td>2021</td>\n",
       "      <td>1004191.0</td>\n",
       "    </tr>\n",
       "    <tr>\n",
       "      <th>4926892</th>\n",
       "      <td>Mudança de Uso da Terra e Floresta</td>\n",
       "      <td>Resíduos Florestais</td>\n",
       "      <td>Pantanal</td>\n",
       "      <td>NaN</td>\n",
       "      <td>Desmatamento</td>\n",
       "      <td>NaN</td>\n",
       "      <td>CO2e (t) GWP-AR6</td>\n",
       "      <td>MT</td>\n",
       "      <td>AGROPEC</td>\n",
       "      <td>NaN</td>\n",
       "      <td>2021</td>\n",
       "      <td>443120.0</td>\n",
       "    </tr>\n",
       "    <tr>\n",
       "      <th>4926893</th>\n",
       "      <td>Mudança de Uso da Terra e Floresta</td>\n",
       "      <td>Resíduos Florestais</td>\n",
       "      <td>Pantanal</td>\n",
       "      <td>NaN</td>\n",
       "      <td>Desmatamento</td>\n",
       "      <td>NaN</td>\n",
       "      <td>CO2e (t) GWP-AR6</td>\n",
       "      <td>MS</td>\n",
       "      <td>AGROPEC</td>\n",
       "      <td>NaN</td>\n",
       "      <td>2021</td>\n",
       "      <td>1009968.0</td>\n",
       "    </tr>\n",
       "    <tr>\n",
       "      <th>4926894</th>\n",
       "      <td>Mudança de Uso da Terra e Floresta</td>\n",
       "      <td>Resíduos Florestais</td>\n",
       "      <td>Pantanal</td>\n",
       "      <td>NaN</td>\n",
       "      <td>Desmatamento</td>\n",
       "      <td>NaN</td>\n",
       "      <td>N2O (t)</td>\n",
       "      <td>MT</td>\n",
       "      <td>AGROPEC</td>\n",
       "      <td>NaN</td>\n",
       "      <td>2021</td>\n",
       "      <td>479.0</td>\n",
       "    </tr>\n",
       "    <tr>\n",
       "      <th>4926895</th>\n",
       "      <td>Mudança de Uso da Terra e Floresta</td>\n",
       "      <td>Resíduos Florestais</td>\n",
       "      <td>Pantanal</td>\n",
       "      <td>NaN</td>\n",
       "      <td>Desmatamento</td>\n",
       "      <td>NaN</td>\n",
       "      <td>N2O (t)</td>\n",
       "      <td>MS</td>\n",
       "      <td>AGROPEC</td>\n",
       "      <td>NaN</td>\n",
       "      <td>2021</td>\n",
       "      <td>1047.0</td>\n",
       "    </tr>\n",
       "  </tbody>\n",
       "</table>\n",
       "<p>4926896 rows × 12 columns</p>\n",
       "</div>"
      ],
      "text/plain": [
       "                            Nível 1 - Setor              Nível 2  \\\n",
       "0                     Processos Industriais    Indústria Química   \n",
       "1                     Processos Industriais    Indústria Química   \n",
       "2                     Processos Industriais    Indústria Química   \n",
       "3                     Processos Industriais    Indústria Química   \n",
       "4                     Processos Industriais    Indústria Química   \n",
       "...                                     ...                  ...   \n",
       "4926891  Mudança de Uso da Terra e Floresta  Resíduos Florestais   \n",
       "4926892  Mudança de Uso da Terra e Floresta  Resíduos Florestais   \n",
       "4926893  Mudança de Uso da Terra e Floresta  Resíduos Florestais   \n",
       "4926894  Mudança de Uso da Terra e Floresta  Resíduos Florestais   \n",
       "4926895  Mudança de Uso da Terra e Floresta  Resíduos Florestais   \n",
       "\n",
       "                           Nível 3 Nível 4       Nível 5 Nível 6  \\\n",
       "0                  Produção de ABS     NaN           NaN     NaN   \n",
       "1        Produção de Ácido Adípico     NaN           NaN     NaN   \n",
       "2        Produção de Ácido Adípico     NaN           NaN     NaN   \n",
       "3        Produção de Ácido Adípico     NaN           NaN     NaN   \n",
       "4        Produção de Ácido Adípico     NaN           NaN     NaN   \n",
       "...                            ...     ...           ...     ...   \n",
       "4926891                   Pantanal     NaN  Desmatamento     NaN   \n",
       "4926892                   Pantanal     NaN  Desmatamento     NaN   \n",
       "4926893                   Pantanal     NaN  Desmatamento     NaN   \n",
       "4926894                   Pantanal     NaN  Desmatamento     NaN   \n",
       "4926895                   Pantanal     NaN  Desmatamento     NaN   \n",
       "\n",
       "                      Gás Estado Atividade Econômica Produto   Ano    Emissão  \n",
       "0               COVNM (t)     SP           OUTRA_IND     NaN  1970        0.0  \n",
       "1                 N2O (t)     SP           OUTRA_IND     NaN  1970     6210.0  \n",
       "2                  CO (t)     SP           OUTRA_IND     NaN  1970      368.0  \n",
       "3                 NOx (t)     SP           OUTRA_IND     NaN  1970      115.0  \n",
       "4        CO2e (t) GWP-AR2     SP           OUTRA_IND     NaN  1970  1925100.0  \n",
       "...                   ...    ...                 ...     ...   ...        ...  \n",
       "4926891  CO2e (t) GWP-AR5     MS             AGROPEC     NaN  2021  1004191.0  \n",
       "4926892  CO2e (t) GWP-AR6     MT             AGROPEC     NaN  2021   443120.0  \n",
       "4926893  CO2e (t) GWP-AR6     MS             AGROPEC     NaN  2021  1009968.0  \n",
       "4926894           N2O (t)     MT             AGROPEC     NaN  2021      479.0  \n",
       "4926895           N2O (t)     MS             AGROPEC     NaN  2021     1047.0  \n",
       "\n",
       "[4926896 rows x 12 columns]"
      ]
     },
     "execution_count": 17,
     "metadata": {},
     "output_type": "execute_result"
    }
   ],
   "source": [
    "data.melt(id_vars = colunas_info, value_vars = colunas_emissao, var_name = 'Ano', value_name = 'Emissão')"
   ]
  },
  {
   "cell_type": "markdown",
   "id": "9412ad4e",
   "metadata": {},
   "source": [
    "Como forma mais segura de trabalhar armazenarei esse novo dataframe em outra variável para trabalhar com os dados."
   ]
  },
  {
   "cell_type": "code",
   "execution_count": 18,
   "id": "6432830a",
   "metadata": {},
   "outputs": [],
   "source": [
    "emissoes_por_ano = data.melt(id_vars = colunas_info, value_vars = colunas_emissao, var_name = 'Ano', value_name = 'Emissão')"
   ]
  },
  {
   "cell_type": "code",
   "execution_count": 19,
   "id": "2c5bd8f1",
   "metadata": {},
   "outputs": [
    {
     "data": {
      "text/html": [
       "<div>\n",
       "<style scoped>\n",
       "    .dataframe tbody tr th:only-of-type {\n",
       "        vertical-align: middle;\n",
       "    }\n",
       "\n",
       "    .dataframe tbody tr th {\n",
       "        vertical-align: top;\n",
       "    }\n",
       "\n",
       "    .dataframe thead th {\n",
       "        text-align: right;\n",
       "    }\n",
       "</style>\n",
       "<table border=\"1\" class=\"dataframe\">\n",
       "  <thead>\n",
       "    <tr style=\"text-align: right;\">\n",
       "      <th></th>\n",
       "      <th>Nível 1 - Setor</th>\n",
       "      <th>Nível 2</th>\n",
       "      <th>Nível 3</th>\n",
       "      <th>Nível 4</th>\n",
       "      <th>Nível 5</th>\n",
       "      <th>Nível 6</th>\n",
       "      <th>Gás</th>\n",
       "      <th>Estado</th>\n",
       "      <th>Atividade Econômica</th>\n",
       "      <th>Produto</th>\n",
       "      <th>Ano</th>\n",
       "      <th>Emissão</th>\n",
       "    </tr>\n",
       "  </thead>\n",
       "  <tbody>\n",
       "    <tr>\n",
       "      <th>0</th>\n",
       "      <td>Processos Industriais</td>\n",
       "      <td>Indústria Química</td>\n",
       "      <td>Produção de ABS</td>\n",
       "      <td>NaN</td>\n",
       "      <td>NaN</td>\n",
       "      <td>NaN</td>\n",
       "      <td>COVNM (t)</td>\n",
       "      <td>SP</td>\n",
       "      <td>OUTRA_IND</td>\n",
       "      <td>NaN</td>\n",
       "      <td>1970</td>\n",
       "      <td>0.0</td>\n",
       "    </tr>\n",
       "    <tr>\n",
       "      <th>1</th>\n",
       "      <td>Processos Industriais</td>\n",
       "      <td>Indústria Química</td>\n",
       "      <td>Produção de Ácido Adípico</td>\n",
       "      <td>NaN</td>\n",
       "      <td>NaN</td>\n",
       "      <td>NaN</td>\n",
       "      <td>N2O (t)</td>\n",
       "      <td>SP</td>\n",
       "      <td>OUTRA_IND</td>\n",
       "      <td>NaN</td>\n",
       "      <td>1970</td>\n",
       "      <td>6210.0</td>\n",
       "    </tr>\n",
       "    <tr>\n",
       "      <th>2</th>\n",
       "      <td>Processos Industriais</td>\n",
       "      <td>Indústria Química</td>\n",
       "      <td>Produção de Ácido Adípico</td>\n",
       "      <td>NaN</td>\n",
       "      <td>NaN</td>\n",
       "      <td>NaN</td>\n",
       "      <td>CO (t)</td>\n",
       "      <td>SP</td>\n",
       "      <td>OUTRA_IND</td>\n",
       "      <td>NaN</td>\n",
       "      <td>1970</td>\n",
       "      <td>368.0</td>\n",
       "    </tr>\n",
       "    <tr>\n",
       "      <th>3</th>\n",
       "      <td>Processos Industriais</td>\n",
       "      <td>Indústria Química</td>\n",
       "      <td>Produção de Ácido Adípico</td>\n",
       "      <td>NaN</td>\n",
       "      <td>NaN</td>\n",
       "      <td>NaN</td>\n",
       "      <td>NOx (t)</td>\n",
       "      <td>SP</td>\n",
       "      <td>OUTRA_IND</td>\n",
       "      <td>NaN</td>\n",
       "      <td>1970</td>\n",
       "      <td>115.0</td>\n",
       "    </tr>\n",
       "    <tr>\n",
       "      <th>4</th>\n",
       "      <td>Processos Industriais</td>\n",
       "      <td>Indústria Química</td>\n",
       "      <td>Produção de Ácido Adípico</td>\n",
       "      <td>NaN</td>\n",
       "      <td>NaN</td>\n",
       "      <td>NaN</td>\n",
       "      <td>CO2e (t) GWP-AR2</td>\n",
       "      <td>SP</td>\n",
       "      <td>OUTRA_IND</td>\n",
       "      <td>NaN</td>\n",
       "      <td>1970</td>\n",
       "      <td>1925100.0</td>\n",
       "    </tr>\n",
       "    <tr>\n",
       "      <th>...</th>\n",
       "      <td>...</td>\n",
       "      <td>...</td>\n",
       "      <td>...</td>\n",
       "      <td>...</td>\n",
       "      <td>...</td>\n",
       "      <td>...</td>\n",
       "      <td>...</td>\n",
       "      <td>...</td>\n",
       "      <td>...</td>\n",
       "      <td>...</td>\n",
       "      <td>...</td>\n",
       "      <td>...</td>\n",
       "    </tr>\n",
       "    <tr>\n",
       "      <th>4926891</th>\n",
       "      <td>Mudança de Uso da Terra e Floresta</td>\n",
       "      <td>Resíduos Florestais</td>\n",
       "      <td>Pantanal</td>\n",
       "      <td>NaN</td>\n",
       "      <td>Desmatamento</td>\n",
       "      <td>NaN</td>\n",
       "      <td>CO2e (t) GWP-AR5</td>\n",
       "      <td>MS</td>\n",
       "      <td>AGROPEC</td>\n",
       "      <td>NaN</td>\n",
       "      <td>2021</td>\n",
       "      <td>1004191.0</td>\n",
       "    </tr>\n",
       "    <tr>\n",
       "      <th>4926892</th>\n",
       "      <td>Mudança de Uso da Terra e Floresta</td>\n",
       "      <td>Resíduos Florestais</td>\n",
       "      <td>Pantanal</td>\n",
       "      <td>NaN</td>\n",
       "      <td>Desmatamento</td>\n",
       "      <td>NaN</td>\n",
       "      <td>CO2e (t) GWP-AR6</td>\n",
       "      <td>MT</td>\n",
       "      <td>AGROPEC</td>\n",
       "      <td>NaN</td>\n",
       "      <td>2021</td>\n",
       "      <td>443120.0</td>\n",
       "    </tr>\n",
       "    <tr>\n",
       "      <th>4926893</th>\n",
       "      <td>Mudança de Uso da Terra e Floresta</td>\n",
       "      <td>Resíduos Florestais</td>\n",
       "      <td>Pantanal</td>\n",
       "      <td>NaN</td>\n",
       "      <td>Desmatamento</td>\n",
       "      <td>NaN</td>\n",
       "      <td>CO2e (t) GWP-AR6</td>\n",
       "      <td>MS</td>\n",
       "      <td>AGROPEC</td>\n",
       "      <td>NaN</td>\n",
       "      <td>2021</td>\n",
       "      <td>1009968.0</td>\n",
       "    </tr>\n",
       "    <tr>\n",
       "      <th>4926894</th>\n",
       "      <td>Mudança de Uso da Terra e Floresta</td>\n",
       "      <td>Resíduos Florestais</td>\n",
       "      <td>Pantanal</td>\n",
       "      <td>NaN</td>\n",
       "      <td>Desmatamento</td>\n",
       "      <td>NaN</td>\n",
       "      <td>N2O (t)</td>\n",
       "      <td>MT</td>\n",
       "      <td>AGROPEC</td>\n",
       "      <td>NaN</td>\n",
       "      <td>2021</td>\n",
       "      <td>479.0</td>\n",
       "    </tr>\n",
       "    <tr>\n",
       "      <th>4926895</th>\n",
       "      <td>Mudança de Uso da Terra e Floresta</td>\n",
       "      <td>Resíduos Florestais</td>\n",
       "      <td>Pantanal</td>\n",
       "      <td>NaN</td>\n",
       "      <td>Desmatamento</td>\n",
       "      <td>NaN</td>\n",
       "      <td>N2O (t)</td>\n",
       "      <td>MS</td>\n",
       "      <td>AGROPEC</td>\n",
       "      <td>NaN</td>\n",
       "      <td>2021</td>\n",
       "      <td>1047.0</td>\n",
       "    </tr>\n",
       "  </tbody>\n",
       "</table>\n",
       "<p>4926896 rows × 12 columns</p>\n",
       "</div>"
      ],
      "text/plain": [
       "                            Nível 1 - Setor              Nível 2  \\\n",
       "0                     Processos Industriais    Indústria Química   \n",
       "1                     Processos Industriais    Indústria Química   \n",
       "2                     Processos Industriais    Indústria Química   \n",
       "3                     Processos Industriais    Indústria Química   \n",
       "4                     Processos Industriais    Indústria Química   \n",
       "...                                     ...                  ...   \n",
       "4926891  Mudança de Uso da Terra e Floresta  Resíduos Florestais   \n",
       "4926892  Mudança de Uso da Terra e Floresta  Resíduos Florestais   \n",
       "4926893  Mudança de Uso da Terra e Floresta  Resíduos Florestais   \n",
       "4926894  Mudança de Uso da Terra e Floresta  Resíduos Florestais   \n",
       "4926895  Mudança de Uso da Terra e Floresta  Resíduos Florestais   \n",
       "\n",
       "                           Nível 3 Nível 4       Nível 5 Nível 6  \\\n",
       "0                  Produção de ABS     NaN           NaN     NaN   \n",
       "1        Produção de Ácido Adípico     NaN           NaN     NaN   \n",
       "2        Produção de Ácido Adípico     NaN           NaN     NaN   \n",
       "3        Produção de Ácido Adípico     NaN           NaN     NaN   \n",
       "4        Produção de Ácido Adípico     NaN           NaN     NaN   \n",
       "...                            ...     ...           ...     ...   \n",
       "4926891                   Pantanal     NaN  Desmatamento     NaN   \n",
       "4926892                   Pantanal     NaN  Desmatamento     NaN   \n",
       "4926893                   Pantanal     NaN  Desmatamento     NaN   \n",
       "4926894                   Pantanal     NaN  Desmatamento     NaN   \n",
       "4926895                   Pantanal     NaN  Desmatamento     NaN   \n",
       "\n",
       "                      Gás Estado Atividade Econômica Produto   Ano    Emissão  \n",
       "0               COVNM (t)     SP           OUTRA_IND     NaN  1970        0.0  \n",
       "1                 N2O (t)     SP           OUTRA_IND     NaN  1970     6210.0  \n",
       "2                  CO (t)     SP           OUTRA_IND     NaN  1970      368.0  \n",
       "3                 NOx (t)     SP           OUTRA_IND     NaN  1970      115.0  \n",
       "4        CO2e (t) GWP-AR2     SP           OUTRA_IND     NaN  1970  1925100.0  \n",
       "...                   ...    ...                 ...     ...   ...        ...  \n",
       "4926891  CO2e (t) GWP-AR5     MS             AGROPEC     NaN  2021  1004191.0  \n",
       "4926892  CO2e (t) GWP-AR6     MT             AGROPEC     NaN  2021   443120.0  \n",
       "4926893  CO2e (t) GWP-AR6     MS             AGROPEC     NaN  2021  1009968.0  \n",
       "4926894           N2O (t)     MT             AGROPEC     NaN  2021      479.0  \n",
       "4926895           N2O (t)     MS             AGROPEC     NaN  2021     1047.0  \n",
       "\n",
       "[4926896 rows x 12 columns]"
      ]
     },
     "execution_count": 19,
     "metadata": {},
     "output_type": "execute_result"
    }
   ],
   "source": [
    "emissoes_por_ano"
   ]
  },
  {
   "cell_type": "markdown",
   "id": "239a1684",
   "metadata": {},
   "source": [
    "**Analisando os gases**\n",
    "\n",
    "Análise para ver a quantidade de emissão total por cada tipo de gás. Como o DF virou um DF *normalizado*, ou longo, as informações de gás estão repetidas e para realiar essa análise usarei a função groupby() do pandas."
   ]
  },
  {
   "cell_type": "code",
   "execution_count": 20,
   "id": "efd2d1d9",
   "metadata": {},
   "outputs": [
    {
     "data": {
      "text/plain": [
       "<pandas.core.groupby.generic.DataFrameGroupBy object at 0x0000021C44245160>"
      ]
     },
     "execution_count": 20,
     "metadata": {},
     "output_type": "execute_result"
    }
   ],
   "source": [
    "emissoes_por_ano.groupby('Gás') # Criando agrupamento"
   ]
  },
  {
   "cell_type": "code",
   "execution_count": 21,
   "id": "f67ad107",
   "metadata": {},
   "outputs": [
    {
     "data": {
      "text/plain": [
       "{'C2F6 (t)': [410, 411, 412, 425, 426, 427, 95158, 95159, 95160, 95173, 95174, 95175, 189906, 189907, 189908, 189921, 189922, 189923, 284654, 284655, 284656, 284669, 284670, 284671, 379402, 379403, 379404, 379417, 379418, 379419, 474150, 474151, 474152, 474165, 474166, 474167, 568898, 568899, 568900, 568913, 568914, 568915, 663646, 663647, 663648, 663661, 663662, 663663, 758394, 758395, 758396, 758409, 758410, 758411, 853142, 853143, 853144, 853157, 853158, 853159, 947890, 947891, 947892, 947905, 947906, 947907, 1042638, 1042639, 1042640, 1042653, 1042654, 1042655, 1137386, 1137387, 1137388, 1137401, 1137402, 1137403, 1232134, 1232135, 1232136, 1232149, 1232150, 1232151, 1326882, 1326883, 1326884, 1326897, 1326898, 1326899, 1421630, 1421631, 1421632, 1421645, 1421646, 1421647, 1516378, 1516379, 1516380, 1516393, ...], 'CF4 (t)': [407, 408, 409, 422, 423, 424, 95155, 95156, 95157, 95170, 95171, 95172, 189903, 189904, 189905, 189918, 189919, 189920, 284651, 284652, 284653, 284666, 284667, 284668, 379399, 379400, 379401, 379414, 379415, 379416, 474147, 474148, 474149, 474162, 474163, 474164, 568895, 568896, 568897, 568910, 568911, 568912, 663643, 663644, 663645, 663658, 663659, 663660, 758391, 758392, 758393, 758406, 758407, 758408, 853139, 853140, 853141, 853154, 853155, 853156, 947887, 947888, 947889, 947902, 947903, 947904, 1042635, 1042636, 1042637, 1042650, 1042651, 1042652, 1137383, 1137384, 1137385, 1137398, 1137399, 1137400, 1232131, 1232132, 1232133, 1232146, 1232147, 1232148, 1326879, 1326880, 1326881, 1326894, 1326895, 1326896, 1421627, 1421628, 1421629, 1421642, 1421643, 1421644, 1516375, 1516376, 1516377, 1516390, ...], 'CH4 (t)': [19, 50, 57, 64, 67, 71, 76, 203, 204, 205, 206, 207, 208, 209, 210, 211, 212, 213, 214, 215, 216, 217, 218, 219, 220, 320, 321, 322, 323, 324, 325, 326, 327, 328, 329, 330, 331, 332, 333, 447, 448, 449, 450, 1137, 1138, 1139, 1140, 1141, 1142, 1143, 1144, 1145, 1146, 1147, 1148, 1149, 1150, 1151, 1152, 1153, 1154, 1155, 1156, 1157, 1158, 1159, 1160, 1161, 1162, 1163, 1380, 1381, 1382, 1383, 1384, 1385, 1386, 1387, 1388, 1389, 1390, 1391, 1392, 1393, 1394, 1395, 1396, 1397, 1398, 1399, 1400, 1401, 1402, 1403, 1404, 1405, 1406, 1623, 1624, 1625, ...], 'CO (t)': [2, 185, 186, 187, 188, 189, 190, 191, 192, 193, 194, 195, 196, 197, 198, 199, 200, 201, 202, 306, 307, 308, 309, 310, 311, 312, 313, 314, 315, 316, 317, 318, 319, 443, 444, 445, 446, 7104, 7105, 7106, 7107, 7108, 7109, 7110, 7111, 7112, 7113, 7114, 7115, 7116, 7117, 7118, 7119, 7120, 7121, 7122, 7123, 7124, 7125, 7126, 7127, 7128, 7129, 7130, 7428, 7429, 7430, 7431, 7432, 7433, 7434, 7435, 7436, 7437, 7438, 7439, 7440, 7441, 7442, 7443, 7444, 7445, 7446, 7447, 7448, 7449, 7450, 7451, 7452, 7453, 7454, 23277, 23290, 23303, 23316, 23329, 23342, 23355, 23368, 23381, ...], 'CO2 (t)': [18, 23, 26, 29, 32, 35, 38, 46, 49, 56, 63, 70, 75, 86, 89, 90, 91, 92, 93, 94, 95, 96, 97, 98, 99, 100, 101, 102, 103, 104, 105, 106, 107, 108, 109, 110, 111, 112, 113, 164, 165, 170, 173, 174, 179, 180, 181, 182, 183, 184, 297, 298, 299, 300, 301, 302, 303, 304, 305, 404, 405, 406, 419, 420, 421, 434, 440, 441, 442, 482, 489, 490, 491, 492, 501, 502, 503, 504, 513, 514, 515, 516, 11856, 11857, 11858, 11859, 11860, 11861, 11862, 11863, 11864, 11865, 11866, 11867, 11868, 11869, 11870, 11871, 11872, 11873, ...], 'CO2e (t) GTP-AR2': [5, 9, 13, 17, 22, 25, 28, 31, 34, 37, 40, 45, 48, 53, 60, 66, 69, 74, 78, 88, 139, 140, 141, 142, 143, 144, 145, 146, 147, 148, 149, 150, 151, 152, 153, 154, 155, 156, 157, 158, 159, 160, 161, 162, 163, 168, 169, 172, 177, 178, 286, 287, 288, 289, 290, 291, 292, 293, 294, 295, 296, 390, 391, 392, 393, 394, 395, 396, 397, 398, 399, 400, 401, 402, 403, 416, 417, 418, 431, 432, 433, 436, 439, 467, 468, 469, 470, 478, 481, 484, 497, 498, 499, 500, 509, 510, 511, 512, 521, 522, ...], 'CO2e (t) GTP-AR4': [526, 528, 530, 532, 534, 536, 538, 540, 542, 544, 546, 548, 550, 552, 554, 556, 558, 560, 562, 564, 590, 591, 592, 593, 594, 595, 596, 597, 598, 599, 600, 601, 602, 603, 604, 605, 606, 607, 608, 609, 610, 611, 612, 613, 614, 617, 618, 620, 623, 624, 636, 637, 638, 639, 640, 641, 642, 643, 644, 645, 646, 661, 662, 663, 664, 665, 666, 667, 668, 669, 670, 671, 672, 673, 674, 678, 679, 680, 684, 685, 686, 688, 690, 695, 696, 697, 698, 700, 702, 704, 709, 710, 711, 712, 717, 718, 719, 720, 725, 726, ...], 'CO2e (t) GTP-AR5': [730, 732, 734, 736, 738, 740, 742, 744, 746, 748, 750, 752, 754, 756, 758, 760, 762, 764, 766, 768, 794, 795, 796, 797, 798, 799, 800, 801, 802, 803, 804, 805, 806, 807, 808, 809, 810, 811, 812, 813, 814, 815, 816, 817, 818, 821, 822, 824, 827, 828, 840, 841, 842, 843, 844, 845, 846, 847, 848, 849, 850, 865, 866, 867, 868, 869, 870, 871, 872, 873, 874, 875, 876, 877, 878, 882, 883, 884, 888, 889, 890, 892, 894, 899, 900, 901, 902, 904, 906, 908, 913, 914, 915, 916, 921, 922, 923, 924, 929, 930, ...], 'CO2e (t) GTP-AR6': [934, 936, 938, 940, 942, 944, 946, 948, 950, 952, 954, 956, 958, 960, 962, 964, 966, 968, 970, 972, 998, 999, 1000, 1001, 1002, 1003, 1004, 1005, 1006, 1007, 1008, 1009, 1010, 1011, 1012, 1013, 1014, 1015, 1016, 1017, 1018, 1019, 1020, 1021, 1022, 1025, 1026, 1028, 1031, 1032, 1044, 1045, 1046, 1047, 1048, 1049, 1050, 1051, 1052, 1053, 1054, 1069, 1070, 1071, 1072, 1073, 1074, 1075, 1076, 1077, 1078, 1079, 1080, 1081, 1082, 1086, 1087, 1088, 1092, 1093, 1094, 1096, 1098, 1103, 1104, 1105, 1106, 1108, 1110, 1112, 1117, 1118, 1119, 1120, 1125, 1126, 1127, 1128, 1133, 1134, ...], 'CO2e (t) GWP-AR2': [4, 8, 12, 16, 21, 24, 27, 30, 33, 36, 39, 44, 47, 52, 59, 65, 68, 73, 77, 87, 114, 115, 116, 117, 118, 119, 120, 121, 122, 123, 124, 125, 126, 127, 128, 129, 130, 131, 132, 133, 134, 135, 136, 137, 138, 166, 167, 171, 175, 176, 275, 276, 277, 278, 279, 280, 281, 282, 283, 284, 285, 376, 377, 378, 379, 380, 381, 382, 383, 384, 385, 386, 387, 388, 389, 413, 414, 415, 428, 429, 430, 435, 438, 463, 464, 465, 466, 477, 480, 483, 493, 494, 495, 496, 505, 506, 507, 508, 517, 518, ...], 'CO2e (t) GWP-AR4': [525, 527, 529, 531, 533, 535, 537, 539, 541, 543, 545, 547, 549, 551, 553, 555, 557, 559, 561, 563, 565, 566, 567, 568, 569, 570, 571, 572, 573, 574, 575, 576, 577, 578, 579, 580, 581, 582, 583, 584, 585, 586, 587, 588, 589, 615, 616, 619, 621, 622, 625, 626, 627, 628, 629, 630, 631, 632, 633, 634, 635, 647, 648, 649, 650, 651, 652, 653, 654, 655, 656, 657, 658, 659, 660, 675, 676, 677, 681, 682, 683, 687, 689, 691, 692, 693, 694, 699, 701, 703, 705, 706, 707, 708, 713, 714, 715, 716, 721, 722, ...], 'CO2e (t) GWP-AR5': [729, 731, 733, 735, 737, 739, 741, 743, 745, 747, 749, 751, 753, 755, 757, 759, 761, 763, 765, 767, 769, 770, 771, 772, 773, 774, 775, 776, 777, 778, 779, 780, 781, 782, 783, 784, 785, 786, 787, 788, 789, 790, 791, 792, 793, 819, 820, 823, 825, 826, 829, 830, 831, 832, 833, 834, 835, 836, 837, 838, 839, 851, 852, 853, 854, 855, 856, 857, 858, 859, 860, 861, 862, 863, 864, 879, 880, 881, 885, 886, 887, 891, 893, 895, 896, 897, 898, 903, 905, 907, 909, 910, 911, 912, 917, 918, 919, 920, 925, 926, ...], 'CO2e (t) GWP-AR6': [933, 935, 937, 939, 941, 943, 945, 947, 949, 951, 953, 955, 957, 959, 961, 963, 965, 967, 969, 971, 973, 974, 975, 976, 977, 978, 979, 980, 981, 982, 983, 984, 985, 986, 987, 988, 989, 990, 991, 992, 993, 994, 995, 996, 997, 1023, 1024, 1027, 1029, 1030, 1033, 1034, 1035, 1036, 1037, 1038, 1039, 1040, 1041, 1042, 1043, 1055, 1056, 1057, 1058, 1059, 1060, 1061, 1062, 1063, 1064, 1065, 1066, 1067, 1068, 1083, 1084, 1085, 1089, 1090, 1091, 1095, 1097, 1099, 1100, 1101, 1102, 1107, 1109, 1111, 1113, 1114, 1115, 1116, 1121, 1122, 1123, 1124, 1129, 1130, ...], 'COVNM (t)': [0, 20, 41, 42, 51, 54, 55, 58, 61, 62, 79, 80, 81, 82, 83, 84, 85, 257, 258, 259, 260, 261, 262, 263, 264, 265, 266, 267, 268, 269, 270, 271, 272, 273, 274, 362, 363, 364, 365, 366, 367, 368, 369, 370, 371, 372, 373, 374, 375, 459, 460, 461, 462, 485, 486, 487, 488, 23281, 23294, 23307, 23320, 23333, 23346, 23359, 23372, 23385, 23398, 23411, 23424, 23437, 23450, 23463, 23476, 23489, 23502, 23515, 23528, 23541, 23554, 23567, 23580, 23593, 23606, 23619, 23632, 23645, 23658, 23671, 23684, 23697, 23710, 23723, 23736, 23749, 23762, 23775, 23788, 23801, 23814, 23827, ...], 'HFC-125 (t)': [474, 95222, 189970, 284718, 379466, 474214, 568962, 663710, 758458, 853206, 947954, 1042702, 1137450, 1232198, 1326946, 1421694, 1516442, 1611190, 1705938, 1800686, 1895434, 1990182, 2084930, 2179678, 2274426, 2369174, 2463922, 2558670, 2653418, 2748166, 2842914, 2937662, 3032410, 3127158, 3221906, 3316654, 3411402, 3506150, 3600898, 3695646, 3790394, 3885142, 3979890, 4074638, 4169386, 4264134, 4358882, 4453630, 4548378, 4643126, 4737874, 4832622], 'HFC-134a (t)': [473, 95221, 189969, 284717, 379465, 474213, 568961, 663709, 758457, 853205, 947953, 1042701, 1137449, 1232197, 1326945, 1421693, 1516441, 1611189, 1705937, 1800685, 1895433, 1990181, 2084929, 2179677, 2274425, 2369173, 2463921, 2558669, 2653417, 2748165, 2842913, 2937661, 3032409, 3127157, 3221905, 3316653, 3411401, 3506149, 3600897, 3695645, 3790393, 3885141, 3979889, 4074637, 4169385, 4264133, 4358881, 4453629, 4548377, 4643125, 4737873, 4832621], 'HFC-143a (t)': [475, 95223, 189971, 284719, 379467, 474215, 568963, 663711, 758459, 853207, 947955, 1042703, 1137451, 1232199, 1326947, 1421695, 1516443, 1611191, 1705939, 1800687, 1895435, 1990183, 2084931, 2179679, 2274427, 2369175, 2463923, 2558671, 2653419, 2748167, 2842915, 2937663, 3032411, 3127159, 3221907, 3316655, 3411403, 3506151, 3600899, 3695647, 3790395, 3885143, 3979891, 4074639, 4169387, 4264135, 4358883, 4453631, 4548379, 4643127, 4737875, 4832623], 'HFC-152a (t)': [476, 95224, 189972, 284720, 379468, 474216, 568964, 663712, 758460, 853208, 947956, 1042704, 1137452, 1232200, 1326948, 1421696, 1516444, 1611192, 1705940, 1800688, 1895436, 1990184, 2084932, 2179680, 2274428, 2369176, 2463924, 2558672, 2653420, 2748168, 2842916, 2937664, 3032412, 3127160, 3221908, 3316656, 3411404, 3506152, 3600900, 3695648, 3790396, 3885144, 3979892, 4074640, 4169388, 4264136, 4358884, 4453632, 4548380, 4643128, 4737876, 4832624], 'HFC-23 (t)': [471, 95219, 189967, 284715, 379463, 474211, 568959, 663707, 758455, 853203, 947951, 1042699, 1137447, 1232195, 1326943, 1421691, 1516439, 1611187, 1705935, 1800683, 1895431, 1990179, 2084927, 2179675, 2274423, 2369171, 2463919, 2558667, 2653415, 2748163, 2842911, 2937659, 3032407, 3127155, 3221903, 3316651, 3411399, 3506147, 3600895, 3695643, 3790391, 3885139, 3979887, 4074635, 4169383, 4264131, 4358879, 4453627, 4548375, 4643123, 4737871, 4832619], 'HFC-32 (t)': [472, 95220, 189968, 284716, 379464, 474212, 568960, 663708, 758456, 853204, 947952, 1042700, 1137448, 1232196, 1326944, 1421692, 1516440, 1611188, 1705936, 1800684, 1895432, 1990180, 2084928, 2179676, 2274424, 2369172, 2463920, 2558668, 2653416, 2748164, 2842912, 2937660, 3032408, 3127156, 3221904, 3316652, 3411400, 3506148, 3600896, 3695644, 3790392, 3885140, 3979888, 4074636, 4169384, 4264132, 4358880, 4453628, 4548376, 4643124, 4737872, 4832620], 'N2O (t)': [1, 6, 10, 14, 43, 239, 240, 241, 242, 243, 244, 245, 246, 247, 248, 249, 250, 251, 252, 253, 254, 255, 256, 348, 349, 350, 351, 352, 353, 354, 355, 356, 357, 358, 359, 360, 361, 455, 456, 457, 458, 4053, 4054, 4055, 4056, 4057, 4058, 4059, 4060, 4061, 4062, 4063, 4064, 4065, 4066, 4067, 4068, 4069, 4070, 4071, 4072, 4073, 4074, 4075, 4076, 4077, 4078, 4079, 5052, 5053, 5054, 5055, 5056, 5057, 5058, 5059, 5060, 5061, 5062, 5063, 5064, 5065, 5066, 5067, 5068, 5069, 5070, 5071, 5072, 5073, 5074, 5075, 5076, 5077, 5078, 5322, 5323, 5324, 5325, 5326, ...], 'NOx (t)': [3, 7, 11, 15, 72, 221, 222, 223, 224, 225, 226, 227, 228, 229, 230, 231, 232, 233, 234, 235, 236, 237, 238, 334, 335, 336, 337, 338, 339, 340, 341, 342, 343, 344, 345, 346, 347, 451, 452, 453, 454, 7374, 7375, 7376, 7377, 7378, 7379, 7380, 7381, 7382, 7383, 7384, 7385, 7386, 7387, 7388, 7389, 7390, 7391, 7392, 7393, 7394, 7395, 7396, 7397, 7398, 7399, 7400, 7698, 7699, 7700, 7701, 7702, 7703, 7704, 7705, 7706, 7707, 7708, 7709, 7710, 7711, 7712, 7713, 7714, 7715, 7716, 7717, 7718, 7719, 7720, 7721, 7722, 7723, 7724, 23279, 23292, 23305, 23318, 23331, ...], 'SF6 (t)': [437, 479, 95185, 95227, 189933, 189975, 284681, 284723, 379429, 379471, 474177, 474219, 568925, 568967, 663673, 663715, 758421, 758463, 853169, 853211, 947917, 947959, 1042665, 1042707, 1137413, 1137455, 1232161, 1232203, 1326909, 1326951, 1421657, 1421699, 1516405, 1516447, 1611153, 1611195, 1705901, 1705943, 1800649, 1800691, 1895397, 1895439, 1990145, 1990187, 2084893, 2084935, 2179641, 2179683, 2274389, 2274431, 2369137, 2369179, 2463885, 2463927, 2558633, 2558675, 2653381, 2653423, 2748129, 2748171, 2842877, 2842919, 2937625, 2937667, 3032373, 3032415, 3127121, 3127163, 3221869, 3221911, 3316617, 3316659, 3411365, 3411407, 3506113, 3506155, 3600861, 3600903, 3695609, 3695651, 3790357, 3790399, 3885105, 3885147, 3979853, 3979895, 4074601, 4074643, 4169349, 4169391, 4264097, 4264139, 4358845, 4358887, 4453593, 4453635, 4548341, 4548383, 4643089, 4643131, ...]}"
      ]
     },
     "execution_count": 21,
     "metadata": {},
     "output_type": "execute_result"
    }
   ],
   "source": [
    "emissoes_por_ano.groupby('Gás').groups  # Obtendo as informações do agrupamento - retorna um dicionário com cada gás e a localização dos seus dados"
   ]
  },
  {
   "cell_type": "code",
   "execution_count": 22,
   "id": "087a27e9",
   "metadata": {},
   "outputs": [
    {
     "data": {
      "text/html": [
       "<div>\n",
       "<style scoped>\n",
       "    .dataframe tbody tr th:only-of-type {\n",
       "        vertical-align: middle;\n",
       "    }\n",
       "\n",
       "    .dataframe tbody tr th {\n",
       "        vertical-align: top;\n",
       "    }\n",
       "\n",
       "    .dataframe thead th {\n",
       "        text-align: right;\n",
       "    }\n",
       "</style>\n",
       "<table border=\"1\" class=\"dataframe\">\n",
       "  <thead>\n",
       "    <tr style=\"text-align: right;\">\n",
       "      <th></th>\n",
       "      <th>Nível 1 - Setor</th>\n",
       "      <th>Nível 2</th>\n",
       "      <th>Nível 3</th>\n",
       "      <th>Nível 4</th>\n",
       "      <th>Nível 5</th>\n",
       "      <th>Nível 6</th>\n",
       "      <th>Gás</th>\n",
       "      <th>Estado</th>\n",
       "      <th>Atividade Econômica</th>\n",
       "      <th>Produto</th>\n",
       "      <th>Ano</th>\n",
       "      <th>Emissão</th>\n",
       "    </tr>\n",
       "  </thead>\n",
       "  <tbody>\n",
       "    <tr>\n",
       "      <th>18</th>\n",
       "      <td>Processos Industriais</td>\n",
       "      <td>Indústria Química</td>\n",
       "      <td>Produção de Acrilonitrila</td>\n",
       "      <td>NaN</td>\n",
       "      <td>NaN</td>\n",
       "      <td>NaN</td>\n",
       "      <td>CO2 (t)</td>\n",
       "      <td>BA</td>\n",
       "      <td>OUTRA_IND</td>\n",
       "      <td>NaN</td>\n",
       "      <td>1970</td>\n",
       "      <td>0.000000</td>\n",
       "    </tr>\n",
       "    <tr>\n",
       "      <th>23</th>\n",
       "      <td>Processos Industriais</td>\n",
       "      <td>Indústria Química</td>\n",
       "      <td>Produção de Amônia</td>\n",
       "      <td>NaN</td>\n",
       "      <td>NaN</td>\n",
       "      <td>NaN</td>\n",
       "      <td>CO2 (t)</td>\n",
       "      <td>RJ</td>\n",
       "      <td>OUTRA_IND</td>\n",
       "      <td>NaN</td>\n",
       "      <td>1970</td>\n",
       "      <td>0.000000</td>\n",
       "    </tr>\n",
       "    <tr>\n",
       "      <th>26</th>\n",
       "      <td>Processos Industriais</td>\n",
       "      <td>Indústria Química</td>\n",
       "      <td>Produção de Amônia</td>\n",
       "      <td>NaN</td>\n",
       "      <td>NaN</td>\n",
       "      <td>NaN</td>\n",
       "      <td>CO2 (t)</td>\n",
       "      <td>MG</td>\n",
       "      <td>OUTRA_IND</td>\n",
       "      <td>NaN</td>\n",
       "      <td>1970</td>\n",
       "      <td>0.000000</td>\n",
       "    </tr>\n",
       "    <tr>\n",
       "      <th>29</th>\n",
       "      <td>Processos Industriais</td>\n",
       "      <td>Indústria Química</td>\n",
       "      <td>Produção de Amônia</td>\n",
       "      <td>NaN</td>\n",
       "      <td>NaN</td>\n",
       "      <td>NaN</td>\n",
       "      <td>CO2 (t)</td>\n",
       "      <td>BA</td>\n",
       "      <td>OUTRA_IND</td>\n",
       "      <td>NaN</td>\n",
       "      <td>1970</td>\n",
       "      <td>10742.465792</td>\n",
       "    </tr>\n",
       "    <tr>\n",
       "      <th>32</th>\n",
       "      <td>Processos Industriais</td>\n",
       "      <td>Indústria Química</td>\n",
       "      <td>Produção de Amônia</td>\n",
       "      <td>NaN</td>\n",
       "      <td>NaN</td>\n",
       "      <td>NaN</td>\n",
       "      <td>CO2 (t)</td>\n",
       "      <td>SE</td>\n",
       "      <td>OUTRA_IND</td>\n",
       "      <td>NaN</td>\n",
       "      <td>1970</td>\n",
       "      <td>0.000000</td>\n",
       "    </tr>\n",
       "    <tr>\n",
       "      <th>...</th>\n",
       "      <td>...</td>\n",
       "      <td>...</td>\n",
       "      <td>...</td>\n",
       "      <td>...</td>\n",
       "      <td>...</td>\n",
       "      <td>...</td>\n",
       "      <td>...</td>\n",
       "      <td>...</td>\n",
       "      <td>...</td>\n",
       "      <td>...</td>\n",
       "      <td>...</td>\n",
       "      <td>...</td>\n",
       "    </tr>\n",
       "    <tr>\n",
       "      <th>4926255</th>\n",
       "      <td>Mudança de Uso da Terra e Floresta</td>\n",
       "      <td>Alterações de Uso da Terra</td>\n",
       "      <td>Pantanal</td>\n",
       "      <td>em Área Protegida</td>\n",
       "      <td>Outras Mudanças de uso da terra</td>\n",
       "      <td>Uso agropecuário -- Uso agropecuário</td>\n",
       "      <td>CO2 (t)</td>\n",
       "      <td>MS</td>\n",
       "      <td>AGROPEC</td>\n",
       "      <td>NaN</td>\n",
       "      <td>2021</td>\n",
       "      <td>0.000000</td>\n",
       "    </tr>\n",
       "    <tr>\n",
       "      <th>4926272</th>\n",
       "      <td>Mudança de Uso da Terra e Floresta</td>\n",
       "      <td>Alterações de Uso da Terra</td>\n",
       "      <td>Pantanal</td>\n",
       "      <td>em Área Protegida</td>\n",
       "      <td>Regeneração</td>\n",
       "      <td>Uso agropecuário -- Floresta secundária</td>\n",
       "      <td>CO2 (t)</td>\n",
       "      <td>MT</td>\n",
       "      <td>AGROPEC</td>\n",
       "      <td>NaN</td>\n",
       "      <td>2021</td>\n",
       "      <td>374.000000</td>\n",
       "    </tr>\n",
       "    <tr>\n",
       "      <th>4926273</th>\n",
       "      <td>Mudança de Uso da Terra e Floresta</td>\n",
       "      <td>Alterações de Uso da Terra</td>\n",
       "      <td>Pantanal</td>\n",
       "      <td>em Área Protegida</td>\n",
       "      <td>Regeneração</td>\n",
       "      <td>Uso agropecuário -- Floresta secundária</td>\n",
       "      <td>CO2 (t)</td>\n",
       "      <td>MS</td>\n",
       "      <td>AGROPEC</td>\n",
       "      <td>NaN</td>\n",
       "      <td>2021</td>\n",
       "      <td>8613.000000</td>\n",
       "    </tr>\n",
       "    <tr>\n",
       "      <th>4926290</th>\n",
       "      <td>Mudança de Uso da Terra e Floresta</td>\n",
       "      <td>Alterações de Uso da Terra</td>\n",
       "      <td>Pantanal</td>\n",
       "      <td>em Área Protegida</td>\n",
       "      <td>Regeneração</td>\n",
       "      <td>Uso agropecuário -- Vegetação não florestal se...</td>\n",
       "      <td>CO2 (t)</td>\n",
       "      <td>MT</td>\n",
       "      <td>AGROPEC</td>\n",
       "      <td>NaN</td>\n",
       "      <td>2021</td>\n",
       "      <td>934.000000</td>\n",
       "    </tr>\n",
       "    <tr>\n",
       "      <th>4926291</th>\n",
       "      <td>Mudança de Uso da Terra e Floresta</td>\n",
       "      <td>Alterações de Uso da Terra</td>\n",
       "      <td>Pantanal</td>\n",
       "      <td>em Área Protegida</td>\n",
       "      <td>Regeneração</td>\n",
       "      <td>Uso agropecuário -- Vegetação não florestal se...</td>\n",
       "      <td>CO2 (t)</td>\n",
       "      <td>MS</td>\n",
       "      <td>AGROPEC</td>\n",
       "      <td>NaN</td>\n",
       "      <td>2021</td>\n",
       "      <td>17515.000000</td>\n",
       "    </tr>\n",
       "  </tbody>\n",
       "</table>\n",
       "<p>241332 rows × 12 columns</p>\n",
       "</div>"
      ],
      "text/plain": [
       "                            Nível 1 - Setor                     Nível 2  \\\n",
       "18                    Processos Industriais           Indústria Química   \n",
       "23                    Processos Industriais           Indústria Química   \n",
       "26                    Processos Industriais           Indústria Química   \n",
       "29                    Processos Industriais           Indústria Química   \n",
       "32                    Processos Industriais           Indústria Química   \n",
       "...                                     ...                         ...   \n",
       "4926255  Mudança de Uso da Terra e Floresta  Alterações de Uso da Terra   \n",
       "4926272  Mudança de Uso da Terra e Floresta  Alterações de Uso da Terra   \n",
       "4926273  Mudança de Uso da Terra e Floresta  Alterações de Uso da Terra   \n",
       "4926290  Mudança de Uso da Terra e Floresta  Alterações de Uso da Terra   \n",
       "4926291  Mudança de Uso da Terra e Floresta  Alterações de Uso da Terra   \n",
       "\n",
       "                           Nível 3            Nível 4  \\\n",
       "18       Produção de Acrilonitrila                NaN   \n",
       "23              Produção de Amônia                NaN   \n",
       "26              Produção de Amônia                NaN   \n",
       "29              Produção de Amônia                NaN   \n",
       "32              Produção de Amônia                NaN   \n",
       "...                            ...                ...   \n",
       "4926255                   Pantanal  em Área Protegida   \n",
       "4926272                   Pantanal  em Área Protegida   \n",
       "4926273                   Pantanal  em Área Protegida   \n",
       "4926290                   Pantanal  em Área Protegida   \n",
       "4926291                   Pantanal  em Área Protegida   \n",
       "\n",
       "                                 Nível 5  \\\n",
       "18                                   NaN   \n",
       "23                                   NaN   \n",
       "26                                   NaN   \n",
       "29                                   NaN   \n",
       "32                                   NaN   \n",
       "...                                  ...   \n",
       "4926255  Outras Mudanças de uso da terra   \n",
       "4926272                      Regeneração   \n",
       "4926273                      Regeneração   \n",
       "4926290                      Regeneração   \n",
       "4926291                      Regeneração   \n",
       "\n",
       "                                                   Nível 6      Gás Estado  \\\n",
       "18                                                     NaN  CO2 (t)     BA   \n",
       "23                                                     NaN  CO2 (t)     RJ   \n",
       "26                                                     NaN  CO2 (t)     MG   \n",
       "29                                                     NaN  CO2 (t)     BA   \n",
       "32                                                     NaN  CO2 (t)     SE   \n",
       "...                                                    ...      ...    ...   \n",
       "4926255               Uso agropecuário -- Uso agropecuário  CO2 (t)     MS   \n",
       "4926272            Uso agropecuário -- Floresta secundária  CO2 (t)     MT   \n",
       "4926273            Uso agropecuário -- Floresta secundária  CO2 (t)     MS   \n",
       "4926290  Uso agropecuário -- Vegetação não florestal se...  CO2 (t)     MT   \n",
       "4926291  Uso agropecuário -- Vegetação não florestal se...  CO2 (t)     MS   \n",
       "\n",
       "        Atividade Econômica Produto   Ano       Emissão  \n",
       "18                OUTRA_IND     NaN  1970      0.000000  \n",
       "23                OUTRA_IND     NaN  1970      0.000000  \n",
       "26                OUTRA_IND     NaN  1970      0.000000  \n",
       "29                OUTRA_IND     NaN  1970  10742.465792  \n",
       "32                OUTRA_IND     NaN  1970      0.000000  \n",
       "...                     ...     ...   ...           ...  \n",
       "4926255             AGROPEC     NaN  2021      0.000000  \n",
       "4926272             AGROPEC     NaN  2021    374.000000  \n",
       "4926273             AGROPEC     NaN  2021   8613.000000  \n",
       "4926290             AGROPEC     NaN  2021    934.000000  \n",
       "4926291             AGROPEC     NaN  2021  17515.000000  \n",
       "\n",
       "[241332 rows x 12 columns]"
      ]
     },
     "execution_count": 22,
     "metadata": {},
     "output_type": "execute_result"
    }
   ],
   "source": [
    "emissoes_por_ano.groupby('Gás').get_group('CO2 (t)')   # Pegando informações de um gás específico"
   ]
  },
  {
   "cell_type": "markdown",
   "id": "06f76a43",
   "metadata": {},
   "source": [
    "Acima eu puxei somente a informação do gás CO2 (t), mas agora quero fazer esse levantamento de todos os gases e a sua soma total de emissão.\n",
    "\n",
    "Para isso, utilizarei a função de agregação sum()."
   ]
  },
  {
   "cell_type": "code",
   "execution_count": 23,
   "id": "c76147b2",
   "metadata": {},
   "outputs": [
    {
     "data": {
      "text/html": [
       "<div>\n",
       "<style scoped>\n",
       "    .dataframe tbody tr th:only-of-type {\n",
       "        vertical-align: middle;\n",
       "    }\n",
       "\n",
       "    .dataframe tbody tr th {\n",
       "        vertical-align: top;\n",
       "    }\n",
       "\n",
       "    .dataframe thead th {\n",
       "        text-align: right;\n",
       "    }\n",
       "</style>\n",
       "<table border=\"1\" class=\"dataframe\">\n",
       "  <thead>\n",
       "    <tr style=\"text-align: right;\">\n",
       "      <th></th>\n",
       "      <th>Emissão</th>\n",
       "    </tr>\n",
       "    <tr>\n",
       "      <th>Gás</th>\n",
       "      <th></th>\n",
       "    </tr>\n",
       "  </thead>\n",
       "  <tbody>\n",
       "    <tr>\n",
       "      <th>C2F6 (t)</th>\n",
       "      <td>5.765018e+02</td>\n",
       "    </tr>\n",
       "    <tr>\n",
       "      <th>CF4 (t)</th>\n",
       "      <td>7.135481e+03</td>\n",
       "    </tr>\n",
       "    <tr>\n",
       "      <th>CH4 (t)</th>\n",
       "      <td>7.949268e+08</td>\n",
       "    </tr>\n",
       "    <tr>\n",
       "      <th>CO (t)</th>\n",
       "      <td>5.111531e+08</td>\n",
       "    </tr>\n",
       "    <tr>\n",
       "      <th>CO2 (t)</th>\n",
       "      <td>5.324636e+10</td>\n",
       "    </tr>\n",
       "    <tr>\n",
       "      <th>CO2e (t) GTP-AR2</th>\n",
       "      <td>6.344612e+10</td>\n",
       "    </tr>\n",
       "    <tr>\n",
       "      <th>CO2e (t) GTP-AR4</th>\n",
       "      <td>6.344612e+10</td>\n",
       "    </tr>\n",
       "    <tr>\n",
       "      <th>CO2e (t) GTP-AR5</th>\n",
       "      <td>6.182200e+10</td>\n",
       "    </tr>\n",
       "    <tr>\n",
       "      <th>CO2e (t) GTP-AR6</th>\n",
       "      <td>6.247859e+10</td>\n",
       "    </tr>\n",
       "    <tr>\n",
       "      <th>CO2e (t) GWP-AR2</th>\n",
       "      <td>7.720596e+10</td>\n",
       "    </tr>\n",
       "    <tr>\n",
       "      <th>CO2e (t) GWP-AR4</th>\n",
       "      <td>8.015921e+10</td>\n",
       "    </tr>\n",
       "    <tr>\n",
       "      <th>CO2e (t) GWP-AR5</th>\n",
       "      <td>8.181375e+10</td>\n",
       "    </tr>\n",
       "    <tr>\n",
       "      <th>CO2e (t) GWP-AR6</th>\n",
       "      <td>8.132316e+10</td>\n",
       "    </tr>\n",
       "    <tr>\n",
       "      <th>COVNM (t)</th>\n",
       "      <td>2.242130e+08</td>\n",
       "    </tr>\n",
       "    <tr>\n",
       "      <th>HFC-125 (t)</th>\n",
       "      <td>9.795580e+03</td>\n",
       "    </tr>\n",
       "    <tr>\n",
       "      <th>HFC-134a (t)</th>\n",
       "      <td>1.394731e+05</td>\n",
       "    </tr>\n",
       "    <tr>\n",
       "      <th>HFC-143a (t)</th>\n",
       "      <td>9.039400e+03</td>\n",
       "    </tr>\n",
       "    <tr>\n",
       "      <th>HFC-152a (t)</th>\n",
       "      <td>5.706000e+02</td>\n",
       "    </tr>\n",
       "    <tr>\n",
       "      <th>HFC-23 (t)</th>\n",
       "      <td>1.197840e+03</td>\n",
       "    </tr>\n",
       "    <tr>\n",
       "      <th>HFC-32 (t)</th>\n",
       "      <td>2.367750e+03</td>\n",
       "    </tr>\n",
       "    <tr>\n",
       "      <th>N2O (t)</th>\n",
       "      <td>2.240066e+07</td>\n",
       "    </tr>\n",
       "    <tr>\n",
       "      <th>NOx (t)</th>\n",
       "      <td>9.976123e+07</td>\n",
       "    </tr>\n",
       "    <tr>\n",
       "      <th>SF6 (t)</th>\n",
       "      <td>4.705800e+02</td>\n",
       "    </tr>\n",
       "  </tbody>\n",
       "</table>\n",
       "</div>"
      ],
      "text/plain": [
       "                       Emissão\n",
       "Gás                           \n",
       "C2F6 (t)          5.765018e+02\n",
       "CF4 (t)           7.135481e+03\n",
       "CH4 (t)           7.949268e+08\n",
       "CO (t)            5.111531e+08\n",
       "CO2 (t)           5.324636e+10\n",
       "CO2e (t) GTP-AR2  6.344612e+10\n",
       "CO2e (t) GTP-AR4  6.344612e+10\n",
       "CO2e (t) GTP-AR5  6.182200e+10\n",
       "CO2e (t) GTP-AR6  6.247859e+10\n",
       "CO2e (t) GWP-AR2  7.720596e+10\n",
       "CO2e (t) GWP-AR4  8.015921e+10\n",
       "CO2e (t) GWP-AR5  8.181375e+10\n",
       "CO2e (t) GWP-AR6  8.132316e+10\n",
       "COVNM (t)         2.242130e+08\n",
       "HFC-125 (t)       9.795580e+03\n",
       "HFC-134a (t)      1.394731e+05\n",
       "HFC-143a (t)      9.039400e+03\n",
       "HFC-152a (t)      5.706000e+02\n",
       "HFC-23 (t)        1.197840e+03\n",
       "HFC-32 (t)        2.367750e+03\n",
       "N2O (t)           2.240066e+07\n",
       "NOx (t)           9.976123e+07\n",
       "SF6 (t)           4.705800e+02"
      ]
     },
     "execution_count": 23,
     "metadata": {},
     "output_type": "execute_result"
    }
   ],
   "source": [
    "emissoes_por_ano.groupby('Gás').sum(numeric_only=True)\n",
    "\n",
    "# O parâmetro numeric_only garante que o pandas vai somar somente colunas com valores numéricos."
   ]
  },
  {
   "cell_type": "code",
   "execution_count": 24,
   "id": "491169d3",
   "metadata": {},
   "outputs": [
    {
     "data": {
      "text/html": [
       "<div>\n",
       "<style scoped>\n",
       "    .dataframe tbody tr th:only-of-type {\n",
       "        vertical-align: middle;\n",
       "    }\n",
       "\n",
       "    .dataframe tbody tr th {\n",
       "        vertical-align: top;\n",
       "    }\n",
       "\n",
       "    .dataframe thead th {\n",
       "        text-align: right;\n",
       "    }\n",
       "</style>\n",
       "<table border=\"1\" class=\"dataframe\">\n",
       "  <thead>\n",
       "    <tr style=\"text-align: right;\">\n",
       "      <th></th>\n",
       "      <th>Emissão</th>\n",
       "    </tr>\n",
       "    <tr>\n",
       "      <th>Gás</th>\n",
       "      <th></th>\n",
       "    </tr>\n",
       "  </thead>\n",
       "  <tbody>\n",
       "    <tr>\n",
       "      <th>C2F6 (t)</th>\n",
       "      <td>5.765018e+02</td>\n",
       "    </tr>\n",
       "    <tr>\n",
       "      <th>CF4 (t)</th>\n",
       "      <td>7.135481e+03</td>\n",
       "    </tr>\n",
       "    <tr>\n",
       "      <th>CH4 (t)</th>\n",
       "      <td>7.949268e+08</td>\n",
       "    </tr>\n",
       "    <tr>\n",
       "      <th>CO (t)</th>\n",
       "      <td>5.111531e+08</td>\n",
       "    </tr>\n",
       "    <tr>\n",
       "      <th>CO2 (t)</th>\n",
       "      <td>5.324636e+10</td>\n",
       "    </tr>\n",
       "    <tr>\n",
       "      <th>CO2e (t) GTP-AR2</th>\n",
       "      <td>6.344612e+10</td>\n",
       "    </tr>\n",
       "    <tr>\n",
       "      <th>CO2e (t) GTP-AR4</th>\n",
       "      <td>6.344612e+10</td>\n",
       "    </tr>\n",
       "    <tr>\n",
       "      <th>CO2e (t) GTP-AR5</th>\n",
       "      <td>6.182200e+10</td>\n",
       "    </tr>\n",
       "    <tr>\n",
       "      <th>CO2e (t) GTP-AR6</th>\n",
       "      <td>6.247859e+10</td>\n",
       "    </tr>\n",
       "    <tr>\n",
       "      <th>CO2e (t) GWP-AR2</th>\n",
       "      <td>7.720596e+10</td>\n",
       "    </tr>\n",
       "    <tr>\n",
       "      <th>CO2e (t) GWP-AR4</th>\n",
       "      <td>8.015921e+10</td>\n",
       "    </tr>\n",
       "    <tr>\n",
       "      <th>CO2e (t) GWP-AR5</th>\n",
       "      <td>8.181375e+10</td>\n",
       "    </tr>\n",
       "    <tr>\n",
       "      <th>CO2e (t) GWP-AR6</th>\n",
       "      <td>8.132316e+10</td>\n",
       "    </tr>\n",
       "    <tr>\n",
       "      <th>COVNM (t)</th>\n",
       "      <td>2.242130e+08</td>\n",
       "    </tr>\n",
       "    <tr>\n",
       "      <th>HFC-125 (t)</th>\n",
       "      <td>9.795580e+03</td>\n",
       "    </tr>\n",
       "    <tr>\n",
       "      <th>HFC-134a (t)</th>\n",
       "      <td>1.394731e+05</td>\n",
       "    </tr>\n",
       "    <tr>\n",
       "      <th>HFC-143a (t)</th>\n",
       "      <td>9.039400e+03</td>\n",
       "    </tr>\n",
       "    <tr>\n",
       "      <th>HFC-152a (t)</th>\n",
       "      <td>5.706000e+02</td>\n",
       "    </tr>\n",
       "    <tr>\n",
       "      <th>HFC-23 (t)</th>\n",
       "      <td>1.197840e+03</td>\n",
       "    </tr>\n",
       "    <tr>\n",
       "      <th>HFC-32 (t)</th>\n",
       "      <td>2.367750e+03</td>\n",
       "    </tr>\n",
       "    <tr>\n",
       "      <th>N2O (t)</th>\n",
       "      <td>2.240066e+07</td>\n",
       "    </tr>\n",
       "    <tr>\n",
       "      <th>NOx (t)</th>\n",
       "      <td>9.976123e+07</td>\n",
       "    </tr>\n",
       "    <tr>\n",
       "      <th>SF6 (t)</th>\n",
       "      <td>4.705800e+02</td>\n",
       "    </tr>\n",
       "  </tbody>\n",
       "</table>\n",
       "</div>"
      ],
      "text/plain": [
       "                       Emissão\n",
       "Gás                           \n",
       "C2F6 (t)          5.765018e+02\n",
       "CF4 (t)           7.135481e+03\n",
       "CH4 (t)           7.949268e+08\n",
       "CO (t)            5.111531e+08\n",
       "CO2 (t)           5.324636e+10\n",
       "CO2e (t) GTP-AR2  6.344612e+10\n",
       "CO2e (t) GTP-AR4  6.344612e+10\n",
       "CO2e (t) GTP-AR5  6.182200e+10\n",
       "CO2e (t) GTP-AR6  6.247859e+10\n",
       "CO2e (t) GWP-AR2  7.720596e+10\n",
       "CO2e (t) GWP-AR4  8.015921e+10\n",
       "CO2e (t) GWP-AR5  8.181375e+10\n",
       "CO2e (t) GWP-AR6  8.132316e+10\n",
       "COVNM (t)         2.242130e+08\n",
       "HFC-125 (t)       9.795580e+03\n",
       "HFC-134a (t)      1.394731e+05\n",
       "HFC-143a (t)      9.039400e+03\n",
       "HFC-152a (t)      5.706000e+02\n",
       "HFC-23 (t)        1.197840e+03\n",
       "HFC-32 (t)        2.367750e+03\n",
       "N2O (t)           2.240066e+07\n",
       "NOx (t)           9.976123e+07\n",
       "SF6 (t)           4.705800e+02"
      ]
     },
     "execution_count": 24,
     "metadata": {},
     "output_type": "execute_result"
    }
   ],
   "source": [
    "# Outra forma de fazer - e mais correta - é indicar exatamente qual coluna queremos selecionar para fazer essa somatória.\n",
    "# No caso desse DF não houve problema pois é a única coluna com valores numéricos a serem somados, mas:\n",
    "\n",
    "emissoes_por_ano.groupby('Gás')[['Emissão']].sum()"
   ]
  },
  {
   "cell_type": "code",
   "execution_count": 25,
   "id": "9b5ad992",
   "metadata": {},
   "outputs": [
    {
     "data": {
      "text/html": [
       "<div>\n",
       "<style scoped>\n",
       "    .dataframe tbody tr th:only-of-type {\n",
       "        vertical-align: middle;\n",
       "    }\n",
       "\n",
       "    .dataframe tbody tr th {\n",
       "        vertical-align: top;\n",
       "    }\n",
       "\n",
       "    .dataframe thead th {\n",
       "        text-align: right;\n",
       "    }\n",
       "</style>\n",
       "<table border=\"1\" class=\"dataframe\">\n",
       "  <thead>\n",
       "    <tr style=\"text-align: right;\">\n",
       "      <th></th>\n",
       "      <th>Emissão</th>\n",
       "    </tr>\n",
       "    <tr>\n",
       "      <th>Gás</th>\n",
       "      <th></th>\n",
       "    </tr>\n",
       "  </thead>\n",
       "  <tbody>\n",
       "    <tr>\n",
       "      <th>CO2e (t) GWP-AR5</th>\n",
       "      <td>8.181375e+10</td>\n",
       "    </tr>\n",
       "    <tr>\n",
       "      <th>CO2e (t) GWP-AR6</th>\n",
       "      <td>8.132316e+10</td>\n",
       "    </tr>\n",
       "    <tr>\n",
       "      <th>CO2e (t) GWP-AR4</th>\n",
       "      <td>8.015921e+10</td>\n",
       "    </tr>\n",
       "    <tr>\n",
       "      <th>CO2e (t) GWP-AR2</th>\n",
       "      <td>7.720596e+10</td>\n",
       "    </tr>\n",
       "    <tr>\n",
       "      <th>CO2e (t) GTP-AR4</th>\n",
       "      <td>6.344612e+10</td>\n",
       "    </tr>\n",
       "    <tr>\n",
       "      <th>CO2e (t) GTP-AR2</th>\n",
       "      <td>6.344612e+10</td>\n",
       "    </tr>\n",
       "    <tr>\n",
       "      <th>CO2e (t) GTP-AR6</th>\n",
       "      <td>6.247859e+10</td>\n",
       "    </tr>\n",
       "    <tr>\n",
       "      <th>CO2e (t) GTP-AR5</th>\n",
       "      <td>6.182200e+10</td>\n",
       "    </tr>\n",
       "    <tr>\n",
       "      <th>CO2 (t)</th>\n",
       "      <td>5.324636e+10</td>\n",
       "    </tr>\n",
       "    <tr>\n",
       "      <th>CH4 (t)</th>\n",
       "      <td>7.949268e+08</td>\n",
       "    </tr>\n",
       "    <tr>\n",
       "      <th>CO (t)</th>\n",
       "      <td>5.111531e+08</td>\n",
       "    </tr>\n",
       "    <tr>\n",
       "      <th>COVNM (t)</th>\n",
       "      <td>2.242130e+08</td>\n",
       "    </tr>\n",
       "    <tr>\n",
       "      <th>NOx (t)</th>\n",
       "      <td>9.976123e+07</td>\n",
       "    </tr>\n",
       "    <tr>\n",
       "      <th>N2O (t)</th>\n",
       "      <td>2.240066e+07</td>\n",
       "    </tr>\n",
       "    <tr>\n",
       "      <th>HFC-134a (t)</th>\n",
       "      <td>1.394731e+05</td>\n",
       "    </tr>\n",
       "    <tr>\n",
       "      <th>HFC-125 (t)</th>\n",
       "      <td>9.795580e+03</td>\n",
       "    </tr>\n",
       "    <tr>\n",
       "      <th>HFC-143a (t)</th>\n",
       "      <td>9.039400e+03</td>\n",
       "    </tr>\n",
       "    <tr>\n",
       "      <th>CF4 (t)</th>\n",
       "      <td>7.135481e+03</td>\n",
       "    </tr>\n",
       "    <tr>\n",
       "      <th>HFC-32 (t)</th>\n",
       "      <td>2.367750e+03</td>\n",
       "    </tr>\n",
       "    <tr>\n",
       "      <th>HFC-23 (t)</th>\n",
       "      <td>1.197840e+03</td>\n",
       "    </tr>\n",
       "    <tr>\n",
       "      <th>C2F6 (t)</th>\n",
       "      <td>5.765018e+02</td>\n",
       "    </tr>\n",
       "    <tr>\n",
       "      <th>HFC-152a (t)</th>\n",
       "      <td>5.706000e+02</td>\n",
       "    </tr>\n",
       "    <tr>\n",
       "      <th>SF6 (t)</th>\n",
       "      <td>4.705800e+02</td>\n",
       "    </tr>\n",
       "  </tbody>\n",
       "</table>\n",
       "</div>"
      ],
      "text/plain": [
       "                       Emissão\n",
       "Gás                           \n",
       "CO2e (t) GWP-AR5  8.181375e+10\n",
       "CO2e (t) GWP-AR6  8.132316e+10\n",
       "CO2e (t) GWP-AR4  8.015921e+10\n",
       "CO2e (t) GWP-AR2  7.720596e+10\n",
       "CO2e (t) GTP-AR4  6.344612e+10\n",
       "CO2e (t) GTP-AR2  6.344612e+10\n",
       "CO2e (t) GTP-AR6  6.247859e+10\n",
       "CO2e (t) GTP-AR5  6.182200e+10\n",
       "CO2 (t)           5.324636e+10\n",
       "CH4 (t)           7.949268e+08\n",
       "CO (t)            5.111531e+08\n",
       "COVNM (t)         2.242130e+08\n",
       "NOx (t)           9.976123e+07\n",
       "N2O (t)           2.240066e+07\n",
       "HFC-134a (t)      1.394731e+05\n",
       "HFC-125 (t)       9.795580e+03\n",
       "HFC-143a (t)      9.039400e+03\n",
       "CF4 (t)           7.135481e+03\n",
       "HFC-32 (t)        2.367750e+03\n",
       "HFC-23 (t)        1.197840e+03\n",
       "C2F6 (t)          5.765018e+02\n",
       "HFC-152a (t)      5.706000e+02\n",
       "SF6 (t)           4.705800e+02"
      ]
     },
     "execution_count": 25,
     "metadata": {},
     "output_type": "execute_result"
    }
   ],
   "source": [
    "# Ordenando pelos valores de 'Emissão' e não por ordem alfabética de 'Gás':\n",
    "\n",
    "emissao_por_gas = emissoes_por_ano.groupby('Gás')[['Emissão']].sum().sort_values('Emissão', ascending=False)\n",
    "emissao_por_gas"
   ]
  },
  {
   "cell_type": "markdown",
   "id": "945be3a3",
   "metadata": {},
   "source": [
    "Os valores estão com uma legibilidade difícil, pois estão em notação científica.\n",
    "\n",
    "Vamos gerar um gráfico para a melhor visualização."
   ]
  },
  {
   "cell_type": "code",
   "execution_count": 26,
   "id": "429c17d8",
   "metadata": {},
   "outputs": [
    {
     "data": {
      "application/vnd.plotly.v1+json": {
       "config": {
        "plotlyServerURL": "https://plot.ly"
       },
       "data": [
        {
         "alignmentgroup": "True",
         "hovertemplate": "Gás=%{x}<br>Emissão=%{y}<extra></extra>",
         "legendgroup": "",
         "marker": {
          "color": "#636efa",
          "pattern": {
           "shape": ""
          }
         },
         "name": "",
         "offsetgroup": "",
         "orientation": "v",
         "showlegend": false,
         "textposition": "auto",
         "type": "bar",
         "x": [
          "CO2e (t) GWP-AR5",
          "CO2e (t) GWP-AR6",
          "CO2e (t) GWP-AR4",
          "CO2e (t) GWP-AR2",
          "CO2e (t) GTP-AR4",
          "CO2e (t) GTP-AR2",
          "CO2e (t) GTP-AR6",
          "CO2e (t) GTP-AR5",
          "CO2 (t)",
          "CH4 (t)",
          "CO (t)",
          "COVNM (t)",
          "NOx (t)",
          "N2O (t)",
          "HFC-134a (t)",
          "HFC-125 (t)",
          "HFC-143a (t)",
          "CF4 (t)",
          "HFC-32 (t)",
          "HFC-23 (t)",
          "C2F6 (t)",
          "HFC-152a (t)",
          "SF6 (t)"
         ],
         "xaxis": "x",
         "y": [
          81813748372.29013,
          81323161616.31868,
          80159214821.47313,
          77205955374.4126,
          63446118896.74838,
          63446118896.74838,
          62478594111.01962,
          61821997931.994354,
          53246356612.51556,
          794926793.900305,
          511153064.984702,
          224213039.2035249,
          99761225.58476321,
          22400661.174225777,
          139473.10000000053,
          9795.579999999889,
          9039.3999999999,
          7135.4812815603045,
          2367.749999999989,
          1197.84,
          576.5017736623628,
          570.6,
          470.57999999999976
         ],
         "yaxis": "y"
        }
       ],
       "layout": {
        "barmode": "relative",
        "legend": {
         "tracegroupgap": 0
        },
        "template": {
         "data": {
          "bar": [
           {
            "error_x": {
             "color": "#2a3f5f"
            },
            "error_y": {
             "color": "#2a3f5f"
            },
            "marker": {
             "line": {
              "color": "#E5ECF6",
              "width": 0.5
             },
             "pattern": {
              "fillmode": "overlay",
              "size": 10,
              "solidity": 0.2
             }
            },
            "type": "bar"
           }
          ],
          "barpolar": [
           {
            "marker": {
             "line": {
              "color": "#E5ECF6",
              "width": 0.5
             },
             "pattern": {
              "fillmode": "overlay",
              "size": 10,
              "solidity": 0.2
             }
            },
            "type": "barpolar"
           }
          ],
          "carpet": [
           {
            "aaxis": {
             "endlinecolor": "#2a3f5f",
             "gridcolor": "white",
             "linecolor": "white",
             "minorgridcolor": "white",
             "startlinecolor": "#2a3f5f"
            },
            "baxis": {
             "endlinecolor": "#2a3f5f",
             "gridcolor": "white",
             "linecolor": "white",
             "minorgridcolor": "white",
             "startlinecolor": "#2a3f5f"
            },
            "type": "carpet"
           }
          ],
          "choropleth": [
           {
            "colorbar": {
             "outlinewidth": 0,
             "ticks": ""
            },
            "type": "choropleth"
           }
          ],
          "contour": [
           {
            "colorbar": {
             "outlinewidth": 0,
             "ticks": ""
            },
            "colorscale": [
             [
              0,
              "#0d0887"
             ],
             [
              0.1111111111111111,
              "#46039f"
             ],
             [
              0.2222222222222222,
              "#7201a8"
             ],
             [
              0.3333333333333333,
              "#9c179e"
             ],
             [
              0.4444444444444444,
              "#bd3786"
             ],
             [
              0.5555555555555556,
              "#d8576b"
             ],
             [
              0.6666666666666666,
              "#ed7953"
             ],
             [
              0.7777777777777778,
              "#fb9f3a"
             ],
             [
              0.8888888888888888,
              "#fdca26"
             ],
             [
              1,
              "#f0f921"
             ]
            ],
            "type": "contour"
           }
          ],
          "contourcarpet": [
           {
            "colorbar": {
             "outlinewidth": 0,
             "ticks": ""
            },
            "type": "contourcarpet"
           }
          ],
          "heatmap": [
           {
            "colorbar": {
             "outlinewidth": 0,
             "ticks": ""
            },
            "colorscale": [
             [
              0,
              "#0d0887"
             ],
             [
              0.1111111111111111,
              "#46039f"
             ],
             [
              0.2222222222222222,
              "#7201a8"
             ],
             [
              0.3333333333333333,
              "#9c179e"
             ],
             [
              0.4444444444444444,
              "#bd3786"
             ],
             [
              0.5555555555555556,
              "#d8576b"
             ],
             [
              0.6666666666666666,
              "#ed7953"
             ],
             [
              0.7777777777777778,
              "#fb9f3a"
             ],
             [
              0.8888888888888888,
              "#fdca26"
             ],
             [
              1,
              "#f0f921"
             ]
            ],
            "type": "heatmap"
           }
          ],
          "heatmapgl": [
           {
            "colorbar": {
             "outlinewidth": 0,
             "ticks": ""
            },
            "colorscale": [
             [
              0,
              "#0d0887"
             ],
             [
              0.1111111111111111,
              "#46039f"
             ],
             [
              0.2222222222222222,
              "#7201a8"
             ],
             [
              0.3333333333333333,
              "#9c179e"
             ],
             [
              0.4444444444444444,
              "#bd3786"
             ],
             [
              0.5555555555555556,
              "#d8576b"
             ],
             [
              0.6666666666666666,
              "#ed7953"
             ],
             [
              0.7777777777777778,
              "#fb9f3a"
             ],
             [
              0.8888888888888888,
              "#fdca26"
             ],
             [
              1,
              "#f0f921"
             ]
            ],
            "type": "heatmapgl"
           }
          ],
          "histogram": [
           {
            "marker": {
             "pattern": {
              "fillmode": "overlay",
              "size": 10,
              "solidity": 0.2
             }
            },
            "type": "histogram"
           }
          ],
          "histogram2d": [
           {
            "colorbar": {
             "outlinewidth": 0,
             "ticks": ""
            },
            "colorscale": [
             [
              0,
              "#0d0887"
             ],
             [
              0.1111111111111111,
              "#46039f"
             ],
             [
              0.2222222222222222,
              "#7201a8"
             ],
             [
              0.3333333333333333,
              "#9c179e"
             ],
             [
              0.4444444444444444,
              "#bd3786"
             ],
             [
              0.5555555555555556,
              "#d8576b"
             ],
             [
              0.6666666666666666,
              "#ed7953"
             ],
             [
              0.7777777777777778,
              "#fb9f3a"
             ],
             [
              0.8888888888888888,
              "#fdca26"
             ],
             [
              1,
              "#f0f921"
             ]
            ],
            "type": "histogram2d"
           }
          ],
          "histogram2dcontour": [
           {
            "colorbar": {
             "outlinewidth": 0,
             "ticks": ""
            },
            "colorscale": [
             [
              0,
              "#0d0887"
             ],
             [
              0.1111111111111111,
              "#46039f"
             ],
             [
              0.2222222222222222,
              "#7201a8"
             ],
             [
              0.3333333333333333,
              "#9c179e"
             ],
             [
              0.4444444444444444,
              "#bd3786"
             ],
             [
              0.5555555555555556,
              "#d8576b"
             ],
             [
              0.6666666666666666,
              "#ed7953"
             ],
             [
              0.7777777777777778,
              "#fb9f3a"
             ],
             [
              0.8888888888888888,
              "#fdca26"
             ],
             [
              1,
              "#f0f921"
             ]
            ],
            "type": "histogram2dcontour"
           }
          ],
          "mesh3d": [
           {
            "colorbar": {
             "outlinewidth": 0,
             "ticks": ""
            },
            "type": "mesh3d"
           }
          ],
          "parcoords": [
           {
            "line": {
             "colorbar": {
              "outlinewidth": 0,
              "ticks": ""
             }
            },
            "type": "parcoords"
           }
          ],
          "pie": [
           {
            "automargin": true,
            "type": "pie"
           }
          ],
          "scatter": [
           {
            "fillpattern": {
             "fillmode": "overlay",
             "size": 10,
             "solidity": 0.2
            },
            "type": "scatter"
           }
          ],
          "scatter3d": [
           {
            "line": {
             "colorbar": {
              "outlinewidth": 0,
              "ticks": ""
             }
            },
            "marker": {
             "colorbar": {
              "outlinewidth": 0,
              "ticks": ""
             }
            },
            "type": "scatter3d"
           }
          ],
          "scattercarpet": [
           {
            "marker": {
             "colorbar": {
              "outlinewidth": 0,
              "ticks": ""
             }
            },
            "type": "scattercarpet"
           }
          ],
          "scattergeo": [
           {
            "marker": {
             "colorbar": {
              "outlinewidth": 0,
              "ticks": ""
             }
            },
            "type": "scattergeo"
           }
          ],
          "scattergl": [
           {
            "marker": {
             "colorbar": {
              "outlinewidth": 0,
              "ticks": ""
             }
            },
            "type": "scattergl"
           }
          ],
          "scattermapbox": [
           {
            "marker": {
             "colorbar": {
              "outlinewidth": 0,
              "ticks": ""
             }
            },
            "type": "scattermapbox"
           }
          ],
          "scatterpolar": [
           {
            "marker": {
             "colorbar": {
              "outlinewidth": 0,
              "ticks": ""
             }
            },
            "type": "scatterpolar"
           }
          ],
          "scatterpolargl": [
           {
            "marker": {
             "colorbar": {
              "outlinewidth": 0,
              "ticks": ""
             }
            },
            "type": "scatterpolargl"
           }
          ],
          "scatterternary": [
           {
            "marker": {
             "colorbar": {
              "outlinewidth": 0,
              "ticks": ""
             }
            },
            "type": "scatterternary"
           }
          ],
          "surface": [
           {
            "colorbar": {
             "outlinewidth": 0,
             "ticks": ""
            },
            "colorscale": [
             [
              0,
              "#0d0887"
             ],
             [
              0.1111111111111111,
              "#46039f"
             ],
             [
              0.2222222222222222,
              "#7201a8"
             ],
             [
              0.3333333333333333,
              "#9c179e"
             ],
             [
              0.4444444444444444,
              "#bd3786"
             ],
             [
              0.5555555555555556,
              "#d8576b"
             ],
             [
              0.6666666666666666,
              "#ed7953"
             ],
             [
              0.7777777777777778,
              "#fb9f3a"
             ],
             [
              0.8888888888888888,
              "#fdca26"
             ],
             [
              1,
              "#f0f921"
             ]
            ],
            "type": "surface"
           }
          ],
          "table": [
           {
            "cells": {
             "fill": {
              "color": "#EBF0F8"
             },
             "line": {
              "color": "white"
             }
            },
            "header": {
             "fill": {
              "color": "#C8D4E3"
             },
             "line": {
              "color": "white"
             }
            },
            "type": "table"
           }
          ]
         },
         "layout": {
          "annotationdefaults": {
           "arrowcolor": "#2a3f5f",
           "arrowhead": 0,
           "arrowwidth": 1
          },
          "autotypenumbers": "strict",
          "coloraxis": {
           "colorbar": {
            "outlinewidth": 0,
            "ticks": ""
           }
          },
          "colorscale": {
           "diverging": [
            [
             0,
             "#8e0152"
            ],
            [
             0.1,
             "#c51b7d"
            ],
            [
             0.2,
             "#de77ae"
            ],
            [
             0.3,
             "#f1b6da"
            ],
            [
             0.4,
             "#fde0ef"
            ],
            [
             0.5,
             "#f7f7f7"
            ],
            [
             0.6,
             "#e6f5d0"
            ],
            [
             0.7,
             "#b8e186"
            ],
            [
             0.8,
             "#7fbc41"
            ],
            [
             0.9,
             "#4d9221"
            ],
            [
             1,
             "#276419"
            ]
           ],
           "sequential": [
            [
             0,
             "#0d0887"
            ],
            [
             0.1111111111111111,
             "#46039f"
            ],
            [
             0.2222222222222222,
             "#7201a8"
            ],
            [
             0.3333333333333333,
             "#9c179e"
            ],
            [
             0.4444444444444444,
             "#bd3786"
            ],
            [
             0.5555555555555556,
             "#d8576b"
            ],
            [
             0.6666666666666666,
             "#ed7953"
            ],
            [
             0.7777777777777778,
             "#fb9f3a"
            ],
            [
             0.8888888888888888,
             "#fdca26"
            ],
            [
             1,
             "#f0f921"
            ]
           ],
           "sequentialminus": [
            [
             0,
             "#0d0887"
            ],
            [
             0.1111111111111111,
             "#46039f"
            ],
            [
             0.2222222222222222,
             "#7201a8"
            ],
            [
             0.3333333333333333,
             "#9c179e"
            ],
            [
             0.4444444444444444,
             "#bd3786"
            ],
            [
             0.5555555555555556,
             "#d8576b"
            ],
            [
             0.6666666666666666,
             "#ed7953"
            ],
            [
             0.7777777777777778,
             "#fb9f3a"
            ],
            [
             0.8888888888888888,
             "#fdca26"
            ],
            [
             1,
             "#f0f921"
            ]
           ]
          },
          "colorway": [
           "#636efa",
           "#EF553B",
           "#00cc96",
           "#ab63fa",
           "#FFA15A",
           "#19d3f3",
           "#FF6692",
           "#B6E880",
           "#FF97FF",
           "#FECB52"
          ],
          "font": {
           "color": "#2a3f5f"
          },
          "geo": {
           "bgcolor": "white",
           "lakecolor": "white",
           "landcolor": "#E5ECF6",
           "showlakes": true,
           "showland": true,
           "subunitcolor": "white"
          },
          "hoverlabel": {
           "align": "left"
          },
          "hovermode": "closest",
          "mapbox": {
           "style": "light"
          },
          "paper_bgcolor": "white",
          "plot_bgcolor": "#E5ECF6",
          "polar": {
           "angularaxis": {
            "gridcolor": "white",
            "linecolor": "white",
            "ticks": ""
           },
           "bgcolor": "#E5ECF6",
           "radialaxis": {
            "gridcolor": "white",
            "linecolor": "white",
            "ticks": ""
           }
          },
          "scene": {
           "xaxis": {
            "backgroundcolor": "#E5ECF6",
            "gridcolor": "white",
            "gridwidth": 2,
            "linecolor": "white",
            "showbackground": true,
            "ticks": "",
            "zerolinecolor": "white"
           },
           "yaxis": {
            "backgroundcolor": "#E5ECF6",
            "gridcolor": "white",
            "gridwidth": 2,
            "linecolor": "white",
            "showbackground": true,
            "ticks": "",
            "zerolinecolor": "white"
           },
           "zaxis": {
            "backgroundcolor": "#E5ECF6",
            "gridcolor": "white",
            "gridwidth": 2,
            "linecolor": "white",
            "showbackground": true,
            "ticks": "",
            "zerolinecolor": "white"
           }
          },
          "shapedefaults": {
           "line": {
            "color": "#2a3f5f"
           }
          },
          "ternary": {
           "aaxis": {
            "gridcolor": "white",
            "linecolor": "white",
            "ticks": ""
           },
           "baxis": {
            "gridcolor": "white",
            "linecolor": "white",
            "ticks": ""
           },
           "bgcolor": "#E5ECF6",
           "caxis": {
            "gridcolor": "white",
            "linecolor": "white",
            "ticks": ""
           }
          },
          "title": {
           "x": 0.05
          },
          "xaxis": {
           "automargin": true,
           "gridcolor": "white",
           "linecolor": "white",
           "ticks": "",
           "title": {
            "standoff": 15
           },
           "zerolinecolor": "white",
           "zerolinewidth": 2
          },
          "yaxis": {
           "automargin": true,
           "gridcolor": "white",
           "linecolor": "white",
           "ticks": "",
           "title": {
            "standoff": 15
           },
           "zerolinecolor": "white",
           "zerolinewidth": 2
          }
         }
        },
        "title": {
         "text": "Emissões por Gás"
        },
        "xaxis": {
         "anchor": "y",
         "domain": [
          0,
          1
         ],
         "tickangle": 45,
         "title": {
          "text": "Gás"
         }
        },
        "yaxis": {
         "anchor": "x",
         "domain": [
          0,
          1
         ],
         "title": {
          "text": "Emissão"
         }
        }
       }
      }
     },
     "metadata": {},
     "output_type": "display_data"
    }
   ],
   "source": [
    "import plotly.express as px\n",
    "\n",
    "# Trazendo Gás do índice para uma coluna, para que o plotly entenda:\n",
    "if emissao_por_gas.index.name == \"Gás\":\n",
    "    emissao_por_gas = emissao_por_gas.reset_index()\n",
    "\n",
    "fig = px.bar(\n",
    "    emissao_por_gas,\n",
    "    x=\"Gás\",\n",
    "    y=\"Emissão\",\n",
    "    title=\"Emissões por Gás\",\n",
    ")\n",
    "\n",
    "# (opcional) Melhorarando a leitura\n",
    "fig.update_xaxes(tickangle=45)\n",
    "fig.show()"
   ]
  },
  {
   "cell_type": "markdown",
   "id": "ea525f7d",
   "metadata": {},
   "source": [
    "Analisando a proporção da emisão de gases CO2 com outros gases."
   ]
  },
  {
   "cell_type": "code",
   "execution_count": 27,
   "id": "9269f55c",
   "metadata": {},
   "outputs": [
    {
     "data": {
      "text/html": [
       "<div>\n",
       "<style scoped>\n",
       "    .dataframe tbody tr th:only-of-type {\n",
       "        vertical-align: middle;\n",
       "    }\n",
       "\n",
       "    .dataframe tbody tr th {\n",
       "        vertical-align: top;\n",
       "    }\n",
       "\n",
       "    .dataframe thead th {\n",
       "        text-align: right;\n",
       "    }\n",
       "</style>\n",
       "<table border=\"1\" class=\"dataframe\">\n",
       "  <thead>\n",
       "    <tr style=\"text-align: right;\">\n",
       "      <th></th>\n",
       "      <th>Gás</th>\n",
       "      <th>Emissão</th>\n",
       "    </tr>\n",
       "  </thead>\n",
       "  <tbody>\n",
       "    <tr>\n",
       "      <th>0</th>\n",
       "      <td>CO2e (t) GWP-AR5</td>\n",
       "      <td>8.181375e+10</td>\n",
       "    </tr>\n",
       "    <tr>\n",
       "      <th>1</th>\n",
       "      <td>CO2e (t) GWP-AR6</td>\n",
       "      <td>8.132316e+10</td>\n",
       "    </tr>\n",
       "    <tr>\n",
       "      <th>2</th>\n",
       "      <td>CO2e (t) GWP-AR4</td>\n",
       "      <td>8.015921e+10</td>\n",
       "    </tr>\n",
       "    <tr>\n",
       "      <th>3</th>\n",
       "      <td>CO2e (t) GWP-AR2</td>\n",
       "      <td>7.720596e+10</td>\n",
       "    </tr>\n",
       "    <tr>\n",
       "      <th>4</th>\n",
       "      <td>CO2e (t) GTP-AR4</td>\n",
       "      <td>6.344612e+10</td>\n",
       "    </tr>\n",
       "    <tr>\n",
       "      <th>5</th>\n",
       "      <td>CO2e (t) GTP-AR2</td>\n",
       "      <td>6.344612e+10</td>\n",
       "    </tr>\n",
       "    <tr>\n",
       "      <th>6</th>\n",
       "      <td>CO2e (t) GTP-AR6</td>\n",
       "      <td>6.247859e+10</td>\n",
       "    </tr>\n",
       "    <tr>\n",
       "      <th>7</th>\n",
       "      <td>CO2e (t) GTP-AR5</td>\n",
       "      <td>6.182200e+10</td>\n",
       "    </tr>\n",
       "    <tr>\n",
       "      <th>8</th>\n",
       "      <td>CO2 (t)</td>\n",
       "      <td>5.324636e+10</td>\n",
       "    </tr>\n",
       "  </tbody>\n",
       "</table>\n",
       "</div>"
      ],
      "text/plain": [
       "                Gás       Emissão\n",
       "0  CO2e (t) GWP-AR5  8.181375e+10\n",
       "1  CO2e (t) GWP-AR6  8.132316e+10\n",
       "2  CO2e (t) GWP-AR4  8.015921e+10\n",
       "3  CO2e (t) GWP-AR2  7.720596e+10\n",
       "4  CO2e (t) GTP-AR4  6.344612e+10\n",
       "5  CO2e (t) GTP-AR2  6.344612e+10\n",
       "6  CO2e (t) GTP-AR6  6.247859e+10\n",
       "7  CO2e (t) GTP-AR5  6.182200e+10\n",
       "8           CO2 (t)  5.324636e+10"
      ]
     },
     "execution_count": 27,
     "metadata": {},
     "output_type": "execute_result"
    }
   ],
   "source": [
    "emissao_por_gas.iloc[0:9]"
   ]
  },
  {
   "cell_type": "code",
   "execution_count": 28,
   "id": "78ade95c",
   "metadata": {},
   "outputs": [
    {
     "name": "stdout",
     "output_type": "stream",
     "text": [
      "A emissão de CO2 corresponde a 99.74% do total (1970–2021).\n"
     ]
    }
   ],
   "source": [
    "# garantindo que é numérico\n",
    "emissao = pd.to_numeric(emissao_por_gas['Emissão'], errors='coerce')\n",
    "\n",
    "total = emissao.sum()\n",
    "co2   = emissao_por_gas.loc[\n",
    "    emissao_por_gas['Gás'].str.match(r'^CO2(\\b|e\\b)'), 'Emissão' # \\b para no C02 e e\\b cobre o caso do CO2e\n",
    "].astype(float).sum()\n",
    "\n",
    "pct = co2 / total * 100\n",
    "print(f\"A emissão de CO2 corresponde a {pct:.2f}% do total (1970–2021).\")\n"
   ]
  },
  {
   "cell_type": "markdown",
   "id": "89b07cad",
   "metadata": {},
   "source": [
    "### 03. Agrupamentos multi-index\n",
    "\n",
    "Objetivo: agrupar dados com base em não só 1, mas DUAS colunas do data frame ao mesmo tmepo.\n",
    "\n",
    "* Descobrir quais são os setores econômicos mais poluentes para cada tipo de gás  \n",
    "* Quais são os gases mais poluentes para cada setor econômico"
   ]
  },
  {
   "cell_type": "code",
   "execution_count": 29,
   "id": "de8bbf29",
   "metadata": {},
   "outputs": [
    {
     "data": {
      "text/html": [
       "<div>\n",
       "<style scoped>\n",
       "    .dataframe tbody tr th:only-of-type {\n",
       "        vertical-align: middle;\n",
       "    }\n",
       "\n",
       "    .dataframe tbody tr th {\n",
       "        vertical-align: top;\n",
       "    }\n",
       "\n",
       "    .dataframe thead th {\n",
       "        text-align: right;\n",
       "    }\n",
       "</style>\n",
       "<table border=\"1\" class=\"dataframe\">\n",
       "  <thead>\n",
       "    <tr style=\"text-align: right;\">\n",
       "      <th></th>\n",
       "      <th></th>\n",
       "      <th>Emissão</th>\n",
       "    </tr>\n",
       "    <tr>\n",
       "      <th>Gás</th>\n",
       "      <th>Nível 1 - Setor</th>\n",
       "      <th></th>\n",
       "    </tr>\n",
       "  </thead>\n",
       "  <tbody>\n",
       "    <tr>\n",
       "      <th>C2F6 (t)</th>\n",
       "      <th>Processos Industriais</th>\n",
       "      <td>5.765018e+02</td>\n",
       "    </tr>\n",
       "    <tr>\n",
       "      <th>CF4 (t)</th>\n",
       "      <th>Processos Industriais</th>\n",
       "      <td>7.135481e+03</td>\n",
       "    </tr>\n",
       "    <tr>\n",
       "      <th rowspan=\"3\" valign=\"top\">CH4 (t)</th>\n",
       "      <th>Agropecuária</th>\n",
       "      <td>5.928481e+08</td>\n",
       "    </tr>\n",
       "    <tr>\n",
       "      <th>Energia</th>\n",
       "      <td>3.429034e+07</td>\n",
       "    </tr>\n",
       "    <tr>\n",
       "      <th>Mudança de Uso da Terra e Floresta</th>\n",
       "      <td>8.662166e+07</td>\n",
       "    </tr>\n",
       "    <tr>\n",
       "      <th>...</th>\n",
       "      <th>...</th>\n",
       "      <td>...</td>\n",
       "    </tr>\n",
       "    <tr>\n",
       "      <th>N2O (t)</th>\n",
       "      <th>Resíduos</th>\n",
       "      <td>2.764127e+05</td>\n",
       "    </tr>\n",
       "    <tr>\n",
       "      <th rowspan=\"3\" valign=\"top\">NOx (t)</th>\n",
       "      <th>Agropecuária</th>\n",
       "      <td>2.602719e+06</td>\n",
       "    </tr>\n",
       "    <tr>\n",
       "      <th>Energia</th>\n",
       "      <td>9.361215e+07</td>\n",
       "    </tr>\n",
       "    <tr>\n",
       "      <th>Processos Industriais</th>\n",
       "      <td>3.546360e+06</td>\n",
       "    </tr>\n",
       "    <tr>\n",
       "      <th>SF6 (t)</th>\n",
       "      <th>Processos Industriais</th>\n",
       "      <td>4.705800e+02</td>\n",
       "    </tr>\n",
       "  </tbody>\n",
       "</table>\n",
       "<p>72 rows × 1 columns</p>\n",
       "</div>"
      ],
      "text/plain": [
       "                                                  Emissão\n",
       "Gás      Nível 1 - Setor                                 \n",
       "C2F6 (t) Processos Industriais               5.765018e+02\n",
       "CF4 (t)  Processos Industriais               7.135481e+03\n",
       "CH4 (t)  Agropecuária                        5.928481e+08\n",
       "         Energia                             3.429034e+07\n",
       "         Mudança de Uso da Terra e Floresta  8.662166e+07\n",
       "...                                                   ...\n",
       "N2O (t)  Resíduos                            2.764127e+05\n",
       "NOx (t)  Agropecuária                        2.602719e+06\n",
       "         Energia                             9.361215e+07\n",
       "         Processos Industriais               3.546360e+06\n",
       "SF6 (t)  Processos Industriais               4.705800e+02\n",
       "\n",
       "[72 rows x 1 columns]"
      ]
     },
     "execution_count": 29,
     "metadata": {},
     "output_type": "execute_result"
    }
   ],
   "source": [
    "# Agrupa por Gás e Nível 1 - Setor e soma a Emissão\n",
    "gas_por_setor = emissoes_por_ano.groupby(['Gás', 'Nível 1 - Setor'])[['Emissão']].sum()\n",
    "gas_por_setor\n",
    "\n",
    "# Retorna uma tabela multi index"
   ]
  },
  {
   "cell_type": "markdown",
   "id": "c7ab36e8",
   "metadata": {},
   "source": [
    "Para descobrir o setor que emite a maior quantidade de CO2, podemos realizar uma seleção específica do gás CO2 com o uso do método cross-section (xs()), extraindo a partir disso o valor máximo e índice máximo com os métodos max()e idmax()"
   ]
  },
  {
   "cell_type": "code",
   "execution_count": 30,
   "id": "88ad0080",
   "metadata": {},
   "outputs": [
    {
     "data": {
      "text/html": [
       "<div>\n",
       "<style scoped>\n",
       "    .dataframe tbody tr th:only-of-type {\n",
       "        vertical-align: middle;\n",
       "    }\n",
       "\n",
       "    .dataframe tbody tr th {\n",
       "        vertical-align: top;\n",
       "    }\n",
       "\n",
       "    .dataframe thead th {\n",
       "        text-align: right;\n",
       "    }\n",
       "</style>\n",
       "<table border=\"1\" class=\"dataframe\">\n",
       "  <thead>\n",
       "    <tr style=\"text-align: right;\">\n",
       "      <th></th>\n",
       "      <th>Emissão</th>\n",
       "    </tr>\n",
       "    <tr>\n",
       "      <th>Nível 1 - Setor</th>\n",
       "      <th></th>\n",
       "    </tr>\n",
       "  </thead>\n",
       "  <tbody>\n",
       "    <tr>\n",
       "      <th>Agropecuária</th>\n",
       "      <td>5.411750e+08</td>\n",
       "    </tr>\n",
       "    <tr>\n",
       "      <th>Energia</th>\n",
       "      <td>1.261352e+10</td>\n",
       "    </tr>\n",
       "    <tr>\n",
       "      <th>Mudança de Uso da Terra e Floresta</th>\n",
       "      <td>3.733930e+10</td>\n",
       "    </tr>\n",
       "    <tr>\n",
       "      <th>Processos Industriais</th>\n",
       "      <td>2.729603e+09</td>\n",
       "    </tr>\n",
       "    <tr>\n",
       "      <th>Resíduos</th>\n",
       "      <td>2.276264e+07</td>\n",
       "    </tr>\n",
       "  </tbody>\n",
       "</table>\n",
       "</div>"
      ],
      "text/plain": [
       "                                         Emissão\n",
       "Nível 1 - Setor                                 \n",
       "Agropecuária                        5.411750e+08\n",
       "Energia                             1.261352e+10\n",
       "Mudança de Uso da Terra e Floresta  3.733930e+10\n",
       "Processos Industriais               2.729603e+09\n",
       "Resíduos                            2.276264e+07"
      ]
     },
     "execution_count": 30,
     "metadata": {},
     "output_type": "execute_result"
    }
   ],
   "source": [
    "# Identificando o Gás mais poluente por setor\n",
    "gas_por_setor.xs('CO2 (t)', level = 0)"
   ]
  },
  {
   "cell_type": "code",
   "execution_count": 31,
   "id": "78d992b9",
   "metadata": {},
   "outputs": [
    {
     "data": {
      "text/html": [
       "<div>\n",
       "<style scoped>\n",
       "    .dataframe tbody tr th:only-of-type {\n",
       "        vertical-align: middle;\n",
       "    }\n",
       "\n",
       "    .dataframe tbody tr th {\n",
       "        vertical-align: top;\n",
       "    }\n",
       "\n",
       "    .dataframe thead th {\n",
       "        text-align: right;\n",
       "    }\n",
       "</style>\n",
       "<table border=\"1\" class=\"dataframe\">\n",
       "  <thead>\n",
       "    <tr style=\"text-align: right;\">\n",
       "      <th></th>\n",
       "      <th></th>\n",
       "      <th>Emissão</th>\n",
       "    </tr>\n",
       "    <tr>\n",
       "      <th>Gás</th>\n",
       "      <th>Nível 1 - Setor</th>\n",
       "      <th></th>\n",
       "    </tr>\n",
       "  </thead>\n",
       "  <tbody>\n",
       "    <tr>\n",
       "      <th>CO2 (t)</th>\n",
       "      <th>Mudança de Uso da Terra e Floresta</th>\n",
       "      <td>3.733930e+10</td>\n",
       "    </tr>\n",
       "  </tbody>\n",
       "</table>\n",
       "</div>"
      ],
      "text/plain": [
       "                                                 Emissão\n",
       "Gás     Nível 1 - Setor                                 \n",
       "CO2 (t) Mudança de Uso da Terra e Floresta  3.733930e+10"
      ]
     },
     "execution_count": 31,
     "metadata": {},
     "output_type": "execute_result"
    }
   ],
   "source": [
    "# Selecionando somente o setor que tem maior emissão de CO2\n",
    "gas_por_setor.xs(('CO2 (t)', 'Mudança de Uso da Terra e Floresta'), level =[0, 1])"
   ]
  },
  {
   "cell_type": "code",
   "execution_count": 32,
   "id": "00f0f5e2",
   "metadata": {},
   "outputs": [
    {
     "data": {
      "text/plain": [
       "Emissão    3.733930e+10\n",
       "dtype: float64"
      ]
     },
     "execution_count": 32,
     "metadata": {},
     "output_type": "execute_result"
    }
   ],
   "source": [
    "# Selecionando de forma mais automática com .max()\n",
    "gas_por_setor.xs('CO2 (t)', level = 0).max()"
   ]
  },
  {
   "cell_type": "code",
   "execution_count": 33,
   "id": "ab0da678",
   "metadata": {},
   "outputs": [
    {
     "data": {
      "text/plain": [
       "Emissão    Mudança de Uso da Terra e Floresta\n",
       "dtype: object"
      ]
     },
     "execution_count": 33,
     "metadata": {},
     "output_type": "execute_result"
    }
   ],
   "source": [
    "# Usando o .idxmax()\n",
    "gas_por_setor.xs('CO2 (t)', level = 0).idxmax()"
   ]
  },
  {
   "cell_type": "markdown",
   "id": "9513d756",
   "metadata": {},
   "source": [
    "Agora vamos agrupar as informações da tabela 'gas_por_setor' pelo tipo de gás."
   ]
  },
  {
   "cell_type": "code",
   "execution_count": 34,
   "id": "b9aad0fe",
   "metadata": {},
   "outputs": [
    {
     "data": {
      "text/html": [
       "<div>\n",
       "<style scoped>\n",
       "    .dataframe tbody tr th:only-of-type {\n",
       "        vertical-align: middle;\n",
       "    }\n",
       "\n",
       "    .dataframe tbody tr th {\n",
       "        vertical-align: top;\n",
       "    }\n",
       "\n",
       "    .dataframe thead th {\n",
       "        text-align: right;\n",
       "    }\n",
       "</style>\n",
       "<table border=\"1\" class=\"dataframe\">\n",
       "  <thead>\n",
       "    <tr style=\"text-align: right;\">\n",
       "      <th></th>\n",
       "      <th>Emissão</th>\n",
       "    </tr>\n",
       "    <tr>\n",
       "      <th>Gás</th>\n",
       "      <th></th>\n",
       "    </tr>\n",
       "  </thead>\n",
       "  <tbody>\n",
       "    <tr>\n",
       "      <th>C2F6 (t)</th>\n",
       "      <td>(C2F6 (t), Processos Industriais)</td>\n",
       "    </tr>\n",
       "    <tr>\n",
       "      <th>CF4 (t)</th>\n",
       "      <td>(CF4 (t), Processos Industriais)</td>\n",
       "    </tr>\n",
       "    <tr>\n",
       "      <th>CH4 (t)</th>\n",
       "      <td>(CH4 (t), Agropecuária)</td>\n",
       "    </tr>\n",
       "    <tr>\n",
       "      <th>CO (t)</th>\n",
       "      <td>(CO (t), Energia)</td>\n",
       "    </tr>\n",
       "    <tr>\n",
       "      <th>CO2 (t)</th>\n",
       "      <td>(CO2 (t), Mudança de Uso da Terra e Floresta)</td>\n",
       "    </tr>\n",
       "    <tr>\n",
       "      <th>CO2e (t) GTP-AR2</th>\n",
       "      <td>(CO2e (t) GTP-AR2, Mudança de Uso da Terra e F...</td>\n",
       "    </tr>\n",
       "    <tr>\n",
       "      <th>CO2e (t) GTP-AR4</th>\n",
       "      <td>(CO2e (t) GTP-AR4, Mudança de Uso da Terra e F...</td>\n",
       "    </tr>\n",
       "    <tr>\n",
       "      <th>CO2e (t) GTP-AR5</th>\n",
       "      <td>(CO2e (t) GTP-AR5, Mudança de Uso da Terra e F...</td>\n",
       "    </tr>\n",
       "    <tr>\n",
       "      <th>CO2e (t) GTP-AR6</th>\n",
       "      <td>(CO2e (t) GTP-AR6, Mudança de Uso da Terra e F...</td>\n",
       "    </tr>\n",
       "    <tr>\n",
       "      <th>CO2e (t) GWP-AR2</th>\n",
       "      <td>(CO2e (t) GWP-AR2, Mudança de Uso da Terra e F...</td>\n",
       "    </tr>\n",
       "    <tr>\n",
       "      <th>CO2e (t) GWP-AR4</th>\n",
       "      <td>(CO2e (t) GWP-AR4, Mudança de Uso da Terra e F...</td>\n",
       "    </tr>\n",
       "    <tr>\n",
       "      <th>CO2e (t) GWP-AR5</th>\n",
       "      <td>(CO2e (t) GWP-AR5, Mudança de Uso da Terra e F...</td>\n",
       "    </tr>\n",
       "    <tr>\n",
       "      <th>CO2e (t) GWP-AR6</th>\n",
       "      <td>(CO2e (t) GWP-AR6, Mudança de Uso da Terra e F...</td>\n",
       "    </tr>\n",
       "    <tr>\n",
       "      <th>COVNM (t)</th>\n",
       "      <td>(COVNM (t), Processos Industriais)</td>\n",
       "    </tr>\n",
       "    <tr>\n",
       "      <th>HFC-125 (t)</th>\n",
       "      <td>(HFC-125 (t), Processos Industriais)</td>\n",
       "    </tr>\n",
       "    <tr>\n",
       "      <th>HFC-134a (t)</th>\n",
       "      <td>(HFC-134a (t), Processos Industriais)</td>\n",
       "    </tr>\n",
       "    <tr>\n",
       "      <th>HFC-143a (t)</th>\n",
       "      <td>(HFC-143a (t), Processos Industriais)</td>\n",
       "    </tr>\n",
       "    <tr>\n",
       "      <th>HFC-152a (t)</th>\n",
       "      <td>(HFC-152a (t), Processos Industriais)</td>\n",
       "    </tr>\n",
       "    <tr>\n",
       "      <th>HFC-23 (t)</th>\n",
       "      <td>(HFC-23 (t), Processos Industriais)</td>\n",
       "    </tr>\n",
       "    <tr>\n",
       "      <th>HFC-32 (t)</th>\n",
       "      <td>(HFC-32 (t), Processos Industriais)</td>\n",
       "    </tr>\n",
       "    <tr>\n",
       "      <th>N2O (t)</th>\n",
       "      <td>(N2O (t), Agropecuária)</td>\n",
       "    </tr>\n",
       "    <tr>\n",
       "      <th>NOx (t)</th>\n",
       "      <td>(NOx (t), Energia)</td>\n",
       "    </tr>\n",
       "    <tr>\n",
       "      <th>SF6 (t)</th>\n",
       "      <td>(SF6 (t), Processos Industriais)</td>\n",
       "    </tr>\n",
       "  </tbody>\n",
       "</table>\n",
       "</div>"
      ],
      "text/plain": [
       "                                                            Emissão\n",
       "Gás                                                                \n",
       "C2F6 (t)                          (C2F6 (t), Processos Industriais)\n",
       "CF4 (t)                            (CF4 (t), Processos Industriais)\n",
       "CH4 (t)                                     (CH4 (t), Agropecuária)\n",
       "CO (t)                                            (CO (t), Energia)\n",
       "CO2 (t)               (CO2 (t), Mudança de Uso da Terra e Floresta)\n",
       "CO2e (t) GTP-AR2  (CO2e (t) GTP-AR2, Mudança de Uso da Terra e F...\n",
       "CO2e (t) GTP-AR4  (CO2e (t) GTP-AR4, Mudança de Uso da Terra e F...\n",
       "CO2e (t) GTP-AR5  (CO2e (t) GTP-AR5, Mudança de Uso da Terra e F...\n",
       "CO2e (t) GTP-AR6  (CO2e (t) GTP-AR6, Mudança de Uso da Terra e F...\n",
       "CO2e (t) GWP-AR2  (CO2e (t) GWP-AR2, Mudança de Uso da Terra e F...\n",
       "CO2e (t) GWP-AR4  (CO2e (t) GWP-AR4, Mudança de Uso da Terra e F...\n",
       "CO2e (t) GWP-AR5  (CO2e (t) GWP-AR5, Mudança de Uso da Terra e F...\n",
       "CO2e (t) GWP-AR6  (CO2e (t) GWP-AR6, Mudança de Uso da Terra e F...\n",
       "COVNM (t)                        (COVNM (t), Processos Industriais)\n",
       "HFC-125 (t)                    (HFC-125 (t), Processos Industriais)\n",
       "HFC-134a (t)                  (HFC-134a (t), Processos Industriais)\n",
       "HFC-143a (t)                  (HFC-143a (t), Processos Industriais)\n",
       "HFC-152a (t)                  (HFC-152a (t), Processos Industriais)\n",
       "HFC-23 (t)                      (HFC-23 (t), Processos Industriais)\n",
       "HFC-32 (t)                      (HFC-32 (t), Processos Industriais)\n",
       "N2O (t)                                     (N2O (t), Agropecuária)\n",
       "NOx (t)                                          (NOx (t), Energia)\n",
       "SF6 (t)                            (SF6 (t), Processos Industriais)"
      ]
     },
     "execution_count": 34,
     "metadata": {},
     "output_type": "execute_result"
    }
   ],
   "source": [
    "# Agrupa por Gás (0) e obtem índice de onde tem mais emissão \n",
    "gas_por_setor.groupby(level = 0).idxmax()"
   ]
  },
  {
   "cell_type": "code",
   "execution_count": 35,
   "id": "885cbf6c",
   "metadata": {},
   "outputs": [
    {
     "data": {
      "text/html": [
       "<div>\n",
       "<style scoped>\n",
       "    .dataframe tbody tr th:only-of-type {\n",
       "        vertical-align: middle;\n",
       "    }\n",
       "\n",
       "    .dataframe tbody tr th {\n",
       "        vertical-align: top;\n",
       "    }\n",
       "\n",
       "    .dataframe thead th {\n",
       "        text-align: right;\n",
       "    }\n",
       "</style>\n",
       "<table border=\"1\" class=\"dataframe\">\n",
       "  <thead>\n",
       "    <tr style=\"text-align: right;\">\n",
       "      <th></th>\n",
       "      <th>Emissão</th>\n",
       "    </tr>\n",
       "    <tr>\n",
       "      <th>Gás</th>\n",
       "      <th></th>\n",
       "    </tr>\n",
       "  </thead>\n",
       "  <tbody>\n",
       "    <tr>\n",
       "      <th>C2F6 (t)</th>\n",
       "      <td>5.765018e+02</td>\n",
       "    </tr>\n",
       "    <tr>\n",
       "      <th>CF4 (t)</th>\n",
       "      <td>7.135481e+03</td>\n",
       "    </tr>\n",
       "    <tr>\n",
       "      <th>CH4 (t)</th>\n",
       "      <td>5.928481e+08</td>\n",
       "    </tr>\n",
       "    <tr>\n",
       "      <th>CO (t)</th>\n",
       "      <td>3.959769e+08</td>\n",
       "    </tr>\n",
       "    <tr>\n",
       "      <th>CO2 (t)</th>\n",
       "      <td>3.733930e+10</td>\n",
       "    </tr>\n",
       "    <tr>\n",
       "      <th>CO2e (t) GTP-AR2</th>\n",
       "      <td>3.850044e+10</td>\n",
       "    </tr>\n",
       "    <tr>\n",
       "      <th>CO2e (t) GTP-AR4</th>\n",
       "      <td>3.850044e+10</td>\n",
       "    </tr>\n",
       "    <tr>\n",
       "      <th>CO2e (t) GTP-AR5</th>\n",
       "      <td>3.831675e+10</td>\n",
       "    </tr>\n",
       "    <tr>\n",
       "      <th>CO2e (t) GTP-AR6</th>\n",
       "      <td>3.843359e+10</td>\n",
       "    </tr>\n",
       "    <tr>\n",
       "      <th>CO2e (t) GWP-AR2</th>\n",
       "      <td>3.999424e+10</td>\n",
       "    </tr>\n",
       "    <tr>\n",
       "      <th>CO2e (t) GWP-AR4</th>\n",
       "      <td>4.030837e+10</td>\n",
       "    </tr>\n",
       "    <tr>\n",
       "      <th>CO2e (t) GWP-AR5</th>\n",
       "      <td>4.051523e+10</td>\n",
       "    </tr>\n",
       "    <tr>\n",
       "      <th>CO2e (t) GWP-AR6</th>\n",
       "      <td>4.049216e+10</td>\n",
       "    </tr>\n",
       "    <tr>\n",
       "      <th>COVNM (t)</th>\n",
       "      <td>1.608623e+08</td>\n",
       "    </tr>\n",
       "    <tr>\n",
       "      <th>HFC-125 (t)</th>\n",
       "      <td>9.795580e+03</td>\n",
       "    </tr>\n",
       "    <tr>\n",
       "      <th>HFC-134a (t)</th>\n",
       "      <td>1.394731e+05</td>\n",
       "    </tr>\n",
       "    <tr>\n",
       "      <th>HFC-143a (t)</th>\n",
       "      <td>9.039400e+03</td>\n",
       "    </tr>\n",
       "    <tr>\n",
       "      <th>HFC-152a (t)</th>\n",
       "      <td>5.706000e+02</td>\n",
       "    </tr>\n",
       "    <tr>\n",
       "      <th>HFC-23 (t)</th>\n",
       "      <td>1.197840e+03</td>\n",
       "    </tr>\n",
       "    <tr>\n",
       "      <th>HFC-32 (t)</th>\n",
       "      <td>2.367750e+03</td>\n",
       "    </tr>\n",
       "    <tr>\n",
       "      <th>N2O (t)</th>\n",
       "      <td>1.774702e+07</td>\n",
       "    </tr>\n",
       "    <tr>\n",
       "      <th>NOx (t)</th>\n",
       "      <td>9.361215e+07</td>\n",
       "    </tr>\n",
       "    <tr>\n",
       "      <th>SF6 (t)</th>\n",
       "      <td>4.705800e+02</td>\n",
       "    </tr>\n",
       "  </tbody>\n",
       "</table>\n",
       "</div>"
      ],
      "text/plain": [
       "                       Emissão\n",
       "Gás                           \n",
       "C2F6 (t)          5.765018e+02\n",
       "CF4 (t)           7.135481e+03\n",
       "CH4 (t)           5.928481e+08\n",
       "CO (t)            3.959769e+08\n",
       "CO2 (t)           3.733930e+10\n",
       "CO2e (t) GTP-AR2  3.850044e+10\n",
       "CO2e (t) GTP-AR4  3.850044e+10\n",
       "CO2e (t) GTP-AR5  3.831675e+10\n",
       "CO2e (t) GTP-AR6  3.843359e+10\n",
       "CO2e (t) GWP-AR2  3.999424e+10\n",
       "CO2e (t) GWP-AR4  4.030837e+10\n",
       "CO2e (t) GWP-AR5  4.051523e+10\n",
       "CO2e (t) GWP-AR6  4.049216e+10\n",
       "COVNM (t)         1.608623e+08\n",
       "HFC-125 (t)       9.795580e+03\n",
       "HFC-134a (t)      1.394731e+05\n",
       "HFC-143a (t)      9.039400e+03\n",
       "HFC-152a (t)      5.706000e+02\n",
       "HFC-23 (t)        1.197840e+03\n",
       "HFC-32 (t)        2.367750e+03\n",
       "N2O (t)           1.774702e+07\n",
       "NOx (t)           9.361215e+07\n",
       "SF6 (t)           4.705800e+02"
      ]
     },
     "execution_count": 35,
     "metadata": {},
     "output_type": "execute_result"
    }
   ],
   "source": [
    "# Agrupa por Gás (0) e traz o valor máximo da emissão\n",
    "gas_por_setor.groupby(level = 0).max()"
   ]
  },
  {
   "cell_type": "markdown",
   "id": "596848de",
   "metadata": {},
   "source": [
    "Agora vamos juntar as informações da quantidade máxima de emissão ao à tabela de Gás, Setor que mais emite."
   ]
  },
  {
   "cell_type": "code",
   "execution_count": 36,
   "id": "8e7e446d",
   "metadata": {},
   "outputs": [],
   "source": [
    "# Armazenando o valor da emissão\n",
    "\n",
    "valores_max = gas_por_setor.groupby(level = 0).max().values"
   ]
  },
  {
   "cell_type": "code",
   "execution_count": 37,
   "id": "91fd3cf0",
   "metadata": {},
   "outputs": [
    {
     "data": {
      "text/html": [
       "<div>\n",
       "<style scoped>\n",
       "    .dataframe tbody tr th:only-of-type {\n",
       "        vertical-align: middle;\n",
       "    }\n",
       "\n",
       "    .dataframe tbody tr th {\n",
       "        vertical-align: top;\n",
       "    }\n",
       "\n",
       "    .dataframe thead th {\n",
       "        text-align: right;\n",
       "    }\n",
       "</style>\n",
       "<table border=\"1\" class=\"dataframe\">\n",
       "  <thead>\n",
       "    <tr style=\"text-align: right;\">\n",
       "      <th></th>\n",
       "      <th>Emissão</th>\n",
       "      <th>Quantidade máxima de emissão</th>\n",
       "    </tr>\n",
       "    <tr>\n",
       "      <th>Gás</th>\n",
       "      <th></th>\n",
       "      <th></th>\n",
       "    </tr>\n",
       "  </thead>\n",
       "  <tbody>\n",
       "    <tr>\n",
       "      <th>C2F6 (t)</th>\n",
       "      <td>(C2F6 (t), Processos Industriais)</td>\n",
       "      <td>5.765018e+02</td>\n",
       "    </tr>\n",
       "    <tr>\n",
       "      <th>CF4 (t)</th>\n",
       "      <td>(CF4 (t), Processos Industriais)</td>\n",
       "      <td>7.135481e+03</td>\n",
       "    </tr>\n",
       "    <tr>\n",
       "      <th>CH4 (t)</th>\n",
       "      <td>(CH4 (t), Agropecuária)</td>\n",
       "      <td>5.928481e+08</td>\n",
       "    </tr>\n",
       "    <tr>\n",
       "      <th>CO (t)</th>\n",
       "      <td>(CO (t), Energia)</td>\n",
       "      <td>3.959769e+08</td>\n",
       "    </tr>\n",
       "    <tr>\n",
       "      <th>CO2 (t)</th>\n",
       "      <td>(CO2 (t), Mudança de Uso da Terra e Floresta)</td>\n",
       "      <td>3.733930e+10</td>\n",
       "    </tr>\n",
       "    <tr>\n",
       "      <th>CO2e (t) GTP-AR2</th>\n",
       "      <td>(CO2e (t) GTP-AR2, Mudança de Uso da Terra e F...</td>\n",
       "      <td>3.850044e+10</td>\n",
       "    </tr>\n",
       "    <tr>\n",
       "      <th>CO2e (t) GTP-AR4</th>\n",
       "      <td>(CO2e (t) GTP-AR4, Mudança de Uso da Terra e F...</td>\n",
       "      <td>3.850044e+10</td>\n",
       "    </tr>\n",
       "    <tr>\n",
       "      <th>CO2e (t) GTP-AR5</th>\n",
       "      <td>(CO2e (t) GTP-AR5, Mudança de Uso da Terra e F...</td>\n",
       "      <td>3.831675e+10</td>\n",
       "    </tr>\n",
       "    <tr>\n",
       "      <th>CO2e (t) GTP-AR6</th>\n",
       "      <td>(CO2e (t) GTP-AR6, Mudança de Uso da Terra e F...</td>\n",
       "      <td>3.843359e+10</td>\n",
       "    </tr>\n",
       "    <tr>\n",
       "      <th>CO2e (t) GWP-AR2</th>\n",
       "      <td>(CO2e (t) GWP-AR2, Mudança de Uso da Terra e F...</td>\n",
       "      <td>3.999424e+10</td>\n",
       "    </tr>\n",
       "    <tr>\n",
       "      <th>CO2e (t) GWP-AR4</th>\n",
       "      <td>(CO2e (t) GWP-AR4, Mudança de Uso da Terra e F...</td>\n",
       "      <td>4.030837e+10</td>\n",
       "    </tr>\n",
       "    <tr>\n",
       "      <th>CO2e (t) GWP-AR5</th>\n",
       "      <td>(CO2e (t) GWP-AR5, Mudança de Uso da Terra e F...</td>\n",
       "      <td>4.051523e+10</td>\n",
       "    </tr>\n",
       "    <tr>\n",
       "      <th>CO2e (t) GWP-AR6</th>\n",
       "      <td>(CO2e (t) GWP-AR6, Mudança de Uso da Terra e F...</td>\n",
       "      <td>4.049216e+10</td>\n",
       "    </tr>\n",
       "    <tr>\n",
       "      <th>COVNM (t)</th>\n",
       "      <td>(COVNM (t), Processos Industriais)</td>\n",
       "      <td>1.608623e+08</td>\n",
       "    </tr>\n",
       "    <tr>\n",
       "      <th>HFC-125 (t)</th>\n",
       "      <td>(HFC-125 (t), Processos Industriais)</td>\n",
       "      <td>9.795580e+03</td>\n",
       "    </tr>\n",
       "    <tr>\n",
       "      <th>HFC-134a (t)</th>\n",
       "      <td>(HFC-134a (t), Processos Industriais)</td>\n",
       "      <td>1.394731e+05</td>\n",
       "    </tr>\n",
       "    <tr>\n",
       "      <th>HFC-143a (t)</th>\n",
       "      <td>(HFC-143a (t), Processos Industriais)</td>\n",
       "      <td>9.039400e+03</td>\n",
       "    </tr>\n",
       "    <tr>\n",
       "      <th>HFC-152a (t)</th>\n",
       "      <td>(HFC-152a (t), Processos Industriais)</td>\n",
       "      <td>5.706000e+02</td>\n",
       "    </tr>\n",
       "    <tr>\n",
       "      <th>HFC-23 (t)</th>\n",
       "      <td>(HFC-23 (t), Processos Industriais)</td>\n",
       "      <td>1.197840e+03</td>\n",
       "    </tr>\n",
       "    <tr>\n",
       "      <th>HFC-32 (t)</th>\n",
       "      <td>(HFC-32 (t), Processos Industriais)</td>\n",
       "      <td>2.367750e+03</td>\n",
       "    </tr>\n",
       "    <tr>\n",
       "      <th>N2O (t)</th>\n",
       "      <td>(N2O (t), Agropecuária)</td>\n",
       "      <td>1.774702e+07</td>\n",
       "    </tr>\n",
       "    <tr>\n",
       "      <th>NOx (t)</th>\n",
       "      <td>(NOx (t), Energia)</td>\n",
       "      <td>9.361215e+07</td>\n",
       "    </tr>\n",
       "    <tr>\n",
       "      <th>SF6 (t)</th>\n",
       "      <td>(SF6 (t), Processos Industriais)</td>\n",
       "      <td>4.705800e+02</td>\n",
       "    </tr>\n",
       "  </tbody>\n",
       "</table>\n",
       "</div>"
      ],
      "text/plain": [
       "                                                            Emissão  \\\n",
       "Gás                                                                   \n",
       "C2F6 (t)                          (C2F6 (t), Processos Industriais)   \n",
       "CF4 (t)                            (CF4 (t), Processos Industriais)   \n",
       "CH4 (t)                                     (CH4 (t), Agropecuária)   \n",
       "CO (t)                                            (CO (t), Energia)   \n",
       "CO2 (t)               (CO2 (t), Mudança de Uso da Terra e Floresta)   \n",
       "CO2e (t) GTP-AR2  (CO2e (t) GTP-AR2, Mudança de Uso da Terra e F...   \n",
       "CO2e (t) GTP-AR4  (CO2e (t) GTP-AR4, Mudança de Uso da Terra e F...   \n",
       "CO2e (t) GTP-AR5  (CO2e (t) GTP-AR5, Mudança de Uso da Terra e F...   \n",
       "CO2e (t) GTP-AR6  (CO2e (t) GTP-AR6, Mudança de Uso da Terra e F...   \n",
       "CO2e (t) GWP-AR2  (CO2e (t) GWP-AR2, Mudança de Uso da Terra e F...   \n",
       "CO2e (t) GWP-AR4  (CO2e (t) GWP-AR4, Mudança de Uso da Terra e F...   \n",
       "CO2e (t) GWP-AR5  (CO2e (t) GWP-AR5, Mudança de Uso da Terra e F...   \n",
       "CO2e (t) GWP-AR6  (CO2e (t) GWP-AR6, Mudança de Uso da Terra e F...   \n",
       "COVNM (t)                        (COVNM (t), Processos Industriais)   \n",
       "HFC-125 (t)                    (HFC-125 (t), Processos Industriais)   \n",
       "HFC-134a (t)                  (HFC-134a (t), Processos Industriais)   \n",
       "HFC-143a (t)                  (HFC-143a (t), Processos Industriais)   \n",
       "HFC-152a (t)                  (HFC-152a (t), Processos Industriais)   \n",
       "HFC-23 (t)                      (HFC-23 (t), Processos Industriais)   \n",
       "HFC-32 (t)                      (HFC-32 (t), Processos Industriais)   \n",
       "N2O (t)                                     (N2O (t), Agropecuária)   \n",
       "NOx (t)                                          (NOx (t), Energia)   \n",
       "SF6 (t)                            (SF6 (t), Processos Industriais)   \n",
       "\n",
       "                  Quantidade máxima de emissão  \n",
       "Gás                                             \n",
       "C2F6 (t)                          5.765018e+02  \n",
       "CF4 (t)                           7.135481e+03  \n",
       "CH4 (t)                           5.928481e+08  \n",
       "CO (t)                            3.959769e+08  \n",
       "CO2 (t)                           3.733930e+10  \n",
       "CO2e (t) GTP-AR2                  3.850044e+10  \n",
       "CO2e (t) GTP-AR4                  3.850044e+10  \n",
       "CO2e (t) GTP-AR5                  3.831675e+10  \n",
       "CO2e (t) GTP-AR6                  3.843359e+10  \n",
       "CO2e (t) GWP-AR2                  3.999424e+10  \n",
       "CO2e (t) GWP-AR4                  4.030837e+10  \n",
       "CO2e (t) GWP-AR5                  4.051523e+10  \n",
       "CO2e (t) GWP-AR6                  4.049216e+10  \n",
       "COVNM (t)                         1.608623e+08  \n",
       "HFC-125 (t)                       9.795580e+03  \n",
       "HFC-134a (t)                      1.394731e+05  \n",
       "HFC-143a (t)                      9.039400e+03  \n",
       "HFC-152a (t)                      5.706000e+02  \n",
       "HFC-23 (t)                        1.197840e+03  \n",
       "HFC-32 (t)                        2.367750e+03  \n",
       "N2O (t)                           1.774702e+07  \n",
       "NOx (t)                           9.361215e+07  \n",
       "SF6 (t)                           4.705800e+02  "
      ]
     },
     "execution_count": 37,
     "metadata": {},
     "output_type": "execute_result"
    }
   ],
   "source": [
    "# Criando a tabela sumarizada\n",
    "\n",
    "tabela_sumarizada = gas_por_setor.groupby(level = 0).idxmax()\n",
    "tabela_sumarizada.insert(1, 'Quantidade máxima de emissão', valores_max)\n",
    "tabela_sumarizada"
   ]
  },
  {
   "cell_type": "code",
   "execution_count": null,
   "id": "ea5c5e15",
   "metadata": {},
   "outputs": [],
   "source": []
  },
  {
   "cell_type": "code",
   "execution_count": 38,
   "id": "0d795318",
   "metadata": {},
   "outputs": [
    {
     "data": {
      "text/html": [
       "<div>\n",
       "<style scoped>\n",
       "    .dataframe tbody tr th:only-of-type {\n",
       "        vertical-align: middle;\n",
       "    }\n",
       "\n",
       "    .dataframe tbody tr th {\n",
       "        vertical-align: top;\n",
       "    }\n",
       "\n",
       "    .dataframe thead th {\n",
       "        text-align: right;\n",
       "    }\n",
       "</style>\n",
       "<table border=\"1\" class=\"dataframe\">\n",
       "  <thead>\n",
       "    <tr style=\"text-align: right;\">\n",
       "      <th></th>\n",
       "      <th></th>\n",
       "      <th>Emissão</th>\n",
       "    </tr>\n",
       "    <tr>\n",
       "      <th>Nível 1 - Setor</th>\n",
       "      <th>Gás</th>\n",
       "      <th></th>\n",
       "    </tr>\n",
       "  </thead>\n",
       "  <tbody>\n",
       "    <tr>\n",
       "      <th rowspan=\"2\" valign=\"top\">Processos Industriais</th>\n",
       "      <th>C2F6 (t)</th>\n",
       "      <td>5.765018e+02</td>\n",
       "    </tr>\n",
       "    <tr>\n",
       "      <th>CF4 (t)</th>\n",
       "      <td>7.135481e+03</td>\n",
       "    </tr>\n",
       "    <tr>\n",
       "      <th>Agropecuária</th>\n",
       "      <th>CH4 (t)</th>\n",
       "      <td>5.928481e+08</td>\n",
       "    </tr>\n",
       "    <tr>\n",
       "      <th>Energia</th>\n",
       "      <th>CH4 (t)</th>\n",
       "      <td>3.429034e+07</td>\n",
       "    </tr>\n",
       "    <tr>\n",
       "      <th>Mudança de Uso da Terra e Floresta</th>\n",
       "      <th>CH4 (t)</th>\n",
       "      <td>8.662166e+07</td>\n",
       "    </tr>\n",
       "    <tr>\n",
       "      <th>...</th>\n",
       "      <th>...</th>\n",
       "      <td>...</td>\n",
       "    </tr>\n",
       "    <tr>\n",
       "      <th>Resíduos</th>\n",
       "      <th>N2O (t)</th>\n",
       "      <td>2.764127e+05</td>\n",
       "    </tr>\n",
       "    <tr>\n",
       "      <th>Agropecuária</th>\n",
       "      <th>NOx (t)</th>\n",
       "      <td>2.602719e+06</td>\n",
       "    </tr>\n",
       "    <tr>\n",
       "      <th>Energia</th>\n",
       "      <th>NOx (t)</th>\n",
       "      <td>9.361215e+07</td>\n",
       "    </tr>\n",
       "    <tr>\n",
       "      <th rowspan=\"2\" valign=\"top\">Processos Industriais</th>\n",
       "      <th>NOx (t)</th>\n",
       "      <td>3.546360e+06</td>\n",
       "    </tr>\n",
       "    <tr>\n",
       "      <th>SF6 (t)</th>\n",
       "      <td>4.705800e+02</td>\n",
       "    </tr>\n",
       "  </tbody>\n",
       "</table>\n",
       "<p>72 rows × 1 columns</p>\n",
       "</div>"
      ],
      "text/plain": [
       "                                                  Emissão\n",
       "Nível 1 - Setor                    Gás                   \n",
       "Processos Industriais              C2F6 (t)  5.765018e+02\n",
       "                                   CF4 (t)   7.135481e+03\n",
       "Agropecuária                       CH4 (t)   5.928481e+08\n",
       "Energia                            CH4 (t)   3.429034e+07\n",
       "Mudança de Uso da Terra e Floresta CH4 (t)   8.662166e+07\n",
       "...                                                   ...\n",
       "Resíduos                           N2O (t)   2.764127e+05\n",
       "Agropecuária                       NOx (t)   2.602719e+06\n",
       "Energia                            NOx (t)   9.361215e+07\n",
       "Processos Industriais              NOx (t)   3.546360e+06\n",
       "                                   SF6 (t)   4.705800e+02\n",
       "\n",
       "[72 rows x 1 columns]"
      ]
     },
     "execution_count": 38,
     "metadata": {},
     "output_type": "execute_result"
    }
   ],
   "source": [
    "gas_por_setor.swaplevel(0, 1)"
   ]
  },
  {
   "cell_type": "code",
   "execution_count": 39,
   "id": "55e1ed74",
   "metadata": {},
   "outputs": [
    {
     "data": {
      "text/html": [
       "<div>\n",
       "<style scoped>\n",
       "    .dataframe tbody tr th:only-of-type {\n",
       "        vertical-align: middle;\n",
       "    }\n",
       "\n",
       "    .dataframe tbody tr th {\n",
       "        vertical-align: top;\n",
       "    }\n",
       "\n",
       "    .dataframe thead th {\n",
       "        text-align: right;\n",
       "    }\n",
       "</style>\n",
       "<table border=\"1\" class=\"dataframe\">\n",
       "  <thead>\n",
       "    <tr style=\"text-align: right;\">\n",
       "      <th></th>\n",
       "      <th>Emissão</th>\n",
       "    </tr>\n",
       "    <tr>\n",
       "      <th>Nível 1 - Setor</th>\n",
       "      <th></th>\n",
       "    </tr>\n",
       "  </thead>\n",
       "  <tbody>\n",
       "    <tr>\n",
       "      <th>Agropecuária</th>\n",
       "      <td>(Agropecuária, CO2e (t) GWP-AR5)</td>\n",
       "    </tr>\n",
       "    <tr>\n",
       "      <th>Energia</th>\n",
       "      <td>(Energia, CO2e (t) GWP-AR6)</td>\n",
       "    </tr>\n",
       "    <tr>\n",
       "      <th>Mudança de Uso da Terra e Floresta</th>\n",
       "      <td>(Mudança de Uso da Terra e Floresta, CO2e (t) ...</td>\n",
       "    </tr>\n",
       "    <tr>\n",
       "      <th>Processos Industriais</th>\n",
       "      <td>(Processos Industriais, CO2e (t) GWP-AR6)</td>\n",
       "    </tr>\n",
       "    <tr>\n",
       "      <th>Resíduos</th>\n",
       "      <td>(Resíduos , CO2e (t) GWP-AR5)</td>\n",
       "    </tr>\n",
       "  </tbody>\n",
       "</table>\n",
       "</div>"
      ],
      "text/plain": [
       "                                                                              Emissão\n",
       "Nível 1 - Setor                                                                      \n",
       "Agropecuária                                         (Agropecuária, CO2e (t) GWP-AR5)\n",
       "Energia                                                   (Energia, CO2e (t) GWP-AR6)\n",
       "Mudança de Uso da Terra e Floresta  (Mudança de Uso da Terra e Floresta, CO2e (t) ...\n",
       "Processos Industriais                       (Processos Industriais, CO2e (t) GWP-AR6)\n",
       "Resíduos                                                (Resíduos , CO2e (t) GWP-AR5)"
      ]
     },
     "execution_count": 39,
     "metadata": {},
     "output_type": "execute_result"
    }
   ],
   "source": [
    "gas_por_setor.swaplevel(0, 1).groupby(level=0).idxmax()"
   ]
  },
  {
   "cell_type": "markdown",
   "id": "4c67080e",
   "metadata": {},
   "source": [
    "Criando visualização para ver se houve crescimento na emissão dos gases por setor ao longo dos anos"
   ]
  },
  {
   "cell_type": "code",
   "execution_count": 40,
   "id": "29fb2006",
   "metadata": {},
   "outputs": [
    {
     "data": {
      "text/html": [
       "<div>\n",
       "<style scoped>\n",
       "    .dataframe tbody tr th:only-of-type {\n",
       "        vertical-align: middle;\n",
       "    }\n",
       "\n",
       "    .dataframe tbody tr th {\n",
       "        vertical-align: top;\n",
       "    }\n",
       "\n",
       "    .dataframe thead th {\n",
       "        text-align: right;\n",
       "    }\n",
       "</style>\n",
       "<table border=\"1\" class=\"dataframe\">\n",
       "  <thead>\n",
       "    <tr style=\"text-align: right;\">\n",
       "      <th></th>\n",
       "      <th>Nível 1 - Setor</th>\n",
       "      <th>Nível 2</th>\n",
       "      <th>Nível 3</th>\n",
       "      <th>Nível 4</th>\n",
       "      <th>Nível 5</th>\n",
       "      <th>Nível 6</th>\n",
       "      <th>Gás</th>\n",
       "      <th>Estado</th>\n",
       "      <th>Atividade Econômica</th>\n",
       "      <th>Produto</th>\n",
       "      <th>Ano</th>\n",
       "      <th>Emissão</th>\n",
       "    </tr>\n",
       "  </thead>\n",
       "  <tbody>\n",
       "    <tr>\n",
       "      <th>0</th>\n",
       "      <td>Processos Industriais</td>\n",
       "      <td>Indústria Química</td>\n",
       "      <td>Produção de ABS</td>\n",
       "      <td>NaN</td>\n",
       "      <td>NaN</td>\n",
       "      <td>NaN</td>\n",
       "      <td>COVNM (t)</td>\n",
       "      <td>SP</td>\n",
       "      <td>OUTRA_IND</td>\n",
       "      <td>NaN</td>\n",
       "      <td>1970</td>\n",
       "      <td>0.0</td>\n",
       "    </tr>\n",
       "    <tr>\n",
       "      <th>1</th>\n",
       "      <td>Processos Industriais</td>\n",
       "      <td>Indústria Química</td>\n",
       "      <td>Produção de Ácido Adípico</td>\n",
       "      <td>NaN</td>\n",
       "      <td>NaN</td>\n",
       "      <td>NaN</td>\n",
       "      <td>N2O (t)</td>\n",
       "      <td>SP</td>\n",
       "      <td>OUTRA_IND</td>\n",
       "      <td>NaN</td>\n",
       "      <td>1970</td>\n",
       "      <td>6210.0</td>\n",
       "    </tr>\n",
       "    <tr>\n",
       "      <th>2</th>\n",
       "      <td>Processos Industriais</td>\n",
       "      <td>Indústria Química</td>\n",
       "      <td>Produção de Ácido Adípico</td>\n",
       "      <td>NaN</td>\n",
       "      <td>NaN</td>\n",
       "      <td>NaN</td>\n",
       "      <td>CO (t)</td>\n",
       "      <td>SP</td>\n",
       "      <td>OUTRA_IND</td>\n",
       "      <td>NaN</td>\n",
       "      <td>1970</td>\n",
       "      <td>368.0</td>\n",
       "    </tr>\n",
       "    <tr>\n",
       "      <th>3</th>\n",
       "      <td>Processos Industriais</td>\n",
       "      <td>Indústria Química</td>\n",
       "      <td>Produção de Ácido Adípico</td>\n",
       "      <td>NaN</td>\n",
       "      <td>NaN</td>\n",
       "      <td>NaN</td>\n",
       "      <td>NOx (t)</td>\n",
       "      <td>SP</td>\n",
       "      <td>OUTRA_IND</td>\n",
       "      <td>NaN</td>\n",
       "      <td>1970</td>\n",
       "      <td>115.0</td>\n",
       "    </tr>\n",
       "    <tr>\n",
       "      <th>4</th>\n",
       "      <td>Processos Industriais</td>\n",
       "      <td>Indústria Química</td>\n",
       "      <td>Produção de Ácido Adípico</td>\n",
       "      <td>NaN</td>\n",
       "      <td>NaN</td>\n",
       "      <td>NaN</td>\n",
       "      <td>CO2e (t) GWP-AR2</td>\n",
       "      <td>SP</td>\n",
       "      <td>OUTRA_IND</td>\n",
       "      <td>NaN</td>\n",
       "      <td>1970</td>\n",
       "      <td>1925100.0</td>\n",
       "    </tr>\n",
       "    <tr>\n",
       "      <th>...</th>\n",
       "      <td>...</td>\n",
       "      <td>...</td>\n",
       "      <td>...</td>\n",
       "      <td>...</td>\n",
       "      <td>...</td>\n",
       "      <td>...</td>\n",
       "      <td>...</td>\n",
       "      <td>...</td>\n",
       "      <td>...</td>\n",
       "      <td>...</td>\n",
       "      <td>...</td>\n",
       "      <td>...</td>\n",
       "    </tr>\n",
       "    <tr>\n",
       "      <th>4926891</th>\n",
       "      <td>Mudança de Uso da Terra e Floresta</td>\n",
       "      <td>Resíduos Florestais</td>\n",
       "      <td>Pantanal</td>\n",
       "      <td>NaN</td>\n",
       "      <td>Desmatamento</td>\n",
       "      <td>NaN</td>\n",
       "      <td>CO2e (t) GWP-AR5</td>\n",
       "      <td>MS</td>\n",
       "      <td>AGROPEC</td>\n",
       "      <td>NaN</td>\n",
       "      <td>2021</td>\n",
       "      <td>1004191.0</td>\n",
       "    </tr>\n",
       "    <tr>\n",
       "      <th>4926892</th>\n",
       "      <td>Mudança de Uso da Terra e Floresta</td>\n",
       "      <td>Resíduos Florestais</td>\n",
       "      <td>Pantanal</td>\n",
       "      <td>NaN</td>\n",
       "      <td>Desmatamento</td>\n",
       "      <td>NaN</td>\n",
       "      <td>CO2e (t) GWP-AR6</td>\n",
       "      <td>MT</td>\n",
       "      <td>AGROPEC</td>\n",
       "      <td>NaN</td>\n",
       "      <td>2021</td>\n",
       "      <td>443120.0</td>\n",
       "    </tr>\n",
       "    <tr>\n",
       "      <th>4926893</th>\n",
       "      <td>Mudança de Uso da Terra e Floresta</td>\n",
       "      <td>Resíduos Florestais</td>\n",
       "      <td>Pantanal</td>\n",
       "      <td>NaN</td>\n",
       "      <td>Desmatamento</td>\n",
       "      <td>NaN</td>\n",
       "      <td>CO2e (t) GWP-AR6</td>\n",
       "      <td>MS</td>\n",
       "      <td>AGROPEC</td>\n",
       "      <td>NaN</td>\n",
       "      <td>2021</td>\n",
       "      <td>1009968.0</td>\n",
       "    </tr>\n",
       "    <tr>\n",
       "      <th>4926894</th>\n",
       "      <td>Mudança de Uso da Terra e Floresta</td>\n",
       "      <td>Resíduos Florestais</td>\n",
       "      <td>Pantanal</td>\n",
       "      <td>NaN</td>\n",
       "      <td>Desmatamento</td>\n",
       "      <td>NaN</td>\n",
       "      <td>N2O (t)</td>\n",
       "      <td>MT</td>\n",
       "      <td>AGROPEC</td>\n",
       "      <td>NaN</td>\n",
       "      <td>2021</td>\n",
       "      <td>479.0</td>\n",
       "    </tr>\n",
       "    <tr>\n",
       "      <th>4926895</th>\n",
       "      <td>Mudança de Uso da Terra e Floresta</td>\n",
       "      <td>Resíduos Florestais</td>\n",
       "      <td>Pantanal</td>\n",
       "      <td>NaN</td>\n",
       "      <td>Desmatamento</td>\n",
       "      <td>NaN</td>\n",
       "      <td>N2O (t)</td>\n",
       "      <td>MS</td>\n",
       "      <td>AGROPEC</td>\n",
       "      <td>NaN</td>\n",
       "      <td>2021</td>\n",
       "      <td>1047.0</td>\n",
       "    </tr>\n",
       "  </tbody>\n",
       "</table>\n",
       "<p>4926896 rows × 12 columns</p>\n",
       "</div>"
      ],
      "text/plain": [
       "                            Nível 1 - Setor              Nível 2  \\\n",
       "0                     Processos Industriais    Indústria Química   \n",
       "1                     Processos Industriais    Indústria Química   \n",
       "2                     Processos Industriais    Indústria Química   \n",
       "3                     Processos Industriais    Indústria Química   \n",
       "4                     Processos Industriais    Indústria Química   \n",
       "...                                     ...                  ...   \n",
       "4926891  Mudança de Uso da Terra e Floresta  Resíduos Florestais   \n",
       "4926892  Mudança de Uso da Terra e Floresta  Resíduos Florestais   \n",
       "4926893  Mudança de Uso da Terra e Floresta  Resíduos Florestais   \n",
       "4926894  Mudança de Uso da Terra e Floresta  Resíduos Florestais   \n",
       "4926895  Mudança de Uso da Terra e Floresta  Resíduos Florestais   \n",
       "\n",
       "                           Nível 3 Nível 4       Nível 5 Nível 6  \\\n",
       "0                  Produção de ABS     NaN           NaN     NaN   \n",
       "1        Produção de Ácido Adípico     NaN           NaN     NaN   \n",
       "2        Produção de Ácido Adípico     NaN           NaN     NaN   \n",
       "3        Produção de Ácido Adípico     NaN           NaN     NaN   \n",
       "4        Produção de Ácido Adípico     NaN           NaN     NaN   \n",
       "...                            ...     ...           ...     ...   \n",
       "4926891                   Pantanal     NaN  Desmatamento     NaN   \n",
       "4926892                   Pantanal     NaN  Desmatamento     NaN   \n",
       "4926893                   Pantanal     NaN  Desmatamento     NaN   \n",
       "4926894                   Pantanal     NaN  Desmatamento     NaN   \n",
       "4926895                   Pantanal     NaN  Desmatamento     NaN   \n",
       "\n",
       "                      Gás Estado Atividade Econômica Produto   Ano    Emissão  \n",
       "0               COVNM (t)     SP           OUTRA_IND     NaN  1970        0.0  \n",
       "1                 N2O (t)     SP           OUTRA_IND     NaN  1970     6210.0  \n",
       "2                  CO (t)     SP           OUTRA_IND     NaN  1970      368.0  \n",
       "3                 NOx (t)     SP           OUTRA_IND     NaN  1970      115.0  \n",
       "4        CO2e (t) GWP-AR2     SP           OUTRA_IND     NaN  1970  1925100.0  \n",
       "...                   ...    ...                 ...     ...   ...        ...  \n",
       "4926891  CO2e (t) GWP-AR5     MS             AGROPEC     NaN  2021  1004191.0  \n",
       "4926892  CO2e (t) GWP-AR6     MT             AGROPEC     NaN  2021   443120.0  \n",
       "4926893  CO2e (t) GWP-AR6     MS             AGROPEC     NaN  2021  1009968.0  \n",
       "4926894           N2O (t)     MT             AGROPEC     NaN  2021      479.0  \n",
       "4926895           N2O (t)     MS             AGROPEC     NaN  2021     1047.0  \n",
       "\n",
       "[4926896 rows x 12 columns]"
      ]
     },
     "execution_count": 40,
     "metadata": {},
     "output_type": "execute_result"
    }
   ],
   "source": [
    "emissoes_por_ano"
   ]
  },
  {
   "cell_type": "code",
   "execution_count": 55,
   "id": "2f469a98",
   "metadata": {},
   "outputs": [
    {
     "data": {
      "image/png": "[encoded data removed]",
      "text/plain": [
       "<Figure size 1000x600 with 1 Axes>"
      ]
     },
     "metadata": {},
     "output_type": "display_data"
    }
   ],
   "source": [
    "# Agrupa por ano e seleciona a coluna com valores para o gráfico\n",
    "emissoes_por_ano.groupby('Ano')[['Emissão']].mean().plot(figsize=(10, 6));"
   ]
  },
  {
   "cell_type": "code",
   "execution_count": null,
   "id": "a82447c4",
   "metadata": {},
   "outputs": [
    {
     "data": {
      "application/vnd.plotly.v1+json": {
       "config": {
        "plotlyServerURL": "https://plot.ly"
       },
       "data": [
        {
         "hovertemplate": "Ano=%{x}<br>Emissão=%{y}<extra></extra>",
         "legendgroup": "",
         "line": {
          "color": "red",
          "dash": "dot"
         },
         "marker": {
          "symbol": "circle"
         },
         "mode": "lines",
         "name": "",
         "orientation": "v",
         "showlegend": false,
         "type": "scatter",
         "x": [
          1970,
          1971,
          1972,
          1973,
          1974,
          1975,
          1976,
          1977,
          1978,
          1979,
          1980,
          1981,
          1982,
          1983,
          1984,
          1985,
          1986,
          1987,
          1988,
          1989,
          1990,
          1991,
          1992,
          1993,
          1994,
          1995,
          1996,
          1997,
          1998,
          1999,
          2000,
          2001,
          2002,
          2003,
          2004,
          2005,
          2006,
          2007,
          2008,
          2009,
          2010,
          2011,
          2012,
          2013,
          2014,
          2015,
          2016,
          2017,
          2018,
          2019,
          2020,
          2021
         ],
         "xaxis": "x",
         "y": [
          22127.81864403376,
          23651.134813064033,
          25177.219717091957,
          27475.521366411045,
          29196.39818166504,
          31402.034191283554,
          33663.40604961402,
          34539.487676536235,
          35947.683695231346,
          37630.71059635709,
          38862.34901485019,
          37858.53057791816,
          38208.64834586052,
          37304.716375102,
          38224.142306190566,
          39518.55604873559,
          42046.89963340001,
          43284.66032326148,
          44274.26900577941,
          45276.97556602044,
          170952.0399221344,
          171426.934092813,
          190460.20016561993,
          177246.0673930997,
          199630.66665043953,
          228503.03272203126,
          201598.0169502978,
          210630.87906674156,
          201263.60000396974,
          200267.57095310904,
          197525.47855494334,
          204008.38473425206,
          215635.59423378654,
          263347.00652186736,
          252487.40577044073,
          220734.03305114305,
          188608.91064301206,
          166841.51739089208,
          166247.4875642983,
          135724.82779785214,
          135917.02577737067,
          139213.36747270517,
          148947.2362153324,
          163551.33892407318,
          158127.12572311625,
          167872.19739718235,
          168719.20288971334,
          155680.26810714763,
          159538.81378687735,
          173924.6967838947,
          174542.40801195442,
          198423.24487585152
         ],
         "yaxis": "y"
        }
       ],
       "layout": {
        "legend": {
         "tracegroupgap": 0
        },
        "template": {
         "data": {
          "bar": [
           {
            "error_x": {
             "color": "#2a3f5f"
            },
            "error_y": {
             "color": "#2a3f5f"
            },
            "marker": {
             "line": {
              "color": "#E5ECF6",
              "width": 0.5
             },
             "pattern": {
              "fillmode": "overlay",
              "size": 10,
              "solidity": 0.2
             }
            },
            "type": "bar"
           }
          ],
          "barpolar": [
           {
            "marker": {
             "line": {
              "color": "#E5ECF6",
              "width": 0.5
             },
             "pattern": {
              "fillmode": "overlay",
              "size": 10,
              "solidity": 0.2
             }
            },
            "type": "barpolar"
           }
          ],
          "carpet": [
           {
            "aaxis": {
             "endlinecolor": "#2a3f5f",
             "gridcolor": "white",
             "linecolor": "white",
             "minorgridcolor": "white",
             "startlinecolor": "#2a3f5f"
            },
            "baxis": {
             "endlinecolor": "#2a3f5f",
             "gridcolor": "white",
             "linecolor": "white",
             "minorgridcolor": "white",
             "startlinecolor": "#2a3f5f"
            },
            "type": "carpet"
           }
          ],
          "choropleth": [
           {
            "colorbar": {
             "outlinewidth": 0,
             "ticks": ""
            },
            "type": "choropleth"
           }
          ],
          "contour": [
           {
            "colorbar": {
             "outlinewidth": 0,
             "ticks": ""
            },
            "colorscale": [
             [
              0,
              "#0d0887"
             ],
             [
              0.1111111111111111,
              "#46039f"
             ],
             [
              0.2222222222222222,
              "#7201a8"
             ],
             [
              0.3333333333333333,
              "#9c179e"
             ],
             [
              0.4444444444444444,
              "#bd3786"
             ],
             [
              0.5555555555555556,
              "#d8576b"
             ],
             [
              0.6666666666666666,
              "#ed7953"
             ],
             [
              0.7777777777777778,
              "#fb9f3a"
             ],
             [
              0.8888888888888888,
              "#fdca26"
             ],
             [
              1,
              "#f0f921"
             ]
            ],
            "type": "contour"
           }
          ],
          "contourcarpet": [
           {
            "colorbar": {
             "outlinewidth": 0,
             "ticks": ""
            },
            "type": "contourcarpet"
           }
          ],
          "heatmap": [
           {
            "colorbar": {
             "outlinewidth": 0,
             "ticks": ""
            },
            "colorscale": [
             [
              0,
              "#0d0887"
             ],
             [
              0.1111111111111111,
              "#46039f"
             ],
             [
              0.2222222222222222,
              "#7201a8"
             ],
             [
              0.3333333333333333,
              "#9c179e"
             ],
             [
              0.4444444444444444,
              "#bd3786"
             ],
             [
              0.5555555555555556,
              "#d8576b"
             ],
             [
              0.6666666666666666,
              "#ed7953"
             ],
             [
              0.7777777777777778,
              "#fb9f3a"
             ],
             [
              0.8888888888888888,
              "#fdca26"
             ],
             [
              1,
              "#f0f921"
             ]
            ],
            "type": "heatmap"
           }
          ],
          "heatmapgl": [
           {
            "colorbar": {
             "outlinewidth": 0,
             "ticks": ""
            },
            "colorscale": [
             [
              0,
              "#0d0887"
             ],
             [
              0.1111111111111111,
              "#46039f"
             ],
             [
              0.2222222222222222,
              "#7201a8"
             ],
             [
              0.3333333333333333,
              "#9c179e"
             ],
             [
              0.4444444444444444,
              "#bd3786"
             ],
             [
              0.5555555555555556,
              "#d8576b"
             ],
             [
              0.6666666666666666,
              "#ed7953"
             ],
             [
              0.7777777777777778,
              "#fb9f3a"
             ],
             [
              0.8888888888888888,
              "#fdca26"
             ],
             [
              1,
              "#f0f921"
             ]
            ],
            "type": "heatmapgl"
           }
          ],
          "histogram": [
           {
            "marker": {
             "pattern": {
              "fillmode": "overlay",
              "size": 10,
              "solidity": 0.2
             }
            },
            "type": "histogram"
           }
          ],
          "histogram2d": [
           {
            "colorbar": {
             "outlinewidth": 0,
             "ticks": ""
            },
            "colorscale": [
             [
              0,
              "#0d0887"
             ],
             [
              0.1111111111111111,
              "#46039f"
             ],
             [
              0.2222222222222222,
              "#7201a8"
             ],
             [
              0.3333333333333333,
              "#9c179e"
             ],
             [
              0.4444444444444444,
              "#bd3786"
             ],
             [
              0.5555555555555556,
              "#d8576b"
             ],
             [
              0.6666666666666666,
              "#ed7953"
             ],
             [
              0.7777777777777778,
              "#fb9f3a"
             ],
             [
              0.8888888888888888,
              "#fdca26"
             ],
             [
              1,
              "#f0f921"
             ]
            ],
            "type": "histogram2d"
           }
          ],
          "histogram2dcontour": [
           {
            "colorbar": {
             "outlinewidth": 0,
             "ticks": ""
            },
            "colorscale": [
             [
              0,
              "#0d0887"
             ],
             [
              0.1111111111111111,
              "#46039f"
             ],
             [
              0.2222222222222222,
              "#7201a8"
             ],
             [
              0.3333333333333333,
              "#9c179e"
             ],
             [
              0.4444444444444444,
              "#bd3786"
             ],
             [
              0.5555555555555556,
              "#d8576b"
             ],
             [
              0.6666666666666666,
              "#ed7953"
             ],
             [
              0.7777777777777778,
              "#fb9f3a"
             ],
             [
              0.8888888888888888,
              "#fdca26"
             ],
             [
              1,
              "#f0f921"
             ]
            ],
            "type": "histogram2dcontour"
           }
          ],
          "mesh3d": [
           {
            "colorbar": {
             "outlinewidth": 0,
             "ticks": ""
            },
            "type": "mesh3d"
           }
          ],
          "parcoords": [
           {
            "line": {
             "colorbar": {
              "outlinewidth": 0,
              "ticks": ""
             }
            },
            "type": "parcoords"
           }
          ],
          "pie": [
           {
            "automargin": true,
            "type": "pie"
           }
          ],
          "scatter": [
           {
            "fillpattern": {
             "fillmode": "overlay",
             "size": 10,
             "solidity": 0.2
            },
            "type": "scatter"
           }
          ],
          "scatter3d": [
           {
            "line": {
             "colorbar": {
              "outlinewidth": 0,
              "ticks": ""
             }
            },
            "marker": {
             "colorbar": {
              "outlinewidth": 0,
              "ticks": ""
             }
            },
            "type": "scatter3d"
           }
          ],
          "scattercarpet": [
           {
            "marker": {
             "colorbar": {
              "outlinewidth": 0,
              "ticks": ""
             }
            },
            "type": "scattercarpet"
           }
          ],
          "scattergeo": [
           {
            "marker": {
             "colorbar": {
              "outlinewidth": 0,
              "ticks": ""
             }
            },
            "type": "scattergeo"
           }
          ],
          "scattergl": [
           {
            "marker": {
             "colorbar": {
              "outlinewidth": 0,
              "ticks": ""
             }
            },
            "type": "scattergl"
           }
          ],
          "scattermapbox": [
           {
            "marker": {
             "colorbar": {
              "outlinewidth": 0,
              "ticks": ""
             }
            },
            "type": "scattermapbox"
           }
          ],
          "scatterpolar": [
           {
            "marker": {
             "colorbar": {
              "outlinewidth": 0,
              "ticks": ""
             }
            },
            "type": "scatterpolar"
           }
          ],
          "scatterpolargl": [
           {
            "marker": {
             "colorbar": {
              "outlinewidth": 0,
              "ticks": ""
             }
            },
            "type": "scatterpolargl"
           }
          ],
          "scatterternary": [
           {
            "marker": {
             "colorbar": {
              "outlinewidth": 0,
              "ticks": ""
             }
            },
            "type": "scatterternary"
           }
          ],
          "surface": [
           {
            "colorbar": {
             "outlinewidth": 0,
             "ticks": ""
            },
            "colorscale": [
             [
              0,
              "#0d0887"
             ],
             [
              0.1111111111111111,
              "#46039f"
             ],
             [
              0.2222222222222222,
              "#7201a8"
             ],
             [
              0.3333333333333333,
              "#9c179e"
             ],
             [
              0.4444444444444444,
              "#bd3786"
             ],
             [
              0.5555555555555556,
              "#d8576b"
             ],
             [
              0.6666666666666666,
              "#ed7953"
             ],
             [
              0.7777777777777778,
              "#fb9f3a"
             ],
             [
              0.8888888888888888,
              "#fdca26"
             ],
             [
              1,
              "#f0f921"
             ]
            ],
            "type": "surface"
           }
          ],
          "table": [
           {
            "cells": {
             "fill": {
              "color": "#EBF0F8"
             },
             "line": {
              "color": "white"
             }
            },
            "header": {
             "fill": {
              "color": "#C8D4E3"
             },
             "line": {
              "color": "white"
             }
            },
            "type": "table"
           }
          ]
         },
         "layout": {
          "annotationdefaults": {
           "arrowcolor": "#2a3f5f",
           "arrowhead": 0,
           "arrowwidth": 1
          },
          "autotypenumbers": "strict",
          "coloraxis": {
           "colorbar": {
            "outlinewidth": 0,
            "ticks": ""
           }
          },
          "colorscale": {
           "diverging": [
            [
             0,
             "#8e0152"
            ],
            [
             0.1,
             "#c51b7d"
            ],
            [
             0.2,
             "#de77ae"
            ],
            [
             0.3,
             "#f1b6da"
            ],
            [
             0.4,
             "#fde0ef"
            ],
            [
             0.5,
             "#f7f7f7"
            ],
            [
             0.6,
             "#e6f5d0"
            ],
            [
             0.7,
             "#b8e186"
            ],
            [
             0.8,
             "#7fbc41"
            ],
            [
             0.9,
             "#4d9221"
            ],
            [
             1,
             "#276419"
            ]
           ],
           "sequential": [
            [
             0,
             "#0d0887"
            ],
            [
             0.1111111111111111,
             "#46039f"
            ],
            [
             0.2222222222222222,
             "#7201a8"
            ],
            [
             0.3333333333333333,
             "#9c179e"
            ],
            [
             0.4444444444444444,
             "#bd3786"
            ],
            [
             0.5555555555555556,
             "#d8576b"
            ],
            [
             0.6666666666666666,
             "#ed7953"
            ],
            [
             0.7777777777777778,
             "#fb9f3a"
            ],
            [
             0.8888888888888888,
             "#fdca26"
            ],
            [
             1,
             "#f0f921"
            ]
           ],
           "sequentialminus": [
            [
             0,
             "#0d0887"
            ],
            [
             0.1111111111111111,
             "#46039f"
            ],
            [
             0.2222222222222222,
             "#7201a8"
            ],
            [
             0.3333333333333333,
             "#9c179e"
            ],
            [
             0.4444444444444444,
             "#bd3786"
            ],
            [
             0.5555555555555556,
             "#d8576b"
            ],
            [
             0.6666666666666666,
             "#ed7953"
            ],
            [
             0.7777777777777778,
             "#fb9f3a"
            ],
            [
             0.8888888888888888,
             "#fdca26"
            ],
            [
             1,
             "#f0f921"
            ]
           ]
          },
          "colorway": [
           "#636efa",
           "#EF553B",
           "#00cc96",
           "#ab63fa",
           "#FFA15A",
           "#19d3f3",
           "#FF6692",
           "#B6E880",
           "#FF97FF",
           "#FECB52"
          ],
          "font": {
           "color": "#2a3f5f"
          },
          "geo": {
           "bgcolor": "white",
           "lakecolor": "white",
           "landcolor": "#E5ECF6",
           "showlakes": true,
           "showland": true,
           "subunitcolor": "white"
          },
          "hoverlabel": {
           "align": "left"
          },
          "hovermode": "closest",
          "mapbox": {
           "style": "light"
          },
          "paper_bgcolor": "white",
          "plot_bgcolor": "#E5ECF6",
          "polar": {
           "angularaxis": {
            "gridcolor": "white",
            "linecolor": "white",
            "ticks": ""
           },
           "bgcolor": "#E5ECF6",
           "radialaxis": {
            "gridcolor": "white",
            "linecolor": "white",
            "ticks": ""
           }
          },
          "scene": {
           "xaxis": {
            "backgroundcolor": "#E5ECF6",
            "gridcolor": "white",
            "gridwidth": 2,
            "linecolor": "white",
            "showbackground": true,
            "ticks": "",
            "zerolinecolor": "white"
           },
           "yaxis": {
            "backgroundcolor": "#E5ECF6",
            "gridcolor": "white",
            "gridwidth": 2,
            "linecolor": "white",
            "showbackground": true,
            "ticks": "",
            "zerolinecolor": "white"
           },
           "zaxis": {
            "backgroundcolor": "#E5ECF6",
            "gridcolor": "white",
            "gridwidth": 2,
            "linecolor": "white",
            "showbackground": true,
            "ticks": "",
            "zerolinecolor": "white"
           }
          },
          "shapedefaults": {
           "line": {
            "color": "#2a3f5f"
           }
          },
          "ternary": {
           "aaxis": {
            "gridcolor": "white",
            "linecolor": "white",
            "ticks": ""
           },
           "baxis": {
            "gridcolor": "white",
            "linecolor": "white",
            "ticks": ""
           },
           "bgcolor": "#E5ECF6",
           "caxis": {
            "gridcolor": "white",
            "linecolor": "white",
            "ticks": ""
           }
          },
          "title": {
           "x": 0.05
          },
          "xaxis": {
           "automargin": true,
           "gridcolor": "white",
           "linecolor": "white",
           "ticks": "",
           "title": {
            "standoff": 15
           },
           "zerolinecolor": "white",
           "zerolinewidth": 2
          },
          "yaxis": {
           "automargin": true,
           "gridcolor": "white",
           "linecolor": "white",
           "ticks": "",
           "title": {
            "standoff": 15
           },
           "zerolinecolor": "white",
           "zerolinewidth": 2
          }
         }
        },
        "title": {
         "text": "Média da emissão de todos os gases por Ano"
        },
        "xaxis": {
         "anchor": "y",
         "domain": [
          0,
          1
         ],
         "title": {
          "text": "Ano"
         }
        },
        "yaxis": {
         "anchor": "x",
         "domain": [
          0,
          1
         ],
         "title": {
          "text": "Emissão"
         }
        }
       }
      }
     },
     "metadata": {},
     "output_type": "display_data"
    }
   ],
   "source": [
    "# Fazendo com Plotly\n",
    "\n",
    "grafico_linha = emissoes_por_ano.groupby('Ano')[['Emissão']].mean().reset_index() # Ajusta o index para criar gráfico\n",
    "\n",
    "fig = px.line(grafico_linha, x='Ano', y='Emissão', title='Média da emissão de todos os gases por Ano')\n",
    "fig.update_traces(line=dict(color='red', dash='dot'))\n",
    "fig.show()"
   ]
  },
  {
   "cell_type": "markdown",
   "id": "223fd95b",
   "metadata": {},
   "source": [
    "Gráfico de barras empilhadas com Plotly"
   ]
  },
  {
   "cell_type": "code",
   "execution_count": null,
   "id": "f2ea67a6",
   "metadata": {},
   "outputs": [
    {
     "data": {
      "text/html": [
       "<div>\n",
       "<style scoped>\n",
       "    .dataframe tbody tr th:only-of-type {\n",
       "        vertical-align: middle;\n",
       "    }\n",
       "\n",
       "    .dataframe tbody tr th {\n",
       "        vertical-align: top;\n",
       "    }\n",
       "\n",
       "    .dataframe thead th {\n",
       "        text-align: right;\n",
       "    }\n",
       "</style>\n",
       "<table border=\"1\" class=\"dataframe\">\n",
       "  <thead>\n",
       "    <tr style=\"text-align: right;\">\n",
       "      <th></th>\n",
       "      <th>Gás</th>\n",
       "      <th>Ano</th>\n",
       "      <th>Emissão</th>\n",
       "    </tr>\n",
       "  </thead>\n",
       "  <tbody>\n",
       "    <tr>\n",
       "      <th>0</th>\n",
       "      <td>C2F6 (t)</td>\n",
       "      <td>1970</td>\n",
       "      <td>0.232610</td>\n",
       "    </tr>\n",
       "    <tr>\n",
       "      <th>1</th>\n",
       "      <td>C2F6 (t)</td>\n",
       "      <td>1971</td>\n",
       "      <td>0.334611</td>\n",
       "    </tr>\n",
       "    <tr>\n",
       "      <th>2</th>\n",
       "      <td>C2F6 (t)</td>\n",
       "      <td>1972</td>\n",
       "      <td>0.404684</td>\n",
       "    </tr>\n",
       "    <tr>\n",
       "      <th>3</th>\n",
       "      <td>C2F6 (t)</td>\n",
       "      <td>1973</td>\n",
       "      <td>0.463147</td>\n",
       "    </tr>\n",
       "    <tr>\n",
       "      <th>4</th>\n",
       "      <td>C2F6 (t)</td>\n",
       "      <td>1974</td>\n",
       "      <td>0.471026</td>\n",
       "    </tr>\n",
       "    <tr>\n",
       "      <th>...</th>\n",
       "      <td>...</td>\n",
       "      <td>...</td>\n",
       "      <td>...</td>\n",
       "    </tr>\n",
       "    <tr>\n",
       "      <th>1191</th>\n",
       "      <td>SF6 (t)</td>\n",
       "      <td>2017</td>\n",
       "      <td>4.700000</td>\n",
       "    </tr>\n",
       "    <tr>\n",
       "      <th>1192</th>\n",
       "      <td>SF6 (t)</td>\n",
       "      <td>2018</td>\n",
       "      <td>4.835000</td>\n",
       "    </tr>\n",
       "    <tr>\n",
       "      <th>1193</th>\n",
       "      <td>SF6 (t)</td>\n",
       "      <td>2019</td>\n",
       "      <td>4.970000</td>\n",
       "    </tr>\n",
       "    <tr>\n",
       "      <th>1194</th>\n",
       "      <td>SF6 (t)</td>\n",
       "      <td>2020</td>\n",
       "      <td>5.105000</td>\n",
       "    </tr>\n",
       "    <tr>\n",
       "      <th>1195</th>\n",
       "      <td>SF6 (t)</td>\n",
       "      <td>2021</td>\n",
       "      <td>5.240000</td>\n",
       "    </tr>\n",
       "  </tbody>\n",
       "</table>\n",
       "<p>1196 rows × 3 columns</p>\n",
       "</div>"
      ],
      "text/plain": [
       "           Gás   Ano   Emissão\n",
       "0     C2F6 (t)  1970  0.232610\n",
       "1     C2F6 (t)  1971  0.334611\n",
       "2     C2F6 (t)  1972  0.404684\n",
       "3     C2F6 (t)  1973  0.463147\n",
       "4     C2F6 (t)  1974  0.471026\n",
       "...        ...   ...       ...\n",
       "1191   SF6 (t)  2017  4.700000\n",
       "1192   SF6 (t)  2018  4.835000\n",
       "1193   SF6 (t)  2019  4.970000\n",
       "1194   SF6 (t)  2020  5.105000\n",
       "1195   SF6 (t)  2021  5.240000\n",
       "\n",
       "[1196 rows x 3 columns]"
      ]
     },
     "execution_count": 75,
     "metadata": {},
     "output_type": "execute_result"
    }
   ],
   "source": [
    "# Armazena em variável as informações que interessam e ajusta o index\n",
    "grafico_barras_emp = emissoes_por_ano.groupby(['Gás', 'Ano'])[['Emissão']].mean().reset_index()\n",
    "grafico_barras_emp"
   ]
  },
  {
   "cell_type": "code",
   "execution_count": 81,
   "id": "b2b948b3",
   "metadata": {},
   "outputs": [
    {
     "data": {
      "application/vnd.plotly.v1+json": {
       "config": {
        "plotlyServerURL": "https://plot.ly"
       },
       "data": [
        {
         "alignmentgroup": "True",
         "hovertemplate": "Gás=C2F6 (t)<br>Ano=%{x}<br>Emissão=%{y}<extra></extra>",
         "legendgroup": "C2F6 (t)",
         "marker": {
          "color": "#636efa",
          "pattern": {
           "shape": ""
          }
         },
         "name": "C2F6 (t)",
         "offsetgroup": "C2F6 (t)",
         "orientation": "v",
         "showlegend": true,
         "textposition": "auto",
         "type": "bar",
         "x": [
          1970,
          1971,
          1972,
          1973,
          1974,
          1975,
          1976,
          1977,
          1978,
          1979,
          1980,
          1981,
          1982,
          1983,
          1984,
          1985,
          1986,
          1987,
          1988,
          1989,
          1990,
          1991,
          1992,
          1993,
          1994,
          1995,
          1996,
          1997,
          1998,
          1999,
          2000,
          2001,
          2002,
          2003,
          2004,
          2005,
          2006,
          2007,
          2008,
          2009,
          2010,
          2011,
          2012,
          2013,
          2014,
          2015,
          2016,
          2017,
          2018,
          2019,
          2020,
          2021
         ],
         "xaxis": "x",
         "y": [
          0.23261033577337117,
          0.33461058996276316,
          0.40468393532051666,
          0.4631474956485843,
          0.47102556406158597,
          0.5029524728932256,
          0.5771721700472959,
          0.6928553851645334,
          0.749660404774073,
          0.9872463627030247,
          1.0805392781201533,
          1.0631246005756214,
          1.2645739873193953,
          1.7466543176080365,
          2.0071776915370236,
          2.486367966352722,
          3.5376842618622484,
          3.981541425490011,
          4.131054401090533,
          4.2075785084293615,
          4.4243109023858205,
          4.878391179177234,
          5.160625121367648,
          4.826898326169543,
          4.6466613672295685,
          4.381887599871512,
          4.35101696098954,
          2.618728650925061,
          2.8682388362715954,
          2.5538737223068515,
          1.9523773246725051,
          1.532887273503387,
          1.954301847482865,
          1.9597255790433692,
          1.6828016072504768,
          1.7165009470248698,
          1.733592120631963,
          1.6491633526498959,
          1.5974354717250747,
          1.0659935794302446,
          0.9844438370233726,
          0.8765388783811768,
          0.9060564141179044,
          0.8076966812287726,
          0.5787676189906359,
          0.47744383556977504,
          0.5132233906957335,
          0.5250542671709787,
          0.4742258468801705,
          0.45131509861715197,
          0.4755397940058619,
          0.5356503562024864
         ],
         "yaxis": "y"
        },
        {
         "alignmentgroup": "True",
         "hovertemplate": "Gás=CF4 (t)<br>Ano=%{x}<br>Emissão=%{y}<extra></extra>",
         "legendgroup": "CF4 (t)",
         "marker": {
          "color": "#EF553B",
          "pattern": {
           "shape": ""
          }
         },
         "name": "CF4 (t)",
         "offsetgroup": "CF4 (t)",
         "orientation": "v",
         "showlegend": true,
         "textposition": "auto",
         "type": "bar",
         "x": [
          1970,
          1971,
          1972,
          1973,
          1974,
          1975,
          1976,
          1977,
          1978,
          1979,
          1980,
          1981,
          1982,
          1983,
          1984,
          1985,
          1986,
          1987,
          1988,
          1989,
          1990,
          1991,
          1992,
          1993,
          1994,
          1995,
          1996,
          1997,
          1998,
          1999,
          2000,
          2001,
          2002,
          2003,
          2004,
          2005,
          2006,
          2007,
          2008,
          2009,
          2010,
          2011,
          2012,
          2013,
          2014,
          2015,
          2016,
          2017,
          2018,
          2019,
          2020,
          2021
         ],
         "xaxis": "x",
         "y": [
          3.5574211134036147,
          5.117359783452283,
          6.189024967347483,
          7.0831361562778,
          7.203619224289684,
          7.691892710443134,
          8.826970035397233,
          10.596168770940201,
          11.464915103446984,
          15.098430786121265,
          16.52520395994625,
          16.258872967498917,
          18.6076901034026,
          24.198663100671215,
          27.13935423927752,
          31.87845910456124,
          42.3726325896449,
          46.61069600135178,
          48.15614982842749,
          48.830373205106845,
          50.97429886662584,
          56.53449088358442,
          59.10871276009484,
          55.77557920402236,
          53.834393910506435,
          50.990035969954334,
          49.62224059974284,
          33.82714600101952,
          37.96976613365592,
          33.5951007733954,
          24.442363789827642,
          19.112795230334935,
          22.585387754449386,
          23.344023914789748,
          21.8621802984447,
          20.64861220006281,
          20.30240332864861,
          19.551498328218713,
          19.035886732060202,
          13.706961065776214,
          12.796066563441974,
          11.207334007092534,
          11.719239148666965,
          10.3864840110238,
          7.3720845584628725,
          6.136245061327501,
          6.69871474042755,
          6.869938922106417,
          6.371409362127232,
          6.004691857344931,
          6.3269984488880615,
          7.12676208291769
         ],
         "yaxis": "y"
        },
        {
         "alignmentgroup": "True",
         "hovertemplate": "Gás=CH4 (t)<br>Ano=%{x}<br>Emissão=%{y}<extra></extra>",
         "legendgroup": "CH4 (t)",
         "marker": {
          "color": "#00cc96",
          "pattern": {
           "shape": ""
          }
         },
         "name": "CH4 (t)",
         "offsetgroup": "CH4 (t)",
         "orientation": "v",
         "showlegend": true,
         "textposition": "auto",
         "type": "bar",
         "x": [
          1970,
          1971,
          1972,
          1973,
          1974,
          1975,
          1976,
          1977,
          1978,
          1979,
          1980,
          1981,
          1982,
          1983,
          1984,
          1985,
          1986,
          1987,
          1988,
          1989,
          1990,
          1991,
          1992,
          1993,
          1994,
          1995,
          1996,
          1997,
          1998,
          1999,
          2000,
          2001,
          2002,
          2003,
          2004,
          2005,
          2006,
          2007,
          2008,
          2009,
          2010,
          2011,
          2012,
          2013,
          2014,
          2015,
          2016,
          2017,
          2018,
          2019,
          2020,
          2021
         ],
         "xaxis": "x",
         "y": [
          1471.0240243204255,
          1525.506913644445,
          1584.7195676656181,
          1642.6124393208506,
          1704.6143648969603,
          1854.3608209547965,
          1932.6417163923177,
          1931.8976450776554,
          1921.2819301668767,
          1972.6824106318809,
          2111.6393061959516,
          2150.5737782317456,
          2173.6912323255788,
          2187.9435254865843,
          2257.5785821484083,
          2276.949369517624,
          2328.5224925789694,
          2389.0551972141743,
          2455.8626164031316,
          2522.6094017656374,
          3140.539349072952,
          3234.1086148886493,
          3370.4073396610784,
          3308.1588656970703,
          3469.9840888900612,
          3662.010693161361,
          3369.71439041131,
          3460.277798904545,
          3458.4301571314127,
          3505.8565653229375,
          3571.9145676232533,
          3726.8396669014924,
          3848.366806879011,
          4226.186785098658,
          4300.983935783517,
          4190.234070037189,
          4034.676759178711,
          3765.0485527620485,
          3807.397927778174,
          3742.79563302351,
          3787.6927358871303,
          3772.085551243867,
          3782.4289768270637,
          3858.863908293682,
          3856.3467129046066,
          3992.254029144428,
          4061.0991556360646,
          3959.9044716773233,
          3997.8723683253647,
          4081.2153305360284,
          4151.676285517012,
          4286.231596875661
         ],
         "yaxis": "y"
        },
        {
         "alignmentgroup": "True",
         "hovertemplate": "Gás=CO (t)<br>Ano=%{x}<br>Emissão=%{y}<extra></extra>",
         "legendgroup": "CO (t)",
         "marker": {
          "color": "#ab63fa",
          "pattern": {
           "shape": ""
          }
         },
         "name": "CO (t)",
         "offsetgroup": "CO (t)",
         "orientation": "v",
         "showlegend": true,
         "textposition": "auto",
         "type": "bar",
         "x": [
          1970,
          1971,
          1972,
          1973,
          1974,
          1975,
          1976,
          1977,
          1978,
          1979,
          1980,
          1981,
          1982,
          1983,
          1984,
          1985,
          1986,
          1987,
          1988,
          1989,
          1990,
          1991,
          1992,
          1993,
          1994,
          1995,
          1996,
          1997,
          1998,
          1999,
          2000,
          2001,
          2002,
          2003,
          2004,
          2005,
          2006,
          2007,
          2008,
          2009,
          2010,
          2011,
          2012,
          2013,
          2014,
          2015,
          2016,
          2017,
          2018,
          2019,
          2020,
          2021
         ],
         "xaxis": "x",
         "y": [
          2155.5566582947667,
          2259.625804871365,
          2418.9447949802416,
          2596.053853397058,
          2681.450599420945,
          2730.894830150032,
          2702.4943623920058,
          2675.9920770999006,
          2755.8918768620197,
          2878.725770349819,
          2791.8995072500443,
          2668.683826862488,
          2724.414118068518,
          2745.306274292398,
          2897.559169971933,
          3044.089464832911,
          3219.4708962143877,
          3186.8789425038754,
          3191.800660329431,
          3293.349871680296,
          3113.0901543484038,
          3110.1504927083615,
          2999.9788183376095,
          2888.7166847493413,
          2937.911533541635,
          2853.7063842844505,
          2794.128267620725,
          2700.521699753704,
          2601.3277897676194,
          2517.6456981307037,
          2397.1371485860277,
          2335.662246060046,
          2418.849846553625,
          2550.104407393858,
          2649.403382293924,
          2617.2100784724694,
          2603.7632684605096,
          2694.853040944466,
          2709.595001783988,
          2376.483830659009,
          2429.505465135973,
          2291.701526216611,
          2192.3115973336094,
          2134.9018638197063,
          2135.87561291725,
          2037.0682510171873,
          1920.2664966993786,
          1944.4215451751272,
          2038.4935733119205,
          2006.5355350143343,
          1978.3192893444834,
          2021.5197190895237
         ],
         "yaxis": "y"
        },
        {
         "alignmentgroup": "True",
         "hovertemplate": "Gás=CO2 (t)<br>Ano=%{x}<br>Emissão=%{y}<extra></extra>",
         "legendgroup": "CO2 (t)",
         "marker": {
          "color": "#FFA15A",
          "pattern": {
           "shape": ""
          }
         },
         "name": "CO2 (t)",
         "offsetgroup": "CO2 (t)",
         "orientation": "v",
         "showlegend": true,
         "textposition": "auto",
         "type": "bar",
         "x": [
          1970,
          1971,
          1972,
          1973,
          1974,
          1975,
          1976,
          1977,
          1978,
          1979,
          1980,
          1981,
          1982,
          1983,
          1984,
          1985,
          1986,
          1987,
          1988,
          1989,
          1990,
          1991,
          1992,
          1993,
          1994,
          1995,
          1996,
          1997,
          1998,
          1999,
          2000,
          2001,
          2002,
          2003,
          2004,
          2005,
          2006,
          2007,
          2008,
          2009,
          2010,
          2011,
          2012,
          2013,
          2014,
          2015,
          2016,
          2017,
          2018,
          2019,
          2020,
          2021
         ],
         "xaxis": "x",
         "y": [
          19244.91319887677,
          21598.587742630047,
          23664.445520867084,
          27726.66882924873,
          30155.9189522486,
          32292.96577084301,
          35640.34472303796,
          37313.90907730465,
          40669.82004944608,
          43232.369185967385,
          43117.075654088,
          40550.58314847629,
          40883.5106011315,
          38613.33620580688,
          39098.27563235921,
          41605.84618053646,
          46122.83394017065,
          47537.176339984704,
          48565.529300176415,
          49320.417098015256,
          320768.38201938604,
          319892.99527892604,
          359902.5653009504,
          331043.73130997387,
          378143.07779634825,
          439538.0340748054,
          384715.0120798311,
          403260.8179433101,
          381765.065616296,
          378589.90760348353,
          371264.62565265823,
          383126.5236143946,
          405857.3127668898,
          504980.45842364756,
          478755.5605604171,
          409271.7818114777,
          339484.9096831791,
          294829.62324361684,
          293018.361152039,
          225585.3460492301,
          224152.6307798434,
          230800.4414009296,
          252570.17458954136,
          283081.3719767324,
          270656.89903124527,
          290361.6412277222,
          290019.57666866184,
          261710.38036073963,
          269982.3777553725,
          300435.28391542396,
          299235.3745740907,
          349280.4823078442
         ],
         "yaxis": "y"
        },
        {
         "alignmentgroup": "True",
         "hovertemplate": "Gás=CO2e (t) GTP-AR2<br>Ano=%{x}<br>Emissão=%{y}<extra></extra>",
         "legendgroup": "CO2e (t) GTP-AR2",
         "marker": {
          "color": "#19d3f3",
          "pattern": {
           "shape": ""
          }
         },
         "name": "CO2e (t) GTP-AR2",
         "offsetgroup": "CO2e (t) GTP-AR2",
         "orientation": "v",
         "showlegend": true,
         "textposition": "auto",
         "type": "bar",
         "x": [
          1970,
          1971,
          1972,
          1973,
          1974,
          1975,
          1976,
          1977,
          1978,
          1979,
          1980,
          1981,
          1982,
          1983,
          1984,
          1985,
          1986,
          1987,
          1988,
          1989,
          1990,
          1991,
          1992,
          1993,
          1994,
          1995,
          1996,
          1997,
          1998,
          1999,
          2000,
          2001,
          2002,
          2003,
          2004,
          2005,
          2006,
          2007,
          2008,
          2009,
          2010,
          2011,
          2012,
          2013,
          2014,
          2015,
          2016,
          2017,
          2018,
          2019,
          2020,
          2021
         ],
         "xaxis": "x",
         "y": [
          20821.379813608703,
          22466.288595097878,
          24100.30526453042,
          26683.827205542697,
          28539.31873175121,
          30593.767465364625,
          33066.87800746832,
          34182.31233286334,
          35969.63360141076,
          37830.72000629257,
          38761.77764112612,
          37320.26932147457,
          37648.12472397198,
          36467.392931246046,
          37304.49288506612,
          38842.902282081726,
          41778.285575238486,
          43071.699004421316,
          43988.54144839054,
          44939.940629351244,
          198367.2976698348,
          198549.149416184,
          221619.98557136446,
          205496.77912430317,
          232586.0730391736,
          267589.151576343,
          235381.09469993916,
          246192.05718880906,
          234556.74832427638,
          233065.47148257855,
          229362.75706001,
          236615.62095493553,
          250601.63264446004,
          308245.71373366035,
          294423.64093320974,
          255348.50990740853,
          216174.71445338472,
          190210.42777336188,
          189430.14525449273,
          151609.65356127213,
          151509.99351319566,
          155828.96068156467,
          167844.83399892514,
          185675.0014417958,
          178917.59156093147,
          190356.37357488103,
          191131.76841244826,
          175410.90867559376,
          179964.2187359082,
          197451.0936249982,
          197952.3913007864,
          227071.0437329513
         ],
         "yaxis": "y"
        },
        {
         "alignmentgroup": "True",
         "hovertemplate": "Gás=CO2e (t) GTP-AR4<br>Ano=%{x}<br>Emissão=%{y}<extra></extra>",
         "legendgroup": "CO2e (t) GTP-AR4",
         "marker": {
          "color": "#FF6692",
          "pattern": {
           "shape": ""
          }
         },
         "name": "CO2e (t) GTP-AR4",
         "offsetgroup": "CO2e (t) GTP-AR4",
         "orientation": "v",
         "showlegend": true,
         "textposition": "auto",
         "type": "bar",
         "x": [
          1970,
          1971,
          1972,
          1973,
          1974,
          1975,
          1976,
          1977,
          1978,
          1979,
          1980,
          1981,
          1982,
          1983,
          1984,
          1985,
          1986,
          1987,
          1988,
          1989,
          1990,
          1991,
          1992,
          1993,
          1994,
          1995,
          1996,
          1997,
          1998,
          1999,
          2000,
          2001,
          2002,
          2003,
          2004,
          2005,
          2006,
          2007,
          2008,
          2009,
          2010,
          2011,
          2012,
          2013,
          2014,
          2015,
          2016,
          2017,
          2018,
          2019,
          2020,
          2021
         ],
         "xaxis": "x",
         "y": [
          20821.379813608703,
          22466.288595097878,
          24100.30526453042,
          26683.827205542697,
          28539.31873175121,
          30593.767465364625,
          33066.87800746832,
          34182.31233286334,
          35969.63360141076,
          37830.72000629257,
          38761.77764112612,
          37320.26932147457,
          37648.12472397198,
          36467.392931246046,
          37304.49288506612,
          38842.902282081726,
          41778.285575238486,
          43071.699004421316,
          43988.54144839054,
          44939.940629351244,
          198367.2976698348,
          198549.149416184,
          221619.98557136446,
          205496.77912430317,
          232586.0730391736,
          267589.151576343,
          235381.09469993916,
          246192.05718880906,
          234556.74832427638,
          233065.47148257855,
          229362.75706001,
          236615.62095493553,
          250601.63264446004,
          308245.71373366035,
          294423.64093320974,
          255348.50990740853,
          216174.71445338472,
          190210.42777336188,
          189430.14525449273,
          151609.65356127213,
          151509.99351319566,
          155828.96068156467,
          167844.83399892514,
          185675.0014417958,
          178917.59156093147,
          190356.37357488103,
          191131.76841244826,
          175410.90867559376,
          179964.2187359082,
          197451.0936249982,
          197952.3913007864,
          227071.0437329513
         ],
         "yaxis": "y"
        },
        {
         "alignmentgroup": "True",
         "hovertemplate": "Gás=CO2e (t) GTP-AR5<br>Ano=%{x}<br>Emissão=%{y}<extra></extra>",
         "legendgroup": "CO2e (t) GTP-AR5",
         "marker": {
          "color": "#B6E880",
          "pattern": {
           "shape": ""
          }
         },
         "name": "CO2e (t) GTP-AR5",
         "offsetgroup": "CO2e (t) GTP-AR5",
         "orientation": "v",
         "showlegend": true,
         "textposition": "auto",
         "type": "bar",
         "x": [
          1970,
          1971,
          1972,
          1973,
          1974,
          1975,
          1976,
          1977,
          1978,
          1979,
          1980,
          1981,
          1982,
          1983,
          1984,
          1985,
          1986,
          1987,
          1988,
          1989,
          1990,
          1991,
          1992,
          1993,
          1994,
          1995,
          1996,
          1997,
          1998,
          1999,
          2000,
          2001,
          2002,
          2003,
          2004,
          2005,
          2006,
          2007,
          2008,
          2009,
          2010,
          2011,
          2012,
          2013,
          2014,
          2015,
          2016,
          2017,
          2018,
          2019,
          2020,
          2021
         ],
         "xaxis": "x",
         "y": [
          19162.726019728434,
          20748.481444859175,
          22303.2242404232,
          24827.077027999065,
          26600.481406892923,
          28507.669058655396,
          30879.481708947016,
          31967.243033522194,
          33762.778999467395,
          35550.182889128606,
          36320.6403155396,
          34876.52002874925,
          35178.523167457985,
          33981.942863871336,
          34726.83610430925,
          36235.2384457332,
          39089.713887022386,
          40298.33664223764,
          41153.71329355403,
          42019.80001172004,
          194710.51040270276,
          194785.09362396077,
          217677.5766273456,
          201610.5610042919,
          228497.5367621605,
          263284.9761915173,
          231429.5100599618,
          242146.73092769558,
          230484.6751053886,
          228976.59302443193,
          225202.142194439,
          232343.05424968502,
          246093.28948616685,
          303220.023227828,
          289299.60597185115,
          250404.09610761612,
          211356.11104744478,
          185676.58723970316,
          184810.73129360445,
          147164.49673698988,
          146989.85016856916,
          151213.32151573861,
          163215.7949031457,
          180884.39271069257,
          174124.39128164458,
          185452.9128298727,
          186087.16590026722,
          170415.2184935302,
          174959.71469221739,
          192324.42322857727,
          192658.31944121505,
          221524.0920244153
         ],
         "yaxis": "y"
        },
        {
         "alignmentgroup": "True",
         "hovertemplate": "Gás=CO2e (t) GTP-AR6<br>Ano=%{x}<br>Emissão=%{y}<extra></extra>",
         "legendgroup": "CO2e (t) GTP-AR6",
         "marker": {
          "color": "#FF97FF",
          "pattern": {
           "shape": ""
          }
         },
         "name": "CO2e (t) GTP-AR6",
         "offsetgroup": "CO2e (t) GTP-AR6",
         "orientation": "v",
         "showlegend": true,
         "textposition": "auto",
         "type": "bar",
         "x": [
          1970,
          1971,
          1972,
          1973,
          1974,
          1975,
          1976,
          1977,
          1978,
          1979,
          1980,
          1981,
          1982,
          1983,
          1984,
          1985,
          1986,
          1987,
          1988,
          1989,
          1990,
          1991,
          1992,
          1993,
          1994,
          1995,
          1996,
          1997,
          1998,
          1999,
          2000,
          2001,
          2002,
          2003,
          2004,
          2005,
          2006,
          2007,
          2008,
          2009,
          2010,
          2011,
          2012,
          2013,
          2014,
          2015,
          2016,
          2017,
          2018,
          2019,
          2020,
          2021
         ],
         "xaxis": "x",
         "y": [
          19775.28338486041,
          21386.1758023759,
          22966.79732685098,
          25516.40961087844,
          27321.124851999564,
          29285.642220780846,
          31693.2261616256,
          32784.13139741583,
          34580.72099761574,
          36394.12625928984,
          37219.45219221319,
          35794.0945004331,
          36111.10164412629,
          34926.71588948231,
          35706.62368456077,
          37233.188740301775,
          40113.476162581275,
          41338.08120881984,
          42228.31303031646,
          43116.82859016427,
          196298.671383307,
          196423.78881972402,
          219412.11783591972,
          203290.1121521111,
          230276.52315172084,
          265192.39353269595,
          233159.42443127063,
          243918.26090792994,
          232222.28535355165,
          230754.71147033977,
          226964.73795843907,
          234194.07182588588,
          248013.69802799265,
          305374.4580008866,
          291467.64749505004,
          252502.63882554413,
          213329.8771802487,
          187528.30546181716,
          186650.40215685227,
          148962.66165794744,
          148814.97484671083,
          153010.66867130809,
          165044.95133619258,
          182769.22999232198,
          176000.95966132786,
          187416.45161451504,
          188095.88543736894,
          172361.59910856414,
          176944.75432388758,
          194380.50149819633,
          194752.05175676217,
          223695.68923693895
         ],
         "yaxis": "y"
        },
        {
         "alignmentgroup": "True",
         "hovertemplate": "Gás=CO2e (t) GWP-AR2<br>Ano=%{x}<br>Emissão=%{y}<extra></extra>",
         "legendgroup": "CO2e (t) GWP-AR2",
         "marker": {
          "color": "#FECB52",
          "pattern": {
           "shape": ""
          }
         },
         "name": "CO2e (t) GWP-AR2",
         "offsetgroup": "CO2e (t) GWP-AR2",
         "orientation": "v",
         "showlegend": true,
         "textposition": "auto",
         "type": "bar",
         "x": [
          1970,
          1971,
          1972,
          1973,
          1974,
          1975,
          1976,
          1977,
          1978,
          1979,
          1980,
          1981,
          1982,
          1983,
          1984,
          1985,
          1986,
          1987,
          1988,
          1989,
          1990,
          1991,
          1992,
          1993,
          1994,
          1995,
          1996,
          1997,
          1998,
          1999,
          2000,
          2001,
          2002,
          2003,
          2004,
          2005,
          2006,
          2007,
          2008,
          2009,
          2010,
          2011,
          2012,
          2013,
          2014,
          2015,
          2016,
          2017,
          2018,
          2019,
          2020,
          2021
         ],
         "xaxis": "x",
         "y": [
          35396.183865320476,
          37570.982886221725,
          39800.768350281374,
          42947.75549016349,
          45431.24006447654,
          48944.72958082732,
          52203.02800854786,
          53333.605735410936,
          55015.291181848115,
          57384.964095163996,
          59691.5076059945,
          58591.74850890275,
          59135.75977039256,
          58065.322344880165,
          59592.10383323072,
          61304.44364926849,
          64716.42852347494,
          66604.05358608041,
          68159.45749015697,
          69780.16083879743,
          229318.7982112671,
          230399.42351452014,
          254828.24477946342,
          238111.06647454633,
          266861.04421812674,
          303809.3207308306,
          268851.2588802744,
          280607.3142675768,
          269066.9751522287,
          268066.3601078803,
          265039.9810007981,
          273944.19857618574,
          289212.9200181213,
          350746.6109409076,
          337649.9794011019,
          297627.6466994404,
          256848.50798571538,
          228590.73341471277,
          227880.19134519636,
          189672.14200925583,
          190395.88576488083,
          194568.31403071317,
          206750.2568612405,
          225493.635922496,
          218797.5265433683,
          231607.67153812246,
          233197.806460726,
          216608.69758267945,
          221567.87994157395,
          239978.9076466745,
          241339.221567157,
          271965.0514084186
         ],
         "yaxis": "y"
        },
        {
         "alignmentgroup": "True",
         "hovertemplate": "Gás=CO2e (t) GWP-AR4<br>Ano=%{x}<br>Emissão=%{y}<extra></extra>",
         "legendgroup": "CO2e (t) GWP-AR4",
         "marker": {
          "color": "#636efa",
          "pattern": {
           "shape": ""
          }
         },
         "name": "CO2e (t) GWP-AR4",
         "offsetgroup": "CO2e (t) GWP-AR4",
         "orientation": "v",
         "showlegend": true,
         "textposition": "auto",
         "type": "bar",
         "x": [
          1970,
          1971,
          1972,
          1973,
          1974,
          1975,
          1976,
          1977,
          1978,
          1979,
          1980,
          1981,
          1982,
          1983,
          1984,
          1985,
          1986,
          1987,
          1988,
          1989,
          1990,
          1991,
          1992,
          1993,
          1994,
          1995,
          1996,
          1997,
          1998,
          1999,
          2000,
          2001,
          2002,
          2003,
          2004,
          2005,
          2006,
          2007,
          2008,
          2009,
          2010,
          2011,
          2012,
          2013,
          2014,
          2015,
          2016,
          2017,
          2018,
          2019,
          2020,
          2021
         ],
         "xaxis": "x",
         "y": [
          38559.11562997942,
          40853.79566824582,
          43208.011803983536,
          46482.3896623959,
          49095.088396188585,
          52937.92582118442,
          56361.504002672824,
          57483.42652681235,
          59142.271502548436,
          61622.07352060368,
          64227.59775164404,
          63224.818305624474,
          63821.980304222045,
          62790.438266417616,
          64466.50533930225,
          66224.97944504001,
          69756.1551307789,
          71774.78724921517,
          73480.57751924814,
          75242.2928249065,
          236145.22216383182,
          237440.46210383254,
          262167.7517058614,
          245311.58526636052,
          274394.8238460505,
          311751.62423086667,
          276157.76375655795,
          288088.2301822608,
          276513.97939513833,
          275654.70325495343,
          272722.9852703617,
          281987.2560084102,
          297493.7137031403,
          359815.0105456759,
          346884.5304718618,
          306652.84659159044,
          265547.6662967254,
          236736.28003926107,
          236091.16150801638,
          197788.60189676314,
          198647.2386184486,
          202730.9259003811,
          214949.89621292127,
          233845.05295287145,
          227152.13496870303,
          240281.27666797792,
          242013.52539394636,
          225200.38620117606,
          230266.34426449536,
          248861.11752053976,
          250358.52637582098,
          281255.33671120054
         ],
         "yaxis": "y"
        },
        {
         "alignmentgroup": "True",
         "hovertemplate": "Gás=CO2e (t) GWP-AR5<br>Ano=%{x}<br>Emissão=%{y}<extra></extra>",
         "legendgroup": "CO2e (t) GWP-AR5",
         "marker": {
          "color": "#EF553B",
          "pattern": {
           "shape": ""
          }
         },
         "name": "CO2e (t) GWP-AR5",
         "offsetgroup": "CO2e (t) GWP-AR5",
         "orientation": "v",
         "showlegend": true,
         "textposition": "auto",
         "type": "bar",
         "x": [
          1970,
          1971,
          1972,
          1973,
          1974,
          1975,
          1976,
          1977,
          1978,
          1979,
          1980,
          1981,
          1982,
          1983,
          1984,
          1985,
          1986,
          1987,
          1988,
          1989,
          1990,
          1991,
          1992,
          1993,
          1994,
          1995,
          1996,
          1997,
          1998,
          1999,
          2000,
          2001,
          2002,
          2003,
          2004,
          2005,
          2006,
          2007,
          2008,
          2009,
          2010,
          2011,
          2012,
          2013,
          2014,
          2015,
          2016,
          2017,
          2018,
          2019,
          2020,
          2021
         ],
         "xaxis": "x",
         "y": [
          39934.722982200525,
          42274.057534316365,
          44664.14564429624,
          47978.47120522891,
          50626.79168695999,
          54630.30185582035,
          58100.61489646692,
          59184.87379159105,
          60809.208121905285,
          63313.683925919424,
          66058.64061800376,
          65152.431565345374,
          65774.23270421955,
          64778.89771445517,
          66512.73272403098,
          68273.55522942789,
          71820.48866936436,
          73881.07366152461,
          75664.16272260036,
          77479.76587890985,
          237332.98435791954,
          238747.9354074755,
          263354.7059363743,
          246604.48812342752,
          275535.8793004501,
          312697.19744638464,
          277156.6320351479,
          289062.6394779388,
          277595.7991335827,
          276808.82550421153,
          274020.11241875397,
          283392.7640102978,
          298791.39042488526,
          360779.4219082164,
          348098.5408743795,
          308198.23622093187,
          267375.31436305767,
          238488.28840211756,
          237946.93852910362,
          200018.10368630782,
          200859.03815358222,
          204789.1922269499,
          216884.45686994938,
          235588.13673047445,
          228952.24776931858,
          242144.46766864634,
          243871.94305851936,
          227062.84682766904,
          232136.4716130781,
          250584.24846919026,
          252049.5923730172,
          282686.7057129311
         ],
         "yaxis": "y"
        },
        {
         "alignmentgroup": "True",
         "hovertemplate": "Gás=CO2e (t) GWP-AR6<br>Ano=%{x}<br>Emissão=%{y}<extra></extra>",
         "legendgroup": "CO2e (t) GWP-AR6",
         "marker": {
          "color": "#00cc96",
          "pattern": {
           "shape": ""
          }
         },
         "name": "CO2e (t) GWP-AR6",
         "offsetgroup": "CO2e (t) GWP-AR6",
         "orientation": "v",
         "showlegend": true,
         "textposition": "auto",
         "type": "bar",
         "x": [
          1970,
          1971,
          1972,
          1973,
          1974,
          1975,
          1976,
          1977,
          1978,
          1979,
          1980,
          1981,
          1982,
          1983,
          1984,
          1985,
          1986,
          1987,
          1988,
          1989,
          1990,
          1991,
          1992,
          1993,
          1994,
          1995,
          1996,
          1997,
          1998,
          1999,
          2000,
          2001,
          2002,
          2003,
          2004,
          2005,
          2006,
          2007,
          2008,
          2009,
          2010,
          2011,
          2012,
          2013,
          2014,
          2015,
          2016,
          2017,
          2018,
          2019,
          2020,
          2021
         ],
         "xaxis": "x",
         "y": [
          39751.61523881756,
          42095.05318032789,
          44490.55993709158,
          47817.59134977149,
          50477.920397634756,
          54451.57524305593,
          57933.51272974364,
          59040.0484123524,
          60693.6510322016,
          63210.75568052518,
          65923.7961047958,
          64982.50673300188,
          65605.07646866357,
          64594.26896742206,
          66325.09672240046,
          68106.49530400155,
          71674.28367850317,
          73724.04003008083,
          75501.02469583695,
          77305.11445347329,
          238965.12236834425,
          240344.4257561263,
          265211.4715458681,
          248255.37530598952,
          277504.2916149593,
          315081.00760197244,
          279199.5685464172,
          291212.3307740925,
          279595.7240957324,
          278787.16293152445,
          275894.7755492617,
          285343.0077779991,
          300915.68792267353,
          363589.49683232,
          350698.48036217084,
          310353.3582964686,
          269045.5906847108,
          239962.07296022426,
          239334.36842248126,
          200979.03997884813,
          201854.93297996,
          205832.2551049525,
          218094.0938193402,
          237034.33261176333,
          230326.6680438446,
          243636.17147434384,
          245406.4452013211,
          228442.86213061766,
          233593.0954205567,
          252286.12389520934,
          253797.8300663961,
          284770.02584882727
         ],
         "yaxis": "y"
        },
        {
         "alignmentgroup": "True",
         "hovertemplate": "Gás=COVNM (t)<br>Ano=%{x}<br>Emissão=%{y}<extra></extra>",
         "legendgroup": "COVNM (t)",
         "marker": {
          "color": "#ab63fa",
          "pattern": {
           "shape": ""
          }
         },
         "name": "COVNM (t)",
         "offsetgroup": "COVNM (t)",
         "orientation": "v",
         "showlegend": true,
         "textposition": "auto",
         "type": "bar",
         "x": [
          1970,
          1971,
          1972,
          1973,
          1974,
          1975,
          1976,
          1977,
          1978,
          1979,
          1980,
          1981,
          1982,
          1983,
          1984,
          1985,
          1986,
          1987,
          1988,
          1989,
          1990,
          1991,
          1992,
          1993,
          1994,
          1995,
          1996,
          1997,
          1998,
          1999,
          2000,
          2001,
          2002,
          2003,
          2004,
          2005,
          2006,
          2007,
          2008,
          2009,
          2010,
          2011,
          2012,
          2013,
          2014,
          2015,
          2016,
          2017,
          2018,
          2019,
          2020,
          2021
         ],
         "xaxis": "x",
         "y": [
          742.0748627076053,
          730.1190474484524,
          774.278817049442,
          796.8663936746243,
          1024.694923473912,
          1065.6827500557777,
          1091.7789086915614,
          1147.71244838991,
          1289.8535641927006,
          1512.2065083093996,
          1365.4501950689457,
          1198.4783424130364,
          1247.9689084704737,
          1205.554391031198,
          1237.5169965968905,
          937.8032658709775,
          880.5119737747972,
          837.0367404531746,
          926.5094297624588,
          1003.8158453979011,
          985.6681749916487,
          939.6433959823974,
          875.5652003344609,
          914.4607681770514,
          943.3155463304239,
          933.9122255190043,
          966.3270095507088,
          966.3983279707988,
          995.6792426317837,
          1053.3130754981034,
          1057.4457563786984,
          967.4440676046497,
          969.157687465944,
          949.9011914986487,
          1015.4534069192663,
          1006.4450029932304,
          1243.6731448336939,
          1043.6655575075742,
          1349.5049473936906,
          1343.8635761461226,
          1521.9703658312512,
          1572.5937201726538,
          1563.0828353923282,
          1616.414260021456,
          1590.0071596998862,
          1499.4632191089688,
          1474.1858326306742,
          1360.0681306549322,
          1405.981486895864,
          1479.0999514641742,
          1474.528381185505,
          1489.4403898360968
         ],
         "yaxis": "y"
        },
        {
         "alignmentgroup": "True",
         "hovertemplate": "Gás=HFC-125 (t)<br>Ano=%{x}<br>Emissão=%{y}<extra></extra>",
         "legendgroup": "HFC-125 (t)",
         "marker": {
          "color": "#FFA15A",
          "pattern": {
           "shape": ""
          }
         },
         "name": "HFC-125 (t)",
         "offsetgroup": "HFC-125 (t)",
         "orientation": "v",
         "showlegend": true,
         "textposition": "auto",
         "type": "bar",
         "x": [
          1970,
          1971,
          1972,
          1973,
          1974,
          1975,
          1976,
          1977,
          1978,
          1979,
          1980,
          1981,
          1982,
          1983,
          1984,
          1985,
          1986,
          1987,
          1988,
          1989,
          1990,
          1991,
          1992,
          1993,
          1994,
          1995,
          1996,
          1997,
          1998,
          1999,
          2000,
          2001,
          2002,
          2003,
          2004,
          2005,
          2006,
          2007,
          2008,
          2009,
          2010,
          2011,
          2012,
          2013,
          2014,
          2015,
          2016,
          2017,
          2018,
          2019,
          2020,
          2021
         ],
         "xaxis": "x",
         "y": [
          0,
          0,
          0,
          0,
          0,
          0,
          0,
          0,
          0,
          0,
          0,
          0,
          0,
          0,
          0,
          0,
          0,
          0,
          0,
          0,
          0,
          0,
          0,
          0,
          0,
          0,
          0,
          0,
          0,
          0,
          7.1,
          39.2,
          50.8,
          54.8,
          120.7,
          124.9,
          251.7,
          285,
          302.1,
          358.7,
          501.2,
          468.407272727258,
          514.714545454539,
          561.021818181805,
          607.329090909087,
          653.636363636353,
          699.94363636362,
          746.250909090901,
          792.558181818167,
          838.865454545448,
          885.172727272715,
          931.479999999996
         ],
         "yaxis": "y"
        },
        {
         "alignmentgroup": "True",
         "hovertemplate": "Gás=HFC-134a (t)<br>Ano=%{x}<br>Emissão=%{y}<extra></extra>",
         "legendgroup": "HFC-134a (t)",
         "marker": {
          "color": "#19d3f3",
          "pattern": {
           "shape": ""
          }
         },
         "name": "HFC-134a (t)",
         "offsetgroup": "HFC-134a (t)",
         "orientation": "v",
         "showlegend": true,
         "textposition": "auto",
         "type": "bar",
         "x": [
          1970,
          1971,
          1972,
          1973,
          1974,
          1975,
          1976,
          1977,
          1978,
          1979,
          1980,
          1981,
          1982,
          1983,
          1984,
          1985,
          1986,
          1987,
          1988,
          1989,
          1990,
          1991,
          1992,
          1993,
          1994,
          1995,
          1996,
          1997,
          1998,
          1999,
          2000,
          2001,
          2002,
          2003,
          2004,
          2005,
          2006,
          2007,
          2008,
          2009,
          2010,
          2011,
          2012,
          2013,
          2014,
          2015,
          2016,
          2017,
          2018,
          2019,
          2020,
          2021
         ],
         "xaxis": "x",
         "y": [
          0,
          0,
          0,
          0,
          0,
          0,
          0,
          0,
          0,
          0,
          0,
          0,
          0,
          0,
          0,
          0,
          0,
          0,
          0,
          0,
          1,
          1.8,
          8.5,
          16.3,
          137.3,
          290.7,
          1254.8,
          1103.6,
          1614.8,
          1899.9,
          1709.2,
          2625.4,
          2633,
          2966.8,
          2788.7,
          4050.6,
          3467.7,
          5741.1,
          3458.1,
          5138.3,
          7034.3,
          6258.29090909101,
          6670.83636363642,
          7083.38181818183,
          7495.92727272736,
          7908.47272727278,
          8321.01818181819,
          8733.56363636371,
          9146.10909090912,
          9558.65454545454,
          9971.20000000007,
          10383.7454545455
         ],
         "yaxis": "y"
        },
        {
         "alignmentgroup": "True",
         "hovertemplate": "Gás=HFC-143a (t)<br>Ano=%{x}<br>Emissão=%{y}<extra></extra>",
         "legendgroup": "HFC-143a (t)",
         "marker": {
          "color": "#FF6692",
          "pattern": {
           "shape": ""
          }
         },
         "name": "HFC-143a (t)",
         "offsetgroup": "HFC-143a (t)",
         "orientation": "v",
         "showlegend": true,
         "textposition": "auto",
         "type": "bar",
         "x": [
          1970,
          1971,
          1972,
          1973,
          1974,
          1975,
          1976,
          1977,
          1978,
          1979,
          1980,
          1981,
          1982,
          1983,
          1984,
          1985,
          1986,
          1987,
          1988,
          1989,
          1990,
          1991,
          1992,
          1993,
          1994,
          1995,
          1996,
          1997,
          1998,
          1999,
          2000,
          2001,
          2002,
          2003,
          2004,
          2005,
          2006,
          2007,
          2008,
          2009,
          2010,
          2011,
          2012,
          2013,
          2014,
          2015,
          2016,
          2017,
          2018,
          2019,
          2020,
          2021
         ],
         "xaxis": "x",
         "y": [
          0,
          0,
          0,
          0,
          0,
          0,
          0,
          0,
          0,
          0,
          0,
          0,
          0,
          0,
          0,
          0,
          0,
          0,
          0,
          0,
          0,
          0,
          0,
          0,
          0,
          0,
          0,
          0,
          0,
          0,
          7.5,
          27.1,
          39.8,
          50,
          103.7,
          92.9,
          215.7,
          252,
          307.4,
          320.9,
          467.1,
          432.663636363635,
          476.227272727265,
          519.790909090894,
          563.354545454538,
          606.918181818168,
          650.481818181812,
          694.045454545441,
          737.609090909085,
          781.172727272715,
          824.736363636359,
          868.299999999988
         ],
         "yaxis": "y"
        },
        {
         "alignmentgroup": "True",
         "hovertemplate": "Gás=HFC-152a (t)<br>Ano=%{x}<br>Emissão=%{y}<extra></extra>",
         "legendgroup": "HFC-152a (t)",
         "marker": {
          "color": "#B6E880",
          "pattern": {
           "shape": ""
          }
         },
         "name": "HFC-152a (t)",
         "offsetgroup": "HFC-152a (t)",
         "orientation": "v",
         "showlegend": true,
         "textposition": "auto",
         "type": "bar",
         "x": [
          1970,
          1971,
          1972,
          1973,
          1974,
          1975,
          1976,
          1977,
          1978,
          1979,
          1980,
          1981,
          1982,
          1983,
          1984,
          1985,
          1986,
          1987,
          1988,
          1989,
          1990,
          1991,
          1992,
          1993,
          1994,
          1995,
          1996,
          1997,
          1998,
          1999,
          2000,
          2001,
          2002,
          2003,
          2004,
          2005,
          2006,
          2007,
          2008,
          2009,
          2010,
          2011,
          2012,
          2013,
          2014,
          2015,
          2016,
          2017,
          2018,
          2019,
          2020,
          2021
         ],
         "xaxis": "x",
         "y": [
          0,
          0,
          0,
          0,
          0,
          0,
          0,
          0,
          0,
          0,
          0,
          0,
          0,
          0,
          0,
          0,
          0,
          0,
          0,
          0,
          0,
          0,
          0,
          0,
          0,
          0,
          0,
          0,
          0,
          0,
          0.1,
          29.5,
          8.1,
          23.8,
          54.3,
          174.8,
          280,
          0,
          0,
          0,
          0,
          0,
          0,
          0,
          0,
          0,
          0,
          0,
          0,
          0,
          0,
          0
         ],
         "yaxis": "y"
        },
        {
         "alignmentgroup": "True",
         "hovertemplate": "Gás=HFC-23 (t)<br>Ano=%{x}<br>Emissão=%{y}<extra></extra>",
         "legendgroup": "HFC-23 (t)",
         "marker": {
          "color": "#FF97FF",
          "pattern": {
           "shape": ""
          }
         },
         "name": "HFC-23 (t)",
         "offsetgroup": "HFC-23 (t)",
         "orientation": "v",
         "showlegend": true,
         "textposition": "auto",
         "type": "bar",
         "x": [
          1970,
          1971,
          1972,
          1973,
          1974,
          1975,
          1976,
          1977,
          1978,
          1979,
          1980,
          1981,
          1982,
          1983,
          1984,
          1985,
          1986,
          1987,
          1988,
          1989,
          1990,
          1991,
          1992,
          1993,
          1994,
          1995,
          1996,
          1997,
          1998,
          1999,
          2000,
          2001,
          2002,
          2003,
          2004,
          2005,
          2006,
          2007,
          2008,
          2009,
          2010,
          2011,
          2012,
          2013,
          2014,
          2015,
          2016,
          2017,
          2018,
          2019,
          2020,
          2021
         ],
         "xaxis": "x",
         "y": [
          0,
          0,
          0,
          0,
          0,
          0,
          0,
          0,
          0,
          0,
          0,
          0,
          0,
          0,
          0,
          0,
          0,
          0,
          0,
          0,
          120.24,
          137.52,
          163.6,
          172.28,
          156.6,
          153.04,
          89.04,
          95.32,
          13.04,
          97.16,
          0,
          0,
          0,
          0,
          0,
          0,
          0,
          0,
          0,
          0,
          0,
          0,
          0,
          0,
          0,
          0,
          0,
          0,
          0,
          0,
          0,
          0
         ],
         "yaxis": "y"
        },
        {
         "alignmentgroup": "True",
         "hovertemplate": "Gás=HFC-32 (t)<br>Ano=%{x}<br>Emissão=%{y}<extra></extra>",
         "legendgroup": "HFC-32 (t)",
         "marker": {
          "color": "#FECB52",
          "pattern": {
           "shape": ""
          }
         },
         "name": "HFC-32 (t)",
         "offsetgroup": "HFC-32 (t)",
         "orientation": "v",
         "showlegend": true,
         "textposition": "auto",
         "type": "bar",
         "x": [
          1970,
          1971,
          1972,
          1973,
          1974,
          1975,
          1976,
          1977,
          1978,
          1979,
          1980,
          1981,
          1982,
          1983,
          1984,
          1985,
          1986,
          1987,
          1988,
          1989,
          1990,
          1991,
          1992,
          1993,
          1994,
          1995,
          1996,
          1997,
          1998,
          1999,
          2000,
          2001,
          2002,
          2003,
          2004,
          2005,
          2006,
          2007,
          2008,
          2009,
          2010,
          2011,
          2012,
          2013,
          2014,
          2015,
          2016,
          2017,
          2018,
          2019,
          2020,
          2021
         ],
         "xaxis": "x",
         "y": [
          0,
          0,
          0,
          0,
          0,
          0,
          0,
          0,
          0,
          0,
          0,
          0,
          0,
          0,
          0,
          0,
          0,
          0,
          0,
          0,
          0,
          0,
          0,
          0,
          0,
          0,
          0,
          0,
          0,
          0,
          0,
          0,
          0,
          0,
          0,
          0,
          0,
          71.8,
          42,
          87.2,
          105.9,
          113.599999999999,
          128.349999999999,
          143.099999999999,
          157.849999999999,
          172.599999999999,
          187.349999999999,
          202.099999999999,
          216.849999999999,
          231.599999999999,
          246.349999999999,
          261.099999999999
         ],
         "yaxis": "y"
        },
        {
         "alignmentgroup": "True",
         "hovertemplate": "Gás=N2O (t)<br>Ano=%{x}<br>Emissão=%{y}<extra></extra>",
         "legendgroup": "N2O (t)",
         "marker": {
          "color": "#636efa",
          "pattern": {
           "shape": ""
          }
         },
         "name": "N2O (t)",
         "offsetgroup": "N2O (t)",
         "orientation": "v",
         "showlegend": true,
         "textposition": "auto",
         "type": "bar",
         "x": [
          1970,
          1971,
          1972,
          1973,
          1974,
          1975,
          1976,
          1977,
          1978,
          1979,
          1980,
          1981,
          1982,
          1983,
          1984,
          1985,
          1986,
          1987,
          1988,
          1989,
          1990,
          1991,
          1992,
          1993,
          1994,
          1995,
          1996,
          1997,
          1998,
          1999,
          2000,
          2001,
          2002,
          2003,
          2004,
          2005,
          2006,
          2007,
          2008,
          2009,
          2010,
          2011,
          2012,
          2013,
          2014,
          2015,
          2016,
          2017,
          2018,
          2019,
          2020,
          2021
         ],
         "xaxis": "x",
         "y": [
          31.632709127144427,
          32.60923697821566,
          34.31186367263515,
          35.27868943925886,
          37.09818287209457,
          39.451007588352944,
          41.583224631345914,
          42.57108580390142,
          42.4266494270468,
          43.90038850714345,
          46.96451034407457,
          46.18680748291358,
          46.495603401458645,
          46.35738206937679,
          48.17897042892979,
          48.53411451407639,
          49.69701705040748,
          51.31467059219588,
          52.086734645889834,
          53.87593887645365,
          68.08605088665446,
          69.76774995564622,
          73.41926186162708,
          72.71951147017626,
          77.261423058123,
          81.71122663861723,
          75.22838369673566,
          77.90222005049961,
          79.18621560028534,
          79.28547017640075,
          81.04414099399307,
          82.8029460032266,
          88.77535550824331,
          100.52800573242578,
          102.0839391462526,
          98.40130203791342,
          95.33745037577262,
          91.25129368782746,
          91.65717977780402,
          88.42519368179646,
          91.1729771605912,
          95.2042132146393,
          95.33044456779035,
          99.95381020084331,
          100.21311540292234,
          101.41617864774668,
          105.26170521115068,
          105.51564337929865,
          104.89782867869596,
          107.66567218588246,
          112.53946132340536,
          119.29531085331631
         ],
         "yaxis": "y"
        },
        {
         "alignmentgroup": "True",
         "hovertemplate": "Gás=NOx (t)<br>Ano=%{x}<br>Emissão=%{y}<extra></extra>",
         "legendgroup": "NOx (t)",
         "marker": {
          "color": "#EF553B",
          "pattern": {
           "shape": ""
          }
         },
         "name": "NOx (t)",
         "offsetgroup": "NOx (t)",
         "orientation": "v",
         "showlegend": true,
         "textposition": "auto",
         "type": "bar",
         "x": [
          1970,
          1971,
          1972,
          1973,
          1974,
          1975,
          1976,
          1977,
          1978,
          1979,
          1980,
          1981,
          1982,
          1983,
          1984,
          1985,
          1986,
          1987,
          1988,
          1989,
          1990,
          1991,
          1992,
          1993,
          1994,
          1995,
          1996,
          1997,
          1998,
          1999,
          2000,
          2001,
          2002,
          2003,
          2004,
          2005,
          2006,
          2007,
          2008,
          2009,
          2010,
          2011,
          2012,
          2013,
          2014,
          2015,
          2016,
          2017,
          2018,
          2019,
          2020,
          2021
         ],
         "xaxis": "x",
         "y": [
          154.0727967576405,
          170.55017757951728,
          188.85616125339365,
          217.32048031228203,
          247.5214146128272,
          262.7163456599007,
          287.013048060565,
          292.40582087188193,
          322.9829062914433,
          347.1738869174193,
          344.35382228818384,
          344.0129757737965,
          355.4412640811402,
          350.2628385636495,
          363.82080415990214,
          393.6048888658561,
          423.19837830032026,
          434.2798589050416,
          437.7292545953763,
          437.5746180405305,
          426.9978244545174,
          442.18423399716926,
          449.1140525973556,
          459.700362660717,
          477.92942367505066,
          502.3602052511534,
          529.3969585608318,
          545.846654772318,
          558.9425914084702,
          574.6283145572804,
          574.6746628197686,
          589.9938183131821,
          597.3697384175139,
          597.9891099031285,
          631.0119162611322,
          634.5085395151418,
          638.8421298004039,
          670.6367003597187,
          708.4496938155763,
          674.7468717749204,
          710.0874535755886,
          716.7023911180767,
          741.0508985563445,
          775.4569524069501,
          794.5294923154015,
          751.179087175534,
          698.0560985444828,
          699.6087243687366,
          688.4509813893122,
          692.3859568117806,
          638.9282348786118,
          679.3954307680301
         ],
         "yaxis": "y"
        },
        {
         "alignmentgroup": "True",
         "hovertemplate": "Gás=SF6 (t)<br>Ano=%{x}<br>Emissão=%{y}<extra></extra>",
         "legendgroup": "SF6 (t)",
         "marker": {
          "color": "#00cc96",
          "pattern": {
           "shape": ""
          }
         },
         "name": "SF6 (t)",
         "offsetgroup": "SF6 (t)",
         "orientation": "v",
         "showlegend": true,
         "textposition": "auto",
         "type": "bar",
         "x": [
          1970,
          1971,
          1972,
          1973,
          1974,
          1975,
          1976,
          1977,
          1978,
          1979,
          1980,
          1981,
          1982,
          1983,
          1984,
          1985,
          1986,
          1987,
          1988,
          1989,
          1990,
          1991,
          1992,
          1993,
          1994,
          1995,
          1996,
          1997,
          1998,
          1999,
          2000,
          2001,
          2002,
          2003,
          2004,
          2005,
          2006,
          2007,
          2008,
          2009,
          2010,
          2011,
          2012,
          2013,
          2014,
          2015,
          2016,
          2017,
          2018,
          2019,
          2020,
          2021
         ],
         "xaxis": "x",
         "y": [
          0,
          0,
          0,
          0,
          0,
          0,
          0,
          0,
          0,
          0,
          0,
          0,
          0,
          0,
          0,
          0,
          0,
          0,
          0,
          0,
          5,
          4.9,
          5.5,
          7.05,
          7,
          7.1,
          6.8999999999999995,
          8.45,
          7.4,
          7.3500000000000005,
          7.65,
          7.3,
          8.75,
          10.149999999999999,
          11.5,
          12.575,
          14,
          16.3,
          16.45,
          10.05,
          3.7,
          3.889999999999985,
          4.024999999999975,
          4.15999999999997,
          4.295000000000015,
          4.430000000000005,
          4.565,
          4.69999999999999,
          4.83499999999998,
          4.96999999999997,
          5.105,
          5.24
         ],
         "yaxis": "y"
        }
       ],
       "layout": {
        "barmode": "relative",
        "legend": {
         "title": {
          "text": "Gás"
         },
         "tracegroupgap": 0
        },
        "template": {
         "data": {
          "bar": [
           {
            "error_x": {
             "color": "#2a3f5f"
            },
            "error_y": {
             "color": "#2a3f5f"
            },
            "marker": {
             "line": {
              "color": "#E5ECF6",
              "width": 0.5
             },
             "pattern": {
              "fillmode": "overlay",
              "size": 10,
              "solidity": 0.2
             }
            },
            "type": "bar"
           }
          ],
          "barpolar": [
           {
            "marker": {
             "line": {
              "color": "#E5ECF6",
              "width": 0.5
             },
             "pattern": {
              "fillmode": "overlay",
              "size": 10,
              "solidity": 0.2
             }
            },
            "type": "barpolar"
           }
          ],
          "carpet": [
           {
            "aaxis": {
             "endlinecolor": "#2a3f5f",
             "gridcolor": "white",
             "linecolor": "white",
             "minorgridcolor": "white",
             "startlinecolor": "#2a3f5f"
            },
            "baxis": {
             "endlinecolor": "#2a3f5f",
             "gridcolor": "white",
             "linecolor": "white",
             "minorgridcolor": "white",
             "startlinecolor": "#2a3f5f"
            },
            "type": "carpet"
           }
          ],
          "choropleth": [
           {
            "colorbar": {
             "outlinewidth": 0,
             "ticks": ""
            },
            "type": "choropleth"
           }
          ],
          "contour": [
           {
            "colorbar": {
             "outlinewidth": 0,
             "ticks": ""
            },
            "colorscale": [
             [
              0,
              "#0d0887"
             ],
             [
              0.1111111111111111,
              "#46039f"
             ],
             [
              0.2222222222222222,
              "#7201a8"
             ],
             [
              0.3333333333333333,
              "#9c179e"
             ],
             [
              0.4444444444444444,
              "#bd3786"
             ],
             [
              0.5555555555555556,
              "#d8576b"
             ],
             [
              0.6666666666666666,
              "#ed7953"
             ],
             [
              0.7777777777777778,
              "#fb9f3a"
             ],
             [
              0.8888888888888888,
              "#fdca26"
             ],
             [
              1,
              "#f0f921"
             ]
            ],
            "type": "contour"
           }
          ],
          "contourcarpet": [
           {
            "colorbar": {
             "outlinewidth": 0,
             "ticks": ""
            },
            "type": "contourcarpet"
           }
          ],
          "heatmap": [
           {
            "colorbar": {
             "outlinewidth": 0,
             "ticks": ""
            },
            "colorscale": [
             [
              0,
              "#0d0887"
             ],
             [
              0.1111111111111111,
              "#46039f"
             ],
             [
              0.2222222222222222,
              "#7201a8"
             ],
             [
              0.3333333333333333,
              "#9c179e"
             ],
             [
              0.4444444444444444,
              "#bd3786"
             ],
             [
              0.5555555555555556,
              "#d8576b"
             ],
             [
              0.6666666666666666,
              "#ed7953"
             ],
             [
              0.7777777777777778,
              "#fb9f3a"
             ],
             [
              0.8888888888888888,
              "#fdca26"
             ],
             [
              1,
              "#f0f921"
             ]
            ],
            "type": "heatmap"
           }
          ],
          "heatmapgl": [
           {
            "colorbar": {
             "outlinewidth": 0,
             "ticks": ""
            },
            "colorscale": [
             [
              0,
              "#0d0887"
             ],
             [
              0.1111111111111111,
              "#46039f"
             ],
             [
              0.2222222222222222,
              "#7201a8"
             ],
             [
              0.3333333333333333,
              "#9c179e"
             ],
             [
              0.4444444444444444,
              "#bd3786"
             ],
             [
              0.5555555555555556,
              "#d8576b"
             ],
             [
              0.6666666666666666,
              "#ed7953"
             ],
             [
              0.7777777777777778,
              "#fb9f3a"
             ],
             [
              0.8888888888888888,
              "#fdca26"
             ],
             [
              1,
              "#f0f921"
             ]
            ],
            "type": "heatmapgl"
           }
          ],
          "histogram": [
           {
            "marker": {
             "pattern": {
              "fillmode": "overlay",
              "size": 10,
              "solidity": 0.2
             }
            },
            "type": "histogram"
           }
          ],
          "histogram2d": [
           {
            "colorbar": {
             "outlinewidth": 0,
             "ticks": ""
            },
            "colorscale": [
             [
              0,
              "#0d0887"
             ],
             [
              0.1111111111111111,
              "#46039f"
             ],
             [
              0.2222222222222222,
              "#7201a8"
             ],
             [
              0.3333333333333333,
              "#9c179e"
             ],
             [
              0.4444444444444444,
              "#bd3786"
             ],
             [
              0.5555555555555556,
              "#d8576b"
             ],
             [
              0.6666666666666666,
              "#ed7953"
             ],
             [
              0.7777777777777778,
              "#fb9f3a"
             ],
             [
              0.8888888888888888,
              "#fdca26"
             ],
             [
              1,
              "#f0f921"
             ]
            ],
            "type": "histogram2d"
           }
          ],
          "histogram2dcontour": [
           {
            "colorbar": {
             "outlinewidth": 0,
             "ticks": ""
            },
            "colorscale": [
             [
              0,
              "#0d0887"
             ],
             [
              0.1111111111111111,
              "#46039f"
             ],
             [
              0.2222222222222222,
              "#7201a8"
             ],
             [
              0.3333333333333333,
              "#9c179e"
             ],
             [
              0.4444444444444444,
              "#bd3786"
             ],
             [
              0.5555555555555556,
              "#d8576b"
             ],
             [
              0.6666666666666666,
              "#ed7953"
             ],
             [
              0.7777777777777778,
              "#fb9f3a"
             ],
             [
              0.8888888888888888,
              "#fdca26"
             ],
             [
              1,
              "#f0f921"
             ]
            ],
            "type": "histogram2dcontour"
           }
          ],
          "mesh3d": [
           {
            "colorbar": {
             "outlinewidth": 0,
             "ticks": ""
            },
            "type": "mesh3d"
           }
          ],
          "parcoords": [
           {
            "line": {
             "colorbar": {
              "outlinewidth": 0,
              "ticks": ""
             }
            },
            "type": "parcoords"
           }
          ],
          "pie": [
           {
            "automargin": true,
            "type": "pie"
           }
          ],
          "scatter": [
           {
            "fillpattern": {
             "fillmode": "overlay",
             "size": 10,
             "solidity": 0.2
            },
            "type": "scatter"
           }
          ],
          "scatter3d": [
           {
            "line": {
             "colorbar": {
              "outlinewidth": 0,
              "ticks": ""
             }
            },
            "marker": {
             "colorbar": {
              "outlinewidth": 0,
              "ticks": ""
             }
            },
            "type": "scatter3d"
           }
          ],
          "scattercarpet": [
           {
            "marker": {
             "colorbar": {
              "outlinewidth": 0,
              "ticks": ""
             }
            },
            "type": "scattercarpet"
           }
          ],
          "scattergeo": [
           {
            "marker": {
             "colorbar": {
              "outlinewidth": 0,
              "ticks": ""
             }
            },
            "type": "scattergeo"
           }
          ],
          "scattergl": [
           {
            "marker": {
             "colorbar": {
              "outlinewidth": 0,
              "ticks": ""
             }
            },
            "type": "scattergl"
           }
          ],
          "scattermapbox": [
           {
            "marker": {
             "colorbar": {
              "outlinewidth": 0,
              "ticks": ""
             }
            },
            "type": "scattermapbox"
           }
          ],
          "scatterpolar": [
           {
            "marker": {
             "colorbar": {
              "outlinewidth": 0,
              "ticks": ""
             }
            },
            "type": "scatterpolar"
           }
          ],
          "scatterpolargl": [
           {
            "marker": {
             "colorbar": {
              "outlinewidth": 0,
              "ticks": ""
             }
            },
            "type": "scatterpolargl"
           }
          ],
          "scatterternary": [
           {
            "marker": {
             "colorbar": {
              "outlinewidth": 0,
              "ticks": ""
             }
            },
            "type": "scatterternary"
           }
          ],
          "surface": [
           {
            "colorbar": {
             "outlinewidth": 0,
             "ticks": ""
            },
            "colorscale": [
             [
              0,
              "#0d0887"
             ],
             [
              0.1111111111111111,
              "#46039f"
             ],
             [
              0.2222222222222222,
              "#7201a8"
             ],
             [
              0.3333333333333333,
              "#9c179e"
             ],
             [
              0.4444444444444444,
              "#bd3786"
             ],
             [
              0.5555555555555556,
              "#d8576b"
             ],
             [
              0.6666666666666666,
              "#ed7953"
             ],
             [
              0.7777777777777778,
              "#fb9f3a"
             ],
             [
              0.8888888888888888,
              "#fdca26"
             ],
             [
              1,
              "#f0f921"
             ]
            ],
            "type": "surface"
           }
          ],
          "table": [
           {
            "cells": {
             "fill": {
              "color": "#EBF0F8"
             },
             "line": {
              "color": "white"
             }
            },
            "header": {
             "fill": {
              "color": "#C8D4E3"
             },
             "line": {
              "color": "white"
             }
            },
            "type": "table"
           }
          ]
         },
         "layout": {
          "annotationdefaults": {
           "arrowcolor": "#2a3f5f",
           "arrowhead": 0,
           "arrowwidth": 1
          },
          "autotypenumbers": "strict",
          "coloraxis": {
           "colorbar": {
            "outlinewidth": 0,
            "ticks": ""
           }
          },
          "colorscale": {
           "diverging": [
            [
             0,
             "#8e0152"
            ],
            [
             0.1,
             "#c51b7d"
            ],
            [
             0.2,
             "#de77ae"
            ],
            [
             0.3,
             "#f1b6da"
            ],
            [
             0.4,
             "#fde0ef"
            ],
            [
             0.5,
             "#f7f7f7"
            ],
            [
             0.6,
             "#e6f5d0"
            ],
            [
             0.7,
             "#b8e186"
            ],
            [
             0.8,
             "#7fbc41"
            ],
            [
             0.9,
             "#4d9221"
            ],
            [
             1,
             "#276419"
            ]
           ],
           "sequential": [
            [
             0,
             "#0d0887"
            ],
            [
             0.1111111111111111,
             "#46039f"
            ],
            [
             0.2222222222222222,
             "#7201a8"
            ],
            [
             0.3333333333333333,
             "#9c179e"
            ],
            [
             0.4444444444444444,
             "#bd3786"
            ],
            [
             0.5555555555555556,
             "#d8576b"
            ],
            [
             0.6666666666666666,
             "#ed7953"
            ],
            [
             0.7777777777777778,
             "#fb9f3a"
            ],
            [
             0.8888888888888888,
             "#fdca26"
            ],
            [
             1,
             "#f0f921"
            ]
           ],
           "sequentialminus": [
            [
             0,
             "#0d0887"
            ],
            [
             0.1111111111111111,
             "#46039f"
            ],
            [
             0.2222222222222222,
             "#7201a8"
            ],
            [
             0.3333333333333333,
             "#9c179e"
            ],
            [
             0.4444444444444444,
             "#bd3786"
            ],
            [
             0.5555555555555556,
             "#d8576b"
            ],
            [
             0.6666666666666666,
             "#ed7953"
            ],
            [
             0.7777777777777778,
             "#fb9f3a"
            ],
            [
             0.8888888888888888,
             "#fdca26"
            ],
            [
             1,
             "#f0f921"
            ]
           ]
          },
          "colorway": [
           "#636efa",
           "#EF553B",
           "#00cc96",
           "#ab63fa",
           "#FFA15A",
           "#19d3f3",
           "#FF6692",
           "#B6E880",
           "#FF97FF",
           "#FECB52"
          ],
          "font": {
           "color": "#2a3f5f"
          },
          "geo": {
           "bgcolor": "white",
           "lakecolor": "white",
           "landcolor": "#E5ECF6",
           "showlakes": true,
           "showland": true,
           "subunitcolor": "white"
          },
          "hoverlabel": {
           "align": "left"
          },
          "hovermode": "closest",
          "mapbox": {
           "style": "light"
          },
          "paper_bgcolor": "white",
          "plot_bgcolor": "#E5ECF6",
          "polar": {
           "angularaxis": {
            "gridcolor": "white",
            "linecolor": "white",
            "ticks": ""
           },
           "bgcolor": "#E5ECF6",
           "radialaxis": {
            "gridcolor": "white",
            "linecolor": "white",
            "ticks": ""
           }
          },
          "scene": {
           "xaxis": {
            "backgroundcolor": "#E5ECF6",
            "gridcolor": "white",
            "gridwidth": 2,
            "linecolor": "white",
            "showbackground": true,
            "ticks": "",
            "zerolinecolor": "white"
           },
           "yaxis": {
            "backgroundcolor": "#E5ECF6",
            "gridcolor": "white",
            "gridwidth": 2,
            "linecolor": "white",
            "showbackground": true,
            "ticks": "",
            "zerolinecolor": "white"
           },
           "zaxis": {
            "backgroundcolor": "#E5ECF6",
            "gridcolor": "white",
            "gridwidth": 2,
            "linecolor": "white",
            "showbackground": true,
            "ticks": "",
            "zerolinecolor": "white"
           }
          },
          "shapedefaults": {
           "line": {
            "color": "#2a3f5f"
           }
          },
          "ternary": {
           "aaxis": {
            "gridcolor": "white",
            "linecolor": "white",
            "ticks": ""
           },
           "baxis": {
            "gridcolor": "white",
            "linecolor": "white",
            "ticks": ""
           },
           "bgcolor": "#E5ECF6",
           "caxis": {
            "gridcolor": "white",
            "linecolor": "white",
            "ticks": ""
           }
          },
          "title": {
           "x": 0.05
          },
          "xaxis": {
           "automargin": true,
           "gridcolor": "white",
           "linecolor": "white",
           "ticks": "",
           "title": {
            "standoff": 15
           },
           "zerolinecolor": "white",
           "zerolinewidth": 2
          },
          "yaxis": {
           "automargin": true,
           "gridcolor": "white",
           "linecolor": "white",
           "ticks": "",
           "title": {
            "standoff": 15
           },
           "zerolinecolor": "white",
           "zerolinewidth": 2
          }
         }
        },
        "title": {
         "text": "Evolução da Emissão média dos Gases por Ano"
        },
        "xaxis": {
         "anchor": "y",
         "domain": [
          0,
          1
         ],
         "title": {
          "text": "Ano"
         }
        },
        "yaxis": {
         "anchor": "x",
         "domain": [
          0,
          1
         ],
         "title": {
          "text": "Emissão"
         }
        }
       }
      }
     },
     "metadata": {},
     "output_type": "display_data"
    }
   ],
   "source": [
    "fig = px.bar(grafico_barras_emp, x='Ano', y='Emissão', color='Gás', title='Evolução da Emissão média dos Gases por Ano')\n",
    "fig.show()"
   ]
  },
  {
   "cell_type": "markdown",
   "id": "40d665c0",
   "metadata": {},
   "source": [
    "Construindo um gráfico de linha com uma linha para cada Gás"
   ]
  },
  {
   "cell_type": "code",
   "execution_count": 87,
   "id": "50f481a1",
   "metadata": {},
   "outputs": [
    {
     "data": {
      "text/html": [
       "<div>\n",
       "<style scoped>\n",
       "    .dataframe tbody tr th:only-of-type {\n",
       "        vertical-align: middle;\n",
       "    }\n",
       "\n",
       "    .dataframe tbody tr th {\n",
       "        vertical-align: top;\n",
       "    }\n",
       "\n",
       "    .dataframe thead th {\n",
       "        text-align: right;\n",
       "    }\n",
       "</style>\n",
       "<table border=\"1\" class=\"dataframe\">\n",
       "  <thead>\n",
       "    <tr style=\"text-align: right;\">\n",
       "      <th></th>\n",
       "      <th>Ano</th>\n",
       "      <th>Gás</th>\n",
       "      <th>Emissão</th>\n",
       "    </tr>\n",
       "  </thead>\n",
       "  <tbody>\n",
       "    <tr>\n",
       "      <th>0</th>\n",
       "      <td>1970</td>\n",
       "      <td>C2F6 (t)</td>\n",
       "      <td>0.232610</td>\n",
       "    </tr>\n",
       "    <tr>\n",
       "      <th>1</th>\n",
       "      <td>1970</td>\n",
       "      <td>CF4 (t)</td>\n",
       "      <td>3.557421</td>\n",
       "    </tr>\n",
       "    <tr>\n",
       "      <th>2</th>\n",
       "      <td>1970</td>\n",
       "      <td>CH4 (t)</td>\n",
       "      <td>1471.024024</td>\n",
       "    </tr>\n",
       "    <tr>\n",
       "      <th>3</th>\n",
       "      <td>1970</td>\n",
       "      <td>CO (t)</td>\n",
       "      <td>2155.556658</td>\n",
       "    </tr>\n",
       "    <tr>\n",
       "      <th>4</th>\n",
       "      <td>1970</td>\n",
       "      <td>CO2 (t)</td>\n",
       "      <td>19244.913199</td>\n",
       "    </tr>\n",
       "    <tr>\n",
       "      <th>...</th>\n",
       "      <td>...</td>\n",
       "      <td>...</td>\n",
       "      <td>...</td>\n",
       "    </tr>\n",
       "    <tr>\n",
       "      <th>1191</th>\n",
       "      <td>2021</td>\n",
       "      <td>HFC-23 (t)</td>\n",
       "      <td>0.000000</td>\n",
       "    </tr>\n",
       "    <tr>\n",
       "      <th>1192</th>\n",
       "      <td>2021</td>\n",
       "      <td>HFC-32 (t)</td>\n",
       "      <td>261.100000</td>\n",
       "    </tr>\n",
       "    <tr>\n",
       "      <th>1193</th>\n",
       "      <td>2021</td>\n",
       "      <td>N2O (t)</td>\n",
       "      <td>119.295311</td>\n",
       "    </tr>\n",
       "    <tr>\n",
       "      <th>1194</th>\n",
       "      <td>2021</td>\n",
       "      <td>NOx (t)</td>\n",
       "      <td>679.395431</td>\n",
       "    </tr>\n",
       "    <tr>\n",
       "      <th>1195</th>\n",
       "      <td>2021</td>\n",
       "      <td>SF6 (t)</td>\n",
       "      <td>5.240000</td>\n",
       "    </tr>\n",
       "  </tbody>\n",
       "</table>\n",
       "<p>1196 rows × 3 columns</p>\n",
       "</div>"
      ],
      "text/plain": [
       "       Ano         Gás       Emissão\n",
       "0     1970    C2F6 (t)      0.232610\n",
       "1     1970     CF4 (t)      3.557421\n",
       "2     1970     CH4 (t)   1471.024024\n",
       "3     1970      CO (t)   2155.556658\n",
       "4     1970     CO2 (t)  19244.913199\n",
       "...    ...         ...           ...\n",
       "1191  2021  HFC-23 (t)      0.000000\n",
       "1192  2021  HFC-32 (t)    261.100000\n",
       "1193  2021     N2O (t)    119.295311\n",
       "1194  2021     NOx (t)    679.395431\n",
       "1195  2021     SF6 (t)      5.240000\n",
       "\n",
       "[1196 rows x 3 columns]"
      ]
     },
     "execution_count": 87,
     "metadata": {},
     "output_type": "execute_result"
    }
   ],
   "source": [
    "media_emissao_anual = emissoes_por_ano.groupby(['Ano', 'Gás'])[['Emissão']].mean().reset_index()\n",
    "media_emissao_anual"
   ]
  },
  {
   "cell_type": "code",
   "execution_count": null,
   "id": "c2b5f16e",
   "metadata": {},
   "outputs": [],
   "source": [
    "# Transforma coluna com todos os gases em uma coluna para cada gás\n",
    "media_emissao_anual = media_emissao_anual.pivot_table(index='Ano', columns='Gás', values='Emissão')\n",
    "media_emissao_anual"
   ]
  },
  {
   "cell_type": "code",
   "execution_count": null,
   "id": "7871193a",
   "metadata": {},
   "outputs": [],
   "source": [
    "media_emissao_anual.plot(subplots=True, figsize=(10, 40))"
   ]
  },
  {
   "cell_type": "code",
   "execution_count": 92,
   "id": "37dd76d2",
   "metadata": {},
   "outputs": [
    {
     "data": {
      "text/html": [
       "<div>\n",
       "<style scoped>\n",
       "    .dataframe tbody tr th:only-of-type {\n",
       "        vertical-align: middle;\n",
       "    }\n",
       "\n",
       "    .dataframe tbody tr th {\n",
       "        vertical-align: top;\n",
       "    }\n",
       "\n",
       "    .dataframe thead th {\n",
       "        text-align: right;\n",
       "    }\n",
       "</style>\n",
       "<table border=\"1\" class=\"dataframe\">\n",
       "  <thead>\n",
       "    <tr style=\"text-align: right;\">\n",
       "      <th>Gás</th>\n",
       "      <th>Ano</th>\n",
       "      <th>C2F6 (t)</th>\n",
       "      <th>CF4 (t)</th>\n",
       "      <th>CH4 (t)</th>\n",
       "      <th>CO (t)</th>\n",
       "      <th>CO2 (t)</th>\n",
       "      <th>CO2e (t) GTP-AR2</th>\n",
       "      <th>CO2e (t) GTP-AR4</th>\n",
       "      <th>CO2e (t) GTP-AR5</th>\n",
       "      <th>CO2e (t) GTP-AR6</th>\n",
       "      <th>...</th>\n",
       "      <th>COVNM (t)</th>\n",
       "      <th>HFC-125 (t)</th>\n",
       "      <th>HFC-134a (t)</th>\n",
       "      <th>HFC-143a (t)</th>\n",
       "      <th>HFC-152a (t)</th>\n",
       "      <th>HFC-23 (t)</th>\n",
       "      <th>HFC-32 (t)</th>\n",
       "      <th>N2O (t)</th>\n",
       "      <th>NOx (t)</th>\n",
       "      <th>SF6 (t)</th>\n",
       "    </tr>\n",
       "  </thead>\n",
       "  <tbody>\n",
       "    <tr>\n",
       "      <th>0</th>\n",
       "      <td>1970</td>\n",
       "      <td>0.232610</td>\n",
       "      <td>3.557421</td>\n",
       "      <td>1471.024024</td>\n",
       "      <td>2155.556658</td>\n",
       "      <td>19244.913199</td>\n",
       "      <td>20821.379814</td>\n",
       "      <td>20821.379814</td>\n",
       "      <td>19162.726020</td>\n",
       "      <td>19775.283385</td>\n",
       "      <td>...</td>\n",
       "      <td>742.074863</td>\n",
       "      <td>0.0</td>\n",
       "      <td>0.0</td>\n",
       "      <td>0.0</td>\n",
       "      <td>0.0</td>\n",
       "      <td>0.0</td>\n",
       "      <td>0.0</td>\n",
       "      <td>31.632709</td>\n",
       "      <td>154.072797</td>\n",
       "      <td>0.0</td>\n",
       "    </tr>\n",
       "    <tr>\n",
       "      <th>1</th>\n",
       "      <td>1971</td>\n",
       "      <td>0.334611</td>\n",
       "      <td>5.117360</td>\n",
       "      <td>1525.506914</td>\n",
       "      <td>2259.625805</td>\n",
       "      <td>21598.587743</td>\n",
       "      <td>22466.288595</td>\n",
       "      <td>22466.288595</td>\n",
       "      <td>20748.481445</td>\n",
       "      <td>21386.175802</td>\n",
       "      <td>...</td>\n",
       "      <td>730.119047</td>\n",
       "      <td>0.0</td>\n",
       "      <td>0.0</td>\n",
       "      <td>0.0</td>\n",
       "      <td>0.0</td>\n",
       "      <td>0.0</td>\n",
       "      <td>0.0</td>\n",
       "      <td>32.609237</td>\n",
       "      <td>170.550178</td>\n",
       "      <td>0.0</td>\n",
       "    </tr>\n",
       "    <tr>\n",
       "      <th>2</th>\n",
       "      <td>1972</td>\n",
       "      <td>0.404684</td>\n",
       "      <td>6.189025</td>\n",
       "      <td>1584.719568</td>\n",
       "      <td>2418.944795</td>\n",
       "      <td>23664.445521</td>\n",
       "      <td>24100.305265</td>\n",
       "      <td>24100.305265</td>\n",
       "      <td>22303.224240</td>\n",
       "      <td>22966.797327</td>\n",
       "      <td>...</td>\n",
       "      <td>774.278817</td>\n",
       "      <td>0.0</td>\n",
       "      <td>0.0</td>\n",
       "      <td>0.0</td>\n",
       "      <td>0.0</td>\n",
       "      <td>0.0</td>\n",
       "      <td>0.0</td>\n",
       "      <td>34.311864</td>\n",
       "      <td>188.856161</td>\n",
       "      <td>0.0</td>\n",
       "    </tr>\n",
       "    <tr>\n",
       "      <th>3</th>\n",
       "      <td>1973</td>\n",
       "      <td>0.463147</td>\n",
       "      <td>7.083136</td>\n",
       "      <td>1642.612439</td>\n",
       "      <td>2596.053853</td>\n",
       "      <td>27726.668829</td>\n",
       "      <td>26683.827206</td>\n",
       "      <td>26683.827206</td>\n",
       "      <td>24827.077028</td>\n",
       "      <td>25516.409611</td>\n",
       "      <td>...</td>\n",
       "      <td>796.866394</td>\n",
       "      <td>0.0</td>\n",
       "      <td>0.0</td>\n",
       "      <td>0.0</td>\n",
       "      <td>0.0</td>\n",
       "      <td>0.0</td>\n",
       "      <td>0.0</td>\n",
       "      <td>35.278689</td>\n",
       "      <td>217.320480</td>\n",
       "      <td>0.0</td>\n",
       "    </tr>\n",
       "    <tr>\n",
       "      <th>4</th>\n",
       "      <td>1974</td>\n",
       "      <td>0.471026</td>\n",
       "      <td>7.203619</td>\n",
       "      <td>1704.614365</td>\n",
       "      <td>2681.450599</td>\n",
       "      <td>30155.918952</td>\n",
       "      <td>28539.318732</td>\n",
       "      <td>28539.318732</td>\n",
       "      <td>26600.481407</td>\n",
       "      <td>27321.124852</td>\n",
       "      <td>...</td>\n",
       "      <td>1024.694923</td>\n",
       "      <td>0.0</td>\n",
       "      <td>0.0</td>\n",
       "      <td>0.0</td>\n",
       "      <td>0.0</td>\n",
       "      <td>0.0</td>\n",
       "      <td>0.0</td>\n",
       "      <td>37.098183</td>\n",
       "      <td>247.521415</td>\n",
       "      <td>0.0</td>\n",
       "    </tr>\n",
       "  </tbody>\n",
       "</table>\n",
       "<p>5 rows × 24 columns</p>\n",
       "</div>"
      ],
      "text/plain": [
       "Gás   Ano  C2F6 (t)   CF4 (t)      CH4 (t)       CO (t)       CO2 (t)  \\\n",
       "0    1970  0.232610  3.557421  1471.024024  2155.556658  19244.913199   \n",
       "1    1971  0.334611  5.117360  1525.506914  2259.625805  21598.587743   \n",
       "2    1972  0.404684  6.189025  1584.719568  2418.944795  23664.445521   \n",
       "3    1973  0.463147  7.083136  1642.612439  2596.053853  27726.668829   \n",
       "4    1974  0.471026  7.203619  1704.614365  2681.450599  30155.918952   \n",
       "\n",
       "Gás  CO2e (t) GTP-AR2  CO2e (t) GTP-AR4  CO2e (t) GTP-AR5  CO2e (t) GTP-AR6  \\\n",
       "0        20821.379814      20821.379814      19162.726020      19775.283385   \n",
       "1        22466.288595      22466.288595      20748.481445      21386.175802   \n",
       "2        24100.305265      24100.305265      22303.224240      22966.797327   \n",
       "3        26683.827206      26683.827206      24827.077028      25516.409611   \n",
       "4        28539.318732      28539.318732      26600.481407      27321.124852   \n",
       "\n",
       "Gás  ...    COVNM (t)  HFC-125 (t)  HFC-134a (t)  HFC-143a (t)  HFC-152a (t)  \\\n",
       "0    ...   742.074863          0.0           0.0           0.0           0.0   \n",
       "1    ...   730.119047          0.0           0.0           0.0           0.0   \n",
       "2    ...   774.278817          0.0           0.0           0.0           0.0   \n",
       "3    ...   796.866394          0.0           0.0           0.0           0.0   \n",
       "4    ...  1024.694923          0.0           0.0           0.0           0.0   \n",
       "\n",
       "Gás  HFC-23 (t)  HFC-32 (t)    N2O (t)     NOx (t)  SF6 (t)  \n",
       "0           0.0         0.0  31.632709  154.072797      0.0  \n",
       "1           0.0         0.0  32.609237  170.550178      0.0  \n",
       "2           0.0         0.0  34.311864  188.856161      0.0  \n",
       "3           0.0         0.0  35.278689  217.320480      0.0  \n",
       "4           0.0         0.0  37.098183  247.521415      0.0  \n",
       "\n",
       "[5 rows x 24 columns]"
      ]
     },
     "execution_count": 92,
     "metadata": {},
     "output_type": "execute_result"
    }
   ],
   "source": [
    "media_emissao_anual = media_emissao_anual.reset_index()\n",
    "media_emissao_anual.head()"
   ]
  },
  {
   "cell_type": "code",
   "execution_count": 93,
   "id": "a705d246",
   "metadata": {},
   "outputs": [
    {
     "data": {
      "application/vnd.plotly.v1+json": {
       "config": {
        "plotlyServerURL": "https://plot.ly"
       },
       "data": [
        {
         "hovertemplate": "variable=CF4 (t)<br>Ano=%{x}<br>value=%{y}<extra></extra>",
         "legendgroup": "CF4 (t)",
         "line": {
          "color": "#636efa",
          "dash": "solid"
         },
         "marker": {
          "symbol": "circle"
         },
         "mode": "lines",
         "name": "CF4 (t)",
         "showlegend": true,
         "type": "scattergl",
         "x": [
          1970,
          1971,
          1972,
          1973,
          1974,
          1975,
          1976,
          1977,
          1978,
          1979,
          1980,
          1981,
          1982,
          1983,
          1984,
          1985,
          1986,
          1987,
          1988,
          1989,
          1990,
          1991,
          1992,
          1993,
          1994,
          1995,
          1996,
          1997,
          1998,
          1999,
          2000,
          2001,
          2002,
          2003,
          2004,
          2005,
          2006,
          2007,
          2008,
          2009,
          2010,
          2011,
          2012,
          2013,
          2014,
          2015,
          2016,
          2017,
          2018,
          2019,
          2020,
          2021
         ],
         "xaxis": "x",
         "y": [
          3.5574211134036147,
          5.117359783452283,
          6.189024967347483,
          7.0831361562778,
          7.203619224289684,
          7.691892710443134,
          8.826970035397233,
          10.596168770940201,
          11.464915103446984,
          15.098430786121265,
          16.52520395994625,
          16.258872967498917,
          18.6076901034026,
          24.198663100671215,
          27.13935423927752,
          31.87845910456124,
          42.3726325896449,
          46.61069600135178,
          48.15614982842749,
          48.830373205106845,
          50.97429886662584,
          56.53449088358442,
          59.10871276009484,
          55.77557920402236,
          53.834393910506435,
          50.990035969954334,
          49.62224059974284,
          33.82714600101952,
          37.96976613365592,
          33.5951007733954,
          24.442363789827642,
          19.112795230334935,
          22.585387754449386,
          23.344023914789748,
          21.8621802984447,
          20.64861220006281,
          20.30240332864861,
          19.551498328218713,
          19.035886732060202,
          13.706961065776214,
          12.796066563441974,
          11.207334007092534,
          11.719239148666965,
          10.3864840110238,
          7.3720845584628725,
          6.136245061327501,
          6.69871474042755,
          6.869938922106417,
          6.371409362127232,
          6.004691857344931,
          6.3269984488880615,
          7.12676208291769
         ],
         "yaxis": "y"
        },
        {
         "hovertemplate": "variable=CH4 (t)<br>Ano=%{x}<br>value=%{y}<extra></extra>",
         "legendgroup": "CH4 (t)",
         "line": {
          "color": "#EF553B",
          "dash": "solid"
         },
         "marker": {
          "symbol": "circle"
         },
         "mode": "lines",
         "name": "CH4 (t)",
         "showlegend": true,
         "type": "scattergl",
         "x": [
          1970,
          1971,
          1972,
          1973,
          1974,
          1975,
          1976,
          1977,
          1978,
          1979,
          1980,
          1981,
          1982,
          1983,
          1984,
          1985,
          1986,
          1987,
          1988,
          1989,
          1990,
          1991,
          1992,
          1993,
          1994,
          1995,
          1996,
          1997,
          1998,
          1999,
          2000,
          2001,
          2002,
          2003,
          2004,
          2005,
          2006,
          2007,
          2008,
          2009,
          2010,
          2011,
          2012,
          2013,
          2014,
          2015,
          2016,
          2017,
          2018,
          2019,
          2020,
          2021
         ],
         "xaxis": "x",
         "y": [
          1471.0240243204255,
          1525.506913644445,
          1584.7195676656181,
          1642.6124393208506,
          1704.6143648969603,
          1854.3608209547965,
          1932.6417163923177,
          1931.8976450776554,
          1921.2819301668767,
          1972.6824106318809,
          2111.6393061959516,
          2150.5737782317456,
          2173.6912323255788,
          2187.9435254865843,
          2257.5785821484083,
          2276.949369517624,
          2328.5224925789694,
          2389.0551972141743,
          2455.8626164031316,
          2522.6094017656374,
          3140.539349072952,
          3234.1086148886493,
          3370.4073396610784,
          3308.1588656970703,
          3469.9840888900612,
          3662.010693161361,
          3369.71439041131,
          3460.277798904545,
          3458.4301571314127,
          3505.8565653229375,
          3571.9145676232533,
          3726.8396669014924,
          3848.366806879011,
          4226.186785098658,
          4300.983935783517,
          4190.234070037189,
          4034.676759178711,
          3765.0485527620485,
          3807.397927778174,
          3742.79563302351,
          3787.6927358871303,
          3772.085551243867,
          3782.4289768270637,
          3858.863908293682,
          3856.3467129046066,
          3992.254029144428,
          4061.0991556360646,
          3959.9044716773233,
          3997.8723683253647,
          4081.2153305360284,
          4151.676285517012,
          4286.231596875661
         ],
         "yaxis": "y"
        },
        {
         "hovertemplate": "variable=CO (t)<br>Ano=%{x}<br>value=%{y}<extra></extra>",
         "legendgroup": "CO (t)",
         "line": {
          "color": "#00cc96",
          "dash": "solid"
         },
         "marker": {
          "symbol": "circle"
         },
         "mode": "lines",
         "name": "CO (t)",
         "showlegend": true,
         "type": "scattergl",
         "x": [
          1970,
          1971,
          1972,
          1973,
          1974,
          1975,
          1976,
          1977,
          1978,
          1979,
          1980,
          1981,
          1982,
          1983,
          1984,
          1985,
          1986,
          1987,
          1988,
          1989,
          1990,
          1991,
          1992,
          1993,
          1994,
          1995,
          1996,
          1997,
          1998,
          1999,
          2000,
          2001,
          2002,
          2003,
          2004,
          2005,
          2006,
          2007,
          2008,
          2009,
          2010,
          2011,
          2012,
          2013,
          2014,
          2015,
          2016,
          2017,
          2018,
          2019,
          2020,
          2021
         ],
         "xaxis": "x",
         "y": [
          2155.5566582947667,
          2259.625804871365,
          2418.9447949802416,
          2596.053853397058,
          2681.450599420945,
          2730.894830150032,
          2702.4943623920058,
          2675.9920770999006,
          2755.8918768620197,
          2878.725770349819,
          2791.8995072500443,
          2668.683826862488,
          2724.414118068518,
          2745.306274292398,
          2897.559169971933,
          3044.089464832911,
          3219.4708962143877,
          3186.8789425038754,
          3191.800660329431,
          3293.349871680296,
          3113.0901543484038,
          3110.1504927083615,
          2999.9788183376095,
          2888.7166847493413,
          2937.911533541635,
          2853.7063842844505,
          2794.128267620725,
          2700.521699753704,
          2601.3277897676194,
          2517.6456981307037,
          2397.1371485860277,
          2335.662246060046,
          2418.849846553625,
          2550.104407393858,
          2649.403382293924,
          2617.2100784724694,
          2603.7632684605096,
          2694.853040944466,
          2709.595001783988,
          2376.483830659009,
          2429.505465135973,
          2291.701526216611,
          2192.3115973336094,
          2134.9018638197063,
          2135.87561291725,
          2037.0682510171873,
          1920.2664966993786,
          1944.4215451751272,
          2038.4935733119205,
          2006.5355350143343,
          1978.3192893444834,
          2021.5197190895237
         ],
         "yaxis": "y"
        },
        {
         "hovertemplate": "variable=CO2 (t)<br>Ano=%{x}<br>value=%{y}<extra></extra>",
         "legendgroup": "CO2 (t)",
         "line": {
          "color": "#ab63fa",
          "dash": "solid"
         },
         "marker": {
          "symbol": "circle"
         },
         "mode": "lines",
         "name": "CO2 (t)",
         "showlegend": true,
         "type": "scattergl",
         "x": [
          1970,
          1971,
          1972,
          1973,
          1974,
          1975,
          1976,
          1977,
          1978,
          1979,
          1980,
          1981,
          1982,
          1983,
          1984,
          1985,
          1986,
          1987,
          1988,
          1989,
          1990,
          1991,
          1992,
          1993,
          1994,
          1995,
          1996,
          1997,
          1998,
          1999,
          2000,
          2001,
          2002,
          2003,
          2004,
          2005,
          2006,
          2007,
          2008,
          2009,
          2010,
          2011,
          2012,
          2013,
          2014,
          2015,
          2016,
          2017,
          2018,
          2019,
          2020,
          2021
         ],
         "xaxis": "x",
         "y": [
          19244.91319887677,
          21598.587742630047,
          23664.445520867084,
          27726.66882924873,
          30155.9189522486,
          32292.96577084301,
          35640.34472303796,
          37313.90907730465,
          40669.82004944608,
          43232.369185967385,
          43117.075654088,
          40550.58314847629,
          40883.5106011315,
          38613.33620580688,
          39098.27563235921,
          41605.84618053646,
          46122.83394017065,
          47537.176339984704,
          48565.529300176415,
          49320.417098015256,
          320768.38201938604,
          319892.99527892604,
          359902.5653009504,
          331043.73130997387,
          378143.07779634825,
          439538.0340748054,
          384715.0120798311,
          403260.8179433101,
          381765.065616296,
          378589.90760348353,
          371264.62565265823,
          383126.5236143946,
          405857.3127668898,
          504980.45842364756,
          478755.5605604171,
          409271.7818114777,
          339484.9096831791,
          294829.62324361684,
          293018.361152039,
          225585.3460492301,
          224152.6307798434,
          230800.4414009296,
          252570.17458954136,
          283081.3719767324,
          270656.89903124527,
          290361.6412277222,
          290019.57666866184,
          261710.38036073963,
          269982.3777553725,
          300435.28391542396,
          299235.3745740907,
          349280.4823078442
         ],
         "yaxis": "y"
        },
        {
         "hovertemplate": "variable=CO2e (t) GTP-AR2<br>Ano=%{x}<br>value=%{y}<extra></extra>",
         "legendgroup": "CO2e (t) GTP-AR2",
         "line": {
          "color": "#FFA15A",
          "dash": "solid"
         },
         "marker": {
          "symbol": "circle"
         },
         "mode": "lines",
         "name": "CO2e (t) GTP-AR2",
         "showlegend": true,
         "type": "scattergl",
         "x": [
          1970,
          1971,
          1972,
          1973,
          1974,
          1975,
          1976,
          1977,
          1978,
          1979,
          1980,
          1981,
          1982,
          1983,
          1984,
          1985,
          1986,
          1987,
          1988,
          1989,
          1990,
          1991,
          1992,
          1993,
          1994,
          1995,
          1996,
          1997,
          1998,
          1999,
          2000,
          2001,
          2002,
          2003,
          2004,
          2005,
          2006,
          2007,
          2008,
          2009,
          2010,
          2011,
          2012,
          2013,
          2014,
          2015,
          2016,
          2017,
          2018,
          2019,
          2020,
          2021
         ],
         "xaxis": "x",
         "y": [
          20821.379813608703,
          22466.288595097878,
          24100.30526453042,
          26683.827205542697,
          28539.31873175121,
          30593.767465364625,
          33066.87800746832,
          34182.31233286334,
          35969.63360141076,
          37830.72000629257,
          38761.77764112612,
          37320.26932147457,
          37648.12472397198,
          36467.392931246046,
          37304.49288506612,
          38842.902282081726,
          41778.285575238486,
          43071.699004421316,
          43988.54144839054,
          44939.940629351244,
          198367.2976698348,
          198549.149416184,
          221619.98557136446,
          205496.77912430317,
          232586.0730391736,
          267589.151576343,
          235381.09469993916,
          246192.05718880906,
          234556.74832427638,
          233065.47148257855,
          229362.75706001,
          236615.62095493553,
          250601.63264446004,
          308245.71373366035,
          294423.64093320974,
          255348.50990740853,
          216174.71445338472,
          190210.42777336188,
          189430.14525449273,
          151609.65356127213,
          151509.99351319566,
          155828.96068156467,
          167844.83399892514,
          185675.0014417958,
          178917.59156093147,
          190356.37357488103,
          191131.76841244826,
          175410.90867559376,
          179964.2187359082,
          197451.0936249982,
          197952.3913007864,
          227071.0437329513
         ],
         "yaxis": "y"
        },
        {
         "hovertemplate": "variable=CO2e (t) GTP-AR4<br>Ano=%{x}<br>value=%{y}<extra></extra>",
         "legendgroup": "CO2e (t) GTP-AR4",
         "line": {
          "color": "#19d3f3",
          "dash": "solid"
         },
         "marker": {
          "symbol": "circle"
         },
         "mode": "lines",
         "name": "CO2e (t) GTP-AR4",
         "showlegend": true,
         "type": "scattergl",
         "x": [
          1970,
          1971,
          1972,
          1973,
          1974,
          1975,
          1976,
          1977,
          1978,
          1979,
          1980,
          1981,
          1982,
          1983,
          1984,
          1985,
          1986,
          1987,
          1988,
          1989,
          1990,
          1991,
          1992,
          1993,
          1994,
          1995,
          1996,
          1997,
          1998,
          1999,
          2000,
          2001,
          2002,
          2003,
          2004,
          2005,
          2006,
          2007,
          2008,
          2009,
          2010,
          2011,
          2012,
          2013,
          2014,
          2015,
          2016,
          2017,
          2018,
          2019,
          2020,
          2021
         ],
         "xaxis": "x",
         "y": [
          20821.379813608703,
          22466.288595097878,
          24100.30526453042,
          26683.827205542697,
          28539.31873175121,
          30593.767465364625,
          33066.87800746832,
          34182.31233286334,
          35969.63360141076,
          37830.72000629257,
          38761.77764112612,
          37320.26932147457,
          37648.12472397198,
          36467.392931246046,
          37304.49288506612,
          38842.902282081726,
          41778.285575238486,
          43071.699004421316,
          43988.54144839054,
          44939.940629351244,
          198367.2976698348,
          198549.149416184,
          221619.98557136446,
          205496.77912430317,
          232586.0730391736,
          267589.151576343,
          235381.09469993916,
          246192.05718880906,
          234556.74832427638,
          233065.47148257855,
          229362.75706001,
          236615.62095493553,
          250601.63264446004,
          308245.71373366035,
          294423.64093320974,
          255348.50990740853,
          216174.71445338472,
          190210.42777336188,
          189430.14525449273,
          151609.65356127213,
          151509.99351319566,
          155828.96068156467,
          167844.83399892514,
          185675.0014417958,
          178917.59156093147,
          190356.37357488103,
          191131.76841244826,
          175410.90867559376,
          179964.2187359082,
          197451.0936249982,
          197952.3913007864,
          227071.0437329513
         ],
         "yaxis": "y"
        },
        {
         "hovertemplate": "variable=CO2e (t) GTP-AR5<br>Ano=%{x}<br>value=%{y}<extra></extra>",
         "legendgroup": "CO2e (t) GTP-AR5",
         "line": {
          "color": "#FF6692",
          "dash": "solid"
         },
         "marker": {
          "symbol": "circle"
         },
         "mode": "lines",
         "name": "CO2e (t) GTP-AR5",
         "showlegend": true,
         "type": "scattergl",
         "x": [
          1970,
          1971,
          1972,
          1973,
          1974,
          1975,
          1976,
          1977,
          1978,
          1979,
          1980,
          1981,
          1982,
          1983,
          1984,
          1985,
          1986,
          1987,
          1988,
          1989,
          1990,
          1991,
          1992,
          1993,
          1994,
          1995,
          1996,
          1997,
          1998,
          1999,
          2000,
          2001,
          2002,
          2003,
          2004,
          2005,
          2006,
          2007,
          2008,
          2009,
          2010,
          2011,
          2012,
          2013,
          2014,
          2015,
          2016,
          2017,
          2018,
          2019,
          2020,
          2021
         ],
         "xaxis": "x",
         "y": [
          19162.726019728434,
          20748.481444859175,
          22303.2242404232,
          24827.077027999065,
          26600.481406892923,
          28507.669058655396,
          30879.481708947016,
          31967.243033522194,
          33762.778999467395,
          35550.182889128606,
          36320.6403155396,
          34876.52002874925,
          35178.523167457985,
          33981.942863871336,
          34726.83610430925,
          36235.2384457332,
          39089.713887022386,
          40298.33664223764,
          41153.71329355403,
          42019.80001172004,
          194710.51040270276,
          194785.09362396077,
          217677.5766273456,
          201610.5610042919,
          228497.5367621605,
          263284.9761915173,
          231429.5100599618,
          242146.73092769558,
          230484.6751053886,
          228976.59302443193,
          225202.142194439,
          232343.05424968502,
          246093.28948616685,
          303220.023227828,
          289299.60597185115,
          250404.09610761612,
          211356.11104744478,
          185676.58723970316,
          184810.73129360445,
          147164.49673698988,
          146989.85016856916,
          151213.32151573861,
          163215.7949031457,
          180884.39271069257,
          174124.39128164458,
          185452.9128298727,
          186087.16590026722,
          170415.2184935302,
          174959.71469221739,
          192324.42322857727,
          192658.31944121505,
          221524.0920244153
         ],
         "yaxis": "y"
        },
        {
         "hovertemplate": "variable=CO2e (t) GTP-AR6<br>Ano=%{x}<br>value=%{y}<extra></extra>",
         "legendgroup": "CO2e (t) GTP-AR6",
         "line": {
          "color": "#B6E880",
          "dash": "solid"
         },
         "marker": {
          "symbol": "circle"
         },
         "mode": "lines",
         "name": "CO2e (t) GTP-AR6",
         "showlegend": true,
         "type": "scattergl",
         "x": [
          1970,
          1971,
          1972,
          1973,
          1974,
          1975,
          1976,
          1977,
          1978,
          1979,
          1980,
          1981,
          1982,
          1983,
          1984,
          1985,
          1986,
          1987,
          1988,
          1989,
          1990,
          1991,
          1992,
          1993,
          1994,
          1995,
          1996,
          1997,
          1998,
          1999,
          2000,
          2001,
          2002,
          2003,
          2004,
          2005,
          2006,
          2007,
          2008,
          2009,
          2010,
          2011,
          2012,
          2013,
          2014,
          2015,
          2016,
          2017,
          2018,
          2019,
          2020,
          2021
         ],
         "xaxis": "x",
         "y": [
          19775.28338486041,
          21386.1758023759,
          22966.79732685098,
          25516.40961087844,
          27321.124851999564,
          29285.642220780846,
          31693.2261616256,
          32784.13139741583,
          34580.72099761574,
          36394.12625928984,
          37219.45219221319,
          35794.0945004331,
          36111.10164412629,
          34926.71588948231,
          35706.62368456077,
          37233.188740301775,
          40113.476162581275,
          41338.08120881984,
          42228.31303031646,
          43116.82859016427,
          196298.671383307,
          196423.78881972402,
          219412.11783591972,
          203290.1121521111,
          230276.52315172084,
          265192.39353269595,
          233159.42443127063,
          243918.26090792994,
          232222.28535355165,
          230754.71147033977,
          226964.73795843907,
          234194.07182588588,
          248013.69802799265,
          305374.4580008866,
          291467.64749505004,
          252502.63882554413,
          213329.8771802487,
          187528.30546181716,
          186650.40215685227,
          148962.66165794744,
          148814.97484671083,
          153010.66867130809,
          165044.95133619258,
          182769.22999232198,
          176000.95966132786,
          187416.45161451504,
          188095.88543736894,
          172361.59910856414,
          176944.75432388758,
          194380.50149819633,
          194752.05175676217,
          223695.68923693895
         ],
         "yaxis": "y"
        },
        {
         "hovertemplate": "variable=CO2e (t) GWP-AR2<br>Ano=%{x}<br>value=%{y}<extra></extra>",
         "legendgroup": "CO2e (t) GWP-AR2",
         "line": {
          "color": "#FF97FF",
          "dash": "solid"
         },
         "marker": {
          "symbol": "circle"
         },
         "mode": "lines",
         "name": "CO2e (t) GWP-AR2",
         "showlegend": true,
         "type": "scattergl",
         "x": [
          1970,
          1971,
          1972,
          1973,
          1974,
          1975,
          1976,
          1977,
          1978,
          1979,
          1980,
          1981,
          1982,
          1983,
          1984,
          1985,
          1986,
          1987,
          1988,
          1989,
          1990,
          1991,
          1992,
          1993,
          1994,
          1995,
          1996,
          1997,
          1998,
          1999,
          2000,
          2001,
          2002,
          2003,
          2004,
          2005,
          2006,
          2007,
          2008,
          2009,
          2010,
          2011,
          2012,
          2013,
          2014,
          2015,
          2016,
          2017,
          2018,
          2019,
          2020,
          2021
         ],
         "xaxis": "x",
         "y": [
          35396.183865320476,
          37570.982886221725,
          39800.768350281374,
          42947.75549016349,
          45431.24006447654,
          48944.72958082732,
          52203.02800854786,
          53333.605735410936,
          55015.291181848115,
          57384.964095163996,
          59691.5076059945,
          58591.74850890275,
          59135.75977039256,
          58065.322344880165,
          59592.10383323072,
          61304.44364926849,
          64716.42852347494,
          66604.05358608041,
          68159.45749015697,
          69780.16083879743,
          229318.7982112671,
          230399.42351452014,
          254828.24477946342,
          238111.06647454633,
          266861.04421812674,
          303809.3207308306,
          268851.2588802744,
          280607.3142675768,
          269066.9751522287,
          268066.3601078803,
          265039.9810007981,
          273944.19857618574,
          289212.9200181213,
          350746.6109409076,
          337649.9794011019,
          297627.6466994404,
          256848.50798571538,
          228590.73341471277,
          227880.19134519636,
          189672.14200925583,
          190395.88576488083,
          194568.31403071317,
          206750.2568612405,
          225493.635922496,
          218797.5265433683,
          231607.67153812246,
          233197.806460726,
          216608.69758267945,
          221567.87994157395,
          239978.9076466745,
          241339.221567157,
          271965.0514084186
         ],
         "yaxis": "y"
        },
        {
         "hovertemplate": "variable=CO2e (t) GWP-AR4<br>Ano=%{x}<br>value=%{y}<extra></extra>",
         "legendgroup": "CO2e (t) GWP-AR4",
         "line": {
          "color": "#FECB52",
          "dash": "solid"
         },
         "marker": {
          "symbol": "circle"
         },
         "mode": "lines",
         "name": "CO2e (t) GWP-AR4",
         "showlegend": true,
         "type": "scattergl",
         "x": [
          1970,
          1971,
          1972,
          1973,
          1974,
          1975,
          1976,
          1977,
          1978,
          1979,
          1980,
          1981,
          1982,
          1983,
          1984,
          1985,
          1986,
          1987,
          1988,
          1989,
          1990,
          1991,
          1992,
          1993,
          1994,
          1995,
          1996,
          1997,
          1998,
          1999,
          2000,
          2001,
          2002,
          2003,
          2004,
          2005,
          2006,
          2007,
          2008,
          2009,
          2010,
          2011,
          2012,
          2013,
          2014,
          2015,
          2016,
          2017,
          2018,
          2019,
          2020,
          2021
         ],
         "xaxis": "x",
         "y": [
          38559.11562997942,
          40853.79566824582,
          43208.011803983536,
          46482.3896623959,
          49095.088396188585,
          52937.92582118442,
          56361.504002672824,
          57483.42652681235,
          59142.271502548436,
          61622.07352060368,
          64227.59775164404,
          63224.818305624474,
          63821.980304222045,
          62790.438266417616,
          64466.50533930225,
          66224.97944504001,
          69756.1551307789,
          71774.78724921517,
          73480.57751924814,
          75242.2928249065,
          236145.22216383182,
          237440.46210383254,
          262167.7517058614,
          245311.58526636052,
          274394.8238460505,
          311751.62423086667,
          276157.76375655795,
          288088.2301822608,
          276513.97939513833,
          275654.70325495343,
          272722.9852703617,
          281987.2560084102,
          297493.7137031403,
          359815.0105456759,
          346884.5304718618,
          306652.84659159044,
          265547.6662967254,
          236736.28003926107,
          236091.16150801638,
          197788.60189676314,
          198647.2386184486,
          202730.9259003811,
          214949.89621292127,
          233845.05295287145,
          227152.13496870303,
          240281.27666797792,
          242013.52539394636,
          225200.38620117606,
          230266.34426449536,
          248861.11752053976,
          250358.52637582098,
          281255.33671120054
         ],
         "yaxis": "y"
        },
        {
         "hovertemplate": "variable=CO2e (t) GWP-AR5<br>Ano=%{x}<br>value=%{y}<extra></extra>",
         "legendgroup": "CO2e (t) GWP-AR5",
         "line": {
          "color": "#636efa",
          "dash": "solid"
         },
         "marker": {
          "symbol": "circle"
         },
         "mode": "lines",
         "name": "CO2e (t) GWP-AR5",
         "showlegend": true,
         "type": "scattergl",
         "x": [
          1970,
          1971,
          1972,
          1973,
          1974,
          1975,
          1976,
          1977,
          1978,
          1979,
          1980,
          1981,
          1982,
          1983,
          1984,
          1985,
          1986,
          1987,
          1988,
          1989,
          1990,
          1991,
          1992,
          1993,
          1994,
          1995,
          1996,
          1997,
          1998,
          1999,
          2000,
          2001,
          2002,
          2003,
          2004,
          2005,
          2006,
          2007,
          2008,
          2009,
          2010,
          2011,
          2012,
          2013,
          2014,
          2015,
          2016,
          2017,
          2018,
          2019,
          2020,
          2021
         ],
         "xaxis": "x",
         "y": [
          39934.722982200525,
          42274.057534316365,
          44664.14564429624,
          47978.47120522891,
          50626.79168695999,
          54630.30185582035,
          58100.61489646692,
          59184.87379159105,
          60809.208121905285,
          63313.683925919424,
          66058.64061800376,
          65152.431565345374,
          65774.23270421955,
          64778.89771445517,
          66512.73272403098,
          68273.55522942789,
          71820.48866936436,
          73881.07366152461,
          75664.16272260036,
          77479.76587890985,
          237332.98435791954,
          238747.9354074755,
          263354.7059363743,
          246604.48812342752,
          275535.8793004501,
          312697.19744638464,
          277156.6320351479,
          289062.6394779388,
          277595.7991335827,
          276808.82550421153,
          274020.11241875397,
          283392.7640102978,
          298791.39042488526,
          360779.4219082164,
          348098.5408743795,
          308198.23622093187,
          267375.31436305767,
          238488.28840211756,
          237946.93852910362,
          200018.10368630782,
          200859.03815358222,
          204789.1922269499,
          216884.45686994938,
          235588.13673047445,
          228952.24776931858,
          242144.46766864634,
          243871.94305851936,
          227062.84682766904,
          232136.4716130781,
          250584.24846919026,
          252049.5923730172,
          282686.7057129311
         ],
         "yaxis": "y"
        },
        {
         "hovertemplate": "variable=CO2e (t) GWP-AR6<br>Ano=%{x}<br>value=%{y}<extra></extra>",
         "legendgroup": "CO2e (t) GWP-AR6",
         "line": {
          "color": "#EF553B",
          "dash": "solid"
         },
         "marker": {
          "symbol": "circle"
         },
         "mode": "lines",
         "name": "CO2e (t) GWP-AR6",
         "showlegend": true,
         "type": "scattergl",
         "x": [
          1970,
          1971,
          1972,
          1973,
          1974,
          1975,
          1976,
          1977,
          1978,
          1979,
          1980,
          1981,
          1982,
          1983,
          1984,
          1985,
          1986,
          1987,
          1988,
          1989,
          1990,
          1991,
          1992,
          1993,
          1994,
          1995,
          1996,
          1997,
          1998,
          1999,
          2000,
          2001,
          2002,
          2003,
          2004,
          2005,
          2006,
          2007,
          2008,
          2009,
          2010,
          2011,
          2012,
          2013,
          2014,
          2015,
          2016,
          2017,
          2018,
          2019,
          2020,
          2021
         ],
         "xaxis": "x",
         "y": [
          39751.61523881756,
          42095.05318032789,
          44490.55993709158,
          47817.59134977149,
          50477.920397634756,
          54451.57524305593,
          57933.51272974364,
          59040.0484123524,
          60693.6510322016,
          63210.75568052518,
          65923.7961047958,
          64982.50673300188,
          65605.07646866357,
          64594.26896742206,
          66325.09672240046,
          68106.49530400155,
          71674.28367850317,
          73724.04003008083,
          75501.02469583695,
          77305.11445347329,
          238965.12236834425,
          240344.4257561263,
          265211.4715458681,
          248255.37530598952,
          277504.2916149593,
          315081.00760197244,
          279199.5685464172,
          291212.3307740925,
          279595.7240957324,
          278787.16293152445,
          275894.7755492617,
          285343.0077779991,
          300915.68792267353,
          363589.49683232,
          350698.48036217084,
          310353.3582964686,
          269045.5906847108,
          239962.07296022426,
          239334.36842248126,
          200979.03997884813,
          201854.93297996,
          205832.2551049525,
          218094.0938193402,
          237034.33261176333,
          230326.6680438446,
          243636.17147434384,
          245406.4452013211,
          228442.86213061766,
          233593.0954205567,
          252286.12389520934,
          253797.8300663961,
          284770.02584882727
         ],
         "yaxis": "y"
        },
        {
         "hovertemplate": "variable=COVNM (t)<br>Ano=%{x}<br>value=%{y}<extra></extra>",
         "legendgroup": "COVNM (t)",
         "line": {
          "color": "#00cc96",
          "dash": "solid"
         },
         "marker": {
          "symbol": "circle"
         },
         "mode": "lines",
         "name": "COVNM (t)",
         "showlegend": true,
         "type": "scattergl",
         "x": [
          1970,
          1971,
          1972,
          1973,
          1974,
          1975,
          1976,
          1977,
          1978,
          1979,
          1980,
          1981,
          1982,
          1983,
          1984,
          1985,
          1986,
          1987,
          1988,
          1989,
          1990,
          1991,
          1992,
          1993,
          1994,
          1995,
          1996,
          1997,
          1998,
          1999,
          2000,
          2001,
          2002,
          2003,
          2004,
          2005,
          2006,
          2007,
          2008,
          2009,
          2010,
          2011,
          2012,
          2013,
          2014,
          2015,
          2016,
          2017,
          2018,
          2019,
          2020,
          2021
         ],
         "xaxis": "x",
         "y": [
          742.0748627076053,
          730.1190474484524,
          774.278817049442,
          796.8663936746243,
          1024.694923473912,
          1065.6827500557777,
          1091.7789086915614,
          1147.71244838991,
          1289.8535641927006,
          1512.2065083093996,
          1365.4501950689457,
          1198.4783424130364,
          1247.9689084704737,
          1205.554391031198,
          1237.5169965968905,
          937.8032658709775,
          880.5119737747972,
          837.0367404531746,
          926.5094297624588,
          1003.8158453979011,
          985.6681749916487,
          939.6433959823974,
          875.5652003344609,
          914.4607681770514,
          943.3155463304239,
          933.9122255190043,
          966.3270095507088,
          966.3983279707988,
          995.6792426317837,
          1053.3130754981034,
          1057.4457563786984,
          967.4440676046497,
          969.157687465944,
          949.9011914986487,
          1015.4534069192663,
          1006.4450029932304,
          1243.6731448336939,
          1043.6655575075742,
          1349.5049473936906,
          1343.8635761461226,
          1521.9703658312512,
          1572.5937201726538,
          1563.0828353923282,
          1616.414260021456,
          1590.0071596998862,
          1499.4632191089688,
          1474.1858326306742,
          1360.0681306549322,
          1405.981486895864,
          1479.0999514641742,
          1474.528381185505,
          1489.4403898360968
         ],
         "yaxis": "y"
        },
        {
         "hovertemplate": "variable=HFC-125 (t)<br>Ano=%{x}<br>value=%{y}<extra></extra>",
         "legendgroup": "HFC-125 (t)",
         "line": {
          "color": "#ab63fa",
          "dash": "solid"
         },
         "marker": {
          "symbol": "circle"
         },
         "mode": "lines",
         "name": "HFC-125 (t)",
         "showlegend": true,
         "type": "scattergl",
         "x": [
          1970,
          1971,
          1972,
          1973,
          1974,
          1975,
          1976,
          1977,
          1978,
          1979,
          1980,
          1981,
          1982,
          1983,
          1984,
          1985,
          1986,
          1987,
          1988,
          1989,
          1990,
          1991,
          1992,
          1993,
          1994,
          1995,
          1996,
          1997,
          1998,
          1999,
          2000,
          2001,
          2002,
          2003,
          2004,
          2005,
          2006,
          2007,
          2008,
          2009,
          2010,
          2011,
          2012,
          2013,
          2014,
          2015,
          2016,
          2017,
          2018,
          2019,
          2020,
          2021
         ],
         "xaxis": "x",
         "y": [
          0,
          0,
          0,
          0,
          0,
          0,
          0,
          0,
          0,
          0,
          0,
          0,
          0,
          0,
          0,
          0,
          0,
          0,
          0,
          0,
          0,
          0,
          0,
          0,
          0,
          0,
          0,
          0,
          0,
          0,
          7.1,
          39.2,
          50.8,
          54.8,
          120.7,
          124.9,
          251.7,
          285,
          302.1,
          358.7,
          501.2,
          468.407272727258,
          514.714545454539,
          561.021818181805,
          607.329090909087,
          653.636363636353,
          699.94363636362,
          746.250909090901,
          792.558181818167,
          838.865454545448,
          885.172727272715,
          931.479999999996
         ],
         "yaxis": "y"
        },
        {
         "hovertemplate": "variable=HFC-134a (t)<br>Ano=%{x}<br>value=%{y}<extra></extra>",
         "legendgroup": "HFC-134a (t)",
         "line": {
          "color": "#FFA15A",
          "dash": "solid"
         },
         "marker": {
          "symbol": "circle"
         },
         "mode": "lines",
         "name": "HFC-134a (t)",
         "showlegend": true,
         "type": "scattergl",
         "x": [
          1970,
          1971,
          1972,
          1973,
          1974,
          1975,
          1976,
          1977,
          1978,
          1979,
          1980,
          1981,
          1982,
          1983,
          1984,
          1985,
          1986,
          1987,
          1988,
          1989,
          1990,
          1991,
          1992,
          1993,
          1994,
          1995,
          1996,
          1997,
          1998,
          1999,
          2000,
          2001,
          2002,
          2003,
          2004,
          2005,
          2006,
          2007,
          2008,
          2009,
          2010,
          2011,
          2012,
          2013,
          2014,
          2015,
          2016,
          2017,
          2018,
          2019,
          2020,
          2021
         ],
         "xaxis": "x",
         "y": [
          0,
          0,
          0,
          0,
          0,
          0,
          0,
          0,
          0,
          0,
          0,
          0,
          0,
          0,
          0,
          0,
          0,
          0,
          0,
          0,
          1,
          1.8,
          8.5,
          16.3,
          137.3,
          290.7,
          1254.8,
          1103.6,
          1614.8,
          1899.9,
          1709.2,
          2625.4,
          2633,
          2966.8,
          2788.7,
          4050.6,
          3467.7,
          5741.1,
          3458.1,
          5138.3,
          7034.3,
          6258.29090909101,
          6670.83636363642,
          7083.38181818183,
          7495.92727272736,
          7908.47272727278,
          8321.01818181819,
          8733.56363636371,
          9146.10909090912,
          9558.65454545454,
          9971.20000000007,
          10383.7454545455
         ],
         "yaxis": "y"
        },
        {
         "hovertemplate": "variable=HFC-143a (t)<br>Ano=%{x}<br>value=%{y}<extra></extra>",
         "legendgroup": "HFC-143a (t)",
         "line": {
          "color": "#19d3f3",
          "dash": "solid"
         },
         "marker": {
          "symbol": "circle"
         },
         "mode": "lines",
         "name": "HFC-143a (t)",
         "showlegend": true,
         "type": "scattergl",
         "x": [
          1970,
          1971,
          1972,
          1973,
          1974,
          1975,
          1976,
          1977,
          1978,
          1979,
          1980,
          1981,
          1982,
          1983,
          1984,
          1985,
          1986,
          1987,
          1988,
          1989,
          1990,
          1991,
          1992,
          1993,
          1994,
          1995,
          1996,
          1997,
          1998,
          1999,
          2000,
          2001,
          2002,
          2003,
          2004,
          2005,
          2006,
          2007,
          2008,
          2009,
          2010,
          2011,
          2012,
          2013,
          2014,
          2015,
          2016,
          2017,
          2018,
          2019,
          2020,
          2021
         ],
         "xaxis": "x",
         "y": [
          0,
          0,
          0,
          0,
          0,
          0,
          0,
          0,
          0,
          0,
          0,
          0,
          0,
          0,
          0,
          0,
          0,
          0,
          0,
          0,
          0,
          0,
          0,
          0,
          0,
          0,
          0,
          0,
          0,
          0,
          7.5,
          27.1,
          39.8,
          50,
          103.7,
          92.9,
          215.7,
          252,
          307.4,
          320.9,
          467.1,
          432.663636363635,
          476.227272727265,
          519.790909090894,
          563.354545454538,
          606.918181818168,
          650.481818181812,
          694.045454545441,
          737.609090909085,
          781.172727272715,
          824.736363636359,
          868.299999999988
         ],
         "yaxis": "y"
        },
        {
         "hovertemplate": "variable=HFC-152a (t)<br>Ano=%{x}<br>value=%{y}<extra></extra>",
         "legendgroup": "HFC-152a (t)",
         "line": {
          "color": "#FF6692",
          "dash": "solid"
         },
         "marker": {
          "symbol": "circle"
         },
         "mode": "lines",
         "name": "HFC-152a (t)",
         "showlegend": true,
         "type": "scattergl",
         "x": [
          1970,
          1971,
          1972,
          1973,
          1974,
          1975,
          1976,
          1977,
          1978,
          1979,
          1980,
          1981,
          1982,
          1983,
          1984,
          1985,
          1986,
          1987,
          1988,
          1989,
          1990,
          1991,
          1992,
          1993,
          1994,
          1995,
          1996,
          1997,
          1998,
          1999,
          2000,
          2001,
          2002,
          2003,
          2004,
          2005,
          2006,
          2007,
          2008,
          2009,
          2010,
          2011,
          2012,
          2013,
          2014,
          2015,
          2016,
          2017,
          2018,
          2019,
          2020,
          2021
         ],
         "xaxis": "x",
         "y": [
          0,
          0,
          0,
          0,
          0,
          0,
          0,
          0,
          0,
          0,
          0,
          0,
          0,
          0,
          0,
          0,
          0,
          0,
          0,
          0,
          0,
          0,
          0,
          0,
          0,
          0,
          0,
          0,
          0,
          0,
          0.1,
          29.5,
          8.1,
          23.8,
          54.3,
          174.8,
          280,
          0,
          0,
          0,
          0,
          0,
          0,
          0,
          0,
          0,
          0,
          0,
          0,
          0,
          0,
          0
         ],
         "yaxis": "y"
        },
        {
         "hovertemplate": "variable=HFC-23 (t)<br>Ano=%{x}<br>value=%{y}<extra></extra>",
         "legendgroup": "HFC-23 (t)",
         "line": {
          "color": "#B6E880",
          "dash": "solid"
         },
         "marker": {
          "symbol": "circle"
         },
         "mode": "lines",
         "name": "HFC-23 (t)",
         "showlegend": true,
         "type": "scattergl",
         "x": [
          1970,
          1971,
          1972,
          1973,
          1974,
          1975,
          1976,
          1977,
          1978,
          1979,
          1980,
          1981,
          1982,
          1983,
          1984,
          1985,
          1986,
          1987,
          1988,
          1989,
          1990,
          1991,
          1992,
          1993,
          1994,
          1995,
          1996,
          1997,
          1998,
          1999,
          2000,
          2001,
          2002,
          2003,
          2004,
          2005,
          2006,
          2007,
          2008,
          2009,
          2010,
          2011,
          2012,
          2013,
          2014,
          2015,
          2016,
          2017,
          2018,
          2019,
          2020,
          2021
         ],
         "xaxis": "x",
         "y": [
          0,
          0,
          0,
          0,
          0,
          0,
          0,
          0,
          0,
          0,
          0,
          0,
          0,
          0,
          0,
          0,
          0,
          0,
          0,
          0,
          120.24,
          137.52,
          163.6,
          172.28,
          156.6,
          153.04,
          89.04,
          95.32,
          13.04,
          97.16,
          0,
          0,
          0,
          0,
          0,
          0,
          0,
          0,
          0,
          0,
          0,
          0,
          0,
          0,
          0,
          0,
          0,
          0,
          0,
          0,
          0,
          0
         ],
         "yaxis": "y"
        },
        {
         "hovertemplate": "variable=HFC-32 (t)<br>Ano=%{x}<br>value=%{y}<extra></extra>",
         "legendgroup": "HFC-32 (t)",
         "line": {
          "color": "#FF97FF",
          "dash": "solid"
         },
         "marker": {
          "symbol": "circle"
         },
         "mode": "lines",
         "name": "HFC-32 (t)",
         "showlegend": true,
         "type": "scattergl",
         "x": [
          1970,
          1971,
          1972,
          1973,
          1974,
          1975,
          1976,
          1977,
          1978,
          1979,
          1980,
          1981,
          1982,
          1983,
          1984,
          1985,
          1986,
          1987,
          1988,
          1989,
          1990,
          1991,
          1992,
          1993,
          1994,
          1995,
          1996,
          1997,
          1998,
          1999,
          2000,
          2001,
          2002,
          2003,
          2004,
          2005,
          2006,
          2007,
          2008,
          2009,
          2010,
          2011,
          2012,
          2013,
          2014,
          2015,
          2016,
          2017,
          2018,
          2019,
          2020,
          2021
         ],
         "xaxis": "x",
         "y": [
          0,
          0,
          0,
          0,
          0,
          0,
          0,
          0,
          0,
          0,
          0,
          0,
          0,
          0,
          0,
          0,
          0,
          0,
          0,
          0,
          0,
          0,
          0,
          0,
          0,
          0,
          0,
          0,
          0,
          0,
          0,
          0,
          0,
          0,
          0,
          0,
          0,
          71.8,
          42,
          87.2,
          105.9,
          113.599999999999,
          128.349999999999,
          143.099999999999,
          157.849999999999,
          172.599999999999,
          187.349999999999,
          202.099999999999,
          216.849999999999,
          231.599999999999,
          246.349999999999,
          261.099999999999
         ],
         "yaxis": "y"
        },
        {
         "hovertemplate": "variable=N2O (t)<br>Ano=%{x}<br>value=%{y}<extra></extra>",
         "legendgroup": "N2O (t)",
         "line": {
          "color": "#FECB52",
          "dash": "solid"
         },
         "marker": {
          "symbol": "circle"
         },
         "mode": "lines",
         "name": "N2O (t)",
         "showlegend": true,
         "type": "scattergl",
         "x": [
          1970,
          1971,
          1972,
          1973,
          1974,
          1975,
          1976,
          1977,
          1978,
          1979,
          1980,
          1981,
          1982,
          1983,
          1984,
          1985,
          1986,
          1987,
          1988,
          1989,
          1990,
          1991,
          1992,
          1993,
          1994,
          1995,
          1996,
          1997,
          1998,
          1999,
          2000,
          2001,
          2002,
          2003,
          2004,
          2005,
          2006,
          2007,
          2008,
          2009,
          2010,
          2011,
          2012,
          2013,
          2014,
          2015,
          2016,
          2017,
          2018,
          2019,
          2020,
          2021
         ],
         "xaxis": "x",
         "y": [
          31.632709127144427,
          32.60923697821566,
          34.31186367263515,
          35.27868943925886,
          37.09818287209457,
          39.451007588352944,
          41.583224631345914,
          42.57108580390142,
          42.4266494270468,
          43.90038850714345,
          46.96451034407457,
          46.18680748291358,
          46.495603401458645,
          46.35738206937679,
          48.17897042892979,
          48.53411451407639,
          49.69701705040748,
          51.31467059219588,
          52.086734645889834,
          53.87593887645365,
          68.08605088665446,
          69.76774995564622,
          73.41926186162708,
          72.71951147017626,
          77.261423058123,
          81.71122663861723,
          75.22838369673566,
          77.90222005049961,
          79.18621560028534,
          79.28547017640075,
          81.04414099399307,
          82.8029460032266,
          88.77535550824331,
          100.52800573242578,
          102.0839391462526,
          98.40130203791342,
          95.33745037577262,
          91.25129368782746,
          91.65717977780402,
          88.42519368179646,
          91.1729771605912,
          95.2042132146393,
          95.33044456779035,
          99.95381020084331,
          100.21311540292234,
          101.41617864774668,
          105.26170521115068,
          105.51564337929865,
          104.89782867869596,
          107.66567218588246,
          112.53946132340536,
          119.29531085331631
         ],
         "yaxis": "y"
        },
        {
         "hovertemplate": "variable=NOx (t)<br>Ano=%{x}<br>value=%{y}<extra></extra>",
         "legendgroup": "NOx (t)",
         "line": {
          "color": "#636efa",
          "dash": "solid"
         },
         "marker": {
          "symbol": "circle"
         },
         "mode": "lines",
         "name": "NOx (t)",
         "showlegend": true,
         "type": "scattergl",
         "x": [
          1970,
          1971,
          1972,
          1973,
          1974,
          1975,
          1976,
          1977,
          1978,
          1979,
          1980,
          1981,
          1982,
          1983,
          1984,
          1985,
          1986,
          1987,
          1988,
          1989,
          1990,
          1991,
          1992,
          1993,
          1994,
          1995,
          1996,
          1997,
          1998,
          1999,
          2000,
          2001,
          2002,
          2003,
          2004,
          2005,
          2006,
          2007,
          2008,
          2009,
          2010,
          2011,
          2012,
          2013,
          2014,
          2015,
          2016,
          2017,
          2018,
          2019,
          2020,
          2021
         ],
         "xaxis": "x",
         "y": [
          154.0727967576405,
          170.55017757951728,
          188.85616125339365,
          217.32048031228203,
          247.5214146128272,
          262.7163456599007,
          287.013048060565,
          292.40582087188193,
          322.9829062914433,
          347.1738869174193,
          344.35382228818384,
          344.0129757737965,
          355.4412640811402,
          350.2628385636495,
          363.82080415990214,
          393.6048888658561,
          423.19837830032026,
          434.2798589050416,
          437.7292545953763,
          437.5746180405305,
          426.9978244545174,
          442.18423399716926,
          449.1140525973556,
          459.700362660717,
          477.92942367505066,
          502.3602052511534,
          529.3969585608318,
          545.846654772318,
          558.9425914084702,
          574.6283145572804,
          574.6746628197686,
          589.9938183131821,
          597.3697384175139,
          597.9891099031285,
          631.0119162611322,
          634.5085395151418,
          638.8421298004039,
          670.6367003597187,
          708.4496938155763,
          674.7468717749204,
          710.0874535755886,
          716.7023911180767,
          741.0508985563445,
          775.4569524069501,
          794.5294923154015,
          751.179087175534,
          698.0560985444828,
          699.6087243687366,
          688.4509813893122,
          692.3859568117806,
          638.9282348786118,
          679.3954307680301
         ],
         "yaxis": "y"
        },
        {
         "hovertemplate": "variable=SF6 (t)<br>Ano=%{x}<br>value=%{y}<extra></extra>",
         "legendgroup": "SF6 (t)",
         "line": {
          "color": "#EF553B",
          "dash": "solid"
         },
         "marker": {
          "symbol": "circle"
         },
         "mode": "lines",
         "name": "SF6 (t)",
         "showlegend": true,
         "type": "scattergl",
         "x": [
          1970,
          1971,
          1972,
          1973,
          1974,
          1975,
          1976,
          1977,
          1978,
          1979,
          1980,
          1981,
          1982,
          1983,
          1984,
          1985,
          1986,
          1987,
          1988,
          1989,
          1990,
          1991,
          1992,
          1993,
          1994,
          1995,
          1996,
          1997,
          1998,
          1999,
          2000,
          2001,
          2002,
          2003,
          2004,
          2005,
          2006,
          2007,
          2008,
          2009,
          2010,
          2011,
          2012,
          2013,
          2014,
          2015,
          2016,
          2017,
          2018,
          2019,
          2020,
          2021
         ],
         "xaxis": "x",
         "y": [
          0,
          0,
          0,
          0,
          0,
          0,
          0,
          0,
          0,
          0,
          0,
          0,
          0,
          0,
          0,
          0,
          0,
          0,
          0,
          0,
          5,
          4.9,
          5.5,
          7.05,
          7,
          7.1,
          6.8999999999999995,
          8.45,
          7.4,
          7.3500000000000005,
          7.65,
          7.3,
          8.75,
          10.149999999999999,
          11.5,
          12.575,
          14,
          16.3,
          16.45,
          10.05,
          3.7,
          3.889999999999985,
          4.024999999999975,
          4.15999999999997,
          4.295000000000015,
          4.430000000000005,
          4.565,
          4.69999999999999,
          4.83499999999998,
          4.96999999999997,
          5.105,
          5.24
         ],
         "yaxis": "y"
        }
       ],
       "layout": {
        "legend": {
         "title": {
          "text": "variable"
         },
         "tracegroupgap": 0
        },
        "template": {
         "data": {
          "bar": [
           {
            "error_x": {
             "color": "#2a3f5f"
            },
            "error_y": {
             "color": "#2a3f5f"
            },
            "marker": {
             "line": {
              "color": "#E5ECF6",
              "width": 0.5
             },
             "pattern": {
              "fillmode": "overlay",
              "size": 10,
              "solidity": 0.2
             }
            },
            "type": "bar"
           }
          ],
          "barpolar": [
           {
            "marker": {
             "line": {
              "color": "#E5ECF6",
              "width": 0.5
             },
             "pattern": {
              "fillmode": "overlay",
              "size": 10,
              "solidity": 0.2
             }
            },
            "type": "barpolar"
           }
          ],
          "carpet": [
           {
            "aaxis": {
             "endlinecolor": "#2a3f5f",
             "gridcolor": "white",
             "linecolor": "white",
             "minorgridcolor": "white",
             "startlinecolor": "#2a3f5f"
            },
            "baxis": {
             "endlinecolor": "#2a3f5f",
             "gridcolor": "white",
             "linecolor": "white",
             "minorgridcolor": "white",
             "startlinecolor": "#2a3f5f"
            },
            "type": "carpet"
           }
          ],
          "choropleth": [
           {
            "colorbar": {
             "outlinewidth": 0,
             "ticks": ""
            },
            "type": "choropleth"
           }
          ],
          "contour": [
           {
            "colorbar": {
             "outlinewidth": 0,
             "ticks": ""
            },
            "colorscale": [
             [
              0,
              "#0d0887"
             ],
             [
              0.1111111111111111,
              "#46039f"
             ],
             [
              0.2222222222222222,
              "#7201a8"
             ],
             [
              0.3333333333333333,
              "#9c179e"
             ],
             [
              0.4444444444444444,
              "#bd3786"
             ],
             [
              0.5555555555555556,
              "#d8576b"
             ],
             [
              0.6666666666666666,
              "#ed7953"
             ],
             [
              0.7777777777777778,
              "#fb9f3a"
             ],
             [
              0.8888888888888888,
              "#fdca26"
             ],
             [
              1,
              "#f0f921"
             ]
            ],
            "type": "contour"
           }
          ],
          "contourcarpet": [
           {
            "colorbar": {
             "outlinewidth": 0,
             "ticks": ""
            },
            "type": "contourcarpet"
           }
          ],
          "heatmap": [
           {
            "colorbar": {
             "outlinewidth": 0,
             "ticks": ""
            },
            "colorscale": [
             [
              0,
              "#0d0887"
             ],
             [
              0.1111111111111111,
              "#46039f"
             ],
             [
              0.2222222222222222,
              "#7201a8"
             ],
             [
              0.3333333333333333,
              "#9c179e"
             ],
             [
              0.4444444444444444,
              "#bd3786"
             ],
             [
              0.5555555555555556,
              "#d8576b"
             ],
             [
              0.6666666666666666,
              "#ed7953"
             ],
             [
              0.7777777777777778,
              "#fb9f3a"
             ],
             [
              0.8888888888888888,
              "#fdca26"
             ],
             [
              1,
              "#f0f921"
             ]
            ],
            "type": "heatmap"
           }
          ],
          "heatmapgl": [
           {
            "colorbar": {
             "outlinewidth": 0,
             "ticks": ""
            },
            "colorscale": [
             [
              0,
              "#0d0887"
             ],
             [
              0.1111111111111111,
              "#46039f"
             ],
             [
              0.2222222222222222,
              "#7201a8"
             ],
             [
              0.3333333333333333,
              "#9c179e"
             ],
             [
              0.4444444444444444,
              "#bd3786"
             ],
             [
              0.5555555555555556,
              "#d8576b"
             ],
             [
              0.6666666666666666,
              "#ed7953"
             ],
             [
              0.7777777777777778,
              "#fb9f3a"
             ],
             [
              0.8888888888888888,
              "#fdca26"
             ],
             [
              1,
              "#f0f921"
             ]
            ],
            "type": "heatmapgl"
           }
          ],
          "histogram": [
           {
            "marker": {
             "pattern": {
              "fillmode": "overlay",
              "size": 10,
              "solidity": 0.2
             }
            },
            "type": "histogram"
           }
          ],
          "histogram2d": [
           {
            "colorbar": {
             "outlinewidth": 0,
             "ticks": ""
            },
            "colorscale": [
             [
              0,
              "#0d0887"
             ],
             [
              0.1111111111111111,
              "#46039f"
             ],
             [
              0.2222222222222222,
              "#7201a8"
             ],
             [
              0.3333333333333333,
              "#9c179e"
             ],
             [
              0.4444444444444444,
              "#bd3786"
             ],
             [
              0.5555555555555556,
              "#d8576b"
             ],
             [
              0.6666666666666666,
              "#ed7953"
             ],
             [
              0.7777777777777778,
              "#fb9f3a"
             ],
             [
              0.8888888888888888,
              "#fdca26"
             ],
             [
              1,
              "#f0f921"
             ]
            ],
            "type": "histogram2d"
           }
          ],
          "histogram2dcontour": [
           {
            "colorbar": {
             "outlinewidth": 0,
             "ticks": ""
            },
            "colorscale": [
             [
              0,
              "#0d0887"
             ],
             [
              0.1111111111111111,
              "#46039f"
             ],
             [
              0.2222222222222222,
              "#7201a8"
             ],
             [
              0.3333333333333333,
              "#9c179e"
             ],
             [
              0.4444444444444444,
              "#bd3786"
             ],
             [
              0.5555555555555556,
              "#d8576b"
             ],
             [
              0.6666666666666666,
              "#ed7953"
             ],
             [
              0.7777777777777778,
              "#fb9f3a"
             ],
             [
              0.8888888888888888,
              "#fdca26"
             ],
             [
              1,
              "#f0f921"
             ]
            ],
            "type": "histogram2dcontour"
           }
          ],
          "mesh3d": [
           {
            "colorbar": {
             "outlinewidth": 0,
             "ticks": ""
            },
            "type": "mesh3d"
           }
          ],
          "parcoords": [
           {
            "line": {
             "colorbar": {
              "outlinewidth": 0,
              "ticks": ""
             }
            },
            "type": "parcoords"
           }
          ],
          "pie": [
           {
            "automargin": true,
            "type": "pie"
           }
          ],
          "scatter": [
           {
            "fillpattern": {
             "fillmode": "overlay",
             "size": 10,
             "solidity": 0.2
            },
            "type": "scatter"
           }
          ],
          "scatter3d": [
           {
            "line": {
             "colorbar": {
              "outlinewidth": 0,
              "ticks": ""
             }
            },
            "marker": {
             "colorbar": {
              "outlinewidth": 0,
              "ticks": ""
             }
            },
            "type": "scatter3d"
           }
          ],
          "scattercarpet": [
           {
            "marker": {
             "colorbar": {
              "outlinewidth": 0,
              "ticks": ""
             }
            },
            "type": "scattercarpet"
           }
          ],
          "scattergeo": [
           {
            "marker": {
             "colorbar": {
              "outlinewidth": 0,
              "ticks": ""
             }
            },
            "type": "scattergeo"
           }
          ],
          "scattergl": [
           {
            "marker": {
             "colorbar": {
              "outlinewidth": 0,
              "ticks": ""
             }
            },
            "type": "scattergl"
           }
          ],
          "scattermapbox": [
           {
            "marker": {
             "colorbar": {
              "outlinewidth": 0,
              "ticks": ""
             }
            },
            "type": "scattermapbox"
           }
          ],
          "scatterpolar": [
           {
            "marker": {
             "colorbar": {
              "outlinewidth": 0,
              "ticks": ""
             }
            },
            "type": "scatterpolar"
           }
          ],
          "scatterpolargl": [
           {
            "marker": {
             "colorbar": {
              "outlinewidth": 0,
              "ticks": ""
             }
            },
            "type": "scatterpolargl"
           }
          ],
          "scatterternary": [
           {
            "marker": {
             "colorbar": {
              "outlinewidth": 0,
              "ticks": ""
             }
            },
            "type": "scatterternary"
           }
          ],
          "surface": [
           {
            "colorbar": {
             "outlinewidth": 0,
             "ticks": ""
            },
            "colorscale": [
             [
              0,
              "#0d0887"
             ],
             [
              0.1111111111111111,
              "#46039f"
             ],
             [
              0.2222222222222222,
              "#7201a8"
             ],
             [
              0.3333333333333333,
              "#9c179e"
             ],
             [
              0.4444444444444444,
              "#bd3786"
             ],
             [
              0.5555555555555556,
              "#d8576b"
             ],
             [
              0.6666666666666666,
              "#ed7953"
             ],
             [
              0.7777777777777778,
              "#fb9f3a"
             ],
             [
              0.8888888888888888,
              "#fdca26"
             ],
             [
              1,
              "#f0f921"
             ]
            ],
            "type": "surface"
           }
          ],
          "table": [
           {
            "cells": {
             "fill": {
              "color": "#EBF0F8"
             },
             "line": {
              "color": "white"
             }
            },
            "header": {
             "fill": {
              "color": "#C8D4E3"
             },
             "line": {
              "color": "white"
             }
            },
            "type": "table"
           }
          ]
         },
         "layout": {
          "annotationdefaults": {
           "arrowcolor": "#2a3f5f",
           "arrowhead": 0,
           "arrowwidth": 1
          },
          "autotypenumbers": "strict",
          "coloraxis": {
           "colorbar": {
            "outlinewidth": 0,
            "ticks": ""
           }
          },
          "colorscale": {
           "diverging": [
            [
             0,
             "#8e0152"
            ],
            [
             0.1,
             "#c51b7d"
            ],
            [
             0.2,
             "#de77ae"
            ],
            [
             0.3,
             "#f1b6da"
            ],
            [
             0.4,
             "#fde0ef"
            ],
            [
             0.5,
             "#f7f7f7"
            ],
            [
             0.6,
             "#e6f5d0"
            ],
            [
             0.7,
             "#b8e186"
            ],
            [
             0.8,
             "#7fbc41"
            ],
            [
             0.9,
             "#4d9221"
            ],
            [
             1,
             "#276419"
            ]
           ],
           "sequential": [
            [
             0,
             "#0d0887"
            ],
            [
             0.1111111111111111,
             "#46039f"
            ],
            [
             0.2222222222222222,
             "#7201a8"
            ],
            [
             0.3333333333333333,
             "#9c179e"
            ],
            [
             0.4444444444444444,
             "#bd3786"
            ],
            [
             0.5555555555555556,
             "#d8576b"
            ],
            [
             0.6666666666666666,
             "#ed7953"
            ],
            [
             0.7777777777777778,
             "#fb9f3a"
            ],
            [
             0.8888888888888888,
             "#fdca26"
            ],
            [
             1,
             "#f0f921"
            ]
           ],
           "sequentialminus": [
            [
             0,
             "#0d0887"
            ],
            [
             0.1111111111111111,
             "#46039f"
            ],
            [
             0.2222222222222222,
             "#7201a8"
            ],
            [
             0.3333333333333333,
             "#9c179e"
            ],
            [
             0.4444444444444444,
             "#bd3786"
            ],
            [
             0.5555555555555556,
             "#d8576b"
            ],
            [
             0.6666666666666666,
             "#ed7953"
            ],
            [
             0.7777777777777778,
             "#fb9f3a"
            ],
            [
             0.8888888888888888,
             "#fdca26"
            ],
            [
             1,
             "#f0f921"
            ]
           ]
          },
          "colorway": [
           "#636efa",
           "#EF553B",
           "#00cc96",
           "#ab63fa",
           "#FFA15A",
           "#19d3f3",
           "#FF6692",
           "#B6E880",
           "#FF97FF",
           "#FECB52"
          ],
          "font": {
           "color": "#2a3f5f"
          },
          "geo": {
           "bgcolor": "white",
           "lakecolor": "white",
           "landcolor": "#E5ECF6",
           "showlakes": true,
           "showland": true,
           "subunitcolor": "white"
          },
          "hoverlabel": {
           "align": "left"
          },
          "hovermode": "closest",
          "mapbox": {
           "style": "light"
          },
          "paper_bgcolor": "white",
          "plot_bgcolor": "#E5ECF6",
          "polar": {
           "angularaxis": {
            "gridcolor": "white",
            "linecolor": "white",
            "ticks": ""
           },
           "bgcolor": "#E5ECF6",
           "radialaxis": {
            "gridcolor": "white",
            "linecolor": "white",
            "ticks": ""
           }
          },
          "scene": {
           "xaxis": {
            "backgroundcolor": "#E5ECF6",
            "gridcolor": "white",
            "gridwidth": 2,
            "linecolor": "white",
            "showbackground": true,
            "ticks": "",
            "zerolinecolor": "white"
           },
           "yaxis": {
            "backgroundcolor": "#E5ECF6",
            "gridcolor": "white",
            "gridwidth": 2,
            "linecolor": "white",
            "showbackground": true,
            "ticks": "",
            "zerolinecolor": "white"
           },
           "zaxis": {
            "backgroundcolor": "#E5ECF6",
            "gridcolor": "white",
            "gridwidth": 2,
            "linecolor": "white",
            "showbackground": true,
            "ticks": "",
            "zerolinecolor": "white"
           }
          },
          "shapedefaults": {
           "line": {
            "color": "#2a3f5f"
           }
          },
          "ternary": {
           "aaxis": {
            "gridcolor": "white",
            "linecolor": "white",
            "ticks": ""
           },
           "baxis": {
            "gridcolor": "white",
            "linecolor": "white",
            "ticks": ""
           },
           "bgcolor": "#E5ECF6",
           "caxis": {
            "gridcolor": "white",
            "linecolor": "white",
            "ticks": ""
           }
          },
          "title": {
           "x": 0.05
          },
          "xaxis": {
           "automargin": true,
           "gridcolor": "white",
           "linecolor": "white",
           "ticks": "",
           "title": {
            "standoff": 15
           },
           "zerolinecolor": "white",
           "zerolinewidth": 2
          },
          "yaxis": {
           "automargin": true,
           "gridcolor": "white",
           "linecolor": "white",
           "ticks": "",
           "title": {
            "standoff": 15
           },
           "zerolinecolor": "white",
           "zerolinewidth": 2
          }
         }
        },
        "title": {
         "text": "Emissões por Gás ao longo dos Anos"
        },
        "xaxis": {
         "anchor": "y",
         "domain": [
          0,
          1
         ],
         "title": {
          "text": "Ano"
         }
        },
        "yaxis": {
         "anchor": "x",
         "domain": [
          0,
          1
         ],
         "title": {
          "text": "value"
         }
        }
       }
      }
     },
     "metadata": {},
     "output_type": "display_data"
    }
   ],
   "source": [
    "# Fazendo com plotly:\n",
    "fig3 = px.line(media_emissao_anual, x='Ano', y=media_emissao_anual.columns[2:],\n",
    "               title='Emissões por Gás ao longo dos Anos')\n",
    "fig3.show()"
   ]
  },
  {
   "cell_type": "markdown",
   "id": "1ad6a25d",
   "metadata": {},
   "source": [
    "# Seção de exercícios"
   ]
  },
  {
   "cell_type": "markdown",
   "id": "c2d21faa",
   "metadata": {},
   "source": [
    "### Desafio: hora da prática - 01. Conhecendo os dados"
   ]
  },
  {
   "cell_type": "markdown",
   "id": "8a6b0e7c",
   "metadata": {},
   "source": [
    "1. Encontre os valores únicos das colunas \"Nível 1 - Setor\" e \"Estado\" para identificar as atividades econômicas presentes na base de dados e se todos os Estados do Brasil estão presentes no DataFrame."
   ]
  },
  {
   "cell_type": "code",
   "execution_count": 43,
   "id": "5f71030d",
   "metadata": {},
   "outputs": [
    {
     "data": {
      "text/plain": [
       "array(['Processos Industriais', 'Agropecuária', 'Energia', 'Resíduos ',\n",
       "       'Mudança de Uso da Terra e Floresta'], dtype=object)"
      ]
     },
     "execution_count": 43,
     "metadata": {},
     "output_type": "execute_result"
    }
   ],
   "source": [
    "data['Nível 1 - Setor'].unique()"
   ]
  },
  {
   "cell_type": "code",
   "execution_count": 44,
   "id": "15d41f04",
   "metadata": {},
   "outputs": [
    {
     "data": {
      "text/plain": [
       "array(['SP', 'BA', 'RJ', 'MG', 'SE', 'PR', nan, 'RO', 'AM', 'PA', 'TO',\n",
       "       'MA', 'PI', 'CE', 'RN', 'PB', 'PE', 'AL', 'MT', 'MS', 'GO', 'DF',\n",
       "       'ES', 'SC', 'RS', 'AC', 'AP', 'RR'], dtype=object)"
      ]
     },
     "execution_count": 44,
     "metadata": {},
     "output_type": "execute_result"
    }
   ],
   "source": [
    "data['Estado'].unique()"
   ]
  },
  {
   "cell_type": "code",
   "execution_count": 45,
   "id": "cdcf1a9b",
   "metadata": {},
   "outputs": [
    {
     "name": "stdout",
     "output_type": "stream",
     "text": [
      "Checando se todos os estados do Brasil estão nessa coluna, será verdadeiro se o valor for igual a 27, que é a quantidade de estados no Brasil. Quantidade de estados: 27\n"
     ]
    }
   ],
   "source": [
    "print(f\"Checando se todos os estados do Brasil estão nessa coluna, será verdadeiro se o valor for igual a 27, que é a quantidade de estados no Brasil.\",\n",
    "      \"Quantidade de estados:\", data['Estado'].nunique())"
   ]
  },
  {
   "cell_type": "markdown",
   "id": "b6f13599",
   "metadata": {},
   "source": [
    "2. Filtre o DataFrame somente com os dados dos Estados da região Sul do Brasil."
   ]
  },
  {
   "cell_type": "code",
   "execution_count": 46,
   "id": "efbddb65",
   "metadata": {},
   "outputs": [
    {
     "data": {
      "text/plain": [
       "array(['PR', 'SC', 'RS'], dtype=object)"
      ]
     },
     "execution_count": 46,
     "metadata": {},
     "output_type": "execute_result"
    }
   ],
   "source": [
    "data.loc[data['Estado'].isin(['PR', 'SC', 'RS']), 'Estado'].unique()"
   ]
  },
  {
   "cell_type": "markdown",
   "id": "7ad91ba5",
   "metadata": {},
   "source": [
    "3. Filtre o DataFrame para exibir apenas os registros em que o campo \"Nível 1 - Setor\" seja igual a \"Mudança de Uso da Terra e Floresta\" e o campo \"Estado\" seja igual a \"AM\" (sigla para o Estado do Amazonas)."
   ]
  },
  {
   "cell_type": "code",
   "execution_count": 47,
   "id": "a008f062",
   "metadata": {},
   "outputs": [],
   "source": [
    "# data.loc[data['Nível 1 - Setor'] == 'Mudança de Uso da Terra e Floresta'] & (data['Estado'] == 'AM')"
   ]
  },
  {
   "cell_type": "markdown",
   "id": "cc3610c8",
   "metadata": {},
   "source": [
    "4. Encontre o valor máximo de emissão do ano de 2021 para os dados de \"Agropecuária\" no Estado do Pará."
   ]
  },
  {
   "cell_type": "code",
   "execution_count": 48,
   "id": "8cf212b6",
   "metadata": {},
   "outputs": [
    {
     "data": {
      "text/plain": [
       "199361267.0"
      ]
     },
     "execution_count": 48,
     "metadata": {},
     "output_type": "execute_result"
    }
   ],
   "source": [
    "data[2021].max()"
   ]
  },
  {
   "cell_type": "code",
   "execution_count": 49,
   "id": "5080dcdc",
   "metadata": {},
   "outputs": [
    {
     "data": {
      "text/plain": [
       "36856969.7986"
      ]
     },
     "execution_count": 49,
     "metadata": {},
     "output_type": "execute_result"
    }
   ],
   "source": [
    "data.loc[(data['Nível 1 - Setor'] == 'Agropecuária') & (data['Estado'] == 'PA'), 2021].max()"
   ]
  },
  {
   "cell_type": "markdown",
   "id": "ab5cc85e",
   "metadata": {},
   "source": [
    "### Desafio: hora da prática - 02. Agrupamento de dados"
   ]
  },
  {
   "cell_type": "markdown",
   "id": "6cde832c",
   "metadata": {},
   "source": [
    "1. Faça um agrupamento de dados com base na coluna \"Nível 1 - Setor\" para visualizar o dicionário contendo as chaves de grupos formados e a lista de índices de cada grupo."
   ]
  },
  {
   "cell_type": "code",
   "execution_count": 50,
   "id": "6f70b417",
   "metadata": {},
   "outputs": [
    {
     "data": {
      "text/plain": [
       "{'Agropecuária': [1137, 1138, 1139, 1140, 1141, 1142, 1143, 1144, 1145, 1146, 1147, 1148, 1149, 1150, 1151, 1152, 1153, 1154, 1155, 1156, 1157, 1158, 1159, 1160, 1161, 1162, 1163, 1164, 1165, 1166, 1167, 1168, 1169, 1170, 1171, 1172, 1173, 1174, 1175, 1176, 1177, 1178, 1179, 1180, 1181, 1182, 1183, 1184, 1185, 1186, 1187, 1188, 1189, 1190, 1191, 1192, 1193, 1194, 1195, 1196, 1197, 1198, 1199, 1200, 1201, 1202, 1203, 1204, 1205, 1206, 1207, 1208, 1209, 1210, 1211, 1212, 1213, 1214, 1215, 1216, 1217, 1218, 1219, 1220, 1221, 1222, 1223, 1224, 1225, 1226, 1227, 1228, 1229, 1230, 1231, 1232, 1233, 1234, 1235, 1236, ...], 'Energia': [23277, 23278, 23279, 23280, 23281, 23282, 23283, 23284, 23285, 23286, 23287, 23288, 23289, 23290, 23291, 23292, 23293, 23294, 23295, 23296, 23297, 23298, 23299, 23300, 23301, 23302, 23303, 23304, 23305, 23306, 23307, 23308, 23309, 23310, 23311, 23312, 23313, 23314, 23315, 23316, 23317, 23318, 23319, 23320, 23321, 23322, 23323, 23324, 23325, 23326, 23327, 23328, 23329, 23330, 23331, 23332, 23333, 23334, 23335, 23336, 23337, 23338, 23339, 23340, 23341, 23342, 23343, 23344, 23345, 23346, 23347, 23348, 23349, 23350, 23351, 23352, 23353, 23354, 23355, 23356, 23357, 23358, 23359, 23360, 23361, 23362, 23363, 23364, 23365, 23366, 23367, 23368, 23369, 23370, 23371, 23372, 23373, 23374, 23375, 23376, ...], 'Mudança de Uso da Terra e Floresta': [79760, 79761, 79762, 79763, 79764, 79765, 79766, 79767, 79768, 79769, 79770, 79771, 79772, 79773, 79774, 79775, 79776, 79777, 79778, 79779, 79780, 79781, 79782, 79783, 79784, 79785, 79786, 79787, 79788, 79789, 79790, 79791, 79792, 79793, 79794, 79795, 79796, 79797, 79798, 79799, 79800, 79801, 79802, 79803, 79804, 79805, 79806, 79807, 79808, 79809, 79810, 79811, 79812, 79813, 79814, 79815, 79816, 79817, 79818, 79819, 79820, 79821, 79822, 79823, 79824, 79825, 79826, 79827, 79828, 79829, 79830, 79831, 79832, 79833, 79834, 79835, 79836, 79837, 79838, 79839, 79840, 79841, 79842, 79843, 79844, 79845, 79846, 79847, 79848, 79849, 79850, 79851, 79852, 79853, 79854, 79855, 79856, 79857, 79858, 79859, ...], 'Processos Industriais': [0, 1, 2, 3, 4, 5, 6, 7, 8, 9, 10, 11, 12, 13, 14, 15, 16, 17, 18, 19, 20, 21, 22, 23, 24, 25, 26, 27, 28, 29, 30, 31, 32, 33, 34, 35, 36, 37, 38, 39, 40, 41, 42, 43, 44, 45, 46, 47, 48, 49, 50, 51, 52, 53, 54, 55, 56, 57, 58, 59, 60, 61, 62, 63, 64, 65, 66, 67, 68, 69, 70, 71, 72, 73, 74, 75, 76, 77, 78, 79, 80, 81, 82, 83, 84, 85, 86, 87, 88, 89, 90, 91, 92, 93, 94, 95, 96, 97, 98, 99, ...], 'Resíduos ': [75944, 75945, 75946, 75947, 75948, 75949, 75950, 75951, 75952, 75953, 75954, 75955, 75956, 75957, 75958, 75959, 75960, 75961, 75962, 75963, 75964, 75965, 75966, 75967, 75968, 75969, 75970, 75971, 75972, 75973, 75974, 75975, 75976, 75977, 75978, 75979, 75980, 75981, 75982, 75983, 75984, 75985, 75986, 75987, 75988, 75989, 75990, 75991, 75992, 75993, 75994, 75995, 75996, 75997, 75998, 75999, 76000, 76001, 76002, 76003, 76004, 76005, 76006, 76007, 76008, 76009, 76010, 76011, 76012, 76013, 76014, 76015, 76016, 76017, 76018, 76019, 76020, 76021, 76022, 76023, 76024, 76025, 76026, 76027, 76028, 76029, 76030, 76031, 76032, 76033, 76034, 76035, 76036, 76037, 76038, 76039, 76040, 76041, 76042, 76043, ...]}"
      ]
     },
     "execution_count": 50,
     "metadata": {},
     "output_type": "execute_result"
    }
   ],
   "source": [
    "emissoes_por_ano.groupby('Nível 1 - Setor').groups"
   ]
  },
  {
   "cell_type": "markdown",
   "id": "449002b7",
   "metadata": {},
   "source": [
    "2. Faça um agrupamento de dados com base na coluna \"Nível 1 - Setor\" e localize os dados do grupo \"Agropecuária\"."
   ]
  },
  {
   "cell_type": "code",
   "execution_count": 51,
   "id": "aed82a3b",
   "metadata": {},
   "outputs": [
    {
     "data": {
      "text/html": [
       "<div>\n",
       "<style scoped>\n",
       "    .dataframe tbody tr th:only-of-type {\n",
       "        vertical-align: middle;\n",
       "    }\n",
       "\n",
       "    .dataframe tbody tr th {\n",
       "        vertical-align: top;\n",
       "    }\n",
       "\n",
       "    .dataframe thead th {\n",
       "        text-align: right;\n",
       "    }\n",
       "</style>\n",
       "<table border=\"1\" class=\"dataframe\">\n",
       "  <thead>\n",
       "    <tr style=\"text-align: right;\">\n",
       "      <th></th>\n",
       "      <th>Nível 1 - Setor</th>\n",
       "      <th>Nível 2</th>\n",
       "      <th>Nível 3</th>\n",
       "      <th>Nível 4</th>\n",
       "      <th>Nível 5</th>\n",
       "      <th>Nível 6</th>\n",
       "      <th>Gás</th>\n",
       "      <th>Estado</th>\n",
       "      <th>Atividade Econômica</th>\n",
       "      <th>Produto</th>\n",
       "      <th>Ano</th>\n",
       "      <th>Emissão</th>\n",
       "    </tr>\n",
       "  </thead>\n",
       "  <tbody>\n",
       "    <tr>\n",
       "      <th>1137</th>\n",
       "      <td>Agropecuária</td>\n",
       "      <td>Cultivo de Arroz</td>\n",
       "      <td>Diretas</td>\n",
       "      <td>Outros</td>\n",
       "      <td>Vegetal</td>\n",
       "      <td>Arroz</td>\n",
       "      <td>CH4 (t)</td>\n",
       "      <td>AC</td>\n",
       "      <td>AGR</td>\n",
       "      <td>ALIM_BEBIDAS</td>\n",
       "      <td>1970</td>\n",
       "      <td>0.000000</td>\n",
       "    </tr>\n",
       "    <tr>\n",
       "      <th>1138</th>\n",
       "      <td>Agropecuária</td>\n",
       "      <td>Cultivo de Arroz</td>\n",
       "      <td>Diretas</td>\n",
       "      <td>Outros</td>\n",
       "      <td>Vegetal</td>\n",
       "      <td>Arroz</td>\n",
       "      <td>CH4 (t)</td>\n",
       "      <td>AL</td>\n",
       "      <td>AGR</td>\n",
       "      <td>ALIM_BEBIDAS</td>\n",
       "      <td>1970</td>\n",
       "      <td>2050.445805</td>\n",
       "    </tr>\n",
       "    <tr>\n",
       "      <th>1139</th>\n",
       "      <td>Agropecuária</td>\n",
       "      <td>Cultivo de Arroz</td>\n",
       "      <td>Diretas</td>\n",
       "      <td>Outros</td>\n",
       "      <td>Vegetal</td>\n",
       "      <td>Arroz</td>\n",
       "      <td>CH4 (t)</td>\n",
       "      <td>AM</td>\n",
       "      <td>AGR</td>\n",
       "      <td>ALIM_BEBIDAS</td>\n",
       "      <td>1970</td>\n",
       "      <td>0.000000</td>\n",
       "    </tr>\n",
       "    <tr>\n",
       "      <th>1140</th>\n",
       "      <td>Agropecuária</td>\n",
       "      <td>Cultivo de Arroz</td>\n",
       "      <td>Diretas</td>\n",
       "      <td>Outros</td>\n",
       "      <td>Vegetal</td>\n",
       "      <td>Arroz</td>\n",
       "      <td>CH4 (t)</td>\n",
       "      <td>AP</td>\n",
       "      <td>AGR</td>\n",
       "      <td>ALIM_BEBIDAS</td>\n",
       "      <td>1970</td>\n",
       "      <td>0.000000</td>\n",
       "    </tr>\n",
       "    <tr>\n",
       "      <th>1141</th>\n",
       "      <td>Agropecuária</td>\n",
       "      <td>Cultivo de Arroz</td>\n",
       "      <td>Diretas</td>\n",
       "      <td>Outros</td>\n",
       "      <td>Vegetal</td>\n",
       "      <td>Arroz</td>\n",
       "      <td>CH4 (t)</td>\n",
       "      <td>BA</td>\n",
       "      <td>AGR</td>\n",
       "      <td>ALIM_BEBIDAS</td>\n",
       "      <td>1970</td>\n",
       "      <td>466.934705</td>\n",
       "    </tr>\n",
       "    <tr>\n",
       "      <th>...</th>\n",
       "      <td>...</td>\n",
       "      <td>...</td>\n",
       "      <td>...</td>\n",
       "      <td>...</td>\n",
       "      <td>...</td>\n",
       "      <td>...</td>\n",
       "      <td>...</td>\n",
       "      <td>...</td>\n",
       "      <td>...</td>\n",
       "      <td>...</td>\n",
       "      <td>...</td>\n",
       "      <td>...</td>\n",
       "    </tr>\n",
       "    <tr>\n",
       "      <th>4855420</th>\n",
       "      <td>Agropecuária</td>\n",
       "      <td>Solos Manejados</td>\n",
       "      <td>Indiretas</td>\n",
       "      <td>Mineralização de N associado a perda de C no solo</td>\n",
       "      <td>Outros</td>\n",
       "      <td>Solos</td>\n",
       "      <td>N2O (t)</td>\n",
       "      <td>RS</td>\n",
       "      <td>AGR</td>\n",
       "      <td>ALIM_BEBIDAS</td>\n",
       "      <td>2021</td>\n",
       "      <td>929.545042</td>\n",
       "    </tr>\n",
       "    <tr>\n",
       "      <th>4855421</th>\n",
       "      <td>Agropecuária</td>\n",
       "      <td>Solos Manejados</td>\n",
       "      <td>Indiretas</td>\n",
       "      <td>Mineralização de N associado a perda de C no solo</td>\n",
       "      <td>Outros</td>\n",
       "      <td>Solos</td>\n",
       "      <td>N2O (t)</td>\n",
       "      <td>SC</td>\n",
       "      <td>AGR</td>\n",
       "      <td>ALIM_BEBIDAS</td>\n",
       "      <td>2021</td>\n",
       "      <td>295.813919</td>\n",
       "    </tr>\n",
       "    <tr>\n",
       "      <th>4855422</th>\n",
       "      <td>Agropecuária</td>\n",
       "      <td>Solos Manejados</td>\n",
       "      <td>Indiretas</td>\n",
       "      <td>Mineralização de N associado a perda de C no solo</td>\n",
       "      <td>Outros</td>\n",
       "      <td>Solos</td>\n",
       "      <td>N2O (t)</td>\n",
       "      <td>SE</td>\n",
       "      <td>AGR</td>\n",
       "      <td>ALIM_BEBIDAS</td>\n",
       "      <td>2021</td>\n",
       "      <td>32.734589</td>\n",
       "    </tr>\n",
       "    <tr>\n",
       "      <th>4855423</th>\n",
       "      <td>Agropecuária</td>\n",
       "      <td>Solos Manejados</td>\n",
       "      <td>Indiretas</td>\n",
       "      <td>Mineralização de N associado a perda de C no solo</td>\n",
       "      <td>Outros</td>\n",
       "      <td>Solos</td>\n",
       "      <td>N2O (t)</td>\n",
       "      <td>SP</td>\n",
       "      <td>AGR</td>\n",
       "      <td>ALIM_BEBIDAS</td>\n",
       "      <td>2021</td>\n",
       "      <td>653.155812</td>\n",
       "    </tr>\n",
       "    <tr>\n",
       "      <th>4855424</th>\n",
       "      <td>Agropecuária</td>\n",
       "      <td>Solos Manejados</td>\n",
       "      <td>Indiretas</td>\n",
       "      <td>Mineralização de N associado a perda de C no solo</td>\n",
       "      <td>Outros</td>\n",
       "      <td>Solos</td>\n",
       "      <td>N2O (t)</td>\n",
       "      <td>TO</td>\n",
       "      <td>AGR</td>\n",
       "      <td>ALIM_BEBIDAS</td>\n",
       "      <td>2021</td>\n",
       "      <td>159.687482</td>\n",
       "    </tr>\n",
       "  </tbody>\n",
       "</table>\n",
       "<p>1151280 rows × 12 columns</p>\n",
       "</div>"
      ],
      "text/plain": [
       "        Nível 1 - Setor           Nível 2    Nível 3  \\\n",
       "1137       Agropecuária  Cultivo de Arroz    Diretas   \n",
       "1138       Agropecuária  Cultivo de Arroz    Diretas   \n",
       "1139       Agropecuária  Cultivo de Arroz    Diretas   \n",
       "1140       Agropecuária  Cultivo de Arroz    Diretas   \n",
       "1141       Agropecuária  Cultivo de Arroz    Diretas   \n",
       "...                 ...               ...        ...   \n",
       "4855420    Agropecuária   Solos Manejados  Indiretas   \n",
       "4855421    Agropecuária   Solos Manejados  Indiretas   \n",
       "4855422    Agropecuária   Solos Manejados  Indiretas   \n",
       "4855423    Agropecuária   Solos Manejados  Indiretas   \n",
       "4855424    Agropecuária   Solos Manejados  Indiretas   \n",
       "\n",
       "                                                   Nível 4  Nível 5 Nível 6  \\\n",
       "1137                                                Outros  Vegetal   Arroz   \n",
       "1138                                                Outros  Vegetal   Arroz   \n",
       "1139                                                Outros  Vegetal   Arroz   \n",
       "1140                                                Outros  Vegetal   Arroz   \n",
       "1141                                                Outros  Vegetal   Arroz   \n",
       "...                                                    ...      ...     ...   \n",
       "4855420  Mineralização de N associado a perda de C no solo   Outros   Solos   \n",
       "4855421  Mineralização de N associado a perda de C no solo   Outros   Solos   \n",
       "4855422  Mineralização de N associado a perda de C no solo   Outros   Solos   \n",
       "4855423  Mineralização de N associado a perda de C no solo   Outros   Solos   \n",
       "4855424  Mineralização de N associado a perda de C no solo   Outros   Solos   \n",
       "\n",
       "             Gás Estado Atividade Econômica       Produto   Ano      Emissão  \n",
       "1137     CH4 (t)     AC                 AGR  ALIM_BEBIDAS  1970     0.000000  \n",
       "1138     CH4 (t)     AL                 AGR  ALIM_BEBIDAS  1970  2050.445805  \n",
       "1139     CH4 (t)     AM                 AGR  ALIM_BEBIDAS  1970     0.000000  \n",
       "1140     CH4 (t)     AP                 AGR  ALIM_BEBIDAS  1970     0.000000  \n",
       "1141     CH4 (t)     BA                 AGR  ALIM_BEBIDAS  1970   466.934705  \n",
       "...          ...    ...                 ...           ...   ...          ...  \n",
       "4855420  N2O (t)     RS                 AGR  ALIM_BEBIDAS  2021   929.545042  \n",
       "4855421  N2O (t)     SC                 AGR  ALIM_BEBIDAS  2021   295.813919  \n",
       "4855422  N2O (t)     SE                 AGR  ALIM_BEBIDAS  2021    32.734589  \n",
       "4855423  N2O (t)     SP                 AGR  ALIM_BEBIDAS  2021   653.155812  \n",
       "4855424  N2O (t)     TO                 AGR  ALIM_BEBIDAS  2021   159.687482  \n",
       "\n",
       "[1151280 rows x 12 columns]"
      ]
     },
     "execution_count": 51,
     "metadata": {},
     "output_type": "execute_result"
    }
   ],
   "source": [
    "emissoes_por_ano.groupby('Nível 1 - Setor').get_group('Agropecuária')"
   ]
  },
  {
   "cell_type": "markdown",
   "id": "441c930e",
   "metadata": {},
   "source": [
    "3. Faça um agrupamento de dados com base na coluna \"Nível 1 - Setor\" para identificar a média de emissão de cada setor no ano de 2021."
   ]
  },
  {
   "cell_type": "code",
   "execution_count": 52,
   "id": "a2013065",
   "metadata": {},
   "outputs": [
    {
     "data": {
      "text/html": [
       "<div>\n",
       "<style scoped>\n",
       "    .dataframe tbody tr th:only-of-type {\n",
       "        vertical-align: middle;\n",
       "    }\n",
       "\n",
       "    .dataframe tbody tr th {\n",
       "        vertical-align: top;\n",
       "    }\n",
       "\n",
       "    .dataframe thead th {\n",
       "        text-align: right;\n",
       "    }\n",
       "</style>\n",
       "<table border=\"1\" class=\"dataframe\">\n",
       "  <thead>\n",
       "    <tr style=\"text-align: right;\">\n",
       "      <th></th>\n",
       "      <th>Emissão</th>\n",
       "    </tr>\n",
       "    <tr>\n",
       "      <th>Nível 1 - Setor</th>\n",
       "      <th></th>\n",
       "    </tr>\n",
       "  </thead>\n",
       "  <tbody>\n",
       "    <tr>\n",
       "      <th>Agropecuária</th>\n",
       "      <td>149793.768835</td>\n",
       "    </tr>\n",
       "    <tr>\n",
       "      <th>Energia</th>\n",
       "      <td>72928.637234</td>\n",
       "    </tr>\n",
       "    <tr>\n",
       "      <th>Mudança de Uso da Terra e Floresta</th>\n",
       "      <td>690085.511209</td>\n",
       "    </tr>\n",
       "    <tr>\n",
       "      <th>Processos Industriais</th>\n",
       "      <td>787101.255789</td>\n",
       "    </tr>\n",
       "    <tr>\n",
       "      <th>Resíduos</th>\n",
       "      <td>106106.723386</td>\n",
       "    </tr>\n",
       "  </tbody>\n",
       "</table>\n",
       "</div>"
      ],
      "text/plain": [
       "                                          Emissão\n",
       "Nível 1 - Setor                                  \n",
       "Agropecuária                        149793.768835\n",
       "Energia                              72928.637234\n",
       "Mudança de Uso da Terra e Floresta  690085.511209\n",
       "Processos Industriais               787101.255789\n",
       "Resíduos                            106106.723386"
      ]
     },
     "execution_count": 52,
     "metadata": {},
     "output_type": "execute_result"
    }
   ],
   "source": [
    "emissoes_por_ano[emissoes_por_ano['Ano'] == 2021].groupby('Nível 1 - Setor')[['Emissão']].mean()"
   ]
  },
  {
   "cell_type": "markdown",
   "id": "f869915b",
   "metadata": {},
   "source": [
    "4. Faça um agrupamento de dados com base na coluna \"Nível 1 - Setor\" para identificar a soma de emissão de cada setor. Ordene os dados da maior para menor emissão."
   ]
  },
  {
   "cell_type": "code",
   "execution_count": 53,
   "id": "5b64042f",
   "metadata": {},
   "outputs": [
    {
     "data": {
      "text/html": [
       "<div>\n",
       "<style scoped>\n",
       "    .dataframe tbody tr th:only-of-type {\n",
       "        vertical-align: middle;\n",
       "    }\n",
       "\n",
       "    .dataframe tbody tr th {\n",
       "        vertical-align: top;\n",
       "    }\n",
       "\n",
       "    .dataframe thead th {\n",
       "        text-align: right;\n",
       "    }\n",
       "</style>\n",
       "<table border=\"1\" class=\"dataframe\">\n",
       "  <thead>\n",
       "    <tr style=\"text-align: right;\">\n",
       "      <th></th>\n",
       "      <th>Emissão</th>\n",
       "    </tr>\n",
       "    <tr>\n",
       "      <th>Nível 1 - Setor</th>\n",
       "      <th></th>\n",
       "    </tr>\n",
       "  </thead>\n",
       "  <tbody>\n",
       "    <tr>\n",
       "      <th>Mudança de Uso da Terra e Floresta</th>\n",
       "      <td>3.524898e+11</td>\n",
       "    </tr>\n",
       "    <tr>\n",
       "      <th>Energia</th>\n",
       "      <td>1.205314e+11</td>\n",
       "    </tr>\n",
       "    <tr>\n",
       "      <th>Agropecuária</th>\n",
       "      <td>1.147284e+11</td>\n",
       "    </tr>\n",
       "    <tr>\n",
       "      <th>Processos Industriais</th>\n",
       "      <td>2.849965e+10</td>\n",
       "    </tr>\n",
       "    <tr>\n",
       "      <th>Resíduos</th>\n",
       "      <td>1.034465e+10</td>\n",
       "    </tr>\n",
       "  </tbody>\n",
       "</table>\n",
       "</div>"
      ],
      "text/plain": [
       "                                         Emissão\n",
       "Nível 1 - Setor                                 \n",
       "Mudança de Uso da Terra e Floresta  3.524898e+11\n",
       "Energia                             1.205314e+11\n",
       "Agropecuária                        1.147284e+11\n",
       "Processos Industriais               2.849965e+10\n",
       "Resíduos                            1.034465e+10"
      ]
     },
     "execution_count": 53,
     "metadata": {},
     "output_type": "execute_result"
    }
   ],
   "source": [
    "emissoes_por_ano.groupby('Nível 1 - Setor')[['Emissão']].sum().sort_values('Emissão', ascending=False)"
   ]
  },
  {
   "cell_type": "markdown",
   "id": "6615db02",
   "metadata": {},
   "source": [
    "### Desafio: emissão por setor econômico - 03. Agrupamentos multi-index"
   ]
  },
  {
   "cell_type": "markdown",
   "id": "70996368",
   "metadata": {},
   "source": [
    "Uma das tarefas passadas pela equipe de supervisão do órgão ambiental era de encontrar a emissão média de cada gás por ano. Conseguimos realizar essa tarefa usando o método groupby() e pivot_table() para gerar uma tabela contendo a emissão ao longo dos anos para cada um dos gases.\n",
    "\n",
    "A equipe de supervisão deseja saber agora a média de emissão para cada um dos setores econômicos da coluna \"Nível 1 - Setor\" ao longo dos anos. Como desafio, crie uma tabela de pivô e uma visualização gráfica contendo essas informações, utilizando apenas o método pivot_table para a construção da tabela, sem utilizar o método groupby.\n",
    "\n",
    "Você pode buscar informações de como fazer isso na documentação Pandas sobre o método pivot_table (https://pandas.pydata.org/docs/reference/api/pandas.pivot_table.html)."
   ]
  },
  {
   "cell_type": "code",
   "execution_count": null,
   "id": "08ff3b46",
   "metadata": {},
   "outputs": [
    {
     "data": {
      "text/html": [
       "<div>\n",
       "<style scoped>\n",
       "    .dataframe tbody tr th:only-of-type {\n",
       "        vertical-align: middle;\n",
       "    }\n",
       "\n",
       "    .dataframe tbody tr th {\n",
       "        vertical-align: top;\n",
       "    }\n",
       "\n",
       "    .dataframe thead th {\n",
       "        text-align: right;\n",
       "    }\n",
       "</style>\n",
       "<table border=\"1\" class=\"dataframe\">\n",
       "  <thead>\n",
       "    <tr style=\"text-align: right;\">\n",
       "      <th>Nível 1 - Setor</th>\n",
       "      <th>Agropecuária</th>\n",
       "      <th>Energia</th>\n",
       "      <th>Mudança de Uso da Terra e Floresta</th>\n",
       "      <th>Processos Industriais</th>\n",
       "      <th>Resíduos</th>\n",
       "    </tr>\n",
       "    <tr>\n",
       "      <th>Ano</th>\n",
       "      <th></th>\n",
       "      <th></th>\n",
       "      <th></th>\n",
       "      <th></th>\n",
       "      <th></th>\n",
       "    </tr>\n",
       "  </thead>\n",
       "  <tbody>\n",
       "    <tr>\n",
       "      <th>1970</th>\n",
       "      <td>49292.425313</td>\n",
       "      <td>15939.703116</td>\n",
       "      <td>0.000000e+00</td>\n",
       "      <td>106549.168676</td>\n",
       "      <td>11684.883558</td>\n",
       "    </tr>\n",
       "    <tr>\n",
       "      <th>1971</th>\n",
       "      <td>51199.559433</td>\n",
       "      <td>17698.989894</td>\n",
       "      <td>0.000000e+00</td>\n",
       "      <td>111532.507753</td>\n",
       "      <td>12676.706849</td>\n",
       "    </tr>\n",
       "    <tr>\n",
       "      <th>1972</th>\n",
       "      <td>53508.935498</td>\n",
       "      <td>19092.876761</td>\n",
       "      <td>0.000000e+00</td>\n",
       "      <td>125701.525455</td>\n",
       "      <td>13709.697850</td>\n",
       "    </tr>\n",
       "    <tr>\n",
       "      <th>1973</th>\n",
       "      <td>55494.006224</td>\n",
       "      <td>22062.085929</td>\n",
       "      <td>0.000000e+00</td>\n",
       "      <td>137657.110402</td>\n",
       "      <td>14715.248028</td>\n",
       "    </tr>\n",
       "    <tr>\n",
       "      <th>1974</th>\n",
       "      <td>57896.513900</td>\n",
       "      <td>23810.659474</td>\n",
       "      <td>0.000000e+00</td>\n",
       "      <td>149941.779638</td>\n",
       "      <td>15710.616150</td>\n",
       "    </tr>\n",
       "    <tr>\n",
       "      <th>1975</th>\n",
       "      <td>63303.098508</td>\n",
       "      <td>25036.433686</td>\n",
       "      <td>0.000000e+00</td>\n",
       "      <td>168471.860169</td>\n",
       "      <td>16667.446706</td>\n",
       "    </tr>\n",
       "    <tr>\n",
       "      <th>1976</th>\n",
       "      <td>66347.533521</td>\n",
       "      <td>27214.281091</td>\n",
       "      <td>0.000000e+00</td>\n",
       "      <td>193826.482068</td>\n",
       "      <td>17539.505222</td>\n",
       "    </tr>\n",
       "    <tr>\n",
       "      <th>1977</th>\n",
       "      <td>66977.413505</td>\n",
       "      <td>27645.258640</td>\n",
       "      <td>0.000000e+00</td>\n",
       "      <td>231505.609283</td>\n",
       "      <td>18462.455148</td>\n",
       "    </tr>\n",
       "    <tr>\n",
       "      <th>1978</th>\n",
       "      <td>66640.432009</td>\n",
       "      <td>29734.461056</td>\n",
       "      <td>0.000000e+00</td>\n",
       "      <td>255736.210711</td>\n",
       "      <td>19327.840165</td>\n",
       "    </tr>\n",
       "    <tr>\n",
       "      <th>1979</th>\n",
       "      <td>68772.609918</td>\n",
       "      <td>31194.321198</td>\n",
       "      <td>0.000000e+00</td>\n",
       "      <td>283666.886711</td>\n",
       "      <td>20274.742996</td>\n",
       "    </tr>\n",
       "    <tr>\n",
       "      <th>1980</th>\n",
       "      <td>74295.742179</td>\n",
       "      <td>30666.218990</td>\n",
       "      <td>0.000000e+00</td>\n",
       "      <td>299741.479665</td>\n",
       "      <td>21309.825651</td>\n",
       "    </tr>\n",
       "    <tr>\n",
       "      <th>1981</th>\n",
       "      <td>75025.775988</td>\n",
       "      <td>29136.675841</td>\n",
       "      <td>0.000000e+00</td>\n",
       "      <td>269819.577546</td>\n",
       "      <td>22175.893239</td>\n",
       "    </tr>\n",
       "    <tr>\n",
       "      <th>1982</th>\n",
       "      <td>76085.207628</td>\n",
       "      <td>29031.613011</td>\n",
       "      <td>0.000000e+00</td>\n",
       "      <td>279635.146676</td>\n",
       "      <td>23247.744326</td>\n",
       "    </tr>\n",
       "    <tr>\n",
       "      <th>1983</th>\n",
       "      <td>76278.523435</td>\n",
       "      <td>26973.830993</td>\n",
       "      <td>0.000000e+00</td>\n",
       "      <td>291941.441787</td>\n",
       "      <td>24416.295076</td>\n",
       "    </tr>\n",
       "    <tr>\n",
       "      <th>1984</th>\n",
       "      <td>79177.283655</td>\n",
       "      <td>26534.682900</td>\n",
       "      <td>0.000000e+00</td>\n",
       "      <td>328442.882080</td>\n",
       "      <td>25611.706999</td>\n",
       "    </tr>\n",
       "    <tr>\n",
       "      <th>1985</th>\n",
       "      <td>80002.645875</td>\n",
       "      <td>27764.868539</td>\n",
       "      <td>0.000000e+00</td>\n",
       "      <td>359237.687987</td>\n",
       "      <td>26808.172489</td>\n",
       "    </tr>\n",
       "    <tr>\n",
       "      <th>1986</th>\n",
       "      <td>82032.138363</td>\n",
       "      <td>30918.412490</td>\n",
       "      <td>0.000000e+00</td>\n",
       "      <td>380070.157356</td>\n",
       "      <td>28078.695907</td>\n",
       "    </tr>\n",
       "    <tr>\n",
       "      <th>1987</th>\n",
       "      <td>84598.887982</td>\n",
       "      <td>31385.211912</td>\n",
       "      <td>0.000000e+00</td>\n",
       "      <td>407579.612745</td>\n",
       "      <td>29280.042173</td>\n",
       "    </tr>\n",
       "    <tr>\n",
       "      <th>1988</th>\n",
       "      <td>86789.730883</td>\n",
       "      <td>31587.920942</td>\n",
       "      <td>0.000000e+00</td>\n",
       "      <td>434036.360446</td>\n",
       "      <td>30459.492641</td>\n",
       "    </tr>\n",
       "    <tr>\n",
       "      <th>1989</th>\n",
       "      <td>89632.503055</td>\n",
       "      <td>32076.659394</td>\n",
       "      <td>0.000000e+00</td>\n",
       "      <td>435118.444068</td>\n",
       "      <td>31794.594362</td>\n",
       "    </tr>\n",
       "    <tr>\n",
       "      <th>1990</th>\n",
       "      <td>90713.685599</td>\n",
       "      <td>31726.939920</td>\n",
       "      <td>7.955530e+05</td>\n",
       "      <td>403812.825471</td>\n",
       "      <td>35407.977842</td>\n",
       "    </tr>\n",
       "    <tr>\n",
       "      <th>1991</th>\n",
       "      <td>93587.217053</td>\n",
       "      <td>32486.419331</td>\n",
       "      <td>7.873963e+05</td>\n",
       "      <td>454541.414118</td>\n",
       "      <td>36967.267804</td>\n",
       "    </tr>\n",
       "    <tr>\n",
       "      <th>1992</th>\n",
       "      <td>95617.583757</td>\n",
       "      <td>33232.174122</td>\n",
       "      <td>9.025778e+05</td>\n",
       "      <td>443130.433481</td>\n",
       "      <td>38478.761192</td>\n",
       "    </tr>\n",
       "    <tr>\n",
       "      <th>1993</th>\n",
       "      <td>97176.098252</td>\n",
       "      <td>34076.056403</td>\n",
       "      <td>8.108796e+05</td>\n",
       "      <td>475731.451887</td>\n",
       "      <td>40140.971514</td>\n",
       "    </tr>\n",
       "    <tr>\n",
       "      <th>1994</th>\n",
       "      <td>99576.679028</td>\n",
       "      <td>35513.308801</td>\n",
       "      <td>9.429280e+05</td>\n",
       "      <td>480314.099048</td>\n",
       "      <td>42158.544264</td>\n",
       "    </tr>\n",
       "    <tr>\n",
       "      <th>1995</th>\n",
       "      <td>99719.217243</td>\n",
       "      <td>38293.314716</td>\n",
       "      <td>1.112963e+06</td>\n",
       "      <td>505390.987361</td>\n",
       "      <td>44526.252540</td>\n",
       "    </tr>\n",
       "    <tr>\n",
       "      <th>1996</th>\n",
       "      <td>94279.673871</td>\n",
       "      <td>41401.816780</td>\n",
       "      <td>9.379589e+05</td>\n",
       "      <td>523731.239953</td>\n",
       "      <td>47048.535539</td>\n",
       "    </tr>\n",
       "    <tr>\n",
       "      <th>1997</th>\n",
       "      <td>96555.165923</td>\n",
       "      <td>44197.628403</td>\n",
       "      <td>9.804655e+05</td>\n",
       "      <td>534797.627569</td>\n",
       "      <td>49288.333805</td>\n",
       "    </tr>\n",
       "    <tr>\n",
       "      <th>1998</th>\n",
       "      <td>98050.671421</td>\n",
       "      <td>45465.420444</td>\n",
       "      <td>9.125025e+05</td>\n",
       "      <td>553244.676584</td>\n",
       "      <td>51972.866802</td>\n",
       "    </tr>\n",
       "    <tr>\n",
       "      <th>1999</th>\n",
       "      <td>99096.695001</td>\n",
       "      <td>47322.605942</td>\n",
       "      <td>8.974409e+05</td>\n",
       "      <td>552184.083918</td>\n",
       "      <td>55014.187959</td>\n",
       "    </tr>\n",
       "    <tr>\n",
       "      <th>2000</th>\n",
       "      <td>103094.140309</td>\n",
       "      <td>48330.016942</td>\n",
       "      <td>8.682097e+05</td>\n",
       "      <td>573520.974378</td>\n",
       "      <td>58286.684865</td>\n",
       "    </tr>\n",
       "    <tr>\n",
       "      <th>2001</th>\n",
       "      <td>106481.995243</td>\n",
       "      <td>49862.881351</td>\n",
       "      <td>8.997867e+05</td>\n",
       "      <td>550136.004930</td>\n",
       "      <td>61383.499784</td>\n",
       "    </tr>\n",
       "    <tr>\n",
       "      <th>2002</th>\n",
       "      <td>110606.414393</td>\n",
       "      <td>49573.990723</td>\n",
       "      <td>9.651941e+05</td>\n",
       "      <td>579497.021106</td>\n",
       "      <td>64487.482605</td>\n",
       "    </tr>\n",
       "    <tr>\n",
       "      <th>2003</th>\n",
       "      <td>118592.150748</td>\n",
       "      <td>48286.007205</td>\n",
       "      <td>1.258351e+06</td>\n",
       "      <td>585615.768393</td>\n",
       "      <td>67318.630236</td>\n",
       "    </tr>\n",
       "    <tr>\n",
       "      <th>2004</th>\n",
       "      <td>123058.471808</td>\n",
       "      <td>50909.433943</td>\n",
       "      <td>1.170902e+06</td>\n",
       "      <td>619352.652233</td>\n",
       "      <td>68980.893691</td>\n",
       "    </tr>\n",
       "    <tr>\n",
       "      <th>2005</th>\n",
       "      <td>122524.812313</td>\n",
       "      <td>52715.871040</td>\n",
       "      <td>9.648135e+05</td>\n",
       "      <td>608694.522937</td>\n",
       "      <td>71360.529553</td>\n",
       "    </tr>\n",
       "    <tr>\n",
       "      <th>2006</th>\n",
       "      <td>122495.411992</td>\n",
       "      <td>53413.519995</td>\n",
       "      <td>7.583598e+05</td>\n",
       "      <td>611941.868597</td>\n",
       "      <td>74178.238967</td>\n",
       "    </tr>\n",
       "    <tr>\n",
       "      <th>2007</th>\n",
       "      <td>120830.481911</td>\n",
       "      <td>55897.953552</td>\n",
       "      <td>6.128222e+05</td>\n",
       "      <td>631157.487743</td>\n",
       "      <td>74981.702564</td>\n",
       "    </tr>\n",
       "    <tr>\n",
       "      <th>2008</th>\n",
       "      <td>122826.821554</td>\n",
       "      <td>58993.563164</td>\n",
       "      <td>5.942659e+05</td>\n",
       "      <td>638570.057928</td>\n",
       "      <td>76600.136603</td>\n",
       "    </tr>\n",
       "    <tr>\n",
       "      <th>2009</th>\n",
       "      <td>123742.017545</td>\n",
       "      <td>56841.321612</td>\n",
       "      <td>4.118605e+05</td>\n",
       "      <td>571440.082014</td>\n",
       "      <td>79573.772749</td>\n",
       "    </tr>\n",
       "    <tr>\n",
       "      <th>2010</th>\n",
       "      <td>128374.191404</td>\n",
       "      <td>62193.296916</td>\n",
       "      <td>3.761552e+05</td>\n",
       "      <td>712775.250535</td>\n",
       "      <td>81731.705242</td>\n",
       "    </tr>\n",
       "    <tr>\n",
       "      <th>2011</th>\n",
       "      <td>131099.064152</td>\n",
       "      <td>64629.001357</td>\n",
       "      <td>3.807799e+05</td>\n",
       "      <td>751032.409051</td>\n",
       "      <td>84587.717774</td>\n",
       "    </tr>\n",
       "    <tr>\n",
       "      <th>2012</th>\n",
       "      <td>130788.418940</td>\n",
       "      <td>70177.339613</td>\n",
       "      <td>4.226313e+05</td>\n",
       "      <td>756606.285318</td>\n",
       "      <td>85458.139749</td>\n",
       "    </tr>\n",
       "    <tr>\n",
       "      <th>2013</th>\n",
       "      <td>132725.555538</td>\n",
       "      <td>75612.374788</td>\n",
       "      <td>4.917988e+05</td>\n",
       "      <td>755166.921344</td>\n",
       "      <td>90575.510157</td>\n",
       "    </tr>\n",
       "    <tr>\n",
       "      <th>2014</th>\n",
       "      <td>134199.137999</td>\n",
       "      <td>79935.384586</td>\n",
       "      <td>4.384689e+05</td>\n",
       "      <td>768483.731047</td>\n",
       "      <td>93177.637707</td>\n",
       "    </tr>\n",
       "    <tr>\n",
       "      <th>2015</th>\n",
       "      <td>134420.530733</td>\n",
       "      <td>75858.651351</td>\n",
       "      <td>5.141450e+05</td>\n",
       "      <td>757749.938763</td>\n",
       "      <td>96087.582678</td>\n",
       "    </tr>\n",
       "    <tr>\n",
       "      <th>2016</th>\n",
       "      <td>138164.384754</td>\n",
       "      <td>70329.487433</td>\n",
       "      <td>5.368860e+05</td>\n",
       "      <td>705773.828408</td>\n",
       "      <td>97875.321177</td>\n",
       "    </tr>\n",
       "    <tr>\n",
       "      <th>2017</th>\n",
       "      <td>138836.306261</td>\n",
       "      <td>71607.783768</td>\n",
       "      <td>4.463076e+05</td>\n",
       "      <td>734680.581189</td>\n",
       "      <td>99738.265556</td>\n",
       "    </tr>\n",
       "    <tr>\n",
       "      <th>2018</th>\n",
       "      <td>138705.447746</td>\n",
       "      <td>67915.780340</td>\n",
       "      <td>4.826308e+05</td>\n",
       "      <td>740471.475438</td>\n",
       "      <td>102866.510801</td>\n",
       "    </tr>\n",
       "    <tr>\n",
       "      <th>2019</th>\n",
       "      <td>139360.155911</td>\n",
       "      <td>68498.850941</td>\n",
       "      <td>5.714260e+05</td>\n",
       "      <td>723987.617501</td>\n",
       "      <td>104362.563527</td>\n",
       "    </tr>\n",
       "    <tr>\n",
       "      <th>2020</th>\n",
       "      <td>143506.216199</td>\n",
       "      <td>64824.244747</td>\n",
       "      <td>5.815916e+05</td>\n",
       "      <td>724811.128105</td>\n",
       "      <td>106188.034311</td>\n",
       "    </tr>\n",
       "    <tr>\n",
       "      <th>2021</th>\n",
       "      <td>149793.768835</td>\n",
       "      <td>72928.637234</td>\n",
       "      <td>6.900855e+05</td>\n",
       "      <td>787101.255789</td>\n",
       "      <td>106106.723386</td>\n",
       "    </tr>\n",
       "  </tbody>\n",
       "</table>\n",
       "</div>"
      ],
      "text/plain": [
       "Nível 1 - Setor   Agropecuária       Energia  \\\n",
       "Ano                                            \n",
       "1970              49292.425313  15939.703116   \n",
       "1971              51199.559433  17698.989894   \n",
       "1972              53508.935498  19092.876761   \n",
       "1973              55494.006224  22062.085929   \n",
       "1974              57896.513900  23810.659474   \n",
       "1975              63303.098508  25036.433686   \n",
       "1976              66347.533521  27214.281091   \n",
       "1977              66977.413505  27645.258640   \n",
       "1978              66640.432009  29734.461056   \n",
       "1979              68772.609918  31194.321198   \n",
       "1980              74295.742179  30666.218990   \n",
       "1981              75025.775988  29136.675841   \n",
       "1982              76085.207628  29031.613011   \n",
       "1983              76278.523435  26973.830993   \n",
       "1984              79177.283655  26534.682900   \n",
       "1985              80002.645875  27764.868539   \n",
       "1986              82032.138363  30918.412490   \n",
       "1987              84598.887982  31385.211912   \n",
       "1988              86789.730883  31587.920942   \n",
       "1989              89632.503055  32076.659394   \n",
       "1990              90713.685599  31726.939920   \n",
       "1991              93587.217053  32486.419331   \n",
       "1992              95617.583757  33232.174122   \n",
       "1993              97176.098252  34076.056403   \n",
       "1994              99576.679028  35513.308801   \n",
       "1995              99719.217243  38293.314716   \n",
       "1996              94279.673871  41401.816780   \n",
       "1997              96555.165923  44197.628403   \n",
       "1998              98050.671421  45465.420444   \n",
       "1999              99096.695001  47322.605942   \n",
       "2000             103094.140309  48330.016942   \n",
       "2001             106481.995243  49862.881351   \n",
       "2002             110606.414393  49573.990723   \n",
       "2003             118592.150748  48286.007205   \n",
       "2004             123058.471808  50909.433943   \n",
       "2005             122524.812313  52715.871040   \n",
       "2006             122495.411992  53413.519995   \n",
       "2007             120830.481911  55897.953552   \n",
       "2008             122826.821554  58993.563164   \n",
       "2009             123742.017545  56841.321612   \n",
       "2010             128374.191404  62193.296916   \n",
       "2011             131099.064152  64629.001357   \n",
       "2012             130788.418940  70177.339613   \n",
       "2013             132725.555538  75612.374788   \n",
       "2014             134199.137999  79935.384586   \n",
       "2015             134420.530733  75858.651351   \n",
       "2016             138164.384754  70329.487433   \n",
       "2017             138836.306261  71607.783768   \n",
       "2018             138705.447746  67915.780340   \n",
       "2019             139360.155911  68498.850941   \n",
       "2020             143506.216199  64824.244747   \n",
       "2021             149793.768835  72928.637234   \n",
       "\n",
       "Nível 1 - Setor  Mudança de Uso da Terra e Floresta  Processos Industriais  \\\n",
       "Ano                                                                          \n",
       "1970                                   0.000000e+00          106549.168676   \n",
       "1971                                   0.000000e+00          111532.507753   \n",
       "1972                                   0.000000e+00          125701.525455   \n",
       "1973                                   0.000000e+00          137657.110402   \n",
       "1974                                   0.000000e+00          149941.779638   \n",
       "1975                                   0.000000e+00          168471.860169   \n",
       "1976                                   0.000000e+00          193826.482068   \n",
       "1977                                   0.000000e+00          231505.609283   \n",
       "1978                                   0.000000e+00          255736.210711   \n",
       "1979                                   0.000000e+00          283666.886711   \n",
       "1980                                   0.000000e+00          299741.479665   \n",
       "1981                                   0.000000e+00          269819.577546   \n",
       "1982                                   0.000000e+00          279635.146676   \n",
       "1983                                   0.000000e+00          291941.441787   \n",
       "1984                                   0.000000e+00          328442.882080   \n",
       "1985                                   0.000000e+00          359237.687987   \n",
       "1986                                   0.000000e+00          380070.157356   \n",
       "1987                                   0.000000e+00          407579.612745   \n",
       "1988                                   0.000000e+00          434036.360446   \n",
       "1989                                   0.000000e+00          435118.444068   \n",
       "1990                                   7.955530e+05          403812.825471   \n",
       "1991                                   7.873963e+05          454541.414118   \n",
       "1992                                   9.025778e+05          443130.433481   \n",
       "1993                                   8.108796e+05          475731.451887   \n",
       "1994                                   9.429280e+05          480314.099048   \n",
       "1995                                   1.112963e+06          505390.987361   \n",
       "1996                                   9.379589e+05          523731.239953   \n",
       "1997                                   9.804655e+05          534797.627569   \n",
       "1998                                   9.125025e+05          553244.676584   \n",
       "1999                                   8.974409e+05          552184.083918   \n",
       "2000                                   8.682097e+05          573520.974378   \n",
       "2001                                   8.997867e+05          550136.004930   \n",
       "2002                                   9.651941e+05          579497.021106   \n",
       "2003                                   1.258351e+06          585615.768393   \n",
       "2004                                   1.170902e+06          619352.652233   \n",
       "2005                                   9.648135e+05          608694.522937   \n",
       "2006                                   7.583598e+05          611941.868597   \n",
       "2007                                   6.128222e+05          631157.487743   \n",
       "2008                                   5.942659e+05          638570.057928   \n",
       "2009                                   4.118605e+05          571440.082014   \n",
       "2010                                   3.761552e+05          712775.250535   \n",
       "2011                                   3.807799e+05          751032.409051   \n",
       "2012                                   4.226313e+05          756606.285318   \n",
       "2013                                   4.917988e+05          755166.921344   \n",
       "2014                                   4.384689e+05          768483.731047   \n",
       "2015                                   5.141450e+05          757749.938763   \n",
       "2016                                   5.368860e+05          705773.828408   \n",
       "2017                                   4.463076e+05          734680.581189   \n",
       "2018                                   4.826308e+05          740471.475438   \n",
       "2019                                   5.714260e+05          723987.617501   \n",
       "2020                                   5.815916e+05          724811.128105   \n",
       "2021                                   6.900855e+05          787101.255789   \n",
       "\n",
       "Nível 1 - Setor      Resíduos   \n",
       "Ano                             \n",
       "1970              11684.883558  \n",
       "1971              12676.706849  \n",
       "1972              13709.697850  \n",
       "1973              14715.248028  \n",
       "1974              15710.616150  \n",
       "1975              16667.446706  \n",
       "1976              17539.505222  \n",
       "1977              18462.455148  \n",
       "1978              19327.840165  \n",
       "1979              20274.742996  \n",
       "1980              21309.825651  \n",
       "1981              22175.893239  \n",
       "1982              23247.744326  \n",
       "1983              24416.295076  \n",
       "1984              25611.706999  \n",
       "1985              26808.172489  \n",
       "1986              28078.695907  \n",
       "1987              29280.042173  \n",
       "1988              30459.492641  \n",
       "1989              31794.594362  \n",
       "1990              35407.977842  \n",
       "1991              36967.267804  \n",
       "1992              38478.761192  \n",
       "1993              40140.971514  \n",
       "1994              42158.544264  \n",
       "1995              44526.252540  \n",
       "1996              47048.535539  \n",
       "1997              49288.333805  \n",
       "1998              51972.866802  \n",
       "1999              55014.187959  \n",
       "2000              58286.684865  \n",
       "2001              61383.499784  \n",
       "2002              64487.482605  \n",
       "2003              67318.630236  \n",
       "2004              68980.893691  \n",
       "2005              71360.529553  \n",
       "2006              74178.238967  \n",
       "2007              74981.702564  \n",
       "2008              76600.136603  \n",
       "2009              79573.772749  \n",
       "2010              81731.705242  \n",
       "2011              84587.717774  \n",
       "2012              85458.139749  \n",
       "2013              90575.510157  \n",
       "2014              93177.637707  \n",
       "2015              96087.582678  \n",
       "2016              97875.321177  \n",
       "2017              99738.265556  \n",
       "2018             102866.510801  \n",
       "2019             104362.563527  \n",
       "2020             106188.034311  \n",
       "2021             106106.723386  "
      ]
     },
     "execution_count": 106,
     "metadata": {},
     "output_type": "execute_result"
    }
   ],
   "source": [
    "# Seleciona index, colunas alvo, valor e aggfunc mean\n",
    "media_emissao_setores_anual = emissoes_por_ano.pivot_table(index = 'Ano', columns=['Nível 1 - Setor'], values='Emissão', aggfunc='mean')\n",
    "media_emissao_setores_anual"
   ]
  },
  {
   "cell_type": "code",
   "execution_count": 109,
   "id": "4f057bf0",
   "metadata": {},
   "outputs": [
    {
     "data": {
      "text/html": [
       "<div>\n",
       "<style scoped>\n",
       "    .dataframe tbody tr th:only-of-type {\n",
       "        vertical-align: middle;\n",
       "    }\n",
       "\n",
       "    .dataframe tbody tr th {\n",
       "        vertical-align: top;\n",
       "    }\n",
       "\n",
       "    .dataframe thead th {\n",
       "        text-align: right;\n",
       "    }\n",
       "</style>\n",
       "<table border=\"1\" class=\"dataframe\">\n",
       "  <thead>\n",
       "    <tr style=\"text-align: right;\">\n",
       "      <th>Nível 1 - Setor</th>\n",
       "      <th>Ano</th>\n",
       "      <th>Agropecuária</th>\n",
       "      <th>Energia</th>\n",
       "      <th>Mudança de Uso da Terra e Floresta</th>\n",
       "      <th>Processos Industriais</th>\n",
       "      <th>Resíduos</th>\n",
       "    </tr>\n",
       "  </thead>\n",
       "  <tbody>\n",
       "    <tr>\n",
       "      <th>0</th>\n",
       "      <td>1970</td>\n",
       "      <td>49292.425313</td>\n",
       "      <td>15939.703116</td>\n",
       "      <td>0.0</td>\n",
       "      <td>106549.168676</td>\n",
       "      <td>11684.883558</td>\n",
       "    </tr>\n",
       "    <tr>\n",
       "      <th>1</th>\n",
       "      <td>1971</td>\n",
       "      <td>51199.559433</td>\n",
       "      <td>17698.989894</td>\n",
       "      <td>0.0</td>\n",
       "      <td>111532.507753</td>\n",
       "      <td>12676.706849</td>\n",
       "    </tr>\n",
       "    <tr>\n",
       "      <th>2</th>\n",
       "      <td>1972</td>\n",
       "      <td>53508.935498</td>\n",
       "      <td>19092.876761</td>\n",
       "      <td>0.0</td>\n",
       "      <td>125701.525455</td>\n",
       "      <td>13709.697850</td>\n",
       "    </tr>\n",
       "    <tr>\n",
       "      <th>3</th>\n",
       "      <td>1973</td>\n",
       "      <td>55494.006224</td>\n",
       "      <td>22062.085929</td>\n",
       "      <td>0.0</td>\n",
       "      <td>137657.110402</td>\n",
       "      <td>14715.248028</td>\n",
       "    </tr>\n",
       "    <tr>\n",
       "      <th>4</th>\n",
       "      <td>1974</td>\n",
       "      <td>57896.513900</td>\n",
       "      <td>23810.659474</td>\n",
       "      <td>0.0</td>\n",
       "      <td>149941.779638</td>\n",
       "      <td>15710.616150</td>\n",
       "    </tr>\n",
       "  </tbody>\n",
       "</table>\n",
       "</div>"
      ],
      "text/plain": [
       "Nível 1 - Setor   Ano  Agropecuária       Energia  \\\n",
       "0                1970  49292.425313  15939.703116   \n",
       "1                1971  51199.559433  17698.989894   \n",
       "2                1972  53508.935498  19092.876761   \n",
       "3                1973  55494.006224  22062.085929   \n",
       "4                1974  57896.513900  23810.659474   \n",
       "\n",
       "Nível 1 - Setor  Mudança de Uso da Terra e Floresta  Processos Industriais  \\\n",
       "0                                               0.0          106549.168676   \n",
       "1                                               0.0          111532.507753   \n",
       "2                                               0.0          125701.525455   \n",
       "3                                               0.0          137657.110402   \n",
       "4                                               0.0          149941.779638   \n",
       "\n",
       "Nível 1 - Setor     Resíduos   \n",
       "0                11684.883558  \n",
       "1                12676.706849  \n",
       "2                13709.697850  \n",
       "3                14715.248028  \n",
       "4                15710.616150  "
      ]
     },
     "execution_count": 109,
     "metadata": {},
     "output_type": "execute_result"
    }
   ],
   "source": [
    "media_emissao_setores_anual = media_emissao_setores_anual.reset_index()\n",
    "media_emissao_setores_anual.head()"
   ]
  },
  {
   "cell_type": "code",
   "execution_count": 110,
   "id": "fdbeedcb",
   "metadata": {},
   "outputs": [
    {
     "data": {
      "application/vnd.plotly.v1+json": {
       "config": {
        "plotlyServerURL": "https://plot.ly"
       },
       "data": [
        {
         "hovertemplate": "variable=Energia<br>Ano=%{x}<br>value=%{y}<extra></extra>",
         "legendgroup": "Energia",
         "line": {
          "color": "#636efa",
          "dash": "solid"
         },
         "marker": {
          "symbol": "circle"
         },
         "mode": "lines",
         "name": "Energia",
         "orientation": "v",
         "showlegend": true,
         "type": "scatter",
         "x": [
          1970,
          1971,
          1972,
          1973,
          1974,
          1975,
          1976,
          1977,
          1978,
          1979,
          1980,
          1981,
          1982,
          1983,
          1984,
          1985,
          1986,
          1987,
          1988,
          1989,
          1990,
          1991,
          1992,
          1993,
          1994,
          1995,
          1996,
          1997,
          1998,
          1999,
          2000,
          2001,
          2002,
          2003,
          2004,
          2005,
          2006,
          2007,
          2008,
          2009,
          2010,
          2011,
          2012,
          2013,
          2014,
          2015,
          2016,
          2017,
          2018,
          2019,
          2020,
          2021
         ],
         "xaxis": "x",
         "y": [
          15939.703115852426,
          17698.989894333146,
          19092.876761439056,
          22062.0859289609,
          23810.65947366862,
          25036.433685917702,
          27214.28109063721,
          27645.25863955631,
          29734.461055792926,
          31194.32119785947,
          30666.218990154637,
          29136.675841452645,
          29031.613011279573,
          26973.830993376116,
          26534.68289962951,
          27764.86853936779,
          30918.41249021149,
          31385.211911976334,
          31587.920942068267,
          32076.659394166156,
          31726.939919879384,
          32486.41933109475,
          33232.1741218219,
          34076.056402786504,
          35513.30880060117,
          38293.31471636206,
          41401.8167798316,
          44197.6284027129,
          45465.42044354613,
          47322.60594153335,
          48330.01694175603,
          49862.88135136319,
          49573.99072262397,
          48286.00720502083,
          50909.43394318015,
          52715.87104042556,
          53413.51999545165,
          55897.9535521043,
          58993.56316394164,
          56841.32161175546,
          62193.296915706596,
          64629.001356682675,
          70177.3396131598,
          75612.37478846221,
          79935.38458625185,
          75858.65135102587,
          70329.4874326344,
          71607.78376831612,
          67915.78034044126,
          68498.85094084773,
          64824.24474708057,
          72928.63723432185
         ],
         "yaxis": "y"
        },
        {
         "hovertemplate": "variable=Mudança de Uso da Terra e Floresta<br>Ano=%{x}<br>value=%{y}<extra></extra>",
         "legendgroup": "Mudança de Uso da Terra e Floresta",
         "line": {
          "color": "#EF553B",
          "dash": "solid"
         },
         "marker": {
          "symbol": "circle"
         },
         "mode": "lines",
         "name": "Mudança de Uso da Terra e Floresta",
         "orientation": "v",
         "showlegend": true,
         "type": "scatter",
         "x": [
          1970,
          1971,
          1972,
          1973,
          1974,
          1975,
          1976,
          1977,
          1978,
          1979,
          1980,
          1981,
          1982,
          1983,
          1984,
          1985,
          1986,
          1987,
          1988,
          1989,
          1990,
          1991,
          1992,
          1993,
          1994,
          1995,
          1996,
          1997,
          1998,
          1999,
          2000,
          2001,
          2002,
          2003,
          2004,
          2005,
          2006,
          2007,
          2008,
          2009,
          2010,
          2011,
          2012,
          2013,
          2014,
          2015,
          2016,
          2017,
          2018,
          2019,
          2020,
          2021
         ],
         "xaxis": "x",
         "y": [
          0,
          0,
          0,
          0,
          0,
          0,
          0,
          0,
          0,
          0,
          0,
          0,
          0,
          0,
          0,
          0,
          0,
          0,
          0,
          0,
          795552.982961192,
          787396.2661575194,
          902577.8336581354,
          810879.590833066,
          942928.0197485622,
          1112962.779296604,
          937958.8880920737,
          980465.5375528426,
          912502.4521230506,
          897440.8762714427,
          868209.7301908943,
          899786.6704842966,
          965194.1254203768,
          1258350.666750889,
          1170902.051154427,
          964813.4898241105,
          758359.8026427069,
          612822.2217753119,
          594265.8696450786,
          411860.4844113361,
          376155.17380194867,
          380779.86832229747,
          422631.2775888971,
          491798.8111463032,
          438468.8567533547,
          514144.9774468715,
          536886.0003876177,
          446307.5815384809,
          482630.76058196824,
          571425.9989991994,
          581591.5504403523,
          690085.5112089672
         ],
         "yaxis": "y"
        },
        {
         "hovertemplate": "variable=Processos Industriais<br>Ano=%{x}<br>value=%{y}<extra></extra>",
         "legendgroup": "Processos Industriais",
         "line": {
          "color": "#00cc96",
          "dash": "solid"
         },
         "marker": {
          "symbol": "circle"
         },
         "mode": "lines",
         "name": "Processos Industriais",
         "orientation": "v",
         "showlegend": true,
         "type": "scatter",
         "x": [
          1970,
          1971,
          1972,
          1973,
          1974,
          1975,
          1976,
          1977,
          1978,
          1979,
          1980,
          1981,
          1982,
          1983,
          1984,
          1985,
          1986,
          1987,
          1988,
          1989,
          1990,
          1991,
          1992,
          1993,
          1994,
          1995,
          1996,
          1997,
          1998,
          1999,
          2000,
          2001,
          2002,
          2003,
          2004,
          2005,
          2006,
          2007,
          2008,
          2009,
          2010,
          2011,
          2012,
          2013,
          2014,
          2015,
          2016,
          2017,
          2018,
          2019,
          2020,
          2021
         ],
         "xaxis": "x",
         "y": [
          106549.16867577801,
          111532.50775339182,
          125701.52545483196,
          137657.11040224897,
          149941.7796379212,
          168471.86016909275,
          193826.48206808406,
          231505.60928283577,
          255736.21071074784,
          283666.8867108445,
          299741.479664553,
          269819.57754555135,
          279635.1466763435,
          291941.4417867468,
          328442.88207961246,
          359237.68798706465,
          380070.1573556192,
          407579.6127449215,
          434036.36044600344,
          435118.44406754174,
          403812.8254706208,
          454541.41411762655,
          443130.43348096544,
          475731.4518869935,
          480314.09904834116,
          505390.9873606996,
          523731.2399529662,
          534797.6275687605,
          553244.6765844254,
          552184.0839177509,
          573520.9743776764,
          550136.004929623,
          579497.0211057377,
          585615.7683932474,
          619352.652232617,
          608694.5229369726,
          611941.8685974563,
          631157.4877434194,
          638570.0579278836,
          571440.0820136603,
          712775.2505350717,
          751032.409050961,
          756606.2853177572,
          755166.9213440277,
          768483.7310471268,
          757749.9387632846,
          705773.8284078521,
          734680.5811890932,
          740471.4754378954,
          723987.6175006016,
          724811.1281047568,
          787101.2557894957
         ],
         "yaxis": "y"
        },
        {
         "hovertemplate": "variable=Resíduos <br>Ano=%{x}<br>value=%{y}<extra></extra>",
         "legendgroup": "Resíduos ",
         "line": {
          "color": "#ab63fa",
          "dash": "solid"
         },
         "marker": {
          "symbol": "circle"
         },
         "mode": "lines",
         "name": "Resíduos ",
         "orientation": "v",
         "showlegend": true,
         "type": "scatter",
         "x": [
          1970,
          1971,
          1972,
          1973,
          1974,
          1975,
          1976,
          1977,
          1978,
          1979,
          1980,
          1981,
          1982,
          1983,
          1984,
          1985,
          1986,
          1987,
          1988,
          1989,
          1990,
          1991,
          1992,
          1993,
          1994,
          1995,
          1996,
          1997,
          1998,
          1999,
          2000,
          2001,
          2002,
          2003,
          2004,
          2005,
          2006,
          2007,
          2008,
          2009,
          2010,
          2011,
          2012,
          2013,
          2014,
          2015,
          2016,
          2017,
          2018,
          2019,
          2020,
          2021
         ],
         "xaxis": "x",
         "y": [
          11684.883558106128,
          12676.706848935106,
          13709.697849983293,
          14715.24802848471,
          15710.616149597332,
          16667.446705835162,
          17539.505222063708,
          18462.455147742145,
          19327.8401653823,
          20274.74299644663,
          21309.825651499857,
          22175.89323917161,
          23247.744326463842,
          24416.295076163155,
          25611.70699934808,
          26808.172488957363,
          28078.695906808513,
          29280.042173257163,
          30459.4926409063,
          31794.594361553714,
          35407.97784181066,
          36967.267804029325,
          38478.76119206814,
          40140.971514265206,
          42158.54426350972,
          44526.252540329486,
          47048.535539207565,
          49288.3338045027,
          51972.866802222146,
          55014.18795886304,
          58286.68486489242,
          61383.49978363229,
          64487.482605268895,
          67318.63023593374,
          68980.89369085671,
          71360.52955312084,
          74178.23896702328,
          74981.70256389648,
          76600.13660268167,
          79573.77274941326,
          81731.7052418294,
          84587.71777449426,
          85458.13974895705,
          90575.51015658157,
          93177.6377072862,
          96087.58267844963,
          97875.32117673718,
          99738.26555561721,
          102866.5108013909,
          104362.56352650371,
          106188.03431125004,
          106106.72338570343
         ],
         "yaxis": "y"
        }
       ],
       "layout": {
        "legend": {
         "title": {
          "text": "variable"
         },
         "tracegroupgap": 0
        },
        "margin": {
         "t": 60
        },
        "template": {
         "data": {
          "bar": [
           {
            "error_x": {
             "color": "#2a3f5f"
            },
            "error_y": {
             "color": "#2a3f5f"
            },
            "marker": {
             "line": {
              "color": "#E5ECF6",
              "width": 0.5
             },
             "pattern": {
              "fillmode": "overlay",
              "size": 10,
              "solidity": 0.2
             }
            },
            "type": "bar"
           }
          ],
          "barpolar": [
           {
            "marker": {
             "line": {
              "color": "#E5ECF6",
              "width": 0.5
             },
             "pattern": {
              "fillmode": "overlay",
              "size": 10,
              "solidity": 0.2
             }
            },
            "type": "barpolar"
           }
          ],
          "carpet": [
           {
            "aaxis": {
             "endlinecolor": "#2a3f5f",
             "gridcolor": "white",
             "linecolor": "white",
             "minorgridcolor": "white",
             "startlinecolor": "#2a3f5f"
            },
            "baxis": {
             "endlinecolor": "#2a3f5f",
             "gridcolor": "white",
             "linecolor": "white",
             "minorgridcolor": "white",
             "startlinecolor": "#2a3f5f"
            },
            "type": "carpet"
           }
          ],
          "choropleth": [
           {
            "colorbar": {
             "outlinewidth": 0,
             "ticks": ""
            },
            "type": "choropleth"
           }
          ],
          "contour": [
           {
            "colorbar": {
             "outlinewidth": 0,
             "ticks": ""
            },
            "colorscale": [
             [
              0,
              "#0d0887"
             ],
             [
              0.1111111111111111,
              "#46039f"
             ],
             [
              0.2222222222222222,
              "#7201a8"
             ],
             [
              0.3333333333333333,
              "#9c179e"
             ],
             [
              0.4444444444444444,
              "#bd3786"
             ],
             [
              0.5555555555555556,
              "#d8576b"
             ],
             [
              0.6666666666666666,
              "#ed7953"
             ],
             [
              0.7777777777777778,
              "#fb9f3a"
             ],
             [
              0.8888888888888888,
              "#fdca26"
             ],
             [
              1,
              "#f0f921"
             ]
            ],
            "type": "contour"
           }
          ],
          "contourcarpet": [
           {
            "colorbar": {
             "outlinewidth": 0,
             "ticks": ""
            },
            "type": "contourcarpet"
           }
          ],
          "heatmap": [
           {
            "colorbar": {
             "outlinewidth": 0,
             "ticks": ""
            },
            "colorscale": [
             [
              0,
              "#0d0887"
             ],
             [
              0.1111111111111111,
              "#46039f"
             ],
             [
              0.2222222222222222,
              "#7201a8"
             ],
             [
              0.3333333333333333,
              "#9c179e"
             ],
             [
              0.4444444444444444,
              "#bd3786"
             ],
             [
              0.5555555555555556,
              "#d8576b"
             ],
             [
              0.6666666666666666,
              "#ed7953"
             ],
             [
              0.7777777777777778,
              "#fb9f3a"
             ],
             [
              0.8888888888888888,
              "#fdca26"
             ],
             [
              1,
              "#f0f921"
             ]
            ],
            "type": "heatmap"
           }
          ],
          "heatmapgl": [
           {
            "colorbar": {
             "outlinewidth": 0,
             "ticks": ""
            },
            "colorscale": [
             [
              0,
              "#0d0887"
             ],
             [
              0.1111111111111111,
              "#46039f"
             ],
             [
              0.2222222222222222,
              "#7201a8"
             ],
             [
              0.3333333333333333,
              "#9c179e"
             ],
             [
              0.4444444444444444,
              "#bd3786"
             ],
             [
              0.5555555555555556,
              "#d8576b"
             ],
             [
              0.6666666666666666,
              "#ed7953"
             ],
             [
              0.7777777777777778,
              "#fb9f3a"
             ],
             [
              0.8888888888888888,
              "#fdca26"
             ],
             [
              1,
              "#f0f921"
             ]
            ],
            "type": "heatmapgl"
           }
          ],
          "histogram": [
           {
            "marker": {
             "pattern": {
              "fillmode": "overlay",
              "size": 10,
              "solidity": 0.2
             }
            },
            "type": "histogram"
           }
          ],
          "histogram2d": [
           {
            "colorbar": {
             "outlinewidth": 0,
             "ticks": ""
            },
            "colorscale": [
             [
              0,
              "#0d0887"
             ],
             [
              0.1111111111111111,
              "#46039f"
             ],
             [
              0.2222222222222222,
              "#7201a8"
             ],
             [
              0.3333333333333333,
              "#9c179e"
             ],
             [
              0.4444444444444444,
              "#bd3786"
             ],
             [
              0.5555555555555556,
              "#d8576b"
             ],
             [
              0.6666666666666666,
              "#ed7953"
             ],
             [
              0.7777777777777778,
              "#fb9f3a"
             ],
             [
              0.8888888888888888,
              "#fdca26"
             ],
             [
              1,
              "#f0f921"
             ]
            ],
            "type": "histogram2d"
           }
          ],
          "histogram2dcontour": [
           {
            "colorbar": {
             "outlinewidth": 0,
             "ticks": ""
            },
            "colorscale": [
             [
              0,
              "#0d0887"
             ],
             [
              0.1111111111111111,
              "#46039f"
             ],
             [
              0.2222222222222222,
              "#7201a8"
             ],
             [
              0.3333333333333333,
              "#9c179e"
             ],
             [
              0.4444444444444444,
              "#bd3786"
             ],
             [
              0.5555555555555556,
              "#d8576b"
             ],
             [
              0.6666666666666666,
              "#ed7953"
             ],
             [
              0.7777777777777778,
              "#fb9f3a"
             ],
             [
              0.8888888888888888,
              "#fdca26"
             ],
             [
              1,
              "#f0f921"
             ]
            ],
            "type": "histogram2dcontour"
           }
          ],
          "mesh3d": [
           {
            "colorbar": {
             "outlinewidth": 0,
             "ticks": ""
            },
            "type": "mesh3d"
           }
          ],
          "parcoords": [
           {
            "line": {
             "colorbar": {
              "outlinewidth": 0,
              "ticks": ""
             }
            },
            "type": "parcoords"
           }
          ],
          "pie": [
           {
            "automargin": true,
            "type": "pie"
           }
          ],
          "scatter": [
           {
            "fillpattern": {
             "fillmode": "overlay",
             "size": 10,
             "solidity": 0.2
            },
            "type": "scatter"
           }
          ],
          "scatter3d": [
           {
            "line": {
             "colorbar": {
              "outlinewidth": 0,
              "ticks": ""
             }
            },
            "marker": {
             "colorbar": {
              "outlinewidth": 0,
              "ticks": ""
             }
            },
            "type": "scatter3d"
           }
          ],
          "scattercarpet": [
           {
            "marker": {
             "colorbar": {
              "outlinewidth": 0,
              "ticks": ""
             }
            },
            "type": "scattercarpet"
           }
          ],
          "scattergeo": [
           {
            "marker": {
             "colorbar": {
              "outlinewidth": 0,
              "ticks": ""
             }
            },
            "type": "scattergeo"
           }
          ],
          "scattergl": [
           {
            "marker": {
             "colorbar": {
              "outlinewidth": 0,
              "ticks": ""
             }
            },
            "type": "scattergl"
           }
          ],
          "scattermapbox": [
           {
            "marker": {
             "colorbar": {
              "outlinewidth": 0,
              "ticks": ""
             }
            },
            "type": "scattermapbox"
           }
          ],
          "scatterpolar": [
           {
            "marker": {
             "colorbar": {
              "outlinewidth": 0,
              "ticks": ""
             }
            },
            "type": "scatterpolar"
           }
          ],
          "scatterpolargl": [
           {
            "marker": {
             "colorbar": {
              "outlinewidth": 0,
              "ticks": ""
             }
            },
            "type": "scatterpolargl"
           }
          ],
          "scatterternary": [
           {
            "marker": {
             "colorbar": {
              "outlinewidth": 0,
              "ticks": ""
             }
            },
            "type": "scatterternary"
           }
          ],
          "surface": [
           {
            "colorbar": {
             "outlinewidth": 0,
             "ticks": ""
            },
            "colorscale": [
             [
              0,
              "#0d0887"
             ],
             [
              0.1111111111111111,
              "#46039f"
             ],
             [
              0.2222222222222222,
              "#7201a8"
             ],
             [
              0.3333333333333333,
              "#9c179e"
             ],
             [
              0.4444444444444444,
              "#bd3786"
             ],
             [
              0.5555555555555556,
              "#d8576b"
             ],
             [
              0.6666666666666666,
              "#ed7953"
             ],
             [
              0.7777777777777778,
              "#fb9f3a"
             ],
             [
              0.8888888888888888,
              "#fdca26"
             ],
             [
              1,
              "#f0f921"
             ]
            ],
            "type": "surface"
           }
          ],
          "table": [
           {
            "cells": {
             "fill": {
              "color": "#EBF0F8"
             },
             "line": {
              "color": "white"
             }
            },
            "header": {
             "fill": {
              "color": "#C8D4E3"
             },
             "line": {
              "color": "white"
             }
            },
            "type": "table"
           }
          ]
         },
         "layout": {
          "annotationdefaults": {
           "arrowcolor": "#2a3f5f",
           "arrowhead": 0,
           "arrowwidth": 1
          },
          "autotypenumbers": "strict",
          "coloraxis": {
           "colorbar": {
            "outlinewidth": 0,
            "ticks": ""
           }
          },
          "colorscale": {
           "diverging": [
            [
             0,
             "#8e0152"
            ],
            [
             0.1,
             "#c51b7d"
            ],
            [
             0.2,
             "#de77ae"
            ],
            [
             0.3,
             "#f1b6da"
            ],
            [
             0.4,
             "#fde0ef"
            ],
            [
             0.5,
             "#f7f7f7"
            ],
            [
             0.6,
             "#e6f5d0"
            ],
            [
             0.7,
             "#b8e186"
            ],
            [
             0.8,
             "#7fbc41"
            ],
            [
             0.9,
             "#4d9221"
            ],
            [
             1,
             "#276419"
            ]
           ],
           "sequential": [
            [
             0,
             "#0d0887"
            ],
            [
             0.1111111111111111,
             "#46039f"
            ],
            [
             0.2222222222222222,
             "#7201a8"
            ],
            [
             0.3333333333333333,
             "#9c179e"
            ],
            [
             0.4444444444444444,
             "#bd3786"
            ],
            [
             0.5555555555555556,
             "#d8576b"
            ],
            [
             0.6666666666666666,
             "#ed7953"
            ],
            [
             0.7777777777777778,
             "#fb9f3a"
            ],
            [
             0.8888888888888888,
             "#fdca26"
            ],
            [
             1,
             "#f0f921"
            ]
           ],
           "sequentialminus": [
            [
             0,
             "#0d0887"
            ],
            [
             0.1111111111111111,
             "#46039f"
            ],
            [
             0.2222222222222222,
             "#7201a8"
            ],
            [
             0.3333333333333333,
             "#9c179e"
            ],
            [
             0.4444444444444444,
             "#bd3786"
            ],
            [
             0.5555555555555556,
             "#d8576b"
            ],
            [
             0.6666666666666666,
             "#ed7953"
            ],
            [
             0.7777777777777778,
             "#fb9f3a"
            ],
            [
             0.8888888888888888,
             "#fdca26"
            ],
            [
             1,
             "#f0f921"
            ]
           ]
          },
          "colorway": [
           "#636efa",
           "#EF553B",
           "#00cc96",
           "#ab63fa",
           "#FFA15A",
           "#19d3f3",
           "#FF6692",
           "#B6E880",
           "#FF97FF",
           "#FECB52"
          ],
          "font": {
           "color": "#2a3f5f"
          },
          "geo": {
           "bgcolor": "white",
           "lakecolor": "white",
           "landcolor": "#E5ECF6",
           "showlakes": true,
           "showland": true,
           "subunitcolor": "white"
          },
          "hoverlabel": {
           "align": "left"
          },
          "hovermode": "closest",
          "mapbox": {
           "style": "light"
          },
          "paper_bgcolor": "white",
          "plot_bgcolor": "#E5ECF6",
          "polar": {
           "angularaxis": {
            "gridcolor": "white",
            "linecolor": "white",
            "ticks": ""
           },
           "bgcolor": "#E5ECF6",
           "radialaxis": {
            "gridcolor": "white",
            "linecolor": "white",
            "ticks": ""
           }
          },
          "scene": {
           "xaxis": {
            "backgroundcolor": "#E5ECF6",
            "gridcolor": "white",
            "gridwidth": 2,
            "linecolor": "white",
            "showbackground": true,
            "ticks": "",
            "zerolinecolor": "white"
           },
           "yaxis": {
            "backgroundcolor": "#E5ECF6",
            "gridcolor": "white",
            "gridwidth": 2,
            "linecolor": "white",
            "showbackground": true,
            "ticks": "",
            "zerolinecolor": "white"
           },
           "zaxis": {
            "backgroundcolor": "#E5ECF6",
            "gridcolor": "white",
            "gridwidth": 2,
            "linecolor": "white",
            "showbackground": true,
            "ticks": "",
            "zerolinecolor": "white"
           }
          },
          "shapedefaults": {
           "line": {
            "color": "#2a3f5f"
           }
          },
          "ternary": {
           "aaxis": {
            "gridcolor": "white",
            "linecolor": "white",
            "ticks": ""
           },
           "baxis": {
            "gridcolor": "white",
            "linecolor": "white",
            "ticks": ""
           },
           "bgcolor": "#E5ECF6",
           "caxis": {
            "gridcolor": "white",
            "linecolor": "white",
            "ticks": ""
           }
          },
          "title": {
           "x": 0.05
          },
          "xaxis": {
           "automargin": true,
           "gridcolor": "white",
           "linecolor": "white",
           "ticks": "",
           "title": {
            "standoff": 15
           },
           "zerolinecolor": "white",
           "zerolinewidth": 2
          },
          "yaxis": {
           "automargin": true,
           "gridcolor": "white",
           "linecolor": "white",
           "ticks": "",
           "title": {
            "standoff": 15
           },
           "zerolinecolor": "white",
           "zerolinewidth": 2
          }
         }
        },
        "xaxis": {
         "anchor": "y",
         "domain": [
          0,
          1
         ],
         "title": {
          "text": "Ano"
         }
        },
        "yaxis": {
         "anchor": "x",
         "domain": [
          0,
          1
         ],
         "title": {
          "text": "value"
         }
        }
       }
      }
     },
     "metadata": {},
     "output_type": "display_data"
    }
   ],
   "source": [
    "# Cria gráfico\n",
    "\n",
    "fig4 = px.line(media_emissao_setores_anual, x='Ano', y=media_emissao_setores_anual.columns[2:])\n",
    "fig4.show()"
   ]
  },
  {
   "cell_type": "markdown",
   "id": "bd7e9af4",
   "metadata": {},
   "source": [
    "### Desafio: hora da prática - 03. Agrupamentos multi-index"
   ]
  },
  {
   "cell_type": "markdown",
   "id": "1ba862ac",
   "metadata": {},
   "source": []
  }
 ],
 "metadata": {
  "kernelspec": {
   "display_name": "base",
   "language": "python",
   "name": "python3"
  },
  "language_info": {
   "codemirror_mode": {
    "name": "ipython",
    "version": 3
   },
   "file_extension": ".py",
   "mimetype": "text/x-python",
   "name": "python",
   "nbconvert_exporter": "python",
   "pygments_lexer": "ipython3",
   "version": "3.13.5"
  }
 },
 "nbformat": 4,
 "nbformat_minor": 5
}
